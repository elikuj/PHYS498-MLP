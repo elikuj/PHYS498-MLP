{
  "cells": [
    {
      "cell_type": "markdown",
      "id": "yuIq2u180WZu",
      "metadata": {
        "id": "yuIq2u180WZu"
      },
      "source": [
        "# Homework 07: Reinforcement Learning: Implementing a Deep Q-Network"
      ]
    },
    {
      "cell_type": "markdown",
      "id": "0e98e218",
      "metadata": {
        "id": "0e98e218"
      },
      "source": [
        "Make sure to run every single cell in this notebook, or some libraries might be missing. Also, if you are using Colab, make sure to **change your Runtime (change runtime type under Runtime)** to a GPU, although it will work on a CPU."
      ]
    },
    {
      "cell_type": "code",
      "execution_count": 1,
      "id": "fe33ace4",
      "metadata": {
        "id": "fe33ace4",
        "colab": {
          "base_uri": "https://localhost:8080/"
        },
        "outputId": "5ec9aea8-a91a-49ed-d255-41c5aef4b704"
      },
      "outputs": [
        {
          "output_type": "stream",
          "name": "stdout",
          "text": [
            "Collecting gym\n",
            "  Downloading gym-0.26.2.tar.gz (721 kB)\n",
            "\u001b[?25l     \u001b[90m━━━━━━━━━━━━━━━━━━━━━━━━━━━━━━━━━━━━━━━━\u001b[0m \u001b[32m0.0/721.7 kB\u001b[0m \u001b[31m?\u001b[0m eta \u001b[36m-:--:--\u001b[0m\r\u001b[2K     \u001b[91m━━━━━━━━━━━━━━━━━━━━━━━━━━━━━━━━━━━━━━━\u001b[0m\u001b[91m╸\u001b[0m \u001b[32m716.8/721.7 kB\u001b[0m \u001b[31m25.2 MB/s\u001b[0m eta \u001b[36m0:00:01\u001b[0m\r\u001b[2K     \u001b[90m━━━━━━━━━━━━━━━━━━━━━━━━━━━━━━━━━━━━━━━━\u001b[0m \u001b[32m721.7/721.7 kB\u001b[0m \u001b[31m17.6 MB/s\u001b[0m eta \u001b[36m0:00:00\u001b[0m\n",
            "\u001b[?25h  Installing build dependencies ... \u001b[?25l\u001b[?25hdone\n",
            "  Getting requirements to build wheel ... \u001b[?25l\u001b[?25hdone\n",
            "  Preparing metadata (pyproject.toml) ... \u001b[?25l\u001b[?25hdone\n",
            "  Downloading gym-0.26.0.tar.gz (710 kB)\n",
            "\u001b[2K     \u001b[90m━━━━━━━━━━━━━━━━━━━━━━━━━━━━━━━━━━━━━━━━\u001b[0m \u001b[32m710.3/710.3 kB\u001b[0m \u001b[31m45.2 MB/s\u001b[0m eta \u001b[36m0:00:00\u001b[0m\n",
            "\u001b[?25h  Installing build dependencies ... \u001b[?25l\u001b[?25hdone\n",
            "  Getting requirements to build wheel ... \u001b[?25l\u001b[?25hdone\n",
            "  Preparing metadata (pyproject.toml) ... \u001b[?25l\u001b[?25hdone\n",
            "Collecting numpy>=1.18.0 (from gym)\n",
            "  Downloading numpy-2.2.4-cp311-cp311-manylinux_2_17_x86_64.manylinux2014_x86_64.whl.metadata (62 kB)\n",
            "\u001b[2K     \u001b[90m━━━━━━━━━━━━━━━━━━━━━━━━━━━━━━━━━━━━━━━━\u001b[0m \u001b[32m62.0/62.0 kB\u001b[0m \u001b[31m5.1 MB/s\u001b[0m eta \u001b[36m0:00:00\u001b[0m\n",
            "\u001b[?25hCollecting cloudpickle>=1.2.0 (from gym)\n",
            "  Downloading cloudpickle-3.1.1-py3-none-any.whl.metadata (7.1 kB)\n",
            "Collecting gym_notices>=0.0.4 (from gym)\n",
            "  Downloading gym_notices-0.0.8-py3-none-any.whl.metadata (1.0 kB)\n",
            "Downloading cloudpickle-3.1.1-py3-none-any.whl (20 kB)\n",
            "Downloading gym_notices-0.0.8-py3-none-any.whl (3.0 kB)\n",
            "Downloading numpy-2.2.4-cp311-cp311-manylinux_2_17_x86_64.manylinux2014_x86_64.whl (16.4 MB)\n",
            "\u001b[2K   \u001b[90m━━━━━━━━━━━━━━━━━━━━━━━━━━━━━━━━━━━━━━━━\u001b[0m \u001b[32m16.4/16.4 MB\u001b[0m \u001b[31m74.1 MB/s\u001b[0m eta \u001b[36m0:00:00\u001b[0m\n",
            "\u001b[?25hBuilding wheels for collected packages: gym\n",
            "  Building wheel for gym (pyproject.toml) ... \u001b[?25l\u001b[?25hdone\n",
            "  Created wheel for gym: filename=gym-0.26.0-py3-none-any.whl size=826377 sha256=b1269e31dbd1ace966daa786c6fc29509ce7192c18b4a8cb57c10536a879ef6e\n",
            "  Stored in directory: /root/.cache/pip/wheels/8b/47/e5/04b6979e489a64e94b7af6fd69b5019c1f9addf57e206bca49\n",
            "Successfully built gym\n",
            "Installing collected packages: gym_notices, numpy, cloudpickle, gym\n",
            "  Attempting uninstall: gym_notices\n",
            "    Found existing installation: gym-notices 0.0.8\n",
            "    Uninstalling gym-notices-0.0.8:\n",
            "      Successfully uninstalled gym-notices-0.0.8\n",
            "  Attempting uninstall: numpy\n",
            "    Found existing installation: numpy 2.0.2\n",
            "    Uninstalling numpy-2.0.2:\n",
            "      Successfully uninstalled numpy-2.0.2\n",
            "  Attempting uninstall: cloudpickle\n",
            "    Found existing installation: cloudpickle 3.1.1\n",
            "    Uninstalling cloudpickle-3.1.1:\n",
            "      Successfully uninstalled cloudpickle-3.1.1\n",
            "  Attempting uninstall: gym\n",
            "    Found existing installation: gym 0.25.2\n",
            "    Uninstalling gym-0.25.2:\n",
            "      Successfully uninstalled gym-0.25.2\n",
            "\u001b[31mERROR: pip's dependency resolver does not currently take into account all the packages that are installed. This behaviour is the source of the following dependency conflicts.\n",
            "numba 0.60.0 requires numpy<2.1,>=1.22, but you have numpy 2.2.4 which is incompatible.\n",
            "tensorflow 2.18.0 requires numpy<2.1.0,>=1.26.0, but you have numpy 2.2.4 which is incompatible.\n",
            "dopamine-rl 4.1.2 requires gym<=0.25.2, but you have gym 0.26.0 which is incompatible.\u001b[0m\u001b[31m\n",
            "\u001b[0mSuccessfully installed cloudpickle-3.1.1 gym-0.26.0 gym_notices-0.0.8 numpy-2.2.4\n",
            "Collecting pyvirtualdisplay\n",
            "  Downloading PyVirtualDisplay-3.0-py3-none-any.whl.metadata (943 bytes)\n",
            "Downloading PyVirtualDisplay-3.0-py3-none-any.whl (15 kB)\n",
            "Installing collected packages: pyvirtualdisplay\n",
            "Successfully installed pyvirtualdisplay-3.0\n"
          ]
        }
      ],
      "source": [
        "!apt-get install x11-utils > /dev/null 2>&1\n",
        "!pip install pyglet > /dev/null 2>&1\n",
        "!apt-get install -y xvfb python-opengl > /dev/null 2>&1\n",
        "!pip install gym gym==0.26 --force-reinstall\n",
        "!pip install pyvirtualdisplay"
      ]
    },
    {
      "cell_type": "code",
      "execution_count": 2,
      "id": "a-utiRozzioB",
      "metadata": {
        "id": "a-utiRozzioB"
      },
      "outputs": [],
      "source": [
        "%matplotlib inline\n",
        "import os\n",
        "import pdb\n",
        "import sys\n",
        "import copy\n",
        "import json\n",
        "import argparse\n",
        "from datetime import datetime\n",
        "\n",
        "import numpy as np\n",
        "np.bool8 = np.bool_\n",
        "import gym\n",
        "import torch\n",
        "import torch.nn as nn\n",
        "import torch.nn.functional as F\n",
        "import numpy as np\n",
        "import matplotlib.pyplot as plt\n",
        "from IPython import display as ipythondisplay"
      ]
    },
    {
      "cell_type": "markdown",
      "id": "Joorn0ws0WZw",
      "metadata": {
        "id": "Joorn0ws0WZw"
      },
      "source": [
        "## <span style=\"color:LightGreen\">Implementing a DQN</span>"
      ]
    },
    {
      "cell_type": "markdown",
      "id": "a306bfd0",
      "metadata": {
        "id": "a306bfd0"
      },
      "source": [
        "In this assignment you will be implementing a Deep Q-network with replay memory to play the Cartpole environment. Recall that for a DQN, we are approximating the Q-value table in Q-learning with a neural network.\n",
        "\n",
        "The general design is a DQN neural network class that you will implemented with a DQNAgent wrapper on top. The DQNAgent controls all the weight updates and environment interactions by calling the DQN when necessary. You will also be filling in the exploration policy and you will be provided the helper class for replay memory."
      ]
    },
    {
      "cell_type": "markdown",
      "id": "397c2f51",
      "metadata": {
        "id": "397c2f51"
      },
      "source": [
        "## <span style=\"color:Orange\">Problem 1</span>"
      ]
    },
    {
      "cell_type": "code",
      "execution_count": 10,
      "id": "38e284a7",
      "metadata": {
        "id": "38e284a7"
      },
      "outputs": [],
      "source": [
        "class DQN(nn.Module):\n",
        "    # YOUR CODE HERE\n",
        "\n",
        "    # from reinforcement learning notebook:\n",
        "    def __init__(self, n_observations, n_hidden, n_actions):\n",
        "        super(DQN, self).__init__()\n",
        "        self.layer1 = nn.Linear(n_observations, n_hidden)\n",
        "        self.layer2 = nn.Linear(n_hidden, n_hidden)\n",
        "        self.layer3 = nn.Linear(n_hidden, n_actions)\n",
        "\n",
        "    # Called with either one element to determine next action, or a batch\n",
        "    # during optimization. Returns tensor([[left0exp,right0exp]...]).\n",
        "    def forward(self, x):\n",
        "        x = F.relu(self.layer1(x))\n",
        "        x = F.relu(self.layer2(x))\n",
        "        return self.layer3(x)"
      ]
    },
    {
      "cell_type": "code",
      "execution_count": 11,
      "id": "6933fb7b",
      "metadata": {
        "id": "6933fb7b"
      },
      "outputs": [],
      "source": [
        "class QNetwork():\n",
        "    # This class essentially defines the network architecture.\n",
        "    # It is NOT the PyTorch Q-network model (nn.Module), but a wrapper\n",
        "    # The network should take in state of the world as an input,\n",
        "    # and output Q values of the actions available to the agent as the output.\n",
        "\n",
        "    def __init__(self, args, input, output, learning_rate):\n",
        "        # Define your network architecture here. It is also a good idea to define any training operations\n",
        "        # and optimizers here, initialize your variables, or alternately compile your model here.\n",
        "        self.weights_path = 'models/%s/%s' % (args['env'], datetime.now().strftime(\"%Y-%m-%d_%H-%M-%S\"))\n",
        "\n",
        "        # Network architecture.\n",
        "        self.hidden = 128\n",
        "        self.model = DQN(input, self.hidden, output)\n",
        "\n",
        "        # Loss and optimizer.\n",
        "        self.optim = torch.optim.Adam(self.model.parameters(), lr=learning_rate)\n",
        "        if args['model_file'] is not None:\n",
        "            print('Loading pretrained model from', args['model_file'])\n",
        "            self.load_model_weights(args['model_file'])\n",
        "\n",
        "    def save_model_weights(self, step):\n",
        "        # Helper function to save your model / weights.\n",
        "        if not os.path.exists(self.weights_path): os.makedirs(self.weights_path)\n",
        "        torch.save(self.model.state_dict(), os.path.join(self.weights_path, 'model_%d.h5' % step))\n",
        "\n",
        "    def load_model_weights(self, weight_file):\n",
        "        # Helper function to load model weights.\n",
        "        self.model.load_state_dict(torch.load(weight_file))"
      ]
    },
    {
      "cell_type": "markdown",
      "id": "4995b097",
      "metadata": {
        "id": "4995b097"
      },
      "source": [
        "### <span style=\"color:Yellow\">Replay Memory Helper</span>"
      ]
    },
    {
      "cell_type": "markdown",
      "id": "50ae7da8",
      "metadata": {
        "id": "50ae7da8"
      },
      "source": [
        "Replay memory or Experience replay is a simple trick used to learn the Q-value network offline. It also ensures the model can learn from past experiences without weighting heavily towards current observations."
      ]
    },
    {
      "cell_type": "code",
      "execution_count": 12,
      "id": "885bb32f",
      "metadata": {
        "id": "885bb32f"
      },
      "outputs": [],
      "source": [
        "class Replay_Memory():\n",
        "    def __init__(self, state_dim, action_dim, memory_size=50000, burn_in=10000):\n",
        "        # The memory essentially stores transitions recorder from the agent\n",
        "        # taking actions in the environment.\n",
        "\n",
        "        # Burn in episodes define the number of episodes that are written into the memory from the\n",
        "        # randomly initialized agent. Memory size is the maximum size after which old elements in the memory are replaced.\n",
        "        # A simple (if not the most efficient) way to implement the memory is as a list of transitions.\n",
        "        self.memory_size = memory_size\n",
        "        self.burn_in = burn_in\n",
        "        self.states = torch.zeros((self.memory_size, state_dim))\n",
        "        self.next_states = torch.zeros((self.memory_size, state_dim))\n",
        "        self.actions = torch.zeros((self.memory_size, 1))\n",
        "        self.rewards = torch.zeros((self.memory_size, 1))\n",
        "        self.dones = torch.zeros((self.memory_size, 1))\n",
        "        self.ptr = 0\n",
        "        self.burned_in = False\n",
        "        self.not_full_yet = True\n",
        "\n",
        "    def append(self, states, actions, rewards, next_states, dones):\n",
        "        self.states[self.ptr] = states\n",
        "        self.actions[self.ptr, 0] = actions\n",
        "        self.rewards[self.ptr, 0] = rewards\n",
        "        self.next_states[self.ptr] = next_states\n",
        "        self.dones[self.ptr, 0] = dones\n",
        "        self.ptr += 1\n",
        "\n",
        "        if self.ptr > self.burn_in:\n",
        "            self.burned_in = True\n",
        "\n",
        "        if self.ptr >= self.memory_size:\n",
        "            self.ptr = 0\n",
        "            self.not_full_yet = False\n",
        "\n",
        "    def sample_batch(self, batch_size=32):\n",
        "        # This function returns a batch of randomly sampled transitions - i.e. state, action, reward, next state, terminal flag tuples.\n",
        "        # You will feed this to your model to train.\n",
        "        if self.not_full_yet:\n",
        "            idxs = torch.from_numpy(np.random.choice(self.ptr, batch_size, False))\n",
        "        else:\n",
        "            idxs = torch.from_numpy(np.random.choice(self.memory_size, batch_size, False))\n",
        "\n",
        "        states = self.states[idxs]\n",
        "        next_states = self.next_states[idxs]\n",
        "        actions = self.actions[idxs]\n",
        "        rewards = self.rewards[idxs]\n",
        "        dones = self.dones[idxs]\n",
        "        return states, actions, rewards, next_states, dones"
      ]
    },
    {
      "cell_type": "markdown",
      "id": "d65834ca",
      "metadata": {
        "id": "d65834ca"
      },
      "source": [
        "## <span style=\"color:LightGreen\">The Agent Class</span>"
      ]
    },
    {
      "cell_type": "markdown",
      "id": "f5d5e257",
      "metadata": {
        "id": "f5d5e257"
      },
      "source": [
        "This section is focused on building the agent that interacts with the environment. The agent wrapper defines a policy (which you will implement), as well as all of the functionality for learning the network and using experience replay. You will implement a large chunk of this class."
      ]
    },
    {
      "cell_type": "markdown",
      "id": "71745285",
      "metadata": {
        "id": "71745285"
      },
      "source": [
        "## <span style=\"color:Orange\">Problem 2</span>"
      ]
    },
    {
      "cell_type": "code",
      "execution_count": 13,
      "id": "e6f37788",
      "metadata": {
        "id": "e6f37788"
      },
      "outputs": [],
      "source": [
        "class DQN_Agent():\n",
        "    def __init__(self, args):\n",
        "        # Create an instance of the network itself, as well as the memory.\n",
        "        # Here is also a good place to set environmental parameters,\n",
        "        # as well as training parameters - number of episodes / iterations, etc.\n",
        "\n",
        "        # Inputs\n",
        "        self.args = args\n",
        "        self.environment_name = self.args['env']\n",
        "        self.render = self.args['render']\n",
        "        self.epsilon = args['epsilon']\n",
        "        self.network_update_freq = args['network_update_freq']\n",
        "        self.log_freq = args['log_freq']\n",
        "        self.test_freq = args['test_freq']\n",
        "        self.save_freq = args['save_freq']\n",
        "        self.learning_rate = args['learning_rate']\n",
        "\n",
        "        # variables for epsilon decay????\n",
        "        self.eps_steps = 0\n",
        "        self.EPS_START = 0.9\n",
        "        self.EPS_END = 0.05\n",
        "        self.EPS_DECAY = 1000\n",
        "\n",
        "\n",
        "\n",
        "        # Env related variables\n",
        "        if self.environment_name == 'CartPole-v0':\n",
        "            self.env = gym.make(self.environment_name, render_mode='rgb_array')\n",
        "            self.discount_factor = 0.99\n",
        "            self.num_episodes = 5000\n",
        "        elif self.environment_name == 'MountainCar-v0':\n",
        "            self.env = gym.make(self.environment_name, render_mode='rgb_array')\n",
        "            self.discount_factor = 1.00\n",
        "            self.num_episodes = 10000\n",
        "        else:\n",
        "            raise Exception(\"Unknown Environment\")\n",
        "\n",
        "        # Other Classes\n",
        "        self.q_network = QNetwork(args, self.env.observation_space.shape[0], self.env.action_space.n, self.learning_rate)\n",
        "        self.target_q_network = QNetwork(args, self.env.observation_space.shape[0], self.env.action_space.n, self.learning_rate)\n",
        "        self.memory = Replay_Memory(self.env.observation_space.shape[0], self.env.action_space.n, memory_size=args['memory_size'])\n",
        "\n",
        "        # Plotting\n",
        "        self.rewards = []\n",
        "        self.td_error = []\n",
        "        self.batch = list(range(32))\n",
        "\n",
        "        # Save hyperparameters\n",
        "        self.logdir = 'logs/%s/%s' % (self.environment_name, datetime.now().strftime(\"%Y-%m-%d_%H-%M-%S\"))\n",
        "        if not os.path.exists(self.logdir):\n",
        "            os.makedirs(self.logdir)\n",
        "        with open(self.logdir + '/hyperparameters.json', 'w') as outfile:\n",
        "            json.dump((self.args), outfile, indent=4)\n",
        "\n",
        "    def epsilon_greedy_policy(self, q_values, epsilon):\n",
        "        # Creating epsilon greedy probabilities to sample from.\n",
        "        sample = np.random.random()\n",
        "        eps_threshold = self.EPS_END + (self.EPS_START - self.EPS_END) * \\\n",
        "            np.exp(-1. * self.eps_steps / self.EPS_DECAY)\n",
        "        self.eps_steps += 1\n",
        "        if sample > eps_threshold:\n",
        "          with torch.no_grad():\n",
        "            # t.max(1) will return the largest column value of each row.\n",
        "            # second column on max result is index of where max element was\n",
        "            # found, so we pick action with the larger expected reward.\n",
        "            return policy_net(state).max(1).indices.view(1, 1)\n",
        "        else:\n",
        "            return torch.tensor([[self.env.action_space.sample()]], device=device, dtype=torch.long)\n",
        "\n",
        "\n",
        "\n",
        "        # YOUR CODE HERE\n",
        "        #raise NotImplementedError()\n",
        "\n",
        "    def greedy_policy(self, q_values):\n",
        "\n",
        "        # YOUR CODE HERE\n",
        "        raise NotImplementedError()\n",
        "\n",
        "    def train(self):\n",
        "        # In this function, we will train our network.\n",
        "        # If training without experience replay_memory, then you will interact with the environment\n",
        "        # in this function, while also updating your network parameters.\n",
        "\n",
        "        # When use replay memory, you should interact with environment here, and store these\n",
        "        # transitions to memory, while also updating your model.\n",
        "        self.burn_in_memory()\n",
        "        for step in range(self.num_episodes):\n",
        "            # Generate Episodes using Epsilon Greedy Policy and train the Q network.\n",
        "            self.generate_episode(policy=self.epsilon_greedy_policy, mode='train',\n",
        "                epsilon=self.epsilon, frameskip=self.args['frameskip'])\n",
        "\n",
        "            # Test the network.\n",
        "            if step % self.test_freq == 0:\n",
        "                test_reward, test_error = self.test(episodes=20)\n",
        "                self.rewards.append([test_reward, step])\n",
        "                self.td_error.append([test_error, step])\n",
        "\n",
        "            # Update the target network.\n",
        "            if step % self.network_update_freq == 0:\n",
        "                self.hard_update()\n",
        "\n",
        "            # Logging.\n",
        "            if step % self.log_freq == 0:\n",
        "                print(\"Step: {0:05d}/{1:05d}\".format(step, self.num_episodes))\n",
        "\n",
        "            # Save the model.\n",
        "            if step % self.save_freq == 0:\n",
        "                self.q_network.save_model_weights(step)\n",
        "\n",
        "            step += 1\n",
        "            self.epsilon_decay()\n",
        "\n",
        "            # Render and save the video with the model.\n",
        "            if step % int(self.num_episodes / 3) == 0 and self.args['render']:\n",
        "                # test_video(self, self.environment_name, step)\n",
        "                self.q_network.save_model_weights(step)\n",
        "\n",
        "    def td_estimate (self, state, action):\n",
        "        # YOUR CODE HERE\n",
        "        raise NotImplementedError()\n",
        "\n",
        "    def td_target (self, reward, next_state, done):\n",
        "        # YOUR CODE HERE\n",
        "        raise NotImplementedError()\n",
        "\n",
        "    def train_dqn(self):\n",
        "        # Sample from the replay buffer.\n",
        "        state, action, rewards, next_state, done = self.memory.sample_batch(batch_size=32)\n",
        "\n",
        "        # Optimization step. For reference, we used F.smooth_l1_loss as our loss function.\n",
        "\n",
        "        # YOUR CODE HERE\n",
        "        raise NotImplementedError()\n",
        "\n",
        "        return loss\n",
        "\n",
        "    def hard_update(self):\n",
        "        self.target_q_network.model.load_state_dict(self.q_network.model.state_dict())\n",
        "\n",
        "    def test(self, model_file=None, episodes=100):\n",
        "        # Evaluate the performance of your agent over 100 episodes, by calculating cumulative rewards for the 100 episodes.\n",
        "        # Here you need to interact with the environment, irrespective of whether you are using a memory.\n",
        "        cum_reward = []\n",
        "        td_error = []\n",
        "        for count in range(episodes):\n",
        "            reward, error = self.generate_episode(policy=self.epsilon_greedy_policy,\n",
        "                mode='test', epsilon=0.05, frameskip=self.args['frameskip'])\n",
        "            cum_reward.append(reward)\n",
        "            td_error.append(error)\n",
        "        cum_reward = torch.tensor(cum_reward)\n",
        "        td_error = torch.tensor(td_error)\n",
        "        print(\"\\nTest Rewards: {0} | TD Error: {1:.4f}\\n\".format(torch.mean(cum_reward), torch.mean(td_error)))\n",
        "        return torch.mean(cum_reward), torch.mean(td_error)\n",
        "\n",
        "    def burn_in_memory(self):\n",
        "        # Initialize your replay memory with a burn_in number of episodes / transitions.\n",
        "        while not self.memory.burned_in:\n",
        "            self.generate_episode(policy=self.epsilon_greedy_policy, mode='burn_in',\n",
        "                epsilon=self.epsilon, frameskip=self.args['frameskip'])\n",
        "        print(\"Burn Complete!\")\n",
        "\n",
        "    def generate_episode(self, policy, epsilon, mode='train', frameskip=1):\n",
        "        \"\"\"\n",
        "        Collects one rollout from the policy in an environment.\n",
        "        \"\"\"\n",
        "        done = False\n",
        "        # Modified to handle the tuple returned by env.reset()\n",
        "        state, _ = self.env.reset()  # Extract the state from the tuple\n",
        "        state = torch.from_numpy(np.array(state)).type(torch.float32)  # Convert and ensure float32 type\n",
        "        rewards = 0\n",
        "        q_values = self.q_network.model.forward((state.reshape(1, -1)))\n",
        "        td_error = []\n",
        "        while not done:\n",
        "            action = policy(q_values, epsilon)\n",
        "            i = 0\n",
        "            while (i < frameskip) and not done:\n",
        "                # The step method might be returning more than 4 values\n",
        "                # Use an underscore \"_\" to capture any extra values\n",
        "                step_result = self.env.step(action)\n",
        "                # Ensure we only unpack the first 4 values\n",
        "                next_state, reward, done, info = step_result[:4]\n",
        "\n",
        "                next_state = torch.from_numpy(np.array(next_state))\n",
        "                rewards += reward\n",
        "                i += 1\n",
        "            next_q_values = self.q_network.model.forward((next_state.reshape(1, -1)))\n",
        "            if mode in ['train', 'burn_in'] :\n",
        "                self.memory.append(state, action, reward, next_state, done)\n",
        "            else:\n",
        "                td_error.append(abs(reward + self.discount_factor * (1 - done) * torch.max(next_q_values) - q_values))\n",
        "            if not done:\n",
        "                state = copy.deepcopy(next_state.detach())\n",
        "                q_values = copy.deepcopy(next_q_values.detach())\n",
        "\n",
        "            # Train the network.\n",
        "            if mode == 'train':\n",
        "                self.train_dqn()\n",
        "        if td_error == []:\n",
        "          return rewards, []\n",
        "        return rewards, torch.mean(torch.stack(td_error))\n",
        "\n",
        "    def plots(self):\n",
        "        \"\"\"\n",
        "        Plots:\n",
        "        1) Avg Cummulative Test Reward over 20 Plots\n",
        "        2) TD Error\n",
        "        \"\"\"\n",
        "        reward, time =  zip(*self.rewards)\n",
        "        plt.figure(figsize=(8, 3))\n",
        "        plt.subplot(121)\n",
        "        plt.title('Cummulative Reward')\n",
        "        plt.plot(time, reward)\n",
        "        plt.xlabel('iterations')\n",
        "        plt.ylabel('rewards')\n",
        "        plt.legend()\n",
        "        plt.ylim([0, None])\n",
        "\n",
        "        loss, time =  zip(*self.td_error)\n",
        "        plt.subplot(122)\n",
        "        plt.title('Loss')\n",
        "        plt.plot(time, loss)\n",
        "        plt.xlabel('iterations')\n",
        "        plt.ylabel('loss')\n",
        "        plt.show()\n",
        "\n",
        "    def epsilon_decay(self, initial_eps=1.0, final_eps=0.05):\n",
        "        if(self.epsilon > final_eps):\n",
        "            factor = (initial_eps - final_eps) / 10000\n",
        "            self.epsilon -= factor"
      ]
    },
    {
      "cell_type": "markdown",
      "id": "fef9f0ba",
      "metadata": {
        "id": "fef9f0ba"
      },
      "source": [
        "### <span style=\"color:Yellow\">Helpers and Hyperparameters</span>"
      ]
    },
    {
      "cell_type": "markdown",
      "id": "b99ee449",
      "metadata": {
        "id": "b99ee449"
      },
      "source": [
        "This class contains helper functions, as well as some extra arguments that you can use to tune or play around with your DQN. There is no required parts to fill in here."
      ]
    },
    {
      "cell_type": "code",
      "execution_count": 14,
      "id": "efb74749",
      "metadata": {
        "id": "efb74749"
      },
      "outputs": [],
      "source": [
        "# Note: if you have problems creating video captures on servers without GUI,\n",
        "#       you could save and relaod model to create videos on your laptop.\n",
        "def test_video(agent, env_name, episodes):\n",
        "    # Usage:\n",
        "    #   you can pass the arguments within agent.train() as:\n",
        "    #       if episode % int(self.num_episodes/3) == 0:\n",
        "    #           test_video(self, self.environment_name, episode)\n",
        "    save_path = \"%s/video-%s\" % (env_name, episodes)\n",
        "    if not os.path.exists(save_path): os.makedirs(save_path)\n",
        "\n",
        "    # To create video\n",
        "    env = agent.env # gym.wrappers.Monitor(agent.env, save_path, force=True)\n",
        "    reward_total = []\n",
        "    # Modified to handle the tuple returned by env.reset()\n",
        "    state, _ = env.reset()  # Extract the state from the tuple\n",
        "    done = False\n",
        "    print(\"Video recording the agent with epsilon {0:.4f}\".format(agent.epsilon))\n",
        "    while not done:\n",
        "        # Convert state to a PyTorch tensor with the correct data type\n",
        "        state_tensor = torch.from_numpy(state.astype(np.float32)).reshape(1, -1)\n",
        "        q_values = agent.q_network.model.forward(state_tensor)\n",
        "        action = agent.greedy_policy(q_values)\n",
        "        i = 0\n",
        "        while (i < agent.args['frameskip']) and not done:\n",
        "            # The render method no longer accepts the mode argument.\n",
        "            # We are already defining the render mode as 'rgb_array'\n",
        "            # when initializing the environment.\n",
        "            screen = env.render() # Remove the 'mode='rgb_array'' argument\n",
        "            plt.imshow(screen) # screen is no longer a list\n",
        "            ipythondisplay.clear_output(wait=True)\n",
        "            ipythondisplay.display(plt.gcf())\n",
        "\n",
        "            # The step method might be returning more than 4 values\n",
        "            # Use an underscore \"_\" to capture any extra values\n",
        "            step_result = env.step(action)\n",
        "            # Ensure we only unpack the first 4 values\n",
        "            next_state, reward, done, info = step_result[:4] # changed this line\n",
        "\n",
        "            reward_total.append(reward)\n",
        "            i += 1\n",
        "        state = next_state\n",
        "    print(\"reward_total: {}\".format(torch.sum(torch.tensor(reward_total))))\n",
        "    ipythondisplay.clear_output(wait=True)\n",
        "    env.close()\n",
        "\n",
        "\n",
        "def init_flags():\n",
        "\n",
        "    flags = {\n",
        "        \"env\": \"CartPole-v0\", # Change to \"MountainCar-v0\" when needed.\n",
        "        \"render\": False,\n",
        "        \"train\": 1,\n",
        "        \"frameskip\" : 1,\n",
        "        \"network_update_freq\": 10,\n",
        "        \"log_freq\": 25,\n",
        "        \"test_freq\": 100,\n",
        "        \"save_freq\": 500,\n",
        "        \"learning_rate\": 5e-4,\n",
        "        \"memory_size\": 50000,\n",
        "        \"epsilon\": 0.5,\n",
        "        \"model_file\": None,\n",
        "    }\n",
        "\n",
        "    return flags\n",
        "\n",
        "def main(render=False):\n",
        "    args = init_flags()\n",
        "    args[\"render\"] = render\n",
        "\n",
        "    # You want to create an instance of the DQN_Agent class here, and then train / test it.\n",
        "    q_agent = DQN_Agent(args)\n",
        "\n",
        "    # Render output videos using the model loaded from file.\n",
        "    if args['render']: test_video(q_agent, args['env'], 1)\n",
        "    else: q_agent.train()  # Train the model."
      ]
    },
    {
      "cell_type": "code",
      "execution_count": 15,
      "id": "0a5c5b3e",
      "metadata": {
        "colab": {
          "base_uri": "https://localhost:8080/",
          "height": 375
        },
        "id": "0a5c5b3e",
        "outputId": "02e62773-46c1-4c87-fce2-20b9f741ade8"
      },
      "outputs": [
        {
          "output_type": "stream",
          "name": "stderr",
          "text": [
            "/usr/local/lib/python3.11/dist-packages/gym/envs/registration.py:555: UserWarning: \u001b[33mWARN: The environment CartPole-v0 is out of date. You should consider upgrading to version `v1`.\u001b[0m\n",
            "  logger.warn(\n"
          ]
        },
        {
          "output_type": "error",
          "ename": "NotImplementedError",
          "evalue": "",
          "traceback": [
            "\u001b[0;31m---------------------------------------------------------------------------\u001b[0m",
            "\u001b[0;31mNotImplementedError\u001b[0m                       Traceback (most recent call last)",
            "\u001b[0;32m<ipython-input-15-1906004ba40c>\u001b[0m in \u001b[0;36m<cell line: 0>\u001b[0;34m()\u001b[0m\n\u001b[1;32m      1\u001b[0m \u001b[0;31m# For training\u001b[0m\u001b[0;34m\u001b[0m\u001b[0;34m\u001b[0m\u001b[0m\n\u001b[0;32m----> 2\u001b[0;31m \u001b[0mmain\u001b[0m\u001b[0;34m(\u001b[0m\u001b[0;34m)\u001b[0m\u001b[0;34m\u001b[0m\u001b[0;34m\u001b[0m\u001b[0m\n\u001b[0m",
            "\u001b[0;32m<ipython-input-14-475c1e93b010>\u001b[0m in \u001b[0;36mmain\u001b[0;34m(render)\u001b[0m\n\u001b[1;32m     73\u001b[0m     \u001b[0;31m# Render output videos using the model loaded from file.\u001b[0m\u001b[0;34m\u001b[0m\u001b[0;34m\u001b[0m\u001b[0m\n\u001b[1;32m     74\u001b[0m     \u001b[0;32mif\u001b[0m \u001b[0margs\u001b[0m\u001b[0;34m[\u001b[0m\u001b[0;34m'render'\u001b[0m\u001b[0;34m]\u001b[0m\u001b[0;34m:\u001b[0m \u001b[0mtest_video\u001b[0m\u001b[0;34m(\u001b[0m\u001b[0mq_agent\u001b[0m\u001b[0;34m,\u001b[0m \u001b[0margs\u001b[0m\u001b[0;34m[\u001b[0m\u001b[0;34m'env'\u001b[0m\u001b[0;34m]\u001b[0m\u001b[0;34m,\u001b[0m \u001b[0;36m1\u001b[0m\u001b[0;34m)\u001b[0m\u001b[0;34m\u001b[0m\u001b[0;34m\u001b[0m\u001b[0m\n\u001b[0;32m---> 75\u001b[0;31m     \u001b[0;32melse\u001b[0m\u001b[0;34m:\u001b[0m \u001b[0mq_agent\u001b[0m\u001b[0;34m.\u001b[0m\u001b[0mtrain\u001b[0m\u001b[0;34m(\u001b[0m\u001b[0;34m)\u001b[0m  \u001b[0;31m# Train the model.\u001b[0m\u001b[0;34m\u001b[0m\u001b[0;34m\u001b[0m\u001b[0m\n\u001b[0m",
            "\u001b[0;32m<ipython-input-13-199eb86def06>\u001b[0m in \u001b[0;36mtrain\u001b[0;34m(self)\u001b[0m\n\u001b[1;32m     64\u001b[0m         \u001b[0;31m# When use replay memory, you should interact with environment here, and store these\u001b[0m\u001b[0;34m\u001b[0m\u001b[0;34m\u001b[0m\u001b[0m\n\u001b[1;32m     65\u001b[0m         \u001b[0;31m# transitions to memory, while also updating your model.\u001b[0m\u001b[0;34m\u001b[0m\u001b[0;34m\u001b[0m\u001b[0m\n\u001b[0;32m---> 66\u001b[0;31m         \u001b[0mself\u001b[0m\u001b[0;34m.\u001b[0m\u001b[0mburn_in_memory\u001b[0m\u001b[0;34m(\u001b[0m\u001b[0;34m)\u001b[0m\u001b[0;34m\u001b[0m\u001b[0;34m\u001b[0m\u001b[0m\n\u001b[0m\u001b[1;32m     67\u001b[0m         \u001b[0;32mfor\u001b[0m \u001b[0mstep\u001b[0m \u001b[0;32min\u001b[0m \u001b[0mrange\u001b[0m\u001b[0;34m(\u001b[0m\u001b[0mself\u001b[0m\u001b[0;34m.\u001b[0m\u001b[0mnum_episodes\u001b[0m\u001b[0;34m)\u001b[0m\u001b[0;34m:\u001b[0m\u001b[0;34m\u001b[0m\u001b[0;34m\u001b[0m\u001b[0m\n\u001b[1;32m     68\u001b[0m             \u001b[0;31m# Generate Episodes using Epsilon Greedy Policy and train the Q network.\u001b[0m\u001b[0;34m\u001b[0m\u001b[0;34m\u001b[0m\u001b[0m\n",
            "\u001b[0;32m<ipython-input-13-199eb86def06>\u001b[0m in \u001b[0;36mburn_in_memory\u001b[0;34m(self)\u001b[0m\n\u001b[1;32m    136\u001b[0m         \u001b[0;31m# Initialize your replay memory with a burn_in number of episodes / transitions.\u001b[0m\u001b[0;34m\u001b[0m\u001b[0;34m\u001b[0m\u001b[0m\n\u001b[1;32m    137\u001b[0m         \u001b[0;32mwhile\u001b[0m \u001b[0;32mnot\u001b[0m \u001b[0mself\u001b[0m\u001b[0;34m.\u001b[0m\u001b[0mmemory\u001b[0m\u001b[0;34m.\u001b[0m\u001b[0mburned_in\u001b[0m\u001b[0;34m:\u001b[0m\u001b[0;34m\u001b[0m\u001b[0;34m\u001b[0m\u001b[0m\n\u001b[0;32m--> 138\u001b[0;31m             self.generate_episode(policy=self.epsilon_greedy_policy, mode='burn_in',\n\u001b[0m\u001b[1;32m    139\u001b[0m                 epsilon=self.epsilon, frameskip=self.args['frameskip'])\n\u001b[1;32m    140\u001b[0m         \u001b[0mprint\u001b[0m\u001b[0;34m(\u001b[0m\u001b[0;34m\"Burn Complete!\"\u001b[0m\u001b[0;34m)\u001b[0m\u001b[0;34m\u001b[0m\u001b[0;34m\u001b[0m\u001b[0m\n",
            "\u001b[0;32m<ipython-input-13-199eb86def06>\u001b[0m in \u001b[0;36mgenerate_episode\u001b[0;34m(self, policy, epsilon, mode, frameskip)\u001b[0m\n\u001b[1;32m    152\u001b[0m         \u001b[0mtd_error\u001b[0m \u001b[0;34m=\u001b[0m \u001b[0;34m[\u001b[0m\u001b[0;34m]\u001b[0m\u001b[0;34m\u001b[0m\u001b[0;34m\u001b[0m\u001b[0m\n\u001b[1;32m    153\u001b[0m         \u001b[0;32mwhile\u001b[0m \u001b[0;32mnot\u001b[0m \u001b[0mdone\u001b[0m\u001b[0;34m:\u001b[0m\u001b[0;34m\u001b[0m\u001b[0;34m\u001b[0m\u001b[0m\n\u001b[0;32m--> 154\u001b[0;31m             \u001b[0maction\u001b[0m \u001b[0;34m=\u001b[0m \u001b[0mpolicy\u001b[0m\u001b[0;34m(\u001b[0m\u001b[0mq_values\u001b[0m\u001b[0;34m,\u001b[0m \u001b[0mepsilon\u001b[0m\u001b[0;34m)\u001b[0m\u001b[0;34m\u001b[0m\u001b[0;34m\u001b[0m\u001b[0m\n\u001b[0m\u001b[1;32m    155\u001b[0m             \u001b[0mi\u001b[0m \u001b[0;34m=\u001b[0m \u001b[0;36m0\u001b[0m\u001b[0;34m\u001b[0m\u001b[0;34m\u001b[0m\u001b[0m\n\u001b[1;32m    156\u001b[0m             \u001b[0;32mwhile\u001b[0m \u001b[0;34m(\u001b[0m\u001b[0mi\u001b[0m \u001b[0;34m<\u001b[0m \u001b[0mframeskip\u001b[0m\u001b[0;34m)\u001b[0m \u001b[0;32mand\u001b[0m \u001b[0;32mnot\u001b[0m \u001b[0mdone\u001b[0m\u001b[0;34m:\u001b[0m\u001b[0;34m\u001b[0m\u001b[0;34m\u001b[0m\u001b[0m\n",
            "\u001b[0;32m<ipython-input-13-199eb86def06>\u001b[0m in \u001b[0;36mepsilon_greedy_policy\u001b[0;34m(self, q_values, epsilon)\u001b[0m\n\u001b[1;32m     50\u001b[0m \u001b[0;34m\u001b[0m\u001b[0m\n\u001b[1;32m     51\u001b[0m         \u001b[0;31m# YOUR CODE HERE\u001b[0m\u001b[0;34m\u001b[0m\u001b[0;34m\u001b[0m\u001b[0m\n\u001b[0;32m---> 52\u001b[0;31m         \u001b[0;32mraise\u001b[0m \u001b[0mNotImplementedError\u001b[0m\u001b[0;34m(\u001b[0m\u001b[0;34m)\u001b[0m\u001b[0;34m\u001b[0m\u001b[0;34m\u001b[0m\u001b[0m\n\u001b[0m\u001b[1;32m     53\u001b[0m \u001b[0;34m\u001b[0m\u001b[0m\n\u001b[1;32m     54\u001b[0m     \u001b[0;32mdef\u001b[0m \u001b[0mgreedy_policy\u001b[0m\u001b[0;34m(\u001b[0m\u001b[0mself\u001b[0m\u001b[0;34m,\u001b[0m \u001b[0mq_values\u001b[0m\u001b[0;34m)\u001b[0m\u001b[0;34m:\u001b[0m\u001b[0;34m\u001b[0m\u001b[0;34m\u001b[0m\u001b[0m\n",
            "\u001b[0;31mNotImplementedError\u001b[0m: "
          ]
        }
      ],
      "source": [
        "# For training\n",
        "main()"
      ]
    },
    {
      "cell_type": "code",
      "execution_count": null,
      "id": "bfd6c8e3",
      "metadata": {
        "id": "bfd6c8e3"
      },
      "outputs": [],
      "source": [
        "# For evaluating video.\n",
        "main(render=True)"
      ]
    },
    {
      "cell_type": "markdown",
      "id": "wGJg7hk3zuws",
      "metadata": {
        "id": "wGJg7hk3zuws"
      },
      "source": [
        "## <span style=\"color:Orange\">Appendix</span>\n",
        "\n",
        "### <span style=\"color:LightGreen\">Resources</span>\n",
        "\n",
        "There are many online resources for Reinforcement Learning and DQNs. Please search for them and use them as helpful background, with proper citations.\n"
      ]
    },
    {
      "cell_type": "markdown",
      "id": "512ba1cf",
      "metadata": {
        "id": "512ba1cf"
      },
      "source": [
        "## <span style=\"color:Orange\">Acknowledgments</span>\n",
        "\n",
        "* Initial version: Mark Neubauer\n",
        "\n",
        "© Copyright 2024"
      ]
    }
  ],
  "metadata": {
    "colab": {
      "provenance": [],
      "toc_visible": true
    },
    "kernelspec": {
      "display_name": "Python 3",
      "name": "python3"
    },
    "language_info": {
      "codemirror_mode": {
        "name": "ipython",
        "version": 3
      },
      "file_extension": ".py",
      "mimetype": "text/x-python",
      "name": "python",
      "nbconvert_exporter": "python",
      "pygments_lexer": "ipython3",
      "version": "3.13.1"
    }
  },
  "nbformat": 4,
  "nbformat_minor": 5
}