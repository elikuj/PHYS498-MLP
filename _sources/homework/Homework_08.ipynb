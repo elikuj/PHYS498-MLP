{
  "cells": [
    {
      "cell_type": "markdown",
      "metadata": {
        "id": "xJZC3QaEvB6o"
      },
      "source": [
        "# Homework 08: Detecting Distribution Shift on MNIST using Bayesian Neural Networks"
      ]
    },
    {
      "cell_type": "markdown",
      "metadata": {
        "id": "U-nVJ7FyvB6q"
      },
      "source": [
        "## <span style=\"color:Orange\">Overview</span>"
      ]
    },
    {
      "cell_type": "markdown",
      "metadata": {
        "id": "F-bJ1LbSpXy2"
      },
      "source": [
        "In this exercise we will compare Bayesian NNs with deterministic NNs on a distribution shift detection task. To do this, we'll monitor the predictive entropy as the distribution gradually shifts.  A model with better uncertainty quantification should become less certain---that is, have a more entropic predictive distribution---as the input distribution shifts.  Mathematically, our quantity of interest is:\n",
        "\n",
        "$$ \\Large\n",
        "\\mathbb{H}[y | x^{*}, D] = - \\sum_{y} p(y | x^{*}, D) \\log p(y | x^{*}, D)\n",
        "$$\n",
        "\n",
        "where $p(y | x^{*}, D)$ is the predictive distribution:\n",
        "\n",
        "$$ \\Large\n",
        "p(y | x^{*}, D) = \\int_{\\theta} p(y | x^{*}, \\theta) \\ p(\\theta | D) \\ d \\theta.\n",
        "$$\n",
        "\n",
        "The goal is to obtain something similar to Figure #4 from the paper [Multiplicative Normalizing Flows for Variational Bayesian Neural Networks](https://arxiv.org/abs/1603.04733), comparing MC dropout, ensembles, and a Bayesian NN.\n",
        "\n",
        "We will be using the well-known MNIST dataset, a set of 70,000 hand-written digit images, and we will generate a gradual distribution shift on the dataset by rotating the images. As such, the final plot will depict the change in the entropy of the predictive distribution (y-axis) as degree of rotation increases (x-axis). The paper above shows the result for one image.  We, on the other hand, will average over multiple images to make a better comparison between models."
      ]
    },
    {
      "cell_type": "markdown",
      "metadata": {
        "id": "9eFpKnMEvB6s"
      },
      "source": [
        "We'll use rotation to simulate a smooth shift. Here's how you can rotate a given image:"
      ]
    },
    {
      "cell_type": "code",
      "execution_count": 1,
      "metadata": {
        "id": "cxWkiFQAvB6s"
      },
      "outputs": [],
      "source": [
        "import torch\n",
        "import torch.nn as nn\n",
        "import numpy as np\n",
        "import matplotlib.pyplot as plt\n",
        "from tqdm.auto import trange, tqdm\n",
        "\n",
        "torch.manual_seed(42)\n",
        "np.random.seed(42)\n",
        "\n",
        "from PIL import Image\n",
        "from torchvision import datasets\n",
        "from torch.nn.functional import softmax\n",
        "from torchvision.transforms.functional import rotate"
      ]
    },
    {
      "cell_type": "code",
      "execution_count": 2,
      "metadata": {
        "id": "Gttow5DvvB6u"
      },
      "outputs": [],
      "source": [
        "def imshow(image):\n",
        "    plt.imshow(image, cmap='gray', vmin=0, vmax=255)\n",
        "    plt.show()"
      ]
    },
    {
      "cell_type": "code",
      "execution_count": 3,
      "metadata": {
        "id": "k0boJR1avB6u"
      },
      "outputs": [],
      "source": [
        "def show_rotation_on_mnist_example_image():\n",
        "    mnist_train = datasets.MNIST('./tmp_data', train=True, download=True)\n",
        "    image = Image.fromarray(mnist_train.data[0].numpy())\n",
        "    imshow(image)\n",
        "    rotated_image = rotate(image, angle=90)\n",
        "    imshow(rotated_image)"
      ]
    },
    {
      "cell_type": "code",
      "execution_count": 4,
      "metadata": {
        "id": "rOgST-JsvB6v",
        "outputId": "bfa47c96-9c94-4ccb-9e45-d5403091a9ea",
        "colab": {
          "base_uri": "https://localhost:8080/",
          "height": 916
        }
      },
      "outputs": [
        {
          "output_type": "stream",
          "name": "stderr",
          "text": [
            "100%|██████████| 9.91M/9.91M [00:02<00:00, 4.58MB/s]\n",
            "100%|██████████| 28.9k/28.9k [00:00<00:00, 58.2kB/s]\n",
            "100%|██████████| 1.65M/1.65M [00:06<00:00, 245kB/s]\n",
            "100%|██████████| 4.54k/4.54k [00:00<00:00, 6.19MB/s]\n"
          ]
        },
        {
          "output_type": "display_data",
          "data": {
            "text/plain": [
              "<Figure size 640x480 with 1 Axes>"
            ],
            "image/png": "[encoded data removed]"
          },
          "metadata": {}
        },
        {
          "output_type": "display_data",
          "data": {
            "text/plain": [
              "<Figure size 640x480 with 1 Axes>"
            ],
            "image/png": "[encoded data removed]"
          },
          "metadata": {}
        }
      ],
      "source": [
        "show_rotation_on_mnist_example_image()"
      ]
    },
    {
      "cell_type": "markdown",
      "metadata": {
        "id": "tiocyTTevB6w"
      },
      "source": [
        "Let's setup the training and testing data:"
      ]
    },
    {
      "cell_type": "code",
      "execution_count": 5,
      "metadata": {
        "id": "MopsKDF4vB6y",
        "outputId": "b241dc92-0601-49d8-a96a-0cbadbe1545b",
        "colab": {
          "base_uri": "https://localhost:8080/"
        }
      },
      "outputs": [
        {
          "output_type": "stream",
          "name": "stderr",
          "text": [
            "100%|██████████| 9.91M/9.91M [00:10<00:00, 906kB/s] \n",
            "100%|██████████| 28.9k/28.9k [00:00<00:00, 133kB/s]\n",
            "100%|██████████| 1.65M/1.65M [00:01<00:00, 1.08MB/s]\n",
            "100%|██████████| 4.54k/4.54k [00:00<00:00, 4.96MB/s]\n"
          ]
        }
      ],
      "source": [
        "def get_mnist_data(train=True):\n",
        "    mnist_data = datasets.MNIST('../data', train=train, download=True)\n",
        "    x = mnist_data.data.reshape(-1, 28 * 28).float()\n",
        "    y = mnist_data.targets\n",
        "    return x, y\n",
        "\n",
        "x_train, y_train = get_mnist_data(train=True)\n",
        "x_test, y_test = get_mnist_data(train=False)"
      ]
    },
    {
      "cell_type": "markdown",
      "metadata": {
        "id": "sfztJy5XvB6y"
      },
      "source": [
        "Now that we have the data, let's start training neural networks."
      ]
    },
    {
      "cell_type": "markdown",
      "metadata": {
        "id": "SHuKLNMKvB6z"
      },
      "source": [
        "## <span style=\"color:Orange\">Define non-Bayesian (Deterministic) Neural Network</span>"
      ]
    },
    {
      "cell_type": "markdown",
      "metadata": {
        "id": "Dhfm9HouvB6z"
      },
      "source": [
        "We will reuse our MLP network architecture with different hyperparameters:"
      ]
    },
    {
      "cell_type": "markdown",
      "metadata": {
        "id": "MpBa62wdvB6z"
      },
      "source": [
        "First let's create our point estimate neural network, in other words a standard fully connected MLP. We will define the number of hidden layers dynamically so we can reuse the same class for different depths.  We will also add a ___<span style=\"color:violet\">dropout</span>___ flag, this will allow us to easily use the same architecture for our BNN."
      ]
    },
    {
      "cell_type": "code",
      "execution_count": 6,
      "metadata": {
        "id": "GayRjFvevB6z"
      },
      "outputs": [],
      "source": [
        "class MLP(nn.Module):\n",
        "    def __init__(self, input_dim=1, output_dim=1, hidden_dim=10, n_hidden_layers=1, use_dropout=False):\n",
        "        super().__init__()\n",
        "\n",
        "        self.use_dropout = use_dropout\n",
        "        if use_dropout:\n",
        "            self.dropout = nn.Dropout(p=0.5)\n",
        "        self.activation = nn.Tanh()\n",
        "\n",
        "        # dynamically define architecture\n",
        "        self.layer_sizes = [input_dim] + n_hidden_layers * [hidden_dim] + [output_dim]\n",
        "        layer_list = [nn.Linear(self.layer_sizes[idx - 1], self.layer_sizes[idx]) for idx in\n",
        "                      range(1, len(self.layer_sizes))]\n",
        "        self.layers = nn.ModuleList(layer_list)\n",
        "\n",
        "    def forward(self, input):\n",
        "        hidden = self.activation(self.layers[0](input))\n",
        "        for layer in self.layers[1:-1]:\n",
        "            hidden_temp = self.activation(layer(hidden))\n",
        "\n",
        "            if self.use_dropout:\n",
        "                hidden_temp = self.dropout(hidden_temp)\n",
        "\n",
        "            hidden = hidden_temp + hidden  # residual connection\n",
        "\n",
        "        output_mean = self.layers[-1](hidden).squeeze()\n",
        "        return output_mean"
      ]
    },
    {
      "cell_type": "markdown",
      "metadata": {
        "id": "lfI4VEqUvB60"
      },
      "source": [
        "## <span style=\"color:Orange\">Problem 1: Deterministic Neural Network</span>"
      ]
    },
    {
      "cell_type": "code",
      "execution_count": 7,
      "metadata": {
        "id": "uzbWvFDxvB60"
      },
      "outputs": [],
      "source": [
        "net = MLP(input_dim=784, output_dim=10, hidden_dim=30, n_hidden_layers=3)"
      ]
    },
    {
      "cell_type": "markdown",
      "metadata": {
        "id": "u-w19-Z8vB62"
      },
      "source": [
        "### <span style=\"color:LightGreen\">Training</span>"
      ]
    },
    {
      "cell_type": "code",
      "execution_count": 8,
      "metadata": {
        "id": "9w4dutaAvB62"
      },
      "outputs": [],
      "source": [
        "def train_on_mnist(net):\n",
        "    x_train, y_train = get_mnist_data(train=True)\n",
        "    optimizer = torch.optim.Adam(params=net.parameters(), lr=1e-4)\n",
        "    criterion = nn.CrossEntropyLoss()\n",
        "    batch_size = 250\n",
        "\n",
        "    progress_bar = trange(20)\n",
        "    for _ in progress_bar:\n",
        "        for batch_idx in range(int(x_train.shape[0] / batch_size)):\n",
        "            batch_low, batch_high = batch_idx * batch_size, (batch_idx + 1) * batch_size\n",
        "            optimizer.zero_grad()\n",
        "            loss = criterion(target=y_train[batch_low:batch_high], input=net(x_train[batch_low:batch_high]))\n",
        "            progress_bar.set_postfix(loss=f'{loss / batch_size:.3f}')\n",
        "            loss.backward()\n",
        "            optimizer.step()\n",
        "    return net"
      ]
    },
    {
      "cell_type": "code",
      "execution_count": 15,
      "metadata": {
        "id": "KEcfp9zUvB62",
        "outputId": "63d39c2e-c502-4d84-b378-71adfb287f21",
        "colab": {
          "base_uri": "https://localhost:8080/",
          "height": 49,
          "referenced_widgets": [
            "943c918bff144e6e8aded2a019999dae",
            "28df5cc4481041a3ad464a682f547e3b",
            "3c609090fb114bb99cd505efc085df14",
            "1597c83f1caa45489b10c3f7e7e816c2",
            "2cb5d58860714d43a649dba262bb1eae",
            "90c9b4b260c0409aa7e4514b8d16d3e9",
            "025e77f861fa4d7f96d26b0c4ac914ea",
            "4d902b2259dd40bca87c0b8e04e492db",
            "5a07fd3c62a4453fb2fa2e735b804a89",
            "ba251ca66535470e9a2b37421b7d4e00",
            "d02a29cc801c48a1ad69c2ada7af239b"
          ]
        }
      },
      "outputs": [
        {
          "output_type": "display_data",
          "data": {
            "text/plain": [
              "  0%|          | 0/20 [00:00<?, ?it/s]"
            ],
            "application/vnd.jupyter.widget-view+json": {
              "version_major": 2,
              "version_minor": 0,
              "model_id": "943c918bff144e6e8aded2a019999dae"
            }
          },
          "metadata": {}
        }
      ],
      "source": [
        "net = train_on_mnist(net)"
      ]
    },
    {
      "cell_type": "markdown",
      "metadata": {
        "id": "ohhumtqpvB68"
      },
      "source": [
        "### <span style=\"color:LightGreen\">Testing</span>"
      ]
    },
    {
      "cell_type": "code",
      "execution_count": 16,
      "metadata": {
        "id": "wzpZzIdOvB68"
      },
      "outputs": [],
      "source": [
        "def accuracy(targets, predictions):\n",
        "  return (targets == predictions).sum() / targets.shape[0]"
      ]
    },
    {
      "cell_type": "code",
      "execution_count": 17,
      "metadata": {
        "id": "L6zp1yDHvB69"
      },
      "outputs": [],
      "source": [
        "def evaluate_accuracy_on_mnist(net):\n",
        "    test_data = get_mnist_data(train=False)\n",
        "    x_test, y_test = test_data\n",
        "    net.eval()\n",
        "    y_preds = net(x_test).argmax(1)\n",
        "    acc = accuracy(y_test, y_preds)\n",
        "    print(\"Test accuracy is %.2f%%\" % (acc.item() * 100))"
      ]
    },
    {
      "cell_type": "code",
      "execution_count": 18,
      "metadata": {
        "id": "ECj-mOlEvB69",
        "outputId": "7df58f17-804b-49ec-da54-23c49f35174e",
        "colab": {
          "base_uri": "https://localhost:8080/"
        }
      },
      "outputs": [
        {
          "output_type": "stream",
          "name": "stdout",
          "text": [
            "Test accuracy is 92.47%\n"
          ]
        }
      ],
      "source": [
        "evaluate_accuracy_on_mnist(net)"
      ]
    },
    {
      "cell_type": "markdown",
      "metadata": {
        "id": "WttCC9TQvB69"
      },
      "source": [
        "### <span style=\"color:LightGreen\">Rotating the Images</span>"
      ]
    },
    {
      "cell_type": "markdown",
      "metadata": {
        "id": "Mjro2DzHvB6-"
      },
      "source": [
        "Now let's compute predictive entropy on some rotated images..."
      ]
    },
    {
      "cell_type": "markdown",
      "metadata": {
        "id": "KhSTZlgwvB6-"
      },
      "source": [
        "First we will generate the rotated images with an increasing rotation angle from the test images. We use a subset of the MNIST test set for evaluation:"
      ]
    },
    {
      "cell_type": "code",
      "execution_count": 19,
      "metadata": {
        "id": "BergKxGwvB6-"
      },
      "outputs": [],
      "source": [
        "def get_mnist_test_subset(n_test_images):\n",
        "    mnist_test = datasets.MNIST('../data', train=False, download=True)\n",
        "    x = mnist_test.data[:n_test_images].float()\n",
        "    y = mnist_test.targets[:n_test_images]\n",
        "    return x, y"
      ]
    },
    {
      "cell_type": "code",
      "execution_count": 20,
      "metadata": {
        "id": "rU8dLtMuvB6-"
      },
      "outputs": [],
      "source": [
        "n_test_images = 100\n",
        "x_test_subset, y_test_subset = get_mnist_test_subset(n_test_images=n_test_images)"
      ]
    },
    {
      "cell_type": "code",
      "execution_count": 21,
      "metadata": {
        "id": "6ZcYcGPTvB6_"
      },
      "outputs": [],
      "source": [
        "rotation_angles = [3 * i for i in range(0, 31)] # use angles from 0 to 90 degrees\n",
        "rotated_images = [rotate(x_test_subset, angle).reshape(-1, 28 * 28) for angle in rotation_angles]"
      ]
    },
    {
      "cell_type": "markdown",
      "metadata": {
        "id": "rZ9j937MvB6_"
      },
      "source": [
        "### <span style=\"color:LightGreen\">Evaluating on the Rotated Images</span>"
      ]
    },
    {
      "cell_type": "code",
      "execution_count": 22,
      "metadata": {
        "id": "tFPjM4-svB6_"
      },
      "outputs": [],
      "source": [
        "y_preds_deterministic = [softmax(net(images), dim=-1) for images in rotated_images]"
      ]
    },
    {
      "cell_type": "markdown",
      "metadata": {
        "id": "7JahSkzYvB7A"
      },
      "source": [
        "The [information entropy](https://en.wikipedia.org/wiki/Entropy_(information_theory)) $H$ of a probability distribution $p$ over a discrete random variable $X$ with possible outcomes $x_1, \\ldots, x_N$, occuring with probabilities $p(x_i) := p_i$ is given by:\n",
        "\n",
        "$$ \\Large\n",
        "H(p) = - \\sum_{i=1}^{N} p_i \\log p_i\n",
        "$$\n",
        "\n",
        "The entropy quantifies the uncertainty of a probability distribution in the sense, that the more uncertain the outcome a hypothetical experiment with drawing from the distribution is the higher the entropy. Highest is for an equal distribution of probability mass over all possible outcomes.\n",
        "In our case the deterministic NN estimates a probability distribution over the ten digits as classes on MNIST for each image. For the rotated images we can thus calculate the entropy over the rotation angle."
      ]
    },
    {
      "cell_type": "markdown",
      "metadata": {
        "id": "Diq2nzM5vB7A"
      },
      "source": [
        "<span style=\"color:Yellow\">Question:</span> How do you expect the entropy to behave with increasing rotation angle of the images? Answer in the cell below:"
      ]
    },
    {
      "cell_type": "markdown",
      "metadata": {
        "id": "MI1YIh--vB7A"
      },
      "source": [
        "I would expect that as the rotation angle increases, the entropy will increase, as the images will be less like the actual numbers or the images the model was previously trained on, and thus result in higher uncertainty in classification."
      ]
    },
    {
      "cell_type": "markdown",
      "metadata": {
        "id": "zTweij0RvB7B"
      },
      "source": [
        "Implement a function for calculating the entropy according to the formula above"
      ]
    },
    {
      "cell_type": "code",
      "execution_count": 44,
      "metadata": {
        "id": "tGr4rx6VvB7B"
      },
      "outputs": [],
      "source": [
        "def entropy(p):\n",
        "\n",
        "  # YOUR CODE HERE\n",
        "  entropy = np.zeros((len(p),))\n",
        "  for i, image in enumerate(p):\n",
        "    entropy[i] = 0\n",
        "    for prob in image:\n",
        "      entropy[i] -= prob * np.log(prob)\n",
        "  #print(entropy)\n",
        "  return entropy\n"
      ]
    },
    {
      "cell_type": "markdown",
      "metadata": {
        "id": "sfifCPJzvB7C"
      },
      "source": [
        "Now we can calculate the accuracies and entropies for all rotated images and plot both:"
      ]
    },
    {
      "cell_type": "code",
      "execution_count": 45,
      "metadata": {
        "id": "V2Gpri1qvB7C"
      },
      "outputs": [],
      "source": [
        "def calculate_accuracies_and_entropies(y_preds):\n",
        "    accuracies = [accuracy(y_test_subset, p.argmax(axis=1)) for p in y_preds]\n",
        "    entropies = [np.mean(entropy(p.detach().numpy())) for p in y_preds]\n",
        "    return accuracies, entropies"
      ]
    },
    {
      "cell_type": "code",
      "execution_count": 46,
      "metadata": {
        "id": "0BTxofO1vB7C"
      },
      "outputs": [],
      "source": [
        "def plot_accuracy_and_entropy(add_to_plot):\n",
        "    fig, ax = plt.subplots(figsize=(10, 5))\n",
        "    plt.xlim([0, 90])\n",
        "    plt.xlabel(\"Rotation Angle\", fontsize=20)\n",
        "\n",
        "    add_to_plot(ax)\n",
        "\n",
        "    plt.legend()\n",
        "    plt.show()"
      ]
    },
    {
      "cell_type": "code",
      "execution_count": 47,
      "metadata": {
        "id": "isqkCcRAvB7D",
        "outputId": "873cb0d8-b7af-4712-f318-a15bb8a9145f",
        "colab": {
          "base_uri": "https://localhost:8080/",
          "height": 479
        }
      },
      "outputs": [
        {
          "output_type": "display_data",
          "data": {
            "text/plain": [
              "<Figure size 1000x500 with 1 Axes>"
            ],
            "image/png": "[encoded data removed]"
          },
          "metadata": {}
        }
      ],
      "source": [
        "def add_deterministic(ax):\n",
        "    accuracies, entropies = calculate_accuracies_and_entropies(y_preds_deterministic)\n",
        "    ax.plot(rotation_angles, accuracies, 'b--', linewidth=3, label=\"Accuracy, Deterministic\")\n",
        "    ax.plot(rotation_angles, entropies, 'b-', linewidth=3, label=\"Entropy, Deterministic\")\n",
        "plot_accuracy_and_entropy(add_deterministic)"
      ]
    },
    {
      "cell_type": "markdown",
      "metadata": {
        "id": "ZkiFa61HvB7D"
      },
      "source": [
        "<span style=\"color:Yellow\">Question:</span> What is your interpretation of the plot above: Is the predictive entropy changing? If so, how would you explain this? Answer in the cell below:"
      ]
    },
    {
      "cell_type": "markdown",
      "metadata": {
        "id": "yEzdhEfSvB7D"
      },
      "source": [
        "The predictive entropy increases as the rotation angle increases, until the rotation angle reaches about 33 degrees. At this point, the predictive entropy is close to its maximum value of 1, hovering around 0.8. It stays close to 0.8 for all greater rotation angles too.\n",
        "\n",
        "This aligns with my prediction, since one would expect greater uncertainty in classification for images with a greater rotation angle. It is less likely that these images resemble any particular number so it would result in more uncertainty and thus a higher predictive entropy. This aligns with the trend of the accuracy decreasing as the rotation angle increases, as is visible in the plot above."
      ]
    },
    {
      "cell_type": "markdown",
      "metadata": {
        "id": "_Wei71OnvB7D"
      },
      "source": [
        "## <span style=\"color:Orange\">Problem 2: Monte Carlo Dropout Network</span>"
      ]
    },
    {
      "cell_type": "markdown",
      "metadata": {
        "id": "u5M0DeaUvB7D"
      },
      "source": [
        "Let's create our Dropout Network. We keep the network depth and hidden layer size the same as for the MLP for a fair model comparison"
      ]
    },
    {
      "cell_type": "code",
      "execution_count": 48,
      "metadata": {
        "id": "V_yu5ghIvB7D"
      },
      "outputs": [],
      "source": [
        "net_dropout = MLP(input_dim=784, output_dim=10, hidden_dim=30, n_hidden_layers=3, use_dropout=True)"
      ]
    },
    {
      "cell_type": "markdown",
      "metadata": {
        "id": "wTf_4d2jvB7E"
      },
      "source": [
        "### <span style=\"color:LightGreen\">Training</span>"
      ]
    },
    {
      "cell_type": "code",
      "execution_count": 49,
      "metadata": {
        "id": "Vilmuk1bvB7E",
        "outputId": "2568ec55-65bb-467b-8b1c-8dfa14d9e605",
        "colab": {
          "base_uri": "https://localhost:8080/",
          "height": 49,
          "referenced_widgets": [
            "83d07c12f03e4576909f74ffcb967158",
            "82c0bf8bb3cc44fd8c28466010f97df4",
            "e2346878a1204e0587a8a9c2effc103f",
            "2ffae486025a4e5bb434b4da69d2ee48",
            "979ab2c273834f13b122f12971c1e318",
            "b93282e4dac2454cb8c3fd4be57bc917",
            "c9270d912f374b869b6521e7437430b3",
            "e3e42442f4314230bfbf2be089ac3cf4",
            "71bd7f59262a435eb0a17dfb17291d6c",
            "ea4f6edcd1284960936cc21f5512b66e",
            "9cc77e39cc924b23a4e452ea69994b3e"
          ]
        }
      },
      "outputs": [
        {
          "output_type": "display_data",
          "data": {
            "text/plain": [
              "  0%|          | 0/20 [00:00<?, ?it/s]"
            ],
            "application/vnd.jupyter.widget-view+json": {
              "version_major": 2,
              "version_minor": 0,
              "model_id": "83d07c12f03e4576909f74ffcb967158"
            }
          },
          "metadata": {}
        }
      ],
      "source": [
        "net_dropout = train_on_mnist(net_dropout)"
      ]
    },
    {
      "cell_type": "markdown",
      "metadata": {
        "id": "xqi8OGVuvB7E"
      },
      "source": [
        "### <span style=\"color:LightGreen\">Testing</span>"
      ]
    },
    {
      "cell_type": "code",
      "execution_count": 50,
      "metadata": {
        "id": "h17p6K1LvB7G",
        "outputId": "17cdb702-97c5-4675-dc99-986a5376ba3f",
        "colab": {
          "base_uri": "https://localhost:8080/"
        }
      },
      "outputs": [
        {
          "output_type": "stream",
          "name": "stdout",
          "text": [
            "Test accuracy is 92.47%\n"
          ]
        }
      ],
      "source": [
        "evaluate_accuracy_on_mnist(net_dropout)"
      ]
    },
    {
      "cell_type": "markdown",
      "metadata": {
        "id": "UFuoNE08vB7G"
      },
      "source": [
        "### <span style=\"color:LightGreen\">Evaluating on the Rotated Images</span>"
      ]
    },
    {
      "cell_type": "markdown",
      "metadata": {
        "id": "PuZ3Pdb4vB7G"
      },
      "source": [
        "Sample 100 different dropout masks and average the predictions over them (store the predictions in a list called `y_pred_dropout`)"
      ]
    },
    {
      "cell_type": "code",
      "execution_count": 87,
      "metadata": {
        "id": "F0bfBpydvB7G",
        "outputId": "3f548225-4c4b-48e9-da9e-d238db813d02",
        "colab": {
          "base_uri": "https://localhost:8080/"
        }
      },
      "outputs": [
        {
          "output_type": "stream",
          "name": "stdout",
          "text": [
            "(31, 100, 10)\n"
          ]
        }
      ],
      "source": [
        "n_dropout_samples = 100\n",
        "net_dropout.train()  # we set the model to train to 'activate' the dropout layer\n",
        "\n",
        "y_preds_dropout = [\n",
        "    torch.softmax(torch.tensor(np.mean([net_dropout(images).detach().numpy() for _ in range(n_dropout_samples)], axis=0)), dim=-1)\n",
        "    for images in rotated_images\n",
        "]\n",
        "# sources: AI Explainability and Uncertainty Quantification notebook; Gemini (for getting correct output type and shape)\n",
        "\n",
        "print(np.shape(y_preds_dropout))"
      ]
    },
    {
      "cell_type": "markdown",
      "metadata": {
        "id": "sGjeN-iOvB7G"
      },
      "source": [
        "<span style=\"color:Yellow\">Question:</span> What is the best way to average over the predictions? Should you first average the network output and then apply the softmax, or the other way around? Answer in the cell below:"
      ]
    },
    {
      "cell_type": "markdown",
      "metadata": {
        "id": "RGlaecZKvB7G"
      },
      "source": [
        "The network output should be averaged before applying softmax. Applying softmax before averaging would result in taking an average of probabilities, which would result in smoother and thus less predictive probabilities."
      ]
    },
    {
      "cell_type": "code",
      "execution_count": 89,
      "metadata": {
        "id": "TxoFY3aMvB7G",
        "outputId": "f720109a-834b-43ab-b710-7d62a8257a91",
        "colab": {
          "base_uri": "https://localhost:8080/",
          "height": 479
        }
      },
      "outputs": [
        {
          "output_type": "display_data",
          "data": {
            "text/plain": [
              "<Figure size 1000x500 with 1 Axes>"
            ],
            "image/png": "[encoded data removed]"
          },
          "metadata": {}
        }
      ],
      "source": [
        "def add_deterministic_and_dropout(ax):\n",
        "    accuracies, entropies = calculate_accuracies_and_entropies(y_preds_deterministic)\n",
        "    ax.plot(rotation_angles, accuracies, 'b--', linewidth=3, label=\"Accuracy, Deterministic\")\n",
        "    ax.plot(rotation_angles, entropies, 'b-', linewidth=3, label=\"Entropy, Deterministic\")\n",
        "\n",
        "    accuracies, entropies = calculate_accuracies_and_entropies(y_preds_dropout)\n",
        "    ax.plot(rotation_angles, accuracies, 'r--', linewidth=3, label=\"Accuracy, MC Dropout\")\n",
        "    ax.plot(rotation_angles, entropies, 'r-', linewidth=3, label=\"Entropy, MC Dropout\")\n",
        "plot_accuracy_and_entropy(add_deterministic_and_dropout)"
      ]
    },
    {
      "cell_type": "markdown",
      "metadata": {
        "id": "BSZDGbMavB7H"
      },
      "source": [
        "<span style=\"color:Yellow\">Question:</span> How does MLP compare with MC-Dropout Network? (Are there any benefits of the Bayesian approach?). Answer in the cell below:"
      ]
    },
    {
      "cell_type": "markdown",
      "metadata": {
        "id": "ROvSkudUvB7H"
      },
      "source": [
        "MC-Dropout Network has higher entropy than MLP. Both approaches are approximately the same when it comes to accuracy. % FINISH"
      ]
    },
    {
      "cell_type": "markdown",
      "metadata": {
        "id": "R-HiV2wFvB7H"
      },
      "source": [
        "## <span style=\"color:Orange\">Problem 3: Deep Ensemble</span>"
      ]
    },
    {
      "cell_type": "markdown",
      "metadata": {
        "id": "BMoU4HgQ1Tmz"
      },
      "source": [
        "Deep ensembles were first introduced by [Lakshminarayanan et al. (2017)](https://arxiv.org/abs/1612.01474). As the name implies multiple point estimate NN are trained, ___<span style=\"color:violet\">an ensemble</span>___, and the final prediction is computed as an average across the models. From a Bayesian perspective the different point estimates correspond to modes of a Bayesian posterior. This can be interpreted as approximating the posterior with a distribution parametrized as multiple Dirac deltas:\n",
        "\n",
        "$$ \\Large\n",
        "q_{\\phi}(\\theta | D) = \\sum_{\\theta_{i} ∈ ϕ} \\alpha_{\\theta_{i}} δ_{\\theta_{i}}(\\theta)\n",
        "$$\n",
        "\n",
        "where $\\alpha_{\\theta_{i}}$ are positive constants such that their sum is equal to one."
      ]
    },
    {
      "cell_type": "markdown",
      "metadata": {
        "id": "Q50aGA4HvB7I"
      },
      "source": [
        "Now let's investigate Deep Ensemble performance. We will use the exact same network hyperparameters as for the MLP:"
      ]
    },
    {
      "cell_type": "markdown",
      "metadata": {
        "id": "e3xUQkh_vB7I"
      },
      "source": [
        "Define and train an ensemble of five MLPs with the same hyperparameters as above. First generate the ensembles (store in a list called `ensemble`)"
      ]
    },
    {
      "cell_type": "code",
      "execution_count": 91,
      "metadata": {
        "id": "Cq4xE_03vB7I"
      },
      "outputs": [],
      "source": [
        "ensemble_size = 5\n",
        "\n",
        "# YOUR CODE HERE\n",
        "ensemble = []\n",
        "for i in range(ensemble_size):\n",
        "  ensemble.append(MLP(input_dim=784, output_dim=10, hidden_dim=30, n_hidden_layers=3))\n"
      ]
    },
    {
      "cell_type": "markdown",
      "metadata": {
        "id": "DvNZKxzYvB7J"
      },
      "source": [
        "### <span style=\"color:LightGreen\">Training</span>"
      ]
    },
    {
      "cell_type": "code",
      "execution_count": 92,
      "metadata": {
        "id": "PVIUdynJvB7J",
        "outputId": "1398effe-777d-48e0-bfb5-758f719b173c",
        "colab": {
          "base_uri": "https://localhost:8080/",
          "height": 177,
          "referenced_widgets": [
            "dfebb860ce5d463fb1d6b3fc8d60bb70",
            "92b672ea18a443728c8f5687b1f48870",
            "bf86d73048394ab493346cd29438060e",
            "d597bb191dab465d89ed84242769ccab",
            "a986dc3286494ce59a03bd97c39a67b6",
            "75f71a7c7c1d49f29370b619c13b84fa",
            "5f4314ae13cf488a9532073824cee222",
            "f450c3282cf44f35aedb704ecf1d4cd2",
            "b108720225d44331b32dd2cdd9075909",
            "b3edb139a5fe4bc99072f00923274524",
            "a31127f4543a497d85d4646293c941d6",
            "a5ec53a0198c4cfeb5e385677160c58d",
            "8583d39c92fb45c8a72c8e31c580cf12",
            "2a7a1faea695446fbe9310261b00022a",
            "819a03ed6e0e4680a5115911644c11b5",
            "a19c886a82774f7ca0c42c27ff9786de",
            "1cc842ac41bd45a69071b202dd828bdf",
            "fd8b1c0c9302403b9bcbdb95aca77768",
            "9c6485ddd558452984791b3a6a5d5ef4",
            "f7c8590166e04dd4b481ae79cf34c5ef",
            "566918af100341d1b444f78dcae269f0",
            "d078ae84f9294afcad3936dfb9065b1b",
            "b2910e028f4d49fb9abdf9514f9dec46",
            "3e9baca4ddc744d18ebdb57461f421e0",
            "6c1e9364f7f14a0483f7338152f2723c",
            "a314a7f3fd0348fb8f46f6844b8d8f36",
            "2e71862d444947a98a15024addf23009",
            "cc8681ba2b6b49a496dc90df3fd0bcc9",
            "73471825b6d5457f8624f53732e43f20",
            "3946b3c04d4a4515bf270cef8701d8fc",
            "0c469c92c3c34ee1b47b8ad03f6eec38",
            "c2094984f67947339d61cbb9a87f158c",
            "0ce9ed080e054de598bd0e9bdcd70715",
            "14475f61fc4f44ebbb18da14ea3697ca",
            "0eaaabd03c634b72a294ce57f9bf1483",
            "4de78ebd07b44212b517bcdd89a46292",
            "c5b7b0bf8e594ccb88e4894e0d71d1ff",
            "e74f23cd1f6f4392bd58d3d89535bbe0",
            "9593e27048a6496eb3ba9c2f3e6fbacd",
            "a0f518514de64b0c847a1668a8aa0b8a",
            "005fc49e88d34a16bead15958d5ebbe1",
            "08ef3d7ef0e64a1ba029fbf35dbecd6c",
            "cfe319990abc4c1d9ffc72e46314ee96",
            "70ba4ba56d1b4fa8a4c723895ca128b0",
            "f42e648032bc44e48094d7ed79af6da6",
            "bb348fa35cb74ec2a0db55b8d4bcab7f",
            "798ece38614b46a79f433617727aa934",
            "d6a9fd9c38614e529a98ef315fc05032",
            "a79bf57dbc134c479f4583a1fa3165ff",
            "34347f1782ed4d24bbf315911c78c1ae",
            "2a8272d0d3f14933bee3723fa9356c92",
            "db21d6813fd84c978a86a7d3da97c6bd",
            "73d78100adbe46319383d32d626b89ac",
            "d800f876ab1c40e69a832c565130fcac",
            "2c68cb96a70548a9be71f23665e957a2"
          ]
        }
      },
      "outputs": [
        {
          "output_type": "display_data",
          "data": {
            "text/plain": [
              "  0%|          | 0/20 [00:00<?, ?it/s]"
            ],
            "application/vnd.jupyter.widget-view+json": {
              "version_major": 2,
              "version_minor": 0,
              "model_id": "dfebb860ce5d463fb1d6b3fc8d60bb70"
            }
          },
          "metadata": {}
        },
        {
          "output_type": "display_data",
          "data": {
            "text/plain": [
              "  0%|          | 0/20 [00:00<?, ?it/s]"
            ],
            "application/vnd.jupyter.widget-view+json": {
              "version_major": 2,
              "version_minor": 0,
              "model_id": "a5ec53a0198c4cfeb5e385677160c58d"
            }
          },
          "metadata": {}
        },
        {
          "output_type": "display_data",
          "data": {
            "text/plain": [
              "  0%|          | 0/20 [00:00<?, ?it/s]"
            ],
            "application/vnd.jupyter.widget-view+json": {
              "version_major": 2,
              "version_minor": 0,
              "model_id": "b2910e028f4d49fb9abdf9514f9dec46"
            }
          },
          "metadata": {}
        },
        {
          "output_type": "display_data",
          "data": {
            "text/plain": [
              "  0%|          | 0/20 [00:00<?, ?it/s]"
            ],
            "application/vnd.jupyter.widget-view+json": {
              "version_major": 2,
              "version_minor": 0,
              "model_id": "14475f61fc4f44ebbb18da14ea3697ca"
            }
          },
          "metadata": {}
        },
        {
          "output_type": "display_data",
          "data": {
            "text/plain": [
              "  0%|          | 0/20 [00:00<?, ?it/s]"
            ],
            "application/vnd.jupyter.widget-view+json": {
              "version_major": 2,
              "version_minor": 0,
              "model_id": "f42e648032bc44e48094d7ed79af6da6"
            }
          },
          "metadata": {}
        }
      ],
      "source": [
        "for net in ensemble:\n",
        "  train_on_mnist(net)"
      ]
    },
    {
      "cell_type": "markdown",
      "metadata": {
        "id": "Vu7oipTjvB7J"
      },
      "source": [
        "### <span style=\"color:LightGreen\">Testing</span>"
      ]
    },
    {
      "cell_type": "markdown",
      "metadata": {
        "id": "v2jK1IgWvB7K"
      },
      "source": [
        "Evaluate the accuracy of the ensemble prediction. ___Hints___: How do you aggregate best over the multiple different predictions given by the members of the ensemble? What is the difference to the regression setting above?v"
      ]
    },
    {
      "cell_type": "code",
      "execution_count": null,
      "metadata": {
        "id": "G6Y0MY_pvB7K"
      },
      "outputs": [],
      "source": [
        "# YOUR CODE HERE\n",
        "raise NotImplementedError()\n",
        "\n",
        "\n",
        "\n",
        "# y_preds = NotImplemented"
      ]
    },
    {
      "cell_type": "markdown",
      "metadata": {
        "id": "yWe2i9movB7K"
      },
      "source": [
        "### <span style=\"color:LightGreen\">Evaluating on the Rotated Images</span>"
      ]
    },
    {
      "cell_type": "markdown",
      "metadata": {
        "id": "SyMj9lPvvB7L"
      },
      "source": [
        "Again, average the predictions, but this time over the members of the ensemble (store the predictions in a list called `y_preds_ensemble`)"
      ]
    },
    {
      "cell_type": "code",
      "execution_count": null,
      "metadata": {
        "id": "8PDiVcUnvB7L"
      },
      "outputs": [],
      "source": [
        "# YOUR CODE HERE\n",
        "raise NotImplementedError()\n",
        "\n",
        "# y_preds_ensemble = NotImplemented"
      ]
    },
    {
      "cell_type": "code",
      "execution_count": null,
      "metadata": {
        "id": "bcXzF9OBvB7L"
      },
      "outputs": [],
      "source": [
        "def add_deep_ensemble(ax):\n",
        "    accuracies, entropies = calculate_accuracies_and_entropies(y_preds_deterministic)\n",
        "    ax.plot(rotation_angles, accuracies, 'b--', linewidth=3, label=\"Accuracy, Deterministic\")\n",
        "    ax.plot(rotation_angles, entropies, 'b-', linewidth=3, label=\"Entropy, Deterministic\")\n",
        "\n",
        "    accuracies, entropies = calculate_accuracies_and_entropies(y_preds_dropout)\n",
        "    ax.plot(rotation_angles, accuracies, 'r--', linewidth=3, label=\"Accuracy, MC Dropout\")\n",
        "    ax.plot(rotation_angles, entropies, 'r-', linewidth=3, label=\"Entropy, MC Dropout\")\n",
        "\n",
        "    accuracies, entropies = calculate_accuracies_and_entropies(y_preds_ensemble)\n",
        "    ax.plot(rotation_angles, accuracies, 'g--', linewidth=3, label=\"Accuracy, Deep Ensemble\")\n",
        "    ax.plot(rotation_angles, entropies, 'g-', linewidth=3, label=\"Entropy, Deep Ensemble\")"
      ]
    },
    {
      "cell_type": "code",
      "execution_count": null,
      "metadata": {
        "id": "WcMNd9g2vB7L"
      },
      "outputs": [],
      "source": [
        "plot_accuracy_and_entropy(add_deep_ensemble)"
      ]
    },
    {
      "cell_type": "markdown",
      "metadata": {
        "id": "7QPQ_KqGvB7L"
      },
      "source": [
        "<span style=\"color:Yellow\">Question:</span> Are there any differences in the performance? Explain why you see or don't see any differences. Answer in the cell below:"
      ]
    },
    {
      "cell_type": "markdown",
      "metadata": {
        "id": "-qI9N8DZvB7M"
      },
      "source": []
    },
    {
      "cell_type": "markdown",
      "metadata": {
        "id": "FJvPMTvqvB7M"
      },
      "source": [
        "## [EXTRA CREDIT] <span style=\"color:Orange\">Problem 4: Bayesian Neural Network</span>"
      ]
    },
    {
      "cell_type": "markdown",
      "metadata": {
        "id": "NkK1jyYvvB7M"
      },
      "source": [
        "First install pyro package:"
      ]
    },
    {
      "cell_type": "code",
      "execution_count": null,
      "metadata": {
        "id": "wQz27p5cvB7M"
      },
      "outputs": [],
      "source": [
        "%pip install pyro-ppl"
      ]
    },
    {
      "cell_type": "code",
      "execution_count": null,
      "metadata": {
        "id": "lUr4naLAvB7N"
      },
      "outputs": [],
      "source": [
        "import pyro\n",
        "import pyro.distributions as dist\n",
        "from pyro.nn import PyroModule, PyroSample\n",
        "from pyro.infer import Predictive\n",
        "from pyro.infer import SVI, Trace_ELBO\n",
        "from pyro.infer.autoguide import AutoDiagonalNormal\n",
        "from pyro.distributions import Normal, Categorical\n",
        "from torch.nn.functional import softmax\n",
        "from tqdm.auto import trange, tqdm"
      ]
    },
    {
      "cell_type": "markdown",
      "metadata": {
        "id": "G9pH7CO7vB7N"
      },
      "source": [
        "Implement a Bayesian Neural Network for classifying MNIST digits. For background on deep Bayesian networks, see the lecture notebook on [Uncertainty Quantification](AIExplainabilityUncertaintyQuantification.ipynb)."
      ]
    },
    {
      "cell_type": "markdown",
      "metadata": {
        "id": "Vj-mgXD5vB7N"
      },
      "source": [
        "As a backbone use the MLP architecture introduced in the beginning of the notebook. However, because we will implement a custom *guide()*, define every layer explicitly."
      ]
    },
    {
      "cell_type": "code",
      "execution_count": null,
      "metadata": {
        "id": "EFciV_HXvB7N"
      },
      "outputs": [],
      "source": [
        "class My_MLP(nn.Module):\n",
        "  '''\n",
        "  Implement a MLP with 3 hidden layers, Tanh activation, no dropout or residual connections\n",
        "  '''\n",
        "  def __init__(self, in_dim=784, out_dim=10, hid_dim=200):\n",
        "    super().__init__()\n",
        "    assert in_dim > 0\n",
        "    assert out_dim > 0\n",
        "    assert hid_dim > 0\n",
        "\n",
        "    # Define the activation\n",
        "    # YOUR CODE HERE\n",
        "    raise NotImplementedError()\n",
        "    # self.act =\n",
        "\n",
        "    # Define the 3 hidden layers:\n",
        "    # YOUR CODE HERE\n",
        "    raise NotImplementedError()\n",
        "    # self.fc1 =\n",
        "    # self.fc2 =\n",
        "    # self.fc3 =\n",
        "    # self.out =\n",
        "\n",
        "  def forward(self, x):\n",
        "    # YOUR CODE HERE\n",
        "    raise NotImplementedError()\n",
        "\n",
        "    return pred"
      ]
    },
    {
      "cell_type": "markdown",
      "metadata": {
        "id": "y2GLZBvjvB7O"
      },
      "source": [
        "Initialize the network. You will have to access it's layers in your model and guide functions"
      ]
    },
    {
      "cell_type": "code",
      "execution_count": null,
      "metadata": {
        "id": "rSNS9uMyvB7O"
      },
      "outputs": [],
      "source": [
        "net = My_MLP()"
      ]
    },
    {
      "cell_type": "code",
      "execution_count": null,
      "metadata": {
        "id": "mDqgUDjEvB7O"
      },
      "outputs": [],
      "source": [
        "# confirm your layer names\n",
        "for name, _ in net.named_parameters():\n",
        "    print(name)"
      ]
    },
    {
      "cell_type": "markdown",
      "metadata": {
        "id": "BMZpSZl6vB7P"
      },
      "source": [
        "Define the model:\n",
        "> Probablistic models in Pyro are specified as *model()* functions. This function defines how the output data is generated. Within the model() function, first, the pyro module *random_module()* converts the paramaters of our NN into random variables that have prior probability distributions. Second, in pyro *sample* we define that the output of the network is categorical, while the pyro *plate* allows us to vectorize this function for computational efficiency.\n",
        "\n",
        "> Hint: remember we are doing a classification instead of regression!"
      ]
    },
    {
      "cell_type": "markdown",
      "metadata": {
        "id": "L3L4mAeMvB7P"
      },
      "source": [
        "You can 'cheat' a little: to speed up the training and limit a bit more the number of paramters we need to optimize, implement a BNN where only the **last layer** is Bayesian!"
      ]
    },
    {
      "cell_type": "code",
      "execution_count": null,
      "metadata": {
        "id": "f0sgVNqlvB7P"
      },
      "outputs": [],
      "source": [
        "def model(x_data, y_data):\n",
        "\n",
        "  # YOUR CODE HERE\n",
        "  raise NotImplementedError()"
      ]
    },
    {
      "cell_type": "markdown",
      "metadata": {
        "id": "f1QnGgSivB7P"
      },
      "source": [
        "implement the guide(), *variational distribution*:\n",
        "> the guide allows us to initialise a well behaved distribution which later we can optmize to approximate the true posterior"
      ]
    },
    {
      "cell_type": "code",
      "execution_count": null,
      "metadata": {
        "id": "2yCF9clFvB7Q"
      },
      "outputs": [],
      "source": [
        "softplus = torch.nn.Softplus()\n",
        "\n",
        "def my_guide(x_data, y_data):\n",
        "\n",
        "  # YOUR CODE HERE\n",
        "  raise NotImplementedError()"
      ]
    },
    {
      "cell_type": "markdown",
      "metadata": {
        "id": "awUXTNhLvB7Q"
      },
      "source": [
        "Initialize the stochastic variational inference (SVI)"
      ]
    },
    {
      "cell_type": "code",
      "execution_count": null,
      "metadata": {
        "id": "30qNC2xNvB7Q"
      },
      "outputs": [],
      "source": [
        "adam = pyro.optim.Adam({\"lr\": 1e-3})\n",
        "\n",
        "# YOUR CODE HERE\n",
        "# svi = raise NotImplementedError()"
      ]
    },
    {
      "cell_type": "markdown",
      "metadata": {
        "id": "oOA3p46WvB7R"
      },
      "source": [
        "### <span style=\"color:LightGreen\">Training</span>"
      ]
    },
    {
      "cell_type": "code",
      "execution_count": null,
      "metadata": {
        "id": "i2jjlRv8vB7R"
      },
      "outputs": [],
      "source": [
        "pyro.clear_param_store()\n",
        "batch_size = 250\n",
        "bar = trange(30)\n",
        "for epoch in bar:\n",
        "  for batch_idx in range(int(x_train.shape[0] / batch_size)):\n",
        "    batch_low, batch_high = batch_idx * batch_size, (batch_idx+1) * batch_size\n",
        "    loss = svi.step(x_train[batch_low:batch_high], y_train[batch_low:batch_high])\n",
        "    bar.set_postfix(loss=f'{loss / batch_size:.3f}')"
      ]
    },
    {
      "cell_type": "markdown",
      "metadata": {
        "id": "SoCCZ2jfvB7R"
      },
      "source": [
        "### <span style=\"color:LightGreen\">Testing</span>"
      ]
    },
    {
      "cell_type": "markdown",
      "metadata": {
        "id": "ZrhiTqtMvB7S"
      },
      "source": [
        "Use the learned *guide()* function to do predictions. Why? Because the *model()* function knows the **priors** for the weights and biases, **not** the learned posterior. The *guide()* contains the approximate posterior distributions of the parameter values, which we want to use to make the predictions."
      ]
    },
    {
      "cell_type": "code",
      "execution_count": null,
      "metadata": {
        "id": "rHrgrLMEvB7S"
      },
      "outputs": [],
      "source": [
        "num_samples = 10\n",
        "\n",
        "# YOUR CODE HERE\n",
        "raise NotImplementedError()\n",
        "\n",
        "# y_preds = NotImplemented"
      ]
    },
    {
      "cell_type": "markdown",
      "metadata": {
        "id": "krOWFrpbvB7S"
      },
      "source": [
        "### <span style=\"color:LightGreen\">Evaluating on Rotated Images</span>"
      ]
    },
    {
      "cell_type": "markdown",
      "metadata": {
        "id": "rbeyGX6vvB7U"
      },
      "source": [
        "Store the predictions in a list called `y_preds_bnn`"
      ]
    },
    {
      "cell_type": "code",
      "execution_count": null,
      "metadata": {
        "id": "Iu38QaKAvB7U"
      },
      "outputs": [],
      "source": [
        "num_samples = 50\n",
        "\n",
        "# YOUR CODE HERE\n",
        "raise NotImplementedError()\n",
        "\n",
        "# y_preds_bnn = NotImplemented"
      ]
    },
    {
      "cell_type": "markdown",
      "metadata": {
        "id": "tc_-r9vDvB7V"
      },
      "source": [
        "Show entropies for all four models"
      ]
    },
    {
      "cell_type": "code",
      "execution_count": null,
      "metadata": {
        "id": "SQDtU1YFvB7V"
      },
      "outputs": [],
      "source": [
        "# add the computed values for BNN\n",
        "\n",
        "def add_bnn(ax):\n",
        "\n",
        "  accuracies, entropies = calculate_accuracies_and_entropies(y_preds_deterministic)\n",
        "  ax.plot(rotation_angles, accuracies, 'b--', linewidth=3, label=\"Accuracy, Deterministic\")\n",
        "  ax.plot(rotation_angles, entropies, 'b-', linewidth=3, label=\"Entropy, Deterministic\")\n",
        "\n",
        "  accuracies, entropies = calculate_accuracies_and_entropies(y_preds_dropout)\n",
        "  ax.plot(rotation_angles, accuracies, 'r--', linewidth=3, label=\"Accuracy, MC Dropout\")\n",
        "  ax.plot(rotation_angles, entropies, 'r-', linewidth=3, label=\"Entropy, MC Dropout\")\n",
        "\n",
        "  accuracies, entropies = calculate_accuracies_and_entropies(y_preds_ensemble)\n",
        "  ax.plot(rotation_angles, accuracies, 'g--', linewidth=3, label=\"Accuracy, Deep Ensemble\")\n",
        "  ax.plot(rotation_angles, entropies, 'g-', linewidth=3, label=\"Entropy, Deep Ensemble\")\n",
        "\n",
        "  accuracies, entropies = calculate_accuracies_and_entropies(y_preds_bnn)\n",
        "  ax.plot(rotation_angles, accuracies, 'y--', linewidth=3, label=\"Accuracy, BNN\")\n",
        "  ax.plot(rotation_angles, entropies, 'y-', linewidth=3, label=\"Entropy, BNN\")\n",
        "\n",
        "plot_accuracy_and_entropy(add_bnn)"
      ]
    },
    {
      "cell_type": "markdown",
      "metadata": {
        "id": "A-5Bk5YZvB7V"
      },
      "source": [
        "<span style=\"color:Yellow\">Question:</span> Which method is the best at detecting the distribution shift? How can you interpret this? Answer in the cell below:"
      ]
    },
    {
      "cell_type": "markdown",
      "metadata": {
        "id": "Q6c3k5WOvB7V"
      },
      "source": []
    },
    {
      "cell_type": "markdown",
      "metadata": {
        "id": "Ig1-ek6TvB7W"
      },
      "source": [
        "## <span style=\"color:Orange\">Acknowledgments</span>\n",
        "\n",
        "* Initial version: Mark Neubauer\n",
        "\n",
        "© Copyright 2025"
      ]
    }
  ],
  "metadata": {
    "accelerator": "GPU",
    "colab": {
      "provenance": []
    },
    "kernelspec": {
      "display_name": "Python 3",
      "language": "python",
      "name": "python3"
    },
    "language_info": {
      "codemirror_mode": {
        "name": "ipython",
        "version": 3
      },
      "file_extension": ".py",
      "mimetype": "text/x-python",
      "name": "python",
      "nbconvert_exporter": "python",
      "pygments_lexer": "ipython3",
      "version": "3.11.2"
    },
    "widgets": {
      "application/vnd.jupyter.widget-state+json": {
        "943c918bff144e6e8aded2a019999dae": {
          "model_module": "@jupyter-widgets/controls",
          "model_name": "HBoxModel",
          "model_module_version": "1.5.0",
          "state": {
            "_dom_classes": [],
            "_model_module": "@jupyter-widgets/controls",
            "_model_module_version": "1.5.0",
            "_model_name": "HBoxModel",
            "_view_count": null,
            "_view_module": "@jupyter-widgets/controls",
            "_view_module_version": "1.5.0",
            "_view_name": "HBoxView",
            "box_style": "",
            "children": [
              "IPY_MODEL_28df5cc4481041a3ad464a682f547e3b",
              "IPY_MODEL_3c609090fb114bb99cd505efc085df14",
              "IPY_MODEL_1597c83f1caa45489b10c3f7e7e816c2"
            ],
            "layout": "IPY_MODEL_2cb5d58860714d43a649dba262bb1eae"
          }
        },
        "28df5cc4481041a3ad464a682f547e3b": {
          "model_module": "@jupyter-widgets/controls",
          "model_name": "HTMLModel",
          "model_module_version": "1.5.0",
          "state": {
            "_dom_classes": [],
            "_model_module": "@jupyter-widgets/controls",
            "_model_module_version": "1.5.0",
            "_model_name": "HTMLModel",
            "_view_count": null,
            "_view_module": "@jupyter-widgets/controls",
            "_view_module_version": "1.5.0",
            "_view_name": "HTMLView",
            "description": "",
            "description_tooltip": null,
            "layout": "IPY_MODEL_90c9b4b260c0409aa7e4514b8d16d3e9",
            "placeholder": "​",
            "style": "IPY_MODEL_025e77f861fa4d7f96d26b0c4ac914ea",
            "value": "100%"
          }
        },
        "3c609090fb114bb99cd505efc085df14": {
          "model_module": "@jupyter-widgets/controls",
          "model_name": "FloatProgressModel",
          "model_module_version": "1.5.0",
          "state": {
            "_dom_classes": [],
            "_model_module": "@jupyter-widgets/controls",
            "_model_module_version": "1.5.0",
            "_model_name": "FloatProgressModel",
            "_view_count": null,
            "_view_module": "@jupyter-widgets/controls",
            "_view_module_version": "1.5.0",
            "_view_name": "ProgressView",
            "bar_style": "success",
            "description": "",
            "description_tooltip": null,
            "layout": "IPY_MODEL_4d902b2259dd40bca87c0b8e04e492db",
            "max": 20,
            "min": 0,
            "orientation": "horizontal",
            "style": "IPY_MODEL_5a07fd3c62a4453fb2fa2e735b804a89",
            "value": 20
          }
        },
        "1597c83f1caa45489b10c3f7e7e816c2": {
          "model_module": "@jupyter-widgets/controls",
          "model_name": "HTMLModel",
          "model_module_version": "1.5.0",
          "state": {
            "_dom_classes": [],
            "_model_module": "@jupyter-widgets/controls",
            "_model_module_version": "1.5.0",
            "_model_name": "HTMLModel",
            "_view_count": null,
            "_view_module": "@jupyter-widgets/controls",
            "_view_module_version": "1.5.0",
            "_view_name": "HTMLView",
            "description": "",
            "description_tooltip": null,
            "layout": "IPY_MODEL_ba251ca66535470e9a2b37421b7d4e00",
            "placeholder": "​",
            "style": "IPY_MODEL_d02a29cc801c48a1ad69c2ada7af239b",
            "value": " 20/20 [00:14&lt;00:00,  1.43it/s, loss=0.001]"
          }
        },
        "2cb5d58860714d43a649dba262bb1eae": {
          "model_module": "@jupyter-widgets/base",
          "model_name": "LayoutModel",
          "model_module_version": "1.2.0",
          "state": {
            "_model_module": "@jupyter-widgets/base",
            "_model_module_version": "1.2.0",
            "_model_name": "LayoutModel",
            "_view_count": null,
            "_view_module": "@jupyter-widgets/base",
            "_view_module_version": "1.2.0",
            "_view_name": "LayoutView",
            "align_content": null,
            "align_items": null,
            "align_self": null,
            "border": null,
            "bottom": null,
            "display": null,
            "flex": null,
            "flex_flow": null,
            "grid_area": null,
            "grid_auto_columns": null,
            "grid_auto_flow": null,
            "grid_auto_rows": null,
            "grid_column": null,
            "grid_gap": null,
            "grid_row": null,
            "grid_template_areas": null,
            "grid_template_columns": null,
            "grid_template_rows": null,
            "height": null,
            "justify_content": null,
            "justify_items": null,
            "left": null,
            "margin": null,
            "max_height": null,
            "max_width": null,
            "min_height": null,
            "min_width": null,
            "object_fit": null,
            "object_position": null,
            "order": null,
            "overflow": null,
            "overflow_x": null,
            "overflow_y": null,
            "padding": null,
            "right": null,
            "top": null,
            "visibility": null,
            "width": null
          }
        },
        "90c9b4b260c0409aa7e4514b8d16d3e9": {
          "model_module": "@jupyter-widgets/base",
          "model_name": "LayoutModel",
          "model_module_version": "1.2.0",
          "state": {
            "_model_module": "@jupyter-widgets/base",
            "_model_module_version": "1.2.0",
            "_model_name": "LayoutModel",
            "_view_count": null,
            "_view_module": "@jupyter-widgets/base",
            "_view_module_version": "1.2.0",
            "_view_name": "LayoutView",
            "align_content": null,
            "align_items": null,
            "align_self": null,
            "border": null,
            "bottom": null,
            "display": null,
            "flex": null,
            "flex_flow": null,
            "grid_area": null,
            "grid_auto_columns": null,
            "grid_auto_flow": null,
            "grid_auto_rows": null,
            "grid_column": null,
            "grid_gap": null,
            "grid_row": null,
            "grid_template_areas": null,
            "grid_template_columns": null,
            "grid_template_rows": null,
            "height": null,
            "justify_content": null,
            "justify_items": null,
            "left": null,
            "margin": null,
            "max_height": null,
            "max_width": null,
            "min_height": null,
            "min_width": null,
            "object_fit": null,
            "object_position": null,
            "order": null,
            "overflow": null,
            "overflow_x": null,
            "overflow_y": null,
            "padding": null,
            "right": null,
            "top": null,
            "visibility": null,
            "width": null
          }
        },
        "025e77f861fa4d7f96d26b0c4ac914ea": {
          "model_module": "@jupyter-widgets/controls",
          "model_name": "DescriptionStyleModel",
          "model_module_version": "1.5.0",
          "state": {
            "_model_module": "@jupyter-widgets/controls",
            "_model_module_version": "1.5.0",
            "_model_name": "DescriptionStyleModel",
            "_view_count": null,
            "_view_module": "@jupyter-widgets/base",
            "_view_module_version": "1.2.0",
            "_view_name": "StyleView",
            "description_width": ""
          }
        },
        "4d902b2259dd40bca87c0b8e04e492db": {
          "model_module": "@jupyter-widgets/base",
          "model_name": "LayoutModel",
          "model_module_version": "1.2.0",
          "state": {
            "_model_module": "@jupyter-widgets/base",
            "_model_module_version": "1.2.0",
            "_model_name": "LayoutModel",
            "_view_count": null,
            "_view_module": "@jupyter-widgets/base",
            "_view_module_version": "1.2.0",
            "_view_name": "LayoutView",
            "align_content": null,
            "align_items": null,
            "align_self": null,
            "border": null,
            "bottom": null,
            "display": null,
            "flex": null,
            "flex_flow": null,
            "grid_area": null,
            "grid_auto_columns": null,
            "grid_auto_flow": null,
            "grid_auto_rows": null,
            "grid_column": null,
            "grid_gap": null,
            "grid_row": null,
            "grid_template_areas": null,
            "grid_template_columns": null,
            "grid_template_rows": null,
            "height": null,
            "justify_content": null,
            "justify_items": null,
            "left": null,
            "margin": null,
            "max_height": null,
            "max_width": null,
            "min_height": null,
            "min_width": null,
            "object_fit": null,
            "object_position": null,
            "order": null,
            "overflow": null,
            "overflow_x": null,
            "overflow_y": null,
            "padding": null,
            "right": null,
            "top": null,
            "visibility": null,
            "width": null
          }
        },
        "5a07fd3c62a4453fb2fa2e735b804a89": {
          "model_module": "@jupyter-widgets/controls",
          "model_name": "ProgressStyleModel",
          "model_module_version": "1.5.0",
          "state": {
            "_model_module": "@jupyter-widgets/controls",
            "_model_module_version": "1.5.0",
            "_model_name": "ProgressStyleModel",
            "_view_count": null,
            "_view_module": "@jupyter-widgets/base",
            "_view_module_version": "1.2.0",
            "_view_name": "StyleView",
            "bar_color": null,
            "description_width": ""
          }
        },
        "ba251ca66535470e9a2b37421b7d4e00": {
          "model_module": "@jupyter-widgets/base",
          "model_name": "LayoutModel",
          "model_module_version": "1.2.0",
          "state": {
            "_model_module": "@jupyter-widgets/base",
            "_model_module_version": "1.2.0",
            "_model_name": "LayoutModel",
            "_view_count": null,
            "_view_module": "@jupyter-widgets/base",
            "_view_module_version": "1.2.0",
            "_view_name": "LayoutView",
            "align_content": null,
            "align_items": null,
            "align_self": null,
            "border": null,
            "bottom": null,
            "display": null,
            "flex": null,
            "flex_flow": null,
            "grid_area": null,
            "grid_auto_columns": null,
            "grid_auto_flow": null,
            "grid_auto_rows": null,
            "grid_column": null,
            "grid_gap": null,
            "grid_row": null,
            "grid_template_areas": null,
            "grid_template_columns": null,
            "grid_template_rows": null,
            "height": null,
            "justify_content": null,
            "justify_items": null,
            "left": null,
            "margin": null,
            "max_height": null,
            "max_width": null,
            "min_height": null,
            "min_width": null,
            "object_fit": null,
            "object_position": null,
            "order": null,
            "overflow": null,
            "overflow_x": null,
            "overflow_y": null,
            "padding": null,
            "right": null,
            "top": null,
            "visibility": null,
            "width": null
          }
        },
        "d02a29cc801c48a1ad69c2ada7af239b": {
          "model_module": "@jupyter-widgets/controls",
          "model_name": "DescriptionStyleModel",
          "model_module_version": "1.5.0",
          "state": {
            "_model_module": "@jupyter-widgets/controls",
            "_model_module_version": "1.5.0",
            "_model_name": "DescriptionStyleModel",
            "_view_count": null,
            "_view_module": "@jupyter-widgets/base",
            "_view_module_version": "1.2.0",
            "_view_name": "StyleView",
            "description_width": ""
          }
        },
        "83d07c12f03e4576909f74ffcb967158": {
          "model_module": "@jupyter-widgets/controls",
          "model_name": "HBoxModel",
          "model_module_version": "1.5.0",
          "state": {
            "_dom_classes": [],
            "_model_module": "@jupyter-widgets/controls",
            "_model_module_version": "1.5.0",
            "_model_name": "HBoxModel",
            "_view_count": null,
            "_view_module": "@jupyter-widgets/controls",
            "_view_module_version": "1.5.0",
            "_view_name": "HBoxView",
            "box_style": "",
            "children": [
              "IPY_MODEL_82c0bf8bb3cc44fd8c28466010f97df4",
              "IPY_MODEL_e2346878a1204e0587a8a9c2effc103f",
              "IPY_MODEL_2ffae486025a4e5bb434b4da69d2ee48"
            ],
            "layout": "IPY_MODEL_979ab2c273834f13b122f12971c1e318"
          }
        },
        "82c0bf8bb3cc44fd8c28466010f97df4": {
          "model_module": "@jupyter-widgets/controls",
          "model_name": "HTMLModel",
          "model_module_version": "1.5.0",
          "state": {
            "_dom_classes": [],
            "_model_module": "@jupyter-widgets/controls",
            "_model_module_version": "1.5.0",
            "_model_name": "HTMLModel",
            "_view_count": null,
            "_view_module": "@jupyter-widgets/controls",
            "_view_module_version": "1.5.0",
            "_view_name": "HTMLView",
            "description": "",
            "description_tooltip": null,
            "layout": "IPY_MODEL_b93282e4dac2454cb8c3fd4be57bc917",
            "placeholder": "​",
            "style": "IPY_MODEL_c9270d912f374b869b6521e7437430b3",
            "value": "100%"
          }
        },
        "e2346878a1204e0587a8a9c2effc103f": {
          "model_module": "@jupyter-widgets/controls",
          "model_name": "FloatProgressModel",
          "model_module_version": "1.5.0",
          "state": {
            "_dom_classes": [],
            "_model_module": "@jupyter-widgets/controls",
            "_model_module_version": "1.5.0",
            "_model_name": "FloatProgressModel",
            "_view_count": null,
            "_view_module": "@jupyter-widgets/controls",
            "_view_module_version": "1.5.0",
            "_view_name": "ProgressView",
            "bar_style": "success",
            "description": "",
            "description_tooltip": null,
            "layout": "IPY_MODEL_e3e42442f4314230bfbf2be089ac3cf4",
            "max": 20,
            "min": 0,
            "orientation": "horizontal",
            "style": "IPY_MODEL_71bd7f59262a435eb0a17dfb17291d6c",
            "value": 20
          }
        },
        "2ffae486025a4e5bb434b4da69d2ee48": {
          "model_module": "@jupyter-widgets/controls",
          "model_name": "HTMLModel",
          "model_module_version": "1.5.0",
          "state": {
            "_dom_classes": [],
            "_model_module": "@jupyter-widgets/controls",
            "_model_module_version": "1.5.0",
            "_model_name": "HTMLModel",
            "_view_count": null,
            "_view_module": "@jupyter-widgets/controls",
            "_view_module_version": "1.5.0",
            "_view_name": "HTMLView",
            "description": "",
            "description_tooltip": null,
            "layout": "IPY_MODEL_ea4f6edcd1284960936cc21f5512b66e",
            "placeholder": "​",
            "style": "IPY_MODEL_9cc77e39cc924b23a4e452ea69994b3e",
            "value": " 20/20 [00:15&lt;00:00,  1.40it/s, loss=0.001]"
          }
        },
        "979ab2c273834f13b122f12971c1e318": {
          "model_module": "@jupyter-widgets/base",
          "model_name": "LayoutModel",
          "model_module_version": "1.2.0",
          "state": {
            "_model_module": "@jupyter-widgets/base",
            "_model_module_version": "1.2.0",
            "_model_name": "LayoutModel",
            "_view_count": null,
            "_view_module": "@jupyter-widgets/base",
            "_view_module_version": "1.2.0",
            "_view_name": "LayoutView",
            "align_content": null,
            "align_items": null,
            "align_self": null,
            "border": null,
            "bottom": null,
            "display": null,
            "flex": null,
            "flex_flow": null,
            "grid_area": null,
            "grid_auto_columns": null,
            "grid_auto_flow": null,
            "grid_auto_rows": null,
            "grid_column": null,
            "grid_gap": null,
            "grid_row": null,
            "grid_template_areas": null,
            "grid_template_columns": null,
            "grid_template_rows": null,
            "height": null,
            "justify_content": null,
            "justify_items": null,
            "left": null,
            "margin": null,
            "max_height": null,
            "max_width": null,
            "min_height": null,
            "min_width": null,
            "object_fit": null,
            "object_position": null,
            "order": null,
            "overflow": null,
            "overflow_x": null,
            "overflow_y": null,
            "padding": null,
            "right": null,
            "top": null,
            "visibility": null,
            "width": null
          }
        },
        "b93282e4dac2454cb8c3fd4be57bc917": {
          "model_module": "@jupyter-widgets/base",
          "model_name": "LayoutModel",
          "model_module_version": "1.2.0",
          "state": {
            "_model_module": "@jupyter-widgets/base",
            "_model_module_version": "1.2.0",
            "_model_name": "LayoutModel",
            "_view_count": null,
            "_view_module": "@jupyter-widgets/base",
            "_view_module_version": "1.2.0",
            "_view_name": "LayoutView",
            "align_content": null,
            "align_items": null,
            "align_self": null,
            "border": null,
            "bottom": null,
            "display": null,
            "flex": null,
            "flex_flow": null,
            "grid_area": null,
            "grid_auto_columns": null,
            "grid_auto_flow": null,
            "grid_auto_rows": null,
            "grid_column": null,
            "grid_gap": null,
            "grid_row": null,
            "grid_template_areas": null,
            "grid_template_columns": null,
            "grid_template_rows": null,
            "height": null,
            "justify_content": null,
            "justify_items": null,
            "left": null,
            "margin": null,
            "max_height": null,
            "max_width": null,
            "min_height": null,
            "min_width": null,
            "object_fit": null,
            "object_position": null,
            "order": null,
            "overflow": null,
            "overflow_x": null,
            "overflow_y": null,
            "padding": null,
            "right": null,
            "top": null,
            "visibility": null,
            "width": null
          }
        },
        "c9270d912f374b869b6521e7437430b3": {
          "model_module": "@jupyter-widgets/controls",
          "model_name": "DescriptionStyleModel",
          "model_module_version": "1.5.0",
          "state": {
            "_model_module": "@jupyter-widgets/controls",
            "_model_module_version": "1.5.0",
            "_model_name": "DescriptionStyleModel",
            "_view_count": null,
            "_view_module": "@jupyter-widgets/base",
            "_view_module_version": "1.2.0",
            "_view_name": "StyleView",
            "description_width": ""
          }
        },
        "e3e42442f4314230bfbf2be089ac3cf4": {
          "model_module": "@jupyter-widgets/base",
          "model_name": "LayoutModel",
          "model_module_version": "1.2.0",
          "state": {
            "_model_module": "@jupyter-widgets/base",
            "_model_module_version": "1.2.0",
            "_model_name": "LayoutModel",
            "_view_count": null,
            "_view_module": "@jupyter-widgets/base",
            "_view_module_version": "1.2.0",
            "_view_name": "LayoutView",
            "align_content": null,
            "align_items": null,
            "align_self": null,
            "border": null,
            "bottom": null,
            "display": null,
            "flex": null,
            "flex_flow": null,
            "grid_area": null,
            "grid_auto_columns": null,
            "grid_auto_flow": null,
            "grid_auto_rows": null,
            "grid_column": null,
            "grid_gap": null,
            "grid_row": null,
            "grid_template_areas": null,
            "grid_template_columns": null,
            "grid_template_rows": null,
            "height": null,
            "justify_content": null,
            "justify_items": null,
            "left": null,
            "margin": null,
            "max_height": null,
            "max_width": null,
            "min_height": null,
            "min_width": null,
            "object_fit": null,
            "object_position": null,
            "order": null,
            "overflow": null,
            "overflow_x": null,
            "overflow_y": null,
            "padding": null,
            "right": null,
            "top": null,
            "visibility": null,
            "width": null
          }
        },
        "71bd7f59262a435eb0a17dfb17291d6c": {
          "model_module": "@jupyter-widgets/controls",
          "model_name": "ProgressStyleModel",
          "model_module_version": "1.5.0",
          "state": {
            "_model_module": "@jupyter-widgets/controls",
            "_model_module_version": "1.5.0",
            "_model_name": "ProgressStyleModel",
            "_view_count": null,
            "_view_module": "@jupyter-widgets/base",
            "_view_module_version": "1.2.0",
            "_view_name": "StyleView",
            "bar_color": null,
            "description_width": ""
          }
        },
        "ea4f6edcd1284960936cc21f5512b66e": {
          "model_module": "@jupyter-widgets/base",
          "model_name": "LayoutModel",
          "model_module_version": "1.2.0",
          "state": {
            "_model_module": "@jupyter-widgets/base",
            "_model_module_version": "1.2.0",
            "_model_name": "LayoutModel",
            "_view_count": null,
            "_view_module": "@jupyter-widgets/base",
            "_view_module_version": "1.2.0",
            "_view_name": "LayoutView",
            "align_content": null,
            "align_items": null,
            "align_self": null,
            "border": null,
            "bottom": null,
            "display": null,
            "flex": null,
            "flex_flow": null,
            "grid_area": null,
            "grid_auto_columns": null,
            "grid_auto_flow": null,
            "grid_auto_rows": null,
            "grid_column": null,
            "grid_gap": null,
            "grid_row": null,
            "grid_template_areas": null,
            "grid_template_columns": null,
            "grid_template_rows": null,
            "height": null,
            "justify_content": null,
            "justify_items": null,
            "left": null,
            "margin": null,
            "max_height": null,
            "max_width": null,
            "min_height": null,
            "min_width": null,
            "object_fit": null,
            "object_position": null,
            "order": null,
            "overflow": null,
            "overflow_x": null,
            "overflow_y": null,
            "padding": null,
            "right": null,
            "top": null,
            "visibility": null,
            "width": null
          }
        },
        "9cc77e39cc924b23a4e452ea69994b3e": {
          "model_module": "@jupyter-widgets/controls",
          "model_name": "DescriptionStyleModel",
          "model_module_version": "1.5.0",
          "state": {
            "_model_module": "@jupyter-widgets/controls",
            "_model_module_version": "1.5.0",
            "_model_name": "DescriptionStyleModel",
            "_view_count": null,
            "_view_module": "@jupyter-widgets/base",
            "_view_module_version": "1.2.0",
            "_view_name": "StyleView",
            "description_width": ""
          }
        },
        "dfebb860ce5d463fb1d6b3fc8d60bb70": {
          "model_module": "@jupyter-widgets/controls",
          "model_name": "HBoxModel",
          "model_module_version": "1.5.0",
          "state": {
            "_dom_classes": [],
            "_model_module": "@jupyter-widgets/controls",
            "_model_module_version": "1.5.0",
            "_model_name": "HBoxModel",
            "_view_count": null,
            "_view_module": "@jupyter-widgets/controls",
            "_view_module_version": "1.5.0",
            "_view_name": "HBoxView",
            "box_style": "",
            "children": [
              "IPY_MODEL_92b672ea18a443728c8f5687b1f48870",
              "IPY_MODEL_bf86d73048394ab493346cd29438060e",
              "IPY_MODEL_d597bb191dab465d89ed84242769ccab"
            ],
            "layout": "IPY_MODEL_a986dc3286494ce59a03bd97c39a67b6"
          }
        },
        "92b672ea18a443728c8f5687b1f48870": {
          "model_module": "@jupyter-widgets/controls",
          "model_name": "HTMLModel",
          "model_module_version": "1.5.0",
          "state": {
            "_dom_classes": [],
            "_model_module": "@jupyter-widgets/controls",
            "_model_module_version": "1.5.0",
            "_model_name": "HTMLModel",
            "_view_count": null,
            "_view_module": "@jupyter-widgets/controls",
            "_view_module_version": "1.5.0",
            "_view_name": "HTMLView",
            "description": "",
            "description_tooltip": null,
            "layout": "IPY_MODEL_75f71a7c7c1d49f29370b619c13b84fa",
            "placeholder": "​",
            "style": "IPY_MODEL_5f4314ae13cf488a9532073824cee222",
            "value": "100%"
          }
        },
        "bf86d73048394ab493346cd29438060e": {
          "model_module": "@jupyter-widgets/controls",
          "model_name": "FloatProgressModel",
          "model_module_version": "1.5.0",
          "state": {
            "_dom_classes": [],
            "_model_module": "@jupyter-widgets/controls",
            "_model_module_version": "1.5.0",
            "_model_name": "FloatProgressModel",
            "_view_count": null,
            "_view_module": "@jupyter-widgets/controls",
            "_view_module_version": "1.5.0",
            "_view_name": "ProgressView",
            "bar_style": "success",
            "description": "",
            "description_tooltip": null,
            "layout": "IPY_MODEL_f450c3282cf44f35aedb704ecf1d4cd2",
            "max": 20,
            "min": 0,
            "orientation": "horizontal",
            "style": "IPY_MODEL_b108720225d44331b32dd2cdd9075909",
            "value": 20
          }
        },
        "d597bb191dab465d89ed84242769ccab": {
          "model_module": "@jupyter-widgets/controls",
          "model_name": "HTMLModel",
          "model_module_version": "1.5.0",
          "state": {
            "_dom_classes": [],
            "_model_module": "@jupyter-widgets/controls",
            "_model_module_version": "1.5.0",
            "_model_name": "HTMLModel",
            "_view_count": null,
            "_view_module": "@jupyter-widgets/controls",
            "_view_module_version": "1.5.0",
            "_view_name": "HTMLView",
            "description": "",
            "description_tooltip": null,
            "layout": "IPY_MODEL_b3edb139a5fe4bc99072f00923274524",
            "placeholder": "​",
            "style": "IPY_MODEL_a31127f4543a497d85d4646293c941d6",
            "value": " 20/20 [00:17&lt;00:00,  1.29s/it, loss=0.001]"
          }
        },
        "a986dc3286494ce59a03bd97c39a67b6": {
          "model_module": "@jupyter-widgets/base",
          "model_name": "LayoutModel",
          "model_module_version": "1.2.0",
          "state": {
            "_model_module": "@jupyter-widgets/base",
            "_model_module_version": "1.2.0",
            "_model_name": "LayoutModel",
            "_view_count": null,
            "_view_module": "@jupyter-widgets/base",
            "_view_module_version": "1.2.0",
            "_view_name": "LayoutView",
            "align_content": null,
            "align_items": null,
            "align_self": null,
            "border": null,
            "bottom": null,
            "display": null,
            "flex": null,
            "flex_flow": null,
            "grid_area": null,
            "grid_auto_columns": null,
            "grid_auto_flow": null,
            "grid_auto_rows": null,
            "grid_column": null,
            "grid_gap": null,
            "grid_row": null,
            "grid_template_areas": null,
            "grid_template_columns": null,
            "grid_template_rows": null,
            "height": null,
            "justify_content": null,
            "justify_items": null,
            "left": null,
            "margin": null,
            "max_height": null,
            "max_width": null,
            "min_height": null,
            "min_width": null,
            "object_fit": null,
            "object_position": null,
            "order": null,
            "overflow": null,
            "overflow_x": null,
            "overflow_y": null,
            "padding": null,
            "right": null,
            "top": null,
            "visibility": null,
            "width": null
          }
        },
        "75f71a7c7c1d49f29370b619c13b84fa": {
          "model_module": "@jupyter-widgets/base",
          "model_name": "LayoutModel",
          "model_module_version": "1.2.0",
          "state": {
            "_model_module": "@jupyter-widgets/base",
            "_model_module_version": "1.2.0",
            "_model_name": "LayoutModel",
            "_view_count": null,
            "_view_module": "@jupyter-widgets/base",
            "_view_module_version": "1.2.0",
            "_view_name": "LayoutView",
            "align_content": null,
            "align_items": null,
            "align_self": null,
            "border": null,
            "bottom": null,
            "display": null,
            "flex": null,
            "flex_flow": null,
            "grid_area": null,
            "grid_auto_columns": null,
            "grid_auto_flow": null,
            "grid_auto_rows": null,
            "grid_column": null,
            "grid_gap": null,
            "grid_row": null,
            "grid_template_areas": null,
            "grid_template_columns": null,
            "grid_template_rows": null,
            "height": null,
            "justify_content": null,
            "justify_items": null,
            "left": null,
            "margin": null,
            "max_height": null,
            "max_width": null,
            "min_height": null,
            "min_width": null,
            "object_fit": null,
            "object_position": null,
            "order": null,
            "overflow": null,
            "overflow_x": null,
            "overflow_y": null,
            "padding": null,
            "right": null,
            "top": null,
            "visibility": null,
            "width": null
          }
        },
        "5f4314ae13cf488a9532073824cee222": {
          "model_module": "@jupyter-widgets/controls",
          "model_name": "DescriptionStyleModel",
          "model_module_version": "1.5.0",
          "state": {
            "_model_module": "@jupyter-widgets/controls",
            "_model_module_version": "1.5.0",
            "_model_name": "DescriptionStyleModel",
            "_view_count": null,
            "_view_module": "@jupyter-widgets/base",
            "_view_module_version": "1.2.0",
            "_view_name": "StyleView",
            "description_width": ""
          }
        },
        "f450c3282cf44f35aedb704ecf1d4cd2": {
          "model_module": "@jupyter-widgets/base",
          "model_name": "LayoutModel",
          "model_module_version": "1.2.0",
          "state": {
            "_model_module": "@jupyter-widgets/base",
            "_model_module_version": "1.2.0",
            "_model_name": "LayoutModel",
            "_view_count": null,
            "_view_module": "@jupyter-widgets/base",
            "_view_module_version": "1.2.0",
            "_view_name": "LayoutView",
            "align_content": null,
            "align_items": null,
            "align_self": null,
            "border": null,
            "bottom": null,
            "display": null,
            "flex": null,
            "flex_flow": null,
            "grid_area": null,
            "grid_auto_columns": null,
            "grid_auto_flow": null,
            "grid_auto_rows": null,
            "grid_column": null,
            "grid_gap": null,
            "grid_row": null,
            "grid_template_areas": null,
            "grid_template_columns": null,
            "grid_template_rows": null,
            "height": null,
            "justify_content": null,
            "justify_items": null,
            "left": null,
            "margin": null,
            "max_height": null,
            "max_width": null,
            "min_height": null,
            "min_width": null,
            "object_fit": null,
            "object_position": null,
            "order": null,
            "overflow": null,
            "overflow_x": null,
            "overflow_y": null,
            "padding": null,
            "right": null,
            "top": null,
            "visibility": null,
            "width": null
          }
        },
        "b108720225d44331b32dd2cdd9075909": {
          "model_module": "@jupyter-widgets/controls",
          "model_name": "ProgressStyleModel",
          "model_module_version": "1.5.0",
          "state": {
            "_model_module": "@jupyter-widgets/controls",
            "_model_module_version": "1.5.0",
            "_model_name": "ProgressStyleModel",
            "_view_count": null,
            "_view_module": "@jupyter-widgets/base",
            "_view_module_version": "1.2.0",
            "_view_name": "StyleView",
            "bar_color": null,
            "description_width": ""
          }
        },
        "b3edb139a5fe4bc99072f00923274524": {
          "model_module": "@jupyter-widgets/base",
          "model_name": "LayoutModel",
          "model_module_version": "1.2.0",
          "state": {
            "_model_module": "@jupyter-widgets/base",
            "_model_module_version": "1.2.0",
            "_model_name": "LayoutModel",
            "_view_count": null,
            "_view_module": "@jupyter-widgets/base",
            "_view_module_version": "1.2.0",
            "_view_name": "LayoutView",
            "align_content": null,
            "align_items": null,
            "align_self": null,
            "border": null,
            "bottom": null,
            "display": null,
            "flex": null,
            "flex_flow": null,
            "grid_area": null,
            "grid_auto_columns": null,
            "grid_auto_flow": null,
            "grid_auto_rows": null,
            "grid_column": null,
            "grid_gap": null,
            "grid_row": null,
            "grid_template_areas": null,
            "grid_template_columns": null,
            "grid_template_rows": null,
            "height": null,
            "justify_content": null,
            "justify_items": null,
            "left": null,
            "margin": null,
            "max_height": null,
            "max_width": null,
            "min_height": null,
            "min_width": null,
            "object_fit": null,
            "object_position": null,
            "order": null,
            "overflow": null,
            "overflow_x": null,
            "overflow_y": null,
            "padding": null,
            "right": null,
            "top": null,
            "visibility": null,
            "width": null
          }
        },
        "a31127f4543a497d85d4646293c941d6": {
          "model_module": "@jupyter-widgets/controls",
          "model_name": "DescriptionStyleModel",
          "model_module_version": "1.5.0",
          "state": {
            "_model_module": "@jupyter-widgets/controls",
            "_model_module_version": "1.5.0",
            "_model_name": "DescriptionStyleModel",
            "_view_count": null,
            "_view_module": "@jupyter-widgets/base",
            "_view_module_version": "1.2.0",
            "_view_name": "StyleView",
            "description_width": ""
          }
        },
        "a5ec53a0198c4cfeb5e385677160c58d": {
          "model_module": "@jupyter-widgets/controls",
          "model_name": "HBoxModel",
          "model_module_version": "1.5.0",
          "state": {
            "_dom_classes": [],
            "_model_module": "@jupyter-widgets/controls",
            "_model_module_version": "1.5.0",
            "_model_name": "HBoxModel",
            "_view_count": null,
            "_view_module": "@jupyter-widgets/controls",
            "_view_module_version": "1.5.0",
            "_view_name": "HBoxView",
            "box_style": "",
            "children": [
              "IPY_MODEL_8583d39c92fb45c8a72c8e31c580cf12",
              "IPY_MODEL_2a7a1faea695446fbe9310261b00022a",
              "IPY_MODEL_819a03ed6e0e4680a5115911644c11b5"
            ],
            "layout": "IPY_MODEL_a19c886a82774f7ca0c42c27ff9786de"
          }
        },
        "8583d39c92fb45c8a72c8e31c580cf12": {
          "model_module": "@jupyter-widgets/controls",
          "model_name": "HTMLModel",
          "model_module_version": "1.5.0",
          "state": {
            "_dom_classes": [],
            "_model_module": "@jupyter-widgets/controls",
            "_model_module_version": "1.5.0",
            "_model_name": "HTMLModel",
            "_view_count": null,
            "_view_module": "@jupyter-widgets/controls",
            "_view_module_version": "1.5.0",
            "_view_name": "HTMLView",
            "description": "",
            "description_tooltip": null,
            "layout": "IPY_MODEL_1cc842ac41bd45a69071b202dd828bdf",
            "placeholder": "​",
            "style": "IPY_MODEL_fd8b1c0c9302403b9bcbdb95aca77768",
            "value": "100%"
          }
        },
        "2a7a1faea695446fbe9310261b00022a": {
          "model_module": "@jupyter-widgets/controls",
          "model_name": "FloatProgressModel",
          "model_module_version": "1.5.0",
          "state": {
            "_dom_classes": [],
            "_model_module": "@jupyter-widgets/controls",
            "_model_module_version": "1.5.0",
            "_model_name": "FloatProgressModel",
            "_view_count": null,
            "_view_module": "@jupyter-widgets/controls",
            "_view_module_version": "1.5.0",
            "_view_name": "ProgressView",
            "bar_style": "success",
            "description": "",
            "description_tooltip": null,
            "layout": "IPY_MODEL_9c6485ddd558452984791b3a6a5d5ef4",
            "max": 20,
            "min": 0,
            "orientation": "horizontal",
            "style": "IPY_MODEL_f7c8590166e04dd4b481ae79cf34c5ef",
            "value": 20
          }
        },
        "819a03ed6e0e4680a5115911644c11b5": {
          "model_module": "@jupyter-widgets/controls",
          "model_name": "HTMLModel",
          "model_module_version": "1.5.0",
          "state": {
            "_dom_classes": [],
            "_model_module": "@jupyter-widgets/controls",
            "_model_module_version": "1.5.0",
            "_model_name": "HTMLModel",
            "_view_count": null,
            "_view_module": "@jupyter-widgets/controls",
            "_view_module_version": "1.5.0",
            "_view_name": "HTMLView",
            "description": "",
            "description_tooltip": null,
            "layout": "IPY_MODEL_566918af100341d1b444f78dcae269f0",
            "placeholder": "​",
            "style": "IPY_MODEL_d078ae84f9294afcad3936dfb9065b1b",
            "value": " 20/20 [00:15&lt;00:00,  1.53it/s, loss=0.001]"
          }
        },
        "a19c886a82774f7ca0c42c27ff9786de": {
          "model_module": "@jupyter-widgets/base",
          "model_name": "LayoutModel",
          "model_module_version": "1.2.0",
          "state": {
            "_model_module": "@jupyter-widgets/base",
            "_model_module_version": "1.2.0",
            "_model_name": "LayoutModel",
            "_view_count": null,
            "_view_module": "@jupyter-widgets/base",
            "_view_module_version": "1.2.0",
            "_view_name": "LayoutView",
            "align_content": null,
            "align_items": null,
            "align_self": null,
            "border": null,
            "bottom": null,
            "display": null,
            "flex": null,
            "flex_flow": null,
            "grid_area": null,
            "grid_auto_columns": null,
            "grid_auto_flow": null,
            "grid_auto_rows": null,
            "grid_column": null,
            "grid_gap": null,
            "grid_row": null,
            "grid_template_areas": null,
            "grid_template_columns": null,
            "grid_template_rows": null,
            "height": null,
            "justify_content": null,
            "justify_items": null,
            "left": null,
            "margin": null,
            "max_height": null,
            "max_width": null,
            "min_height": null,
            "min_width": null,
            "object_fit": null,
            "object_position": null,
            "order": null,
            "overflow": null,
            "overflow_x": null,
            "overflow_y": null,
            "padding": null,
            "right": null,
            "top": null,
            "visibility": null,
            "width": null
          }
        },
        "1cc842ac41bd45a69071b202dd828bdf": {
          "model_module": "@jupyter-widgets/base",
          "model_name": "LayoutModel",
          "model_module_version": "1.2.0",
          "state": {
            "_model_module": "@jupyter-widgets/base",
            "_model_module_version": "1.2.0",
            "_model_name": "LayoutModel",
            "_view_count": null,
            "_view_module": "@jupyter-widgets/base",
            "_view_module_version": "1.2.0",
            "_view_name": "LayoutView",
            "align_content": null,
            "align_items": null,
            "align_self": null,
            "border": null,
            "bottom": null,
            "display": null,
            "flex": null,
            "flex_flow": null,
            "grid_area": null,
            "grid_auto_columns": null,
            "grid_auto_flow": null,
            "grid_auto_rows": null,
            "grid_column": null,
            "grid_gap": null,
            "grid_row": null,
            "grid_template_areas": null,
            "grid_template_columns": null,
            "grid_template_rows": null,
            "height": null,
            "justify_content": null,
            "justify_items": null,
            "left": null,
            "margin": null,
            "max_height": null,
            "max_width": null,
            "min_height": null,
            "min_width": null,
            "object_fit": null,
            "object_position": null,
            "order": null,
            "overflow": null,
            "overflow_x": null,
            "overflow_y": null,
            "padding": null,
            "right": null,
            "top": null,
            "visibility": null,
            "width": null
          }
        },
        "fd8b1c0c9302403b9bcbdb95aca77768": {
          "model_module": "@jupyter-widgets/controls",
          "model_name": "DescriptionStyleModel",
          "model_module_version": "1.5.0",
          "state": {
            "_model_module": "@jupyter-widgets/controls",
            "_model_module_version": "1.5.0",
            "_model_name": "DescriptionStyleModel",
            "_view_count": null,
            "_view_module": "@jupyter-widgets/base",
            "_view_module_version": "1.2.0",
            "_view_name": "StyleView",
            "description_width": ""
          }
        },
        "9c6485ddd558452984791b3a6a5d5ef4": {
          "model_module": "@jupyter-widgets/base",
          "model_name": "LayoutModel",
          "model_module_version": "1.2.0",
          "state": {
            "_model_module": "@jupyter-widgets/base",
            "_model_module_version": "1.2.0",
            "_model_name": "LayoutModel",
            "_view_count": null,
            "_view_module": "@jupyter-widgets/base",
            "_view_module_version": "1.2.0",
            "_view_name": "LayoutView",
            "align_content": null,
            "align_items": null,
            "align_self": null,
            "border": null,
            "bottom": null,
            "display": null,
            "flex": null,
            "flex_flow": null,
            "grid_area": null,
            "grid_auto_columns": null,
            "grid_auto_flow": null,
            "grid_auto_rows": null,
            "grid_column": null,
            "grid_gap": null,
            "grid_row": null,
            "grid_template_areas": null,
            "grid_template_columns": null,
            "grid_template_rows": null,
            "height": null,
            "justify_content": null,
            "justify_items": null,
            "left": null,
            "margin": null,
            "max_height": null,
            "max_width": null,
            "min_height": null,
            "min_width": null,
            "object_fit": null,
            "object_position": null,
            "order": null,
            "overflow": null,
            "overflow_x": null,
            "overflow_y": null,
            "padding": null,
            "right": null,
            "top": null,
            "visibility": null,
            "width": null
          }
        },
        "f7c8590166e04dd4b481ae79cf34c5ef": {
          "model_module": "@jupyter-widgets/controls",
          "model_name": "ProgressStyleModel",
          "model_module_version": "1.5.0",
          "state": {
            "_model_module": "@jupyter-widgets/controls",
            "_model_module_version": "1.5.0",
            "_model_name": "ProgressStyleModel",
            "_view_count": null,
            "_view_module": "@jupyter-widgets/base",
            "_view_module_version": "1.2.0",
            "_view_name": "StyleView",
            "bar_color": null,
            "description_width": ""
          }
        },
        "566918af100341d1b444f78dcae269f0": {
          "model_module": "@jupyter-widgets/base",
          "model_name": "LayoutModel",
          "model_module_version": "1.2.0",
          "state": {
            "_model_module": "@jupyter-widgets/base",
            "_model_module_version": "1.2.0",
            "_model_name": "LayoutModel",
            "_view_count": null,
            "_view_module": "@jupyter-widgets/base",
            "_view_module_version": "1.2.0",
            "_view_name": "LayoutView",
            "align_content": null,
            "align_items": null,
            "align_self": null,
            "border": null,
            "bottom": null,
            "display": null,
            "flex": null,
            "flex_flow": null,
            "grid_area": null,
            "grid_auto_columns": null,
            "grid_auto_flow": null,
            "grid_auto_rows": null,
            "grid_column": null,
            "grid_gap": null,
            "grid_row": null,
            "grid_template_areas": null,
            "grid_template_columns": null,
            "grid_template_rows": null,
            "height": null,
            "justify_content": null,
            "justify_items": null,
            "left": null,
            "margin": null,
            "max_height": null,
            "max_width": null,
            "min_height": null,
            "min_width": null,
            "object_fit": null,
            "object_position": null,
            "order": null,
            "overflow": null,
            "overflow_x": null,
            "overflow_y": null,
            "padding": null,
            "right": null,
            "top": null,
            "visibility": null,
            "width": null
          }
        },
        "d078ae84f9294afcad3936dfb9065b1b": {
          "model_module": "@jupyter-widgets/controls",
          "model_name": "DescriptionStyleModel",
          "model_module_version": "1.5.0",
          "state": {
            "_model_module": "@jupyter-widgets/controls",
            "_model_module_version": "1.5.0",
            "_model_name": "DescriptionStyleModel",
            "_view_count": null,
            "_view_module": "@jupyter-widgets/base",
            "_view_module_version": "1.2.0",
            "_view_name": "StyleView",
            "description_width": ""
          }
        },
        "b2910e028f4d49fb9abdf9514f9dec46": {
          "model_module": "@jupyter-widgets/controls",
          "model_name": "HBoxModel",
          "model_module_version": "1.5.0",
          "state": {
            "_dom_classes": [],
            "_model_module": "@jupyter-widgets/controls",
            "_model_module_version": "1.5.0",
            "_model_name": "HBoxModel",
            "_view_count": null,
            "_view_module": "@jupyter-widgets/controls",
            "_view_module_version": "1.5.0",
            "_view_name": "HBoxView",
            "box_style": "",
            "children": [
              "IPY_MODEL_3e9baca4ddc744d18ebdb57461f421e0",
              "IPY_MODEL_6c1e9364f7f14a0483f7338152f2723c",
              "IPY_MODEL_a314a7f3fd0348fb8f46f6844b8d8f36"
            ],
            "layout": "IPY_MODEL_2e71862d444947a98a15024addf23009"
          }
        },
        "3e9baca4ddc744d18ebdb57461f421e0": {
          "model_module": "@jupyter-widgets/controls",
          "model_name": "HTMLModel",
          "model_module_version": "1.5.0",
          "state": {
            "_dom_classes": [],
            "_model_module": "@jupyter-widgets/controls",
            "_model_module_version": "1.5.0",
            "_model_name": "HTMLModel",
            "_view_count": null,
            "_view_module": "@jupyter-widgets/controls",
            "_view_module_version": "1.5.0",
            "_view_name": "HTMLView",
            "description": "",
            "description_tooltip": null,
            "layout": "IPY_MODEL_cc8681ba2b6b49a496dc90df3fd0bcc9",
            "placeholder": "​",
            "style": "IPY_MODEL_73471825b6d5457f8624f53732e43f20",
            "value": "100%"
          }
        },
        "6c1e9364f7f14a0483f7338152f2723c": {
          "model_module": "@jupyter-widgets/controls",
          "model_name": "FloatProgressModel",
          "model_module_version": "1.5.0",
          "state": {
            "_dom_classes": [],
            "_model_module": "@jupyter-widgets/controls",
            "_model_module_version": "1.5.0",
            "_model_name": "FloatProgressModel",
            "_view_count": null,
            "_view_module": "@jupyter-widgets/controls",
            "_view_module_version": "1.5.0",
            "_view_name": "ProgressView",
            "bar_style": "success",
            "description": "",
            "description_tooltip": null,
            "layout": "IPY_MODEL_3946b3c04d4a4515bf270cef8701d8fc",
            "max": 20,
            "min": 0,
            "orientation": "horizontal",
            "style": "IPY_MODEL_0c469c92c3c34ee1b47b8ad03f6eec38",
            "value": 20
          }
        },
        "a314a7f3fd0348fb8f46f6844b8d8f36": {
          "model_module": "@jupyter-widgets/controls",
          "model_name": "HTMLModel",
          "model_module_version": "1.5.0",
          "state": {
            "_dom_classes": [],
            "_model_module": "@jupyter-widgets/controls",
            "_model_module_version": "1.5.0",
            "_model_name": "HTMLModel",
            "_view_count": null,
            "_view_module": "@jupyter-widgets/controls",
            "_view_module_version": "1.5.0",
            "_view_name": "HTMLView",
            "description": "",
            "description_tooltip": null,
            "layout": "IPY_MODEL_c2094984f67947339d61cbb9a87f158c",
            "placeholder": "​",
            "style": "IPY_MODEL_0ce9ed080e054de598bd0e9bdcd70715",
            "value": " 20/20 [00:14&lt;00:00,  1.50it/s, loss=0.000]"
          }
        },
        "2e71862d444947a98a15024addf23009": {
          "model_module": "@jupyter-widgets/base",
          "model_name": "LayoutModel",
          "model_module_version": "1.2.0",
          "state": {
            "_model_module": "@jupyter-widgets/base",
            "_model_module_version": "1.2.0",
            "_model_name": "LayoutModel",
            "_view_count": null,
            "_view_module": "@jupyter-widgets/base",
            "_view_module_version": "1.2.0",
            "_view_name": "LayoutView",
            "align_content": null,
            "align_items": null,
            "align_self": null,
            "border": null,
            "bottom": null,
            "display": null,
            "flex": null,
            "flex_flow": null,
            "grid_area": null,
            "grid_auto_columns": null,
            "grid_auto_flow": null,
            "grid_auto_rows": null,
            "grid_column": null,
            "grid_gap": null,
            "grid_row": null,
            "grid_template_areas": null,
            "grid_template_columns": null,
            "grid_template_rows": null,
            "height": null,
            "justify_content": null,
            "justify_items": null,
            "left": null,
            "margin": null,
            "max_height": null,
            "max_width": null,
            "min_height": null,
            "min_width": null,
            "object_fit": null,
            "object_position": null,
            "order": null,
            "overflow": null,
            "overflow_x": null,
            "overflow_y": null,
            "padding": null,
            "right": null,
            "top": null,
            "visibility": null,
            "width": null
          }
        },
        "cc8681ba2b6b49a496dc90df3fd0bcc9": {
          "model_module": "@jupyter-widgets/base",
          "model_name": "LayoutModel",
          "model_module_version": "1.2.0",
          "state": {
            "_model_module": "@jupyter-widgets/base",
            "_model_module_version": "1.2.0",
            "_model_name": "LayoutModel",
            "_view_count": null,
            "_view_module": "@jupyter-widgets/base",
            "_view_module_version": "1.2.0",
            "_view_name": "LayoutView",
            "align_content": null,
            "align_items": null,
            "align_self": null,
            "border": null,
            "bottom": null,
            "display": null,
            "flex": null,
            "flex_flow": null,
            "grid_area": null,
            "grid_auto_columns": null,
            "grid_auto_flow": null,
            "grid_auto_rows": null,
            "grid_column": null,
            "grid_gap": null,
            "grid_row": null,
            "grid_template_areas": null,
            "grid_template_columns": null,
            "grid_template_rows": null,
            "height": null,
            "justify_content": null,
            "justify_items": null,
            "left": null,
            "margin": null,
            "max_height": null,
            "max_width": null,
            "min_height": null,
            "min_width": null,
            "object_fit": null,
            "object_position": null,
            "order": null,
            "overflow": null,
            "overflow_x": null,
            "overflow_y": null,
            "padding": null,
            "right": null,
            "top": null,
            "visibility": null,
            "width": null
          }
        },
        "73471825b6d5457f8624f53732e43f20": {
          "model_module": "@jupyter-widgets/controls",
          "model_name": "DescriptionStyleModel",
          "model_module_version": "1.5.0",
          "state": {
            "_model_module": "@jupyter-widgets/controls",
            "_model_module_version": "1.5.0",
            "_model_name": "DescriptionStyleModel",
            "_view_count": null,
            "_view_module": "@jupyter-widgets/base",
            "_view_module_version": "1.2.0",
            "_view_name": "StyleView",
            "description_width": ""
          }
        },
        "3946b3c04d4a4515bf270cef8701d8fc": {
          "model_module": "@jupyter-widgets/base",
          "model_name": "LayoutModel",
          "model_module_version": "1.2.0",
          "state": {
            "_model_module": "@jupyter-widgets/base",
            "_model_module_version": "1.2.0",
            "_model_name": "LayoutModel",
            "_view_count": null,
            "_view_module": "@jupyter-widgets/base",
            "_view_module_version": "1.2.0",
            "_view_name": "LayoutView",
            "align_content": null,
            "align_items": null,
            "align_self": null,
            "border": null,
            "bottom": null,
            "display": null,
            "flex": null,
            "flex_flow": null,
            "grid_area": null,
            "grid_auto_columns": null,
            "grid_auto_flow": null,
            "grid_auto_rows": null,
            "grid_column": null,
            "grid_gap": null,
            "grid_row": null,
            "grid_template_areas": null,
            "grid_template_columns": null,
            "grid_template_rows": null,
            "height": null,
            "justify_content": null,
            "justify_items": null,
            "left": null,
            "margin": null,
            "max_height": null,
            "max_width": null,
            "min_height": null,
            "min_width": null,
            "object_fit": null,
            "object_position": null,
            "order": null,
            "overflow": null,
            "overflow_x": null,
            "overflow_y": null,
            "padding": null,
            "right": null,
            "top": null,
            "visibility": null,
            "width": null
          }
        },
        "0c469c92c3c34ee1b47b8ad03f6eec38": {
          "model_module": "@jupyter-widgets/controls",
          "model_name": "ProgressStyleModel",
          "model_module_version": "1.5.0",
          "state": {
            "_model_module": "@jupyter-widgets/controls",
            "_model_module_version": "1.5.0",
            "_model_name": "ProgressStyleModel",
            "_view_count": null,
            "_view_module": "@jupyter-widgets/base",
            "_view_module_version": "1.2.0",
            "_view_name": "StyleView",
            "bar_color": null,
            "description_width": ""
          }
        },
        "c2094984f67947339d61cbb9a87f158c": {
          "model_module": "@jupyter-widgets/base",
          "model_name": "LayoutModel",
          "model_module_version": "1.2.0",
          "state": {
            "_model_module": "@jupyter-widgets/base",
            "_model_module_version": "1.2.0",
            "_model_name": "LayoutModel",
            "_view_count": null,
            "_view_module": "@jupyter-widgets/base",
            "_view_module_version": "1.2.0",
            "_view_name": "LayoutView",
            "align_content": null,
            "align_items": null,
            "align_self": null,
            "border": null,
            "bottom": null,
            "display": null,
            "flex": null,
            "flex_flow": null,
            "grid_area": null,
            "grid_auto_columns": null,
            "grid_auto_flow": null,
            "grid_auto_rows": null,
            "grid_column": null,
            "grid_gap": null,
            "grid_row": null,
            "grid_template_areas": null,
            "grid_template_columns": null,
            "grid_template_rows": null,
            "height": null,
            "justify_content": null,
            "justify_items": null,
            "left": null,
            "margin": null,
            "max_height": null,
            "max_width": null,
            "min_height": null,
            "min_width": null,
            "object_fit": null,
            "object_position": null,
            "order": null,
            "overflow": null,
            "overflow_x": null,
            "overflow_y": null,
            "padding": null,
            "right": null,
            "top": null,
            "visibility": null,
            "width": null
          }
        },
        "0ce9ed080e054de598bd0e9bdcd70715": {
          "model_module": "@jupyter-widgets/controls",
          "model_name": "DescriptionStyleModel",
          "model_module_version": "1.5.0",
          "state": {
            "_model_module": "@jupyter-widgets/controls",
            "_model_module_version": "1.5.0",
            "_model_name": "DescriptionStyleModel",
            "_view_count": null,
            "_view_module": "@jupyter-widgets/base",
            "_view_module_version": "1.2.0",
            "_view_name": "StyleView",
            "description_width": ""
          }
        },
        "14475f61fc4f44ebbb18da14ea3697ca": {
          "model_module": "@jupyter-widgets/controls",
          "model_name": "HBoxModel",
          "model_module_version": "1.5.0",
          "state": {
            "_dom_classes": [],
            "_model_module": "@jupyter-widgets/controls",
            "_model_module_version": "1.5.0",
            "_model_name": "HBoxModel",
            "_view_count": null,
            "_view_module": "@jupyter-widgets/controls",
            "_view_module_version": "1.5.0",
            "_view_name": "HBoxView",
            "box_style": "",
            "children": [
              "IPY_MODEL_0eaaabd03c634b72a294ce57f9bf1483",
              "IPY_MODEL_4de78ebd07b44212b517bcdd89a46292",
              "IPY_MODEL_c5b7b0bf8e594ccb88e4894e0d71d1ff"
            ],
            "layout": "IPY_MODEL_e74f23cd1f6f4392bd58d3d89535bbe0"
          }
        },
        "0eaaabd03c634b72a294ce57f9bf1483": {
          "model_module": "@jupyter-widgets/controls",
          "model_name": "HTMLModel",
          "model_module_version": "1.5.0",
          "state": {
            "_dom_classes": [],
            "_model_module": "@jupyter-widgets/controls",
            "_model_module_version": "1.5.0",
            "_model_name": "HTMLModel",
            "_view_count": null,
            "_view_module": "@jupyter-widgets/controls",
            "_view_module_version": "1.5.0",
            "_view_name": "HTMLView",
            "description": "",
            "description_tooltip": null,
            "layout": "IPY_MODEL_9593e27048a6496eb3ba9c2f3e6fbacd",
            "placeholder": "​",
            "style": "IPY_MODEL_a0f518514de64b0c847a1668a8aa0b8a",
            "value": "100%"
          }
        },
        "4de78ebd07b44212b517bcdd89a46292": {
          "model_module": "@jupyter-widgets/controls",
          "model_name": "FloatProgressModel",
          "model_module_version": "1.5.0",
          "state": {
            "_dom_classes": [],
            "_model_module": "@jupyter-widgets/controls",
            "_model_module_version": "1.5.0",
            "_model_name": "FloatProgressModel",
            "_view_count": null,
            "_view_module": "@jupyter-widgets/controls",
            "_view_module_version": "1.5.0",
            "_view_name": "ProgressView",
            "bar_style": "success",
            "description": "",
            "description_tooltip": null,
            "layout": "IPY_MODEL_005fc49e88d34a16bead15958d5ebbe1",
            "max": 20,
            "min": 0,
            "orientation": "horizontal",
            "style": "IPY_MODEL_08ef3d7ef0e64a1ba029fbf35dbecd6c",
            "value": 20
          }
        },
        "c5b7b0bf8e594ccb88e4894e0d71d1ff": {
          "model_module": "@jupyter-widgets/controls",
          "model_name": "HTMLModel",
          "model_module_version": "1.5.0",
          "state": {
            "_dom_classes": [],
            "_model_module": "@jupyter-widgets/controls",
            "_model_module_version": "1.5.0",
            "_model_name": "HTMLModel",
            "_view_count": null,
            "_view_module": "@jupyter-widgets/controls",
            "_view_module_version": "1.5.0",
            "_view_name": "HTMLView",
            "description": "",
            "description_tooltip": null,
            "layout": "IPY_MODEL_cfe319990abc4c1d9ffc72e46314ee96",
            "placeholder": "​",
            "style": "IPY_MODEL_70ba4ba56d1b4fa8a4c723895ca128b0",
            "value": " 20/20 [00:14&lt;00:00,  1.53it/s, loss=0.001]"
          }
        },
        "e74f23cd1f6f4392bd58d3d89535bbe0": {
          "model_module": "@jupyter-widgets/base",
          "model_name": "LayoutModel",
          "model_module_version": "1.2.0",
          "state": {
            "_model_module": "@jupyter-widgets/base",
            "_model_module_version": "1.2.0",
            "_model_name": "LayoutModel",
            "_view_count": null,
            "_view_module": "@jupyter-widgets/base",
            "_view_module_version": "1.2.0",
            "_view_name": "LayoutView",
            "align_content": null,
            "align_items": null,
            "align_self": null,
            "border": null,
            "bottom": null,
            "display": null,
            "flex": null,
            "flex_flow": null,
            "grid_area": null,
            "grid_auto_columns": null,
            "grid_auto_flow": null,
            "grid_auto_rows": null,
            "grid_column": null,
            "grid_gap": null,
            "grid_row": null,
            "grid_template_areas": null,
            "grid_template_columns": null,
            "grid_template_rows": null,
            "height": null,
            "justify_content": null,
            "justify_items": null,
            "left": null,
            "margin": null,
            "max_height": null,
            "max_width": null,
            "min_height": null,
            "min_width": null,
            "object_fit": null,
            "object_position": null,
            "order": null,
            "overflow": null,
            "overflow_x": null,
            "overflow_y": null,
            "padding": null,
            "right": null,
            "top": null,
            "visibility": null,
            "width": null
          }
        },
        "9593e27048a6496eb3ba9c2f3e6fbacd": {
          "model_module": "@jupyter-widgets/base",
          "model_name": "LayoutModel",
          "model_module_version": "1.2.0",
          "state": {
            "_model_module": "@jupyter-widgets/base",
            "_model_module_version": "1.2.0",
            "_model_name": "LayoutModel",
            "_view_count": null,
            "_view_module": "@jupyter-widgets/base",
            "_view_module_version": "1.2.0",
            "_view_name": "LayoutView",
            "align_content": null,
            "align_items": null,
            "align_self": null,
            "border": null,
            "bottom": null,
            "display": null,
            "flex": null,
            "flex_flow": null,
            "grid_area": null,
            "grid_auto_columns": null,
            "grid_auto_flow": null,
            "grid_auto_rows": null,
            "grid_column": null,
            "grid_gap": null,
            "grid_row": null,
            "grid_template_areas": null,
            "grid_template_columns": null,
            "grid_template_rows": null,
            "height": null,
            "justify_content": null,
            "justify_items": null,
            "left": null,
            "margin": null,
            "max_height": null,
            "max_width": null,
            "min_height": null,
            "min_width": null,
            "object_fit": null,
            "object_position": null,
            "order": null,
            "overflow": null,
            "overflow_x": null,
            "overflow_y": null,
            "padding": null,
            "right": null,
            "top": null,
            "visibility": null,
            "width": null
          }
        },
        "a0f518514de64b0c847a1668a8aa0b8a": {
          "model_module": "@jupyter-widgets/controls",
          "model_name": "DescriptionStyleModel",
          "model_module_version": "1.5.0",
          "state": {
            "_model_module": "@jupyter-widgets/controls",
            "_model_module_version": "1.5.0",
            "_model_name": "DescriptionStyleModel",
            "_view_count": null,
            "_view_module": "@jupyter-widgets/base",
            "_view_module_version": "1.2.0",
            "_view_name": "StyleView",
            "description_width": ""
          }
        },
        "005fc49e88d34a16bead15958d5ebbe1": {
          "model_module": "@jupyter-widgets/base",
          "model_name": "LayoutModel",
          "model_module_version": "1.2.0",
          "state": {
            "_model_module": "@jupyter-widgets/base",
            "_model_module_version": "1.2.0",
            "_model_name": "LayoutModel",
            "_view_count": null,
            "_view_module": "@jupyter-widgets/base",
            "_view_module_version": "1.2.0",
            "_view_name": "LayoutView",
            "align_content": null,
            "align_items": null,
            "align_self": null,
            "border": null,
            "bottom": null,
            "display": null,
            "flex": null,
            "flex_flow": null,
            "grid_area": null,
            "grid_auto_columns": null,
            "grid_auto_flow": null,
            "grid_auto_rows": null,
            "grid_column": null,
            "grid_gap": null,
            "grid_row": null,
            "grid_template_areas": null,
            "grid_template_columns": null,
            "grid_template_rows": null,
            "height": null,
            "justify_content": null,
            "justify_items": null,
            "left": null,
            "margin": null,
            "max_height": null,
            "max_width": null,
            "min_height": null,
            "min_width": null,
            "object_fit": null,
            "object_position": null,
            "order": null,
            "overflow": null,
            "overflow_x": null,
            "overflow_y": null,
            "padding": null,
            "right": null,
            "top": null,
            "visibility": null,
            "width": null
          }
        },
        "08ef3d7ef0e64a1ba029fbf35dbecd6c": {
          "model_module": "@jupyter-widgets/controls",
          "model_name": "ProgressStyleModel",
          "model_module_version": "1.5.0",
          "state": {
            "_model_module": "@jupyter-widgets/controls",
            "_model_module_version": "1.5.0",
            "_model_name": "ProgressStyleModel",
            "_view_count": null,
            "_view_module": "@jupyter-widgets/base",
            "_view_module_version": "1.2.0",
            "_view_name": "StyleView",
            "bar_color": null,
            "description_width": ""
          }
        },
        "cfe319990abc4c1d9ffc72e46314ee96": {
          "model_module": "@jupyter-widgets/base",
          "model_name": "LayoutModel",
          "model_module_version": "1.2.0",
          "state": {
            "_model_module": "@jupyter-widgets/base",
            "_model_module_version": "1.2.0",
            "_model_name": "LayoutModel",
            "_view_count": null,
            "_view_module": "@jupyter-widgets/base",
            "_view_module_version": "1.2.0",
            "_view_name": "LayoutView",
            "align_content": null,
            "align_items": null,
            "align_self": null,
            "border": null,
            "bottom": null,
            "display": null,
            "flex": null,
            "flex_flow": null,
            "grid_area": null,
            "grid_auto_columns": null,
            "grid_auto_flow": null,
            "grid_auto_rows": null,
            "grid_column": null,
            "grid_gap": null,
            "grid_row": null,
            "grid_template_areas": null,
            "grid_template_columns": null,
            "grid_template_rows": null,
            "height": null,
            "justify_content": null,
            "justify_items": null,
            "left": null,
            "margin": null,
            "max_height": null,
            "max_width": null,
            "min_height": null,
            "min_width": null,
            "object_fit": null,
            "object_position": null,
            "order": null,
            "overflow": null,
            "overflow_x": null,
            "overflow_y": null,
            "padding": null,
            "right": null,
            "top": null,
            "visibility": null,
            "width": null
          }
        },
        "70ba4ba56d1b4fa8a4c723895ca128b0": {
          "model_module": "@jupyter-widgets/controls",
          "model_name": "DescriptionStyleModel",
          "model_module_version": "1.5.0",
          "state": {
            "_model_module": "@jupyter-widgets/controls",
            "_model_module_version": "1.5.0",
            "_model_name": "DescriptionStyleModel",
            "_view_count": null,
            "_view_module": "@jupyter-widgets/base",
            "_view_module_version": "1.2.0",
            "_view_name": "StyleView",
            "description_width": ""
          }
        },
        "f42e648032bc44e48094d7ed79af6da6": {
          "model_module": "@jupyter-widgets/controls",
          "model_name": "HBoxModel",
          "model_module_version": "1.5.0",
          "state": {
            "_dom_classes": [],
            "_model_module": "@jupyter-widgets/controls",
            "_model_module_version": "1.5.0",
            "_model_name": "HBoxModel",
            "_view_count": null,
            "_view_module": "@jupyter-widgets/controls",
            "_view_module_version": "1.5.0",
            "_view_name": "HBoxView",
            "box_style": "",
            "children": [
              "IPY_MODEL_bb348fa35cb74ec2a0db55b8d4bcab7f",
              "IPY_MODEL_798ece38614b46a79f433617727aa934",
              "IPY_MODEL_d6a9fd9c38614e529a98ef315fc05032"
            ],
            "layout": "IPY_MODEL_a79bf57dbc134c479f4583a1fa3165ff"
          }
        },
        "bb348fa35cb74ec2a0db55b8d4bcab7f": {
          "model_module": "@jupyter-widgets/controls",
          "model_name": "HTMLModel",
          "model_module_version": "1.5.0",
          "state": {
            "_dom_classes": [],
            "_model_module": "@jupyter-widgets/controls",
            "_model_module_version": "1.5.0",
            "_model_name": "HTMLModel",
            "_view_count": null,
            "_view_module": "@jupyter-widgets/controls",
            "_view_module_version": "1.5.0",
            "_view_name": "HTMLView",
            "description": "",
            "description_tooltip": null,
            "layout": "IPY_MODEL_34347f1782ed4d24bbf315911c78c1ae",
            "placeholder": "​",
            "style": "IPY_MODEL_2a8272d0d3f14933bee3723fa9356c92",
            "value": "100%"
          }
        },
        "798ece38614b46a79f433617727aa934": {
          "model_module": "@jupyter-widgets/controls",
          "model_name": "FloatProgressModel",
          "model_module_version": "1.5.0",
          "state": {
            "_dom_classes": [],
            "_model_module": "@jupyter-widgets/controls",
            "_model_module_version": "1.5.0",
            "_model_name": "FloatProgressModel",
            "_view_count": null,
            "_view_module": "@jupyter-widgets/controls",
            "_view_module_version": "1.5.0",
            "_view_name": "ProgressView",
            "bar_style": "success",
            "description": "",
            "description_tooltip": null,
            "layout": "IPY_MODEL_db21d6813fd84c978a86a7d3da97c6bd",
            "max": 20,
            "min": 0,
            "orientation": "horizontal",
            "style": "IPY_MODEL_73d78100adbe46319383d32d626b89ac",
            "value": 20
          }
        },
        "d6a9fd9c38614e529a98ef315fc05032": {
          "model_module": "@jupyter-widgets/controls",
          "model_name": "HTMLModel",
          "model_module_version": "1.5.0",
          "state": {
            "_dom_classes": [],
            "_model_module": "@jupyter-widgets/controls",
            "_model_module_version": "1.5.0",
            "_model_name": "HTMLModel",
            "_view_count": null,
            "_view_module": "@jupyter-widgets/controls",
            "_view_module_version": "1.5.0",
            "_view_name": "HTMLView",
            "description": "",
            "description_tooltip": null,
            "layout": "IPY_MODEL_d800f876ab1c40e69a832c565130fcac",
            "placeholder": "​",
            "style": "IPY_MODEL_2c68cb96a70548a9be71f23665e957a2",
            "value": " 20/20 [00:14&lt;00:00,  1.47it/s, loss=0.000]"
          }
        },
        "a79bf57dbc134c479f4583a1fa3165ff": {
          "model_module": "@jupyter-widgets/base",
          "model_name": "LayoutModel",
          "model_module_version": "1.2.0",
          "state": {
            "_model_module": "@jupyter-widgets/base",
            "_model_module_version": "1.2.0",
            "_model_name": "LayoutModel",
            "_view_count": null,
            "_view_module": "@jupyter-widgets/base",
            "_view_module_version": "1.2.0",
            "_view_name": "LayoutView",
            "align_content": null,
            "align_items": null,
            "align_self": null,
            "border": null,
            "bottom": null,
            "display": null,
            "flex": null,
            "flex_flow": null,
            "grid_area": null,
            "grid_auto_columns": null,
            "grid_auto_flow": null,
            "grid_auto_rows": null,
            "grid_column": null,
            "grid_gap": null,
            "grid_row": null,
            "grid_template_areas": null,
            "grid_template_columns": null,
            "grid_template_rows": null,
            "height": null,
            "justify_content": null,
            "justify_items": null,
            "left": null,
            "margin": null,
            "max_height": null,
            "max_width": null,
            "min_height": null,
            "min_width": null,
            "object_fit": null,
            "object_position": null,
            "order": null,
            "overflow": null,
            "overflow_x": null,
            "overflow_y": null,
            "padding": null,
            "right": null,
            "top": null,
            "visibility": null,
            "width": null
          }
        },
        "34347f1782ed4d24bbf315911c78c1ae": {
          "model_module": "@jupyter-widgets/base",
          "model_name": "LayoutModel",
          "model_module_version": "1.2.0",
          "state": {
            "_model_module": "@jupyter-widgets/base",
            "_model_module_version": "1.2.0",
            "_model_name": "LayoutModel",
            "_view_count": null,
            "_view_module": "@jupyter-widgets/base",
            "_view_module_version": "1.2.0",
            "_view_name": "LayoutView",
            "align_content": null,
            "align_items": null,
            "align_self": null,
            "border": null,
            "bottom": null,
            "display": null,
            "flex": null,
            "flex_flow": null,
            "grid_area": null,
            "grid_auto_columns": null,
            "grid_auto_flow": null,
            "grid_auto_rows": null,
            "grid_column": null,
            "grid_gap": null,
            "grid_row": null,
            "grid_template_areas": null,
            "grid_template_columns": null,
            "grid_template_rows": null,
            "height": null,
            "justify_content": null,
            "justify_items": null,
            "left": null,
            "margin": null,
            "max_height": null,
            "max_width": null,
            "min_height": null,
            "min_width": null,
            "object_fit": null,
            "object_position": null,
            "order": null,
            "overflow": null,
            "overflow_x": null,
            "overflow_y": null,
            "padding": null,
            "right": null,
            "top": null,
            "visibility": null,
            "width": null
          }
        },
        "2a8272d0d3f14933bee3723fa9356c92": {
          "model_module": "@jupyter-widgets/controls",
          "model_name": "DescriptionStyleModel",
          "model_module_version": "1.5.0",
          "state": {
            "_model_module": "@jupyter-widgets/controls",
            "_model_module_version": "1.5.0",
            "_model_name": "DescriptionStyleModel",
            "_view_count": null,
            "_view_module": "@jupyter-widgets/base",
            "_view_module_version": "1.2.0",
            "_view_name": "StyleView",
            "description_width": ""
          }
        },
        "db21d6813fd84c978a86a7d3da97c6bd": {
          "model_module": "@jupyter-widgets/base",
          "model_name": "LayoutModel",
          "model_module_version": "1.2.0",
          "state": {
            "_model_module": "@jupyter-widgets/base",
            "_model_module_version": "1.2.0",
            "_model_name": "LayoutModel",
            "_view_count": null,
            "_view_module": "@jupyter-widgets/base",
            "_view_module_version": "1.2.0",
            "_view_name": "LayoutView",
            "align_content": null,
            "align_items": null,
            "align_self": null,
            "border": null,
            "bottom": null,
            "display": null,
            "flex": null,
            "flex_flow": null,
            "grid_area": null,
            "grid_auto_columns": null,
            "grid_auto_flow": null,
            "grid_auto_rows": null,
            "grid_column": null,
            "grid_gap": null,
            "grid_row": null,
            "grid_template_areas": null,
            "grid_template_columns": null,
            "grid_template_rows": null,
            "height": null,
            "justify_content": null,
            "justify_items": null,
            "left": null,
            "margin": null,
            "max_height": null,
            "max_width": null,
            "min_height": null,
            "min_width": null,
            "object_fit": null,
            "object_position": null,
            "order": null,
            "overflow": null,
            "overflow_x": null,
            "overflow_y": null,
            "padding": null,
            "right": null,
            "top": null,
            "visibility": null,
            "width": null
          }
        },
        "73d78100adbe46319383d32d626b89ac": {
          "model_module": "@jupyter-widgets/controls",
          "model_name": "ProgressStyleModel",
          "model_module_version": "1.5.0",
          "state": {
            "_model_module": "@jupyter-widgets/controls",
            "_model_module_version": "1.5.0",
            "_model_name": "ProgressStyleModel",
            "_view_count": null,
            "_view_module": "@jupyter-widgets/base",
            "_view_module_version": "1.2.0",
            "_view_name": "StyleView",
            "bar_color": null,
            "description_width": ""
          }
        },
        "d800f876ab1c40e69a832c565130fcac": {
          "model_module": "@jupyter-widgets/base",
          "model_name": "LayoutModel",
          "model_module_version": "1.2.0",
          "state": {
            "_model_module": "@jupyter-widgets/base",
            "_model_module_version": "1.2.0",
            "_model_name": "LayoutModel",
            "_view_count": null,
            "_view_module": "@jupyter-widgets/base",
            "_view_module_version": "1.2.0",
            "_view_name": "LayoutView",
            "align_content": null,
            "align_items": null,
            "align_self": null,
            "border": null,
            "bottom": null,
            "display": null,
            "flex": null,
            "flex_flow": null,
            "grid_area": null,
            "grid_auto_columns": null,
            "grid_auto_flow": null,
            "grid_auto_rows": null,
            "grid_column": null,
            "grid_gap": null,
            "grid_row": null,
            "grid_template_areas": null,
            "grid_template_columns": null,
            "grid_template_rows": null,
            "height": null,
            "justify_content": null,
            "justify_items": null,
            "left": null,
            "margin": null,
            "max_height": null,
            "max_width": null,
            "min_height": null,
            "min_width": null,
            "object_fit": null,
            "object_position": null,
            "order": null,
            "overflow": null,
            "overflow_x": null,
            "overflow_y": null,
            "padding": null,
            "right": null,
            "top": null,
            "visibility": null,
            "width": null
          }
        },
        "2c68cb96a70548a9be71f23665e957a2": {
          "model_module": "@jupyter-widgets/controls",
          "model_name": "DescriptionStyleModel",
          "model_module_version": "1.5.0",
          "state": {
            "_model_module": "@jupyter-widgets/controls",
            "_model_module_version": "1.5.0",
            "_model_name": "DescriptionStyleModel",
            "_view_count": null,
            "_view_module": "@jupyter-widgets/base",
            "_view_module_version": "1.2.0",
            "_view_name": "StyleView",
            "description_width": ""
          }
        }
      }
    }
  },
  "nbformat": 4,
  "nbformat_minor": 0
}