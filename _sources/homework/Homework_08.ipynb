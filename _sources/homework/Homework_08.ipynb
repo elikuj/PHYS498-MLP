{
  "cells": [
    {
      "cell_type": "markdown",
      "metadata": {
        "id": "xJZC3QaEvB6o"
      },
      "source": [
        "# Homework 08: Detecting Distribution Shift on MNIST using Bayesian Neural Networks"
      ]
    },
    {
      "cell_type": "markdown",
      "metadata": {
        "id": "U-nVJ7FyvB6q"
      },
      "source": [
        "## <span style=\"color:Orange\">Overview</span>"
      ]
    },
    {
      "cell_type": "markdown",
      "metadata": {
        "id": "F-bJ1LbSpXy2"
      },
      "source": [
        "In this exercise we will compare Bayesian NNs with deterministic NNs on a distribution shift detection task. To do this, we'll monitor the predictive entropy as the distribution gradually shifts.  A model with better uncertainty quantification should become less certain---that is, have a more entropic predictive distribution---as the input distribution shifts.  Mathematically, our quantity of interest is:\n",
        "\n",
        "$$ \\Large\n",
        "\\mathbb{H}[y | x^{*}, D] = - \\sum_{y} p(y | x^{*}, D) \\log p(y | x^{*}, D)\n",
        "$$\n",
        "\n",
        "where $p(y | x^{*}, D)$ is the predictive distribution:\n",
        "\n",
        "$$ \\Large\n",
        "p(y | x^{*}, D) = \\int_{\\theta} p(y | x^{*}, \\theta) \\ p(\\theta | D) \\ d \\theta.\n",
        "$$\n",
        "\n",
        "The goal is to obtain something similar to Figure #4 from the paper [Multiplicative Normalizing Flows for Variational Bayesian Neural Networks](https://arxiv.org/abs/1603.04733), comparing MC dropout, ensembles, and a Bayesian NN.\n",
        "\n",
        "We will be using the well-known MNIST dataset, a set of 70,000 hand-written digit images, and we will generate a gradual distribution shift on the dataset by rotating the images. As such, the final plot will depict the change in the entropy of the predictive distribution (y-axis) as degree of rotation increases (x-axis). The paper above shows the result for one image.  We, on the other hand, will average over multiple images to make a better comparison between models."
      ]
    },
    {
      "cell_type": "markdown",
      "metadata": {
        "id": "9eFpKnMEvB6s"
      },
      "source": [
        "We'll use rotation to simulate a smooth shift. Here's how you can rotate a given image:"
      ]
    },
    {
      "cell_type": "code",
      "execution_count": 1,
      "metadata": {
        "id": "cxWkiFQAvB6s"
      },
      "outputs": [],
      "source": [
        "import torch\n",
        "import torch.nn as nn\n",
        "import numpy as np\n",
        "import matplotlib.pyplot as plt\n",
        "from tqdm.auto import trange, tqdm\n",
        "\n",
        "torch.manual_seed(42)\n",
        "np.random.seed(42)\n",
        "\n",
        "from PIL import Image\n",
        "from torchvision import datasets\n",
        "from torch.nn.functional import softmax\n",
        "from torchvision.transforms.functional import rotate"
      ]
    },
    {
      "cell_type": "code",
      "execution_count": 2,
      "metadata": {
        "id": "Gttow5DvvB6u"
      },
      "outputs": [],
      "source": [
        "def imshow(image):\n",
        "    plt.imshow(image, cmap='gray', vmin=0, vmax=255)\n",
        "    plt.show()"
      ]
    },
    {
      "cell_type": "code",
      "execution_count": 3,
      "metadata": {
        "id": "k0boJR1avB6u"
      },
      "outputs": [],
      "source": [
        "def show_rotation_on_mnist_example_image():\n",
        "    mnist_train = datasets.MNIST('./tmp_data', train=True, download=True)\n",
        "    image = Image.fromarray(mnist_train.data[0].numpy())\n",
        "    imshow(image)\n",
        "    rotated_image = rotate(image, angle=90)\n",
        "    imshow(rotated_image)"
      ]
    },
    {
      "cell_type": "code",
      "execution_count": 4,
      "metadata": {
        "colab": {
          "base_uri": "https://localhost:8080/",
          "height": 916
        },
        "id": "rOgST-JsvB6v",
        "outputId": "9ff92e76-73c6-47f7-805e-823436988d35"
      },
      "outputs": [
        {
          "output_type": "stream",
          "name": "stderr",
          "text": [
            "100%|██████████| 9.91M/9.91M [00:00<00:00, 16.1MB/s]\n",
            "100%|██████████| 28.9k/28.9k [00:00<00:00, 487kB/s]\n",
            "100%|██████████| 1.65M/1.65M [00:00<00:00, 4.49MB/s]\n",
            "100%|██████████| 4.54k/4.54k [00:00<00:00, 8.64MB/s]\n"
          ]
        },
        {
          "output_type": "display_data",
          "data": {
            "text/plain": [
              "<Figure size 640x480 with 1 Axes>"
            ],
            "image/png": "[encoded data removed]"
          },
          "metadata": {}
        },
        {
          "output_type": "display_data",
          "data": {
            "text/plain": [
              "<Figure size 640x480 with 1 Axes>"
            ],
            "image/png": "[encoded data removed]"
          },
          "metadata": {}
        }
      ],
      "source": [
        "show_rotation_on_mnist_example_image()"
      ]
    },
    {
      "cell_type": "markdown",
      "metadata": {
        "id": "tiocyTTevB6w"
      },
      "source": [
        "Let's setup the training and testing data:"
      ]
    },
    {
      "cell_type": "code",
      "execution_count": 5,
      "metadata": {
        "colab": {
          "base_uri": "https://localhost:8080/"
        },
        "id": "MopsKDF4vB6y",
        "outputId": "e68d3a50-0f86-419f-a805-d5f2941c776d"
      },
      "outputs": [
        {
          "output_type": "stream",
          "name": "stderr",
          "text": [
            "100%|██████████| 9.91M/9.91M [00:00<00:00, 17.8MB/s]\n",
            "100%|██████████| 28.9k/28.9k [00:00<00:00, 483kB/s]\n",
            "100%|██████████| 1.65M/1.65M [00:00<00:00, 4.39MB/s]\n",
            "100%|██████████| 4.54k/4.54k [00:00<00:00, 11.1MB/s]\n"
          ]
        }
      ],
      "source": [
        "def get_mnist_data(train=True):\n",
        "    mnist_data = datasets.MNIST('../data', train=train, download=True)\n",
        "    x = mnist_data.data.reshape(-1, 28 * 28).float()\n",
        "    y = mnist_data.targets\n",
        "    return x, y\n",
        "\n",
        "x_train, y_train = get_mnist_data(train=True)\n",
        "x_test, y_test = get_mnist_data(train=False)"
      ]
    },
    {
      "cell_type": "markdown",
      "metadata": {
        "id": "sfztJy5XvB6y"
      },
      "source": [
        "Now that we have the data, let's start training neural networks."
      ]
    },
    {
      "cell_type": "markdown",
      "metadata": {
        "id": "SHuKLNMKvB6z"
      },
      "source": [
        "## <span style=\"color:Orange\">Define non-Bayesian (Deterministic) Neural Network</span>"
      ]
    },
    {
      "cell_type": "markdown",
      "metadata": {
        "id": "Dhfm9HouvB6z"
      },
      "source": [
        "We will reuse our MLP network architecture with different hyperparameters:"
      ]
    },
    {
      "cell_type": "markdown",
      "metadata": {
        "id": "MpBa62wdvB6z"
      },
      "source": [
        "First let's create our point estimate neural network, in other words a standard fully connected MLP. We will define the number of hidden layers dynamically so we can reuse the same class for different depths.  We will also add a ___<span style=\"color:violet\">dropout</span>___ flag, this will allow us to easily use the same architecture for our BNN."
      ]
    },
    {
      "cell_type": "code",
      "execution_count": 6,
      "metadata": {
        "id": "GayRjFvevB6z"
      },
      "outputs": [],
      "source": [
        "class MLP(nn.Module):\n",
        "    def __init__(self, input_dim=1, output_dim=1, hidden_dim=10, n_hidden_layers=1, use_dropout=False):\n",
        "        super().__init__()\n",
        "\n",
        "        self.use_dropout = use_dropout\n",
        "        if use_dropout:\n",
        "            self.dropout = nn.Dropout(p=0.5)\n",
        "        self.activation = nn.Tanh()\n",
        "\n",
        "        # dynamically define architecture\n",
        "        self.layer_sizes = [input_dim] + n_hidden_layers * [hidden_dim] + [output_dim]\n",
        "        layer_list = [nn.Linear(self.layer_sizes[idx - 1], self.layer_sizes[idx]) for idx in\n",
        "                      range(1, len(self.layer_sizes))]\n",
        "        self.layers = nn.ModuleList(layer_list)\n",
        "\n",
        "    def forward(self, input):\n",
        "        hidden = self.activation(self.layers[0](input))\n",
        "        for layer in self.layers[1:-1]:\n",
        "            hidden_temp = self.activation(layer(hidden))\n",
        "\n",
        "            if self.use_dropout:\n",
        "                hidden_temp = self.dropout(hidden_temp)\n",
        "\n",
        "            hidden = hidden_temp + hidden  # residual connection\n",
        "\n",
        "        output_mean = self.layers[-1](hidden).squeeze()\n",
        "        return output_mean"
      ]
    },
    {
      "cell_type": "markdown",
      "metadata": {
        "id": "lfI4VEqUvB60"
      },
      "source": [
        "## <span style=\"color:Orange\">Problem 1: Deterministic Neural Network</span>"
      ]
    },
    {
      "cell_type": "code",
      "execution_count": 7,
      "metadata": {
        "id": "uzbWvFDxvB60"
      },
      "outputs": [],
      "source": [
        "net = MLP(input_dim=784, output_dim=10, hidden_dim=30, n_hidden_layers=3)"
      ]
    },
    {
      "cell_type": "markdown",
      "metadata": {
        "id": "u-w19-Z8vB62"
      },
      "source": [
        "### <span style=\"color:LightGreen\">Training</span>"
      ]
    },
    {
      "cell_type": "code",
      "execution_count": 8,
      "metadata": {
        "id": "9w4dutaAvB62"
      },
      "outputs": [],
      "source": [
        "def train_on_mnist(net):\n",
        "    x_train, y_train = get_mnist_data(train=True)\n",
        "    optimizer = torch.optim.Adam(params=net.parameters(), lr=1e-4)\n",
        "    criterion = nn.CrossEntropyLoss()\n",
        "    batch_size = 250\n",
        "\n",
        "    progress_bar = trange(20)\n",
        "    for _ in progress_bar:\n",
        "        for batch_idx in range(int(x_train.shape[0] / batch_size)):\n",
        "            batch_low, batch_high = batch_idx * batch_size, (batch_idx + 1) * batch_size\n",
        "            optimizer.zero_grad()\n",
        "            loss = criterion(target=y_train[batch_low:batch_high], input=net(x_train[batch_low:batch_high]))\n",
        "            progress_bar.set_postfix(loss=f'{loss / batch_size:.3f}')\n",
        "            loss.backward()\n",
        "            optimizer.step()\n",
        "    return net"
      ]
    },
    {
      "cell_type": "code",
      "execution_count": 9,
      "metadata": {
        "colab": {
          "base_uri": "https://localhost:8080/",
          "height": 49,
          "referenced_widgets": [
            "b9b0b7025ac2425c8f761ddc8bf8ae05",
            "fb8ce81d3b6141f5bd58282d4c1180cf",
            "4c824686839345769b0bb1f4f64aabff",
            "97bb7664b8b24145a21c2c962b07de3e",
            "9a4011f84853470db234687c95cfc9e3",
            "44ce7f8edbc74e9496348bf934dec48b",
            "198e7dddc88f42779244b761b15d7dd3",
            "f182bb491302455da45e193a7339c893",
            "b4a88c21fe6446c3a4d1ede3cf330296",
            "d29f3f86e1b84c359593b8278aee2a01",
            "212f77d5d2404fcdbb847142350df848"
          ]
        },
        "id": "KEcfp9zUvB62",
        "outputId": "12171d8c-24ec-4220-f34f-05a45710f6db"
      },
      "outputs": [
        {
          "output_type": "display_data",
          "data": {
            "text/plain": [
              "  0%|          | 0/20 [00:00<?, ?it/s]"
            ],
            "application/vnd.jupyter.widget-view+json": {
              "version_major": 2,
              "version_minor": 0,
              "model_id": "b9b0b7025ac2425c8f761ddc8bf8ae05"
            }
          },
          "metadata": {}
        }
      ],
      "source": [
        "net = train_on_mnist(net)"
      ]
    },
    {
      "cell_type": "markdown",
      "metadata": {
        "id": "ohhumtqpvB68"
      },
      "source": [
        "### <span style=\"color:LightGreen\">Testing</span>"
      ]
    },
    {
      "cell_type": "code",
      "execution_count": 10,
      "metadata": {
        "id": "wzpZzIdOvB68"
      },
      "outputs": [],
      "source": [
        "def accuracy(targets, predictions):\n",
        "  return (targets == predictions).sum() / targets.shape[0]"
      ]
    },
    {
      "cell_type": "code",
      "execution_count": 11,
      "metadata": {
        "id": "L6zp1yDHvB69"
      },
      "outputs": [],
      "source": [
        "def evaluate_accuracy_on_mnist(net):\n",
        "    test_data = get_mnist_data(train=False)\n",
        "    x_test, y_test = test_data\n",
        "    net.eval()\n",
        "    y_preds = net(x_test).argmax(1)\n",
        "    acc = accuracy(y_test, y_preds)\n",
        "    print(\"Test accuracy is %.2f%%\" % (acc.item() * 100))"
      ]
    },
    {
      "cell_type": "code",
      "execution_count": 12,
      "metadata": {
        "colab": {
          "base_uri": "https://localhost:8080/"
        },
        "id": "ECj-mOlEvB69",
        "outputId": "9486506f-dae4-4cf6-f08f-f4d17a83a7d1"
      },
      "outputs": [
        {
          "output_type": "stream",
          "name": "stdout",
          "text": [
            "Test accuracy is 92.47%\n"
          ]
        }
      ],
      "source": [
        "evaluate_accuracy_on_mnist(net)"
      ]
    },
    {
      "cell_type": "markdown",
      "metadata": {
        "id": "WttCC9TQvB69"
      },
      "source": [
        "### <span style=\"color:LightGreen\">Rotating the Images</span>"
      ]
    },
    {
      "cell_type": "markdown",
      "metadata": {
        "id": "Mjro2DzHvB6-"
      },
      "source": [
        "Now let's compute predictive entropy on some rotated images..."
      ]
    },
    {
      "cell_type": "markdown",
      "metadata": {
        "id": "KhSTZlgwvB6-"
      },
      "source": [
        "First we will generate the rotated images with an increasing rotation angle from the test images. We use a subset of the MNIST test set for evaluation:"
      ]
    },
    {
      "cell_type": "code",
      "execution_count": 13,
      "metadata": {
        "id": "BergKxGwvB6-"
      },
      "outputs": [],
      "source": [
        "def get_mnist_test_subset(n_test_images):\n",
        "    mnist_test = datasets.MNIST('../data', train=False, download=True)\n",
        "    x = mnist_test.data[:n_test_images].float()\n",
        "    y = mnist_test.targets[:n_test_images]\n",
        "    return x, y"
      ]
    },
    {
      "cell_type": "code",
      "execution_count": 14,
      "metadata": {
        "id": "rU8dLtMuvB6-"
      },
      "outputs": [],
      "source": [
        "n_test_images = 100\n",
        "x_test_subset, y_test_subset = get_mnist_test_subset(n_test_images=n_test_images)"
      ]
    },
    {
      "cell_type": "code",
      "execution_count": 15,
      "metadata": {
        "id": "6ZcYcGPTvB6_"
      },
      "outputs": [],
      "source": [
        "rotation_angles = [3 * i for i in range(0, 31)] # use angles from 0 to 90 degrees\n",
        "rotated_images = [rotate(x_test_subset, angle).reshape(-1, 28 * 28) for angle in rotation_angles]"
      ]
    },
    {
      "cell_type": "markdown",
      "metadata": {
        "id": "rZ9j937MvB6_"
      },
      "source": [
        "### <span style=\"color:LightGreen\">Evaluating on the Rotated Images</span>"
      ]
    },
    {
      "cell_type": "code",
      "execution_count": 16,
      "metadata": {
        "id": "tFPjM4-svB6_"
      },
      "outputs": [],
      "source": [
        "y_preds_deterministic = [softmax(net(images), dim=-1) for images in rotated_images]"
      ]
    },
    {
      "cell_type": "markdown",
      "metadata": {
        "id": "7JahSkzYvB7A"
      },
      "source": [
        "The [information entropy](https://en.wikipedia.org/wiki/Entropy_(information_theory)) $H$ of a probability distribution $p$ over a discrete random variable $X$ with possible outcomes $x_1, \\ldots, x_N$, occuring with probabilities $p(x_i) := p_i$ is given by:\n",
        "\n",
        "$$ \\Large\n",
        "H(p) = - \\sum_{i=1}^{N} p_i \\log p_i\n",
        "$$\n",
        "\n",
        "The entropy quantifies the uncertainty of a probability distribution in the sense, that the more uncertain the outcome a hypothetical experiment with drawing from the distribution is the higher the entropy. Highest is for an equal distribution of probability mass over all possible outcomes.\n",
        "In our case the deterministic NN estimates a probability distribution over the ten digits as classes on MNIST for each image. For the rotated images we can thus calculate the entropy over the rotation angle."
      ]
    },
    {
      "cell_type": "markdown",
      "metadata": {
        "id": "Diq2nzM5vB7A"
      },
      "source": [
        "<span style=\"color:Yellow\">Question:</span> How do you expect the entropy to behave with increasing rotation angle of the images? Answer in the cell below:"
      ]
    },
    {
      "cell_type": "markdown",
      "metadata": {
        "id": "MI1YIh--vB7A"
      },
      "source": [
        "I would expect that as the rotation angle increases, the entropy will increase, as the images will be less like the actual numbers or the images the model was previously trained on, and thus result in higher uncertainty in classification."
      ]
    },
    {
      "cell_type": "markdown",
      "metadata": {
        "id": "zTweij0RvB7B"
      },
      "source": [
        "Implement a function for calculating the entropy according to the formula above"
      ]
    },
    {
      "cell_type": "code",
      "execution_count": 17,
      "metadata": {
        "id": "tGr4rx6VvB7B"
      },
      "outputs": [],
      "source": [
        "def entropy(p):\n",
        "\n",
        "  # YOUR CODE HERE\n",
        "  entropy = np.zeros((len(p),))\n",
        "  for i, image in enumerate(p):\n",
        "    entropy[i] = 0\n",
        "    for prob in image:\n",
        "      entropy[i] -= prob * np.log(prob)\n",
        "  #print(entropy)\n",
        "  return entropy\n"
      ]
    },
    {
      "cell_type": "markdown",
      "metadata": {
        "id": "sfifCPJzvB7C"
      },
      "source": [
        "Now we can calculate the accuracies and entropies for all rotated images and plot both:"
      ]
    },
    {
      "cell_type": "code",
      "execution_count": 18,
      "metadata": {
        "id": "V2Gpri1qvB7C"
      },
      "outputs": [],
      "source": [
        "def calculate_accuracies_and_entropies(y_preds):\n",
        "    accuracies = [accuracy(y_test_subset, p.argmax(axis=1)) for p in y_preds]\n",
        "    entropies = [np.mean(entropy(p.detach().numpy())) for p in y_preds]\n",
        "    return accuracies, entropies"
      ]
    },
    {
      "cell_type": "code",
      "execution_count": 19,
      "metadata": {
        "id": "0BTxofO1vB7C"
      },
      "outputs": [],
      "source": [
        "def plot_accuracy_and_entropy(add_to_plot):\n",
        "    fig, ax = plt.subplots(figsize=(10, 5))\n",
        "    plt.xlim([0, 90])\n",
        "    plt.xlabel(\"Rotation Angle\", fontsize=20)\n",
        "\n",
        "    add_to_plot(ax)\n",
        "\n",
        "    plt.legend()\n",
        "    plt.show()"
      ]
    },
    {
      "cell_type": "code",
      "execution_count": 20,
      "metadata": {
        "colab": {
          "base_uri": "https://localhost:8080/",
          "height": 479
        },
        "id": "isqkCcRAvB7D",
        "outputId": "3b029f19-c351-4a8c-c128-98a6f6ee0acd"
      },
      "outputs": [
        {
          "output_type": "display_data",
          "data": {
            "text/plain": [
              "<Figure size 1000x500 with 1 Axes>"
            ],
            "image/png": "[encoded data removed]"
          },
          "metadata": {}
        }
      ],
      "source": [
        "def add_deterministic(ax):\n",
        "    accuracies, entropies = calculate_accuracies_and_entropies(y_preds_deterministic)\n",
        "    ax.plot(rotation_angles, accuracies, 'b--', linewidth=3, label=\"Accuracy, Deterministic\")\n",
        "    ax.plot(rotation_angles, entropies, 'b-', linewidth=3, label=\"Entropy, Deterministic\")\n",
        "plot_accuracy_and_entropy(add_deterministic)"
      ]
    },
    {
      "cell_type": "markdown",
      "metadata": {
        "id": "ZkiFa61HvB7D"
      },
      "source": [
        "<span style=\"color:Yellow\">Question:</span> What is your interpretation of the plot above: Is the predictive entropy changing? If so, how would you explain this? Answer in the cell below:"
      ]
    },
    {
      "cell_type": "markdown",
      "metadata": {
        "id": "yEzdhEfSvB7D"
      },
      "source": [
        "The predictive entropy increases as the rotation angle increases, until the rotation angle reaches about 33 degrees. At this point, the predictive entropy is close to its maximum value of 1, hovering around 0.8. It stays close to 0.8 for all greater rotation angles too.\n",
        "\n",
        "This aligns with my prediction, since one would expect greater uncertainty in classification for images with a greater rotation angle. It is less likely that these images resemble any particular number so it would result in more uncertainty and thus a higher predictive entropy. This aligns with the trend of the accuracy decreasing as the rotation angle increases, as is visible in the plot above."
      ]
    },
    {
      "cell_type": "markdown",
      "metadata": {
        "id": "_Wei71OnvB7D"
      },
      "source": [
        "## <span style=\"color:Orange\">Problem 2: Monte Carlo Dropout Network</span>"
      ]
    },
    {
      "cell_type": "markdown",
      "metadata": {
        "id": "u5M0DeaUvB7D"
      },
      "source": [
        "Let's create our Dropout Network. We keep the network depth and hidden layer size the same as for the MLP for a fair model comparison"
      ]
    },
    {
      "cell_type": "code",
      "execution_count": 21,
      "metadata": {
        "id": "V_yu5ghIvB7D"
      },
      "outputs": [],
      "source": [
        "net_dropout = MLP(input_dim=784, output_dim=10, hidden_dim=30, n_hidden_layers=3, use_dropout=True)"
      ]
    },
    {
      "cell_type": "markdown",
      "metadata": {
        "id": "wTf_4d2jvB7E"
      },
      "source": [
        "### <span style=\"color:LightGreen\">Training</span>"
      ]
    },
    {
      "cell_type": "code",
      "execution_count": 22,
      "metadata": {
        "colab": {
          "base_uri": "https://localhost:8080/",
          "height": 49,
          "referenced_widgets": [
            "cc62b93174a04d08a3c804599e8d4613",
            "96609965fe2747be94c8c1275475f415",
            "6dd23e78bb73473ebe7c0209b6c90f9f",
            "f0134bc6fd0448bbba8ecbd8e00d575f",
            "8f8387bc6c214c7f8d0633413ab1e1d5",
            "5ecae65aabb34155834ef7172be1ef84",
            "5708eb7d63b240d7baaf1d32710fe2a9",
            "c2e5d7d3ec3d4b27a4b798cd3857e6c5",
            "700854552f0847b693f715541b609d15",
            "f0a57b2f17004ecba21f92572154fcd2",
            "f4a5905f62254a33bd6a53680b42f3d0"
          ]
        },
        "id": "Vilmuk1bvB7E",
        "outputId": "5b05e2da-a61d-4fa6-8082-8aaccd93348b"
      },
      "outputs": [
        {
          "output_type": "display_data",
          "data": {
            "text/plain": [
              "  0%|          | 0/20 [00:00<?, ?it/s]"
            ],
            "application/vnd.jupyter.widget-view+json": {
              "version_major": 2,
              "version_minor": 0,
              "model_id": "cc62b93174a04d08a3c804599e8d4613"
            }
          },
          "metadata": {}
        }
      ],
      "source": [
        "net_dropout = train_on_mnist(net_dropout)"
      ]
    },
    {
      "cell_type": "markdown",
      "metadata": {
        "id": "xqi8OGVuvB7E"
      },
      "source": [
        "### <span style=\"color:LightGreen\">Testing</span>"
      ]
    },
    {
      "cell_type": "code",
      "execution_count": 23,
      "metadata": {
        "colab": {
          "base_uri": "https://localhost:8080/"
        },
        "id": "h17p6K1LvB7G",
        "outputId": "48b12b6a-0210-41ec-8070-6ad7ba8c54b8"
      },
      "outputs": [
        {
          "output_type": "stream",
          "name": "stdout",
          "text": [
            "Test accuracy is 92.47%\n"
          ]
        }
      ],
      "source": [
        "evaluate_accuracy_on_mnist(net_dropout)"
      ]
    },
    {
      "cell_type": "markdown",
      "metadata": {
        "id": "UFuoNE08vB7G"
      },
      "source": [
        "### <span style=\"color:LightGreen\">Evaluating on the Rotated Images</span>"
      ]
    },
    {
      "cell_type": "markdown",
      "metadata": {
        "id": "PuZ3Pdb4vB7G"
      },
      "source": [
        "Sample 100 different dropout masks and average the predictions over them (store the predictions in a list called `y_pred_dropout`)"
      ]
    },
    {
      "cell_type": "code",
      "execution_count": 24,
      "metadata": {
        "colab": {
          "base_uri": "https://localhost:8080/"
        },
        "id": "F0bfBpydvB7G",
        "outputId": "9824ec73-6e1c-47e2-adaa-9a4c674f889c"
      },
      "outputs": [
        {
          "output_type": "stream",
          "name": "stdout",
          "text": [
            "(31, 100, 10)\n"
          ]
        }
      ],
      "source": [
        "n_dropout_samples = 100\n",
        "net_dropout.train()  # we set the model to train to 'activate' the dropout layer\n",
        "\n",
        "y_preds_dropout = [\n",
        "    torch.softmax(torch.tensor(np.mean([net_dropout(images).detach().numpy() for _ in range(n_dropout_samples)], axis=0)), dim=-1)\n",
        "    for images in rotated_images\n",
        "]\n",
        "# sources: AI Explainability and Uncertainty Quantification notebook; Gemini (for getting correct output type and shape)\n",
        "\n",
        "print(np.shape(y_preds_dropout))"
      ]
    },
    {
      "cell_type": "markdown",
      "metadata": {
        "id": "sGjeN-iOvB7G"
      },
      "source": [
        "<span style=\"color:Yellow\">Question:</span> What is the best way to average over the predictions? Should you first average the network output and then apply the softmax, or the other way around? Answer in the cell below:"
      ]
    },
    {
      "cell_type": "markdown",
      "metadata": {
        "id": "RGlaecZKvB7G"
      },
      "source": [
        "The network output should be averaged before applying softmax. Applying softmax before averaging would result in taking an average of probabilities, which would result in smoother and thus less predictive probabilities."
      ]
    },
    {
      "cell_type": "code",
      "execution_count": 25,
      "metadata": {
        "colab": {
          "base_uri": "https://localhost:8080/",
          "height": 479
        },
        "id": "TxoFY3aMvB7G",
        "outputId": "cb7eb93f-9900-4748-bd27-4152ba3e58fc"
      },
      "outputs": [
        {
          "output_type": "display_data",
          "data": {
            "text/plain": [
              "<Figure size 1000x500 with 1 Axes>"
            ],
            "image/png": "[encoded data removed]"
          },
          "metadata": {}
        }
      ],
      "source": [
        "def add_deterministic_and_dropout(ax):\n",
        "    accuracies, entropies = calculate_accuracies_and_entropies(y_preds_deterministic)\n",
        "    ax.plot(rotation_angles, accuracies, 'b--', linewidth=3, label=\"Accuracy, Deterministic\")\n",
        "    ax.plot(rotation_angles, entropies, 'b-', linewidth=3, label=\"Entropy, Deterministic\")\n",
        "\n",
        "    accuracies, entropies = calculate_accuracies_and_entropies(y_preds_dropout)\n",
        "    ax.plot(rotation_angles, accuracies, 'r--', linewidth=3, label=\"Accuracy, MC Dropout\")\n",
        "    ax.plot(rotation_angles, entropies, 'r-', linewidth=3, label=\"Entropy, MC Dropout\")\n",
        "plot_accuracy_and_entropy(add_deterministic_and_dropout)"
      ]
    },
    {
      "cell_type": "markdown",
      "metadata": {
        "id": "BSZDGbMavB7H"
      },
      "source": [
        "<span style=\"color:Yellow\">Question:</span> How does MLP compare with MC-Dropout Network? (Are there any benefits of the Bayesian approach?). Answer in the cell below:"
      ]
    },
    {
      "cell_type": "markdown",
      "metadata": {
        "id": "ROvSkudUvB7H"
      },
      "source": [
        "MC-Dropout Network has higher entropy than MLP. Both approaches are approximately the same when it comes to accuracy. % FINISH"
      ]
    },
    {
      "cell_type": "markdown",
      "metadata": {
        "id": "R-HiV2wFvB7H"
      },
      "source": [
        "## <span style=\"color:Orange\">Problem 3: Deep Ensemble</span>"
      ]
    },
    {
      "cell_type": "markdown",
      "metadata": {
        "id": "BMoU4HgQ1Tmz"
      },
      "source": [
        "Deep ensembles were first introduced by [Lakshminarayanan et al. (2017)](https://arxiv.org/abs/1612.01474). As the name implies multiple point estimate NN are trained, ___<span style=\"color:violet\">an ensemble</span>___, and the final prediction is computed as an average across the models. From a Bayesian perspective the different point estimates correspond to modes of a Bayesian posterior. This can be interpreted as approximating the posterior with a distribution parametrized as multiple Dirac deltas:\n",
        "\n",
        "$$ \\Large\n",
        "q_{\\phi}(\\theta | D) = \\sum_{\\theta_{i} ∈ ϕ} \\alpha_{\\theta_{i}} δ_{\\theta_{i}}(\\theta)\n",
        "$$\n",
        "\n",
        "where $\\alpha_{\\theta_{i}}$ are positive constants such that their sum is equal to one."
      ]
    },
    {
      "cell_type": "markdown",
      "metadata": {
        "id": "Q50aGA4HvB7I"
      },
      "source": [
        "Now let's investigate Deep Ensemble performance. We will use the exact same network hyperparameters as for the MLP:"
      ]
    },
    {
      "cell_type": "markdown",
      "metadata": {
        "id": "e3xUQkh_vB7I"
      },
      "source": [
        "Define and train an ensemble of five MLPs with the same hyperparameters as above. First generate the ensembles (store in a list called `ensemble`)"
      ]
    },
    {
      "cell_type": "code",
      "execution_count": 26,
      "metadata": {
        "id": "Cq4xE_03vB7I"
      },
      "outputs": [],
      "source": [
        "ensemble_size = 5\n",
        "\n",
        "# YOUR CODE HERE\n",
        "ensemble = []\n",
        "for i in range(ensemble_size):\n",
        "  ensemble.append(MLP(input_dim=784, output_dim=10, hidden_dim=30, n_hidden_layers=3))\n"
      ]
    },
    {
      "cell_type": "markdown",
      "metadata": {
        "id": "DvNZKxzYvB7J"
      },
      "source": [
        "### <span style=\"color:LightGreen\">Training</span>"
      ]
    },
    {
      "cell_type": "code",
      "execution_count": 27,
      "metadata": {
        "colab": {
          "base_uri": "https://localhost:8080/",
          "height": 177,
          "referenced_widgets": [
            "5481edd53ad44b2aa4776e8034354a6f",
            "a5537a62acb44a88b67967a193869475",
            "2c498297690e4451a660316299eecd25",
            "19fe06f79fad42edb0e9a611ca74d8eb",
            "05bec178734e418b8108a0f5db163b29",
            "0889595225b54657afe95a4ad46ad013",
            "5aec67f432c94903ae8f93799bbc57c2",
            "13aa98508cdb4c969b966b8ab1bf1db2",
            "4df3125a22e84623a5fba0f0b80d5c28",
            "1be4f8150e5e487983985b811833d7d9",
            "8d73648551be40c39997c89813cea831",
            "feba0c3b03b94dcfba77edaabbeed138",
            "59ae671a795e4daebe1219bc51cab3e8",
            "1dea1ab26ea247a88bc0287e24561a48",
            "11865fd9015d49589e98cbc40dd44605",
            "16ef6709fb8c4119872ea9b0358be4ef",
            "425c36adb7884a5c91d5bea2bb3b7097",
            "9d279def1f464468adb3a87da122afd2",
            "9cd4da9cfcf84cb1b0feb05435fd6b2c",
            "d867e853a7554dbfb1ce147d23b246df",
            "32cfbf40989843c1a1b39d461aa37884",
            "908546262f2c48848837e5a0e042a826",
            "357f5acc871e4e6cb742e1ae4e502069",
            "26c90b0f74d74009911ed3bb578f9d04",
            "8b3a3fe45b03406aa3986dc9ba72017e",
            "7300952b300e4b3db1a4732be3a7274c",
            "4d3ca569cc544a48ad64c13d0f7c70bf",
            "c108b8db1ada462faa7f337b5eeb2d91",
            "bcdf7e8d85814534a8f949f7d5d0c4de",
            "7226f95bc4364a2794e4a6b545703963",
            "9d26535b9a0e481aaf4672db6d32a7a9",
            "5940ba93dbc1487dbb5d7da6c5409156",
            "1305f3d3bbd347ce979dff6322437292",
            "ed01727e0e7541d1bb7cc8cc27b6eefa",
            "366575fe340b4fe58f612f0b0a9c8d7c",
            "2ea0141e7ae449c1b31db79337bef437",
            "35b0761acf4a43c4aec7c4f51653f0bf",
            "55f29bd17677430c8e40c84722159d55",
            "d1e4d6e44d62456c87006ebd27bac895",
            "42d4a9cef1d846e0b3b97a101fedfe52",
            "7412b13b891744a3ba24634e4373110b",
            "8d22d0abd7934cf9bd2ebe0580853935",
            "5c28b730c1fe44358343718170cf8f6f",
            "c8a2fffeb85d4a718a1a1d9230830b89",
            "251d48d514cf48b28efd7ee951a31c46",
            "de83178bb9624b548418e7f3b441369b",
            "3c80ea0061294579b5d8aa4ea9d0ba09",
            "7774a9db67a844458105d43af0c7ff93",
            "8df3208f8e6449b9afafe42d461d63b5",
            "1fe3799a304b4ff0a8fd5dc50734bac5",
            "2cb214529b174cbe97fea4033b8d5a09",
            "ae62e86afde14ac2ae37ad66345adc7a",
            "dd5591393f034ef988e6286eab4be351",
            "301321ee2bc6486d88bb59f9ddd40711",
            "e7581e88b94e4449b261fb7701897d2e"
          ]
        },
        "id": "PVIUdynJvB7J",
        "outputId": "290d65b7-460b-424d-e21c-511e406eed75"
      },
      "outputs": [
        {
          "output_type": "display_data",
          "data": {
            "text/plain": [
              "  0%|          | 0/20 [00:00<?, ?it/s]"
            ],
            "application/vnd.jupyter.widget-view+json": {
              "version_major": 2,
              "version_minor": 0,
              "model_id": "5481edd53ad44b2aa4776e8034354a6f"
            }
          },
          "metadata": {}
        },
        {
          "output_type": "display_data",
          "data": {
            "text/plain": [
              "  0%|          | 0/20 [00:00<?, ?it/s]"
            ],
            "application/vnd.jupyter.widget-view+json": {
              "version_major": 2,
              "version_minor": 0,
              "model_id": "feba0c3b03b94dcfba77edaabbeed138"
            }
          },
          "metadata": {}
        },
        {
          "output_type": "display_data",
          "data": {
            "text/plain": [
              "  0%|          | 0/20 [00:00<?, ?it/s]"
            ],
            "application/vnd.jupyter.widget-view+json": {
              "version_major": 2,
              "version_minor": 0,
              "model_id": "357f5acc871e4e6cb742e1ae4e502069"
            }
          },
          "metadata": {}
        },
        {
          "output_type": "display_data",
          "data": {
            "text/plain": [
              "  0%|          | 0/20 [00:00<?, ?it/s]"
            ],
            "application/vnd.jupyter.widget-view+json": {
              "version_major": 2,
              "version_minor": 0,
              "model_id": "ed01727e0e7541d1bb7cc8cc27b6eefa"
            }
          },
          "metadata": {}
        },
        {
          "output_type": "display_data",
          "data": {
            "text/plain": [
              "  0%|          | 0/20 [00:00<?, ?it/s]"
            ],
            "application/vnd.jupyter.widget-view+json": {
              "version_major": 2,
              "version_minor": 0,
              "model_id": "251d48d514cf48b28efd7ee951a31c46"
            }
          },
          "metadata": {}
        }
      ],
      "source": [
        "for net in ensemble:\n",
        "  train_on_mnist(net)"
      ]
    },
    {
      "cell_type": "markdown",
      "metadata": {
        "id": "Vu7oipTjvB7J"
      },
      "source": [
        "### <span style=\"color:LightGreen\">Testing</span>"
      ]
    },
    {
      "cell_type": "markdown",
      "metadata": {
        "id": "v2jK1IgWvB7K"
      },
      "source": [
        "Evaluate the accuracy of the ensemble prediction. ___Hints___: How do you aggregate best over the multiple different predictions given by the members of the ensemble? What is the difference to the regression setting above?v"
      ]
    },
    {
      "cell_type": "code",
      "execution_count": 36,
      "metadata": {
        "colab": {
          "base_uri": "https://localhost:8080/"
        },
        "id": "G6Y0MY_pvB7K",
        "outputId": "a20ac2b8-1ba4-4998-b3ce-970d56dc0367"
      },
      "outputs": [
        {
          "output_type": "stream",
          "name": "stdout",
          "text": [
            "Test accuracy is 93.16%\n",
            "Test accuracy is 92.65%\n",
            "Test accuracy is 92.84%\n",
            "Test accuracy is 93.29%\n",
            "Test accuracy is 92.33%\n"
          ]
        }
      ],
      "source": [
        "# accuracies of each individual member of the ensemble:\n",
        "for i in ensemble:\n",
        "  evaluate_accuracy_on_mnist(i)"
      ]
    },
    {
      "cell_type": "code",
      "source": [
        "# Let's define a new function, similar to evaluate_accuracy_on_mnist(), to determine the accuracy of the ensemble when all are working together.\n",
        "def evaluate_accuracy_on_mnist_ensemble(ensemble):\n",
        "    test_data = get_mnist_data(train=False)\n",
        "    x_test, y_test = test_data\n",
        "    evaled = [net.eval() for net in ensemble]\n",
        "    y_preds_all = [net(x_test).argmax(1) for net in evaled]\n",
        "    def most_frequent(List):\n",
        "      return max(set(List), key=List.count)\n",
        "\n",
        "    y_preds = np.array([most_frequent(i) for i in zip(*y_preds_all)])\n",
        "    acc = accuracy(y_test, y_preds)\n",
        "    print(\"Test accuracy is %.2f%%\" % (acc.item() * 100))\n",
        "\n",
        "evaluate_accuracy_on_mnist_ensemble(ensemble)"
      ],
      "metadata": {
        "id": "FM-Fbut4lt31",
        "outputId": "1b6f06ea-c701-4a78-cac6-3ba6ab517b22",
        "colab": {
          "base_uri": "https://localhost:8080/"
        }
      },
      "execution_count": 42,
      "outputs": [
        {
          "output_type": "stream",
          "name": "stdout",
          "text": [
            "Test accuracy is 94.76%\n"
          ]
        }
      ]
    },
    {
      "cell_type": "markdown",
      "source": [
        "Above, we evaluated the accuracy of the ensemble by choosing the prediction of a given value to be whichever value was predicted by the *most* members of the ensemble (so if the ensemble's members predicted 1, 1, 3, 7, 1 respectively, the final prediction would be 1, since it was predicted most often). We can see that the test accuracy is higher on the aggregated predictions than it is for any individual prediction, indicating that an ensemble of MLPs is more effective at classifying the data than a single MLP is."
      ],
      "metadata": {
        "id": "spNWsDD1obG5"
      }
    },
    {
      "cell_type": "markdown",
      "source": [],
      "metadata": {
        "id": "bzcG-bqXmLGT"
      }
    },
    {
      "cell_type": "markdown",
      "metadata": {
        "id": "yWe2i9movB7K"
      },
      "source": [
        "### <span style=\"color:LightGreen\">Evaluating on the Rotated Images</span>"
      ]
    },
    {
      "cell_type": "markdown",
      "metadata": {
        "id": "SyMj9lPvvB7L"
      },
      "source": [
        "Again, average the predictions, but this time over the members of the ensemble (store the predictions in a list called `y_preds_ensemble`)"
      ]
    },
    {
      "cell_type": "code",
      "execution_count": null,
      "metadata": {
        "id": "8PDiVcUnvB7L"
      },
      "outputs": [],
      "source": [
        "# YOUR CODE HERE\n",
        "raise NotImplementedError()\n",
        "\n",
        "# y_preds_ensemble = NotImplemented"
      ]
    },
    {
      "cell_type": "code",
      "execution_count": null,
      "metadata": {
        "id": "bcXzF9OBvB7L"
      },
      "outputs": [],
      "source": [
        "def add_deep_ensemble(ax):\n",
        "    accuracies, entropies = calculate_accuracies_and_entropies(y_preds_deterministic)\n",
        "    ax.plot(rotation_angles, accuracies, 'b--', linewidth=3, label=\"Accuracy, Deterministic\")\n",
        "    ax.plot(rotation_angles, entropies, 'b-', linewidth=3, label=\"Entropy, Deterministic\")\n",
        "\n",
        "    accuracies, entropies = calculate_accuracies_and_entropies(y_preds_dropout)\n",
        "    ax.plot(rotation_angles, accuracies, 'r--', linewidth=3, label=\"Accuracy, MC Dropout\")\n",
        "    ax.plot(rotation_angles, entropies, 'r-', linewidth=3, label=\"Entropy, MC Dropout\")\n",
        "\n",
        "    accuracies, entropies = calculate_accuracies_and_entropies(y_preds_ensemble)\n",
        "    ax.plot(rotation_angles, accuracies, 'g--', linewidth=3, label=\"Accuracy, Deep Ensemble\")\n",
        "    ax.plot(rotation_angles, entropies, 'g-', linewidth=3, label=\"Entropy, Deep Ensemble\")"
      ]
    },
    {
      "cell_type": "code",
      "execution_count": null,
      "metadata": {
        "id": "WcMNd9g2vB7L"
      },
      "outputs": [],
      "source": [
        "plot_accuracy_and_entropy(add_deep_ensemble)"
      ]
    },
    {
      "cell_type": "markdown",
      "metadata": {
        "id": "7QPQ_KqGvB7L"
      },
      "source": [
        "<span style=\"color:Yellow\">Question:</span> Are there any differences in the performance? Explain why you see or don't see any differences. Answer in the cell below:"
      ]
    },
    {
      "cell_type": "markdown",
      "metadata": {
        "id": "-qI9N8DZvB7M"
      },
      "source": []
    },
    {
      "cell_type": "markdown",
      "metadata": {
        "id": "FJvPMTvqvB7M"
      },
      "source": [
        "## [EXTRA CREDIT] <span style=\"color:Orange\">Problem 4: Bayesian Neural Network</span>"
      ]
    },
    {
      "cell_type": "markdown",
      "metadata": {
        "id": "NkK1jyYvvB7M"
      },
      "source": [
        "First install pyro package:"
      ]
    },
    {
      "cell_type": "code",
      "execution_count": null,
      "metadata": {
        "id": "wQz27p5cvB7M"
      },
      "outputs": [],
      "source": [
        "%pip install pyro-ppl"
      ]
    },
    {
      "cell_type": "code",
      "execution_count": null,
      "metadata": {
        "id": "lUr4naLAvB7N"
      },
      "outputs": [],
      "source": [
        "import pyro\n",
        "import pyro.distributions as dist\n",
        "from pyro.nn import PyroModule, PyroSample\n",
        "from pyro.infer import Predictive\n",
        "from pyro.infer import SVI, Trace_ELBO\n",
        "from pyro.infer.autoguide import AutoDiagonalNormal\n",
        "from pyro.distributions import Normal, Categorical\n",
        "from torch.nn.functional import softmax\n",
        "from tqdm.auto import trange, tqdm"
      ]
    },
    {
      "cell_type": "markdown",
      "metadata": {
        "id": "G9pH7CO7vB7N"
      },
      "source": [
        "Implement a Bayesian Neural Network for classifying MNIST digits. For background on deep Bayesian networks, see the lecture notebook on [Uncertainty Quantification](AIExplainabilityUncertaintyQuantification.ipynb)."
      ]
    },
    {
      "cell_type": "markdown",
      "metadata": {
        "id": "Vj-mgXD5vB7N"
      },
      "source": [
        "As a backbone use the MLP architecture introduced in the beginning of the notebook. However, because we will implement a custom *guide()*, define every layer explicitly."
      ]
    },
    {
      "cell_type": "code",
      "execution_count": null,
      "metadata": {
        "id": "EFciV_HXvB7N"
      },
      "outputs": [],
      "source": [
        "class My_MLP(nn.Module):\n",
        "  '''\n",
        "  Implement a MLP with 3 hidden layers, Tanh activation, no dropout or residual connections\n",
        "  '''\n",
        "  def __init__(self, in_dim=784, out_dim=10, hid_dim=200):\n",
        "    super().__init__()\n",
        "    assert in_dim > 0\n",
        "    assert out_dim > 0\n",
        "    assert hid_dim > 0\n",
        "\n",
        "    # Define the activation\n",
        "    # YOUR CODE HERE\n",
        "    raise NotImplementedError()\n",
        "    # self.act =\n",
        "\n",
        "    # Define the 3 hidden layers:\n",
        "    # YOUR CODE HERE\n",
        "    raise NotImplementedError()\n",
        "    # self.fc1 =\n",
        "    # self.fc2 =\n",
        "    # self.fc3 =\n",
        "    # self.out =\n",
        "\n",
        "  def forward(self, x):\n",
        "    # YOUR CODE HERE\n",
        "    raise NotImplementedError()\n",
        "\n",
        "    return pred"
      ]
    },
    {
      "cell_type": "markdown",
      "metadata": {
        "id": "y2GLZBvjvB7O"
      },
      "source": [
        "Initialize the network. You will have to access it's layers in your model and guide functions"
      ]
    },
    {
      "cell_type": "code",
      "execution_count": null,
      "metadata": {
        "id": "rSNS9uMyvB7O"
      },
      "outputs": [],
      "source": [
        "net = My_MLP()"
      ]
    },
    {
      "cell_type": "code",
      "execution_count": null,
      "metadata": {
        "id": "mDqgUDjEvB7O"
      },
      "outputs": [],
      "source": [
        "# confirm your layer names\n",
        "for name, _ in net.named_parameters():\n",
        "    print(name)"
      ]
    },
    {
      "cell_type": "markdown",
      "metadata": {
        "id": "BMZpSZl6vB7P"
      },
      "source": [
        "Define the model:\n",
        "> Probablistic models in Pyro are specified as *model()* functions. This function defines how the output data is generated. Within the model() function, first, the pyro module *random_module()* converts the paramaters of our NN into random variables that have prior probability distributions. Second, in pyro *sample* we define that the output of the network is categorical, while the pyro *plate* allows us to vectorize this function for computational efficiency.\n",
        "\n",
        "> Hint: remember we are doing a classification instead of regression!"
      ]
    },
    {
      "cell_type": "markdown",
      "metadata": {
        "id": "L3L4mAeMvB7P"
      },
      "source": [
        "You can 'cheat' a little: to speed up the training and limit a bit more the number of paramters we need to optimize, implement a BNN where only the **last layer** is Bayesian!"
      ]
    },
    {
      "cell_type": "code",
      "execution_count": null,
      "metadata": {
        "id": "f0sgVNqlvB7P"
      },
      "outputs": [],
      "source": [
        "def model(x_data, y_data):\n",
        "\n",
        "  # YOUR CODE HERE\n",
        "  raise NotImplementedError()"
      ]
    },
    {
      "cell_type": "markdown",
      "metadata": {
        "id": "f1QnGgSivB7P"
      },
      "source": [
        "implement the guide(), *variational distribution*:\n",
        "> the guide allows us to initialise a well behaved distribution which later we can optmize to approximate the true posterior"
      ]
    },
    {
      "cell_type": "code",
      "execution_count": null,
      "metadata": {
        "id": "2yCF9clFvB7Q"
      },
      "outputs": [],
      "source": [
        "softplus = torch.nn.Softplus()\n",
        "\n",
        "def my_guide(x_data, y_data):\n",
        "\n",
        "  # YOUR CODE HERE\n",
        "  raise NotImplementedError()"
      ]
    },
    {
      "cell_type": "markdown",
      "metadata": {
        "id": "awUXTNhLvB7Q"
      },
      "source": [
        "Initialize the stochastic variational inference (SVI)"
      ]
    },
    {
      "cell_type": "code",
      "execution_count": null,
      "metadata": {
        "id": "30qNC2xNvB7Q"
      },
      "outputs": [],
      "source": [
        "adam = pyro.optim.Adam({\"lr\": 1e-3})\n",
        "\n",
        "# YOUR CODE HERE\n",
        "# svi = raise NotImplementedError()"
      ]
    },
    {
      "cell_type": "markdown",
      "metadata": {
        "id": "oOA3p46WvB7R"
      },
      "source": [
        "### <span style=\"color:LightGreen\">Training</span>"
      ]
    },
    {
      "cell_type": "code",
      "execution_count": null,
      "metadata": {
        "id": "i2jjlRv8vB7R"
      },
      "outputs": [],
      "source": [
        "pyro.clear_param_store()\n",
        "batch_size = 250\n",
        "bar = trange(30)\n",
        "for epoch in bar:\n",
        "  for batch_idx in range(int(x_train.shape[0] / batch_size)):\n",
        "    batch_low, batch_high = batch_idx * batch_size, (batch_idx+1) * batch_size\n",
        "    loss = svi.step(x_train[batch_low:batch_high], y_train[batch_low:batch_high])\n",
        "    bar.set_postfix(loss=f'{loss / batch_size:.3f}')"
      ]
    },
    {
      "cell_type": "markdown",
      "metadata": {
        "id": "SoCCZ2jfvB7R"
      },
      "source": [
        "### <span style=\"color:LightGreen\">Testing</span>"
      ]
    },
    {
      "cell_type": "markdown",
      "metadata": {
        "id": "ZrhiTqtMvB7S"
      },
      "source": [
        "Use the learned *guide()* function to do predictions. Why? Because the *model()* function knows the **priors** for the weights and biases, **not** the learned posterior. The *guide()* contains the approximate posterior distributions of the parameter values, which we want to use to make the predictions."
      ]
    },
    {
      "cell_type": "code",
      "execution_count": null,
      "metadata": {
        "id": "rHrgrLMEvB7S"
      },
      "outputs": [],
      "source": [
        "num_samples = 10\n",
        "\n",
        "# YOUR CODE HERE\n",
        "raise NotImplementedError()\n",
        "\n",
        "# y_preds = NotImplemented"
      ]
    },
    {
      "cell_type": "markdown",
      "metadata": {
        "id": "krOWFrpbvB7S"
      },
      "source": [
        "### <span style=\"color:LightGreen\">Evaluating on Rotated Images</span>"
      ]
    },
    {
      "cell_type": "markdown",
      "metadata": {
        "id": "rbeyGX6vvB7U"
      },
      "source": [
        "Store the predictions in a list called `y_preds_bnn`"
      ]
    },
    {
      "cell_type": "code",
      "execution_count": null,
      "metadata": {
        "id": "Iu38QaKAvB7U"
      },
      "outputs": [],
      "source": [
        "num_samples = 50\n",
        "\n",
        "# YOUR CODE HERE\n",
        "raise NotImplementedError()\n",
        "\n",
        "# y_preds_bnn = NotImplemented"
      ]
    },
    {
      "cell_type": "markdown",
      "metadata": {
        "id": "tc_-r9vDvB7V"
      },
      "source": [
        "Show entropies for all four models"
      ]
    },
    {
      "cell_type": "code",
      "execution_count": null,
      "metadata": {
        "id": "SQDtU1YFvB7V"
      },
      "outputs": [],
      "source": [
        "# add the computed values for BNN\n",
        "\n",
        "def add_bnn(ax):\n",
        "\n",
        "  accuracies, entropies = calculate_accuracies_and_entropies(y_preds_deterministic)\n",
        "  ax.plot(rotation_angles, accuracies, 'b--', linewidth=3, label=\"Accuracy, Deterministic\")\n",
        "  ax.plot(rotation_angles, entropies, 'b-', linewidth=3, label=\"Entropy, Deterministic\")\n",
        "\n",
        "  accuracies, entropies = calculate_accuracies_and_entropies(y_preds_dropout)\n",
        "  ax.plot(rotation_angles, accuracies, 'r--', linewidth=3, label=\"Accuracy, MC Dropout\")\n",
        "  ax.plot(rotation_angles, entropies, 'r-', linewidth=3, label=\"Entropy, MC Dropout\")\n",
        "\n",
        "  accuracies, entropies = calculate_accuracies_and_entropies(y_preds_ensemble)\n",
        "  ax.plot(rotation_angles, accuracies, 'g--', linewidth=3, label=\"Accuracy, Deep Ensemble\")\n",
        "  ax.plot(rotation_angles, entropies, 'g-', linewidth=3, label=\"Entropy, Deep Ensemble\")\n",
        "\n",
        "  accuracies, entropies = calculate_accuracies_and_entropies(y_preds_bnn)\n",
        "  ax.plot(rotation_angles, accuracies, 'y--', linewidth=3, label=\"Accuracy, BNN\")\n",
        "  ax.plot(rotation_angles, entropies, 'y-', linewidth=3, label=\"Entropy, BNN\")\n",
        "\n",
        "plot_accuracy_and_entropy(add_bnn)"
      ]
    },
    {
      "cell_type": "markdown",
      "metadata": {
        "id": "A-5Bk5YZvB7V"
      },
      "source": [
        "<span style=\"color:Yellow\">Question:</span> Which method is the best at detecting the distribution shift? How can you interpret this? Answer in the cell below:"
      ]
    },
    {
      "cell_type": "markdown",
      "metadata": {
        "id": "Q6c3k5WOvB7V"
      },
      "source": []
    },
    {
      "cell_type": "markdown",
      "metadata": {
        "id": "Ig1-ek6TvB7W"
      },
      "source": [
        "## <span style=\"color:Orange\">Acknowledgments</span>\n",
        "\n",
        "* Initial version: Mark Neubauer\n",
        "\n",
        "© Copyright 2025"
      ]
    }
  ],
  "metadata": {
    "accelerator": "GPU",
    "colab": {
      "provenance": []
    },
    "kernelspec": {
      "display_name": "Python 3",
      "language": "python",
      "name": "python3"
    },
    "language_info": {
      "codemirror_mode": {
        "name": "ipython",
        "version": 3
      },
      "file_extension": ".py",
      "mimetype": "text/x-python",
      "name": "python",
      "nbconvert_exporter": "python",
      "pygments_lexer": "ipython3",
      "version": "3.11.2"
    },
    "widgets": {
      "application/vnd.jupyter.widget-state+json": {
        "b9b0b7025ac2425c8f761ddc8bf8ae05": {
          "model_module": "@jupyter-widgets/controls",
          "model_name": "HBoxModel",
          "model_module_version": "1.5.0",
          "state": {
            "_dom_classes": [],
            "_model_module": "@jupyter-widgets/controls",
            "_model_module_version": "1.5.0",
            "_model_name": "HBoxModel",
            "_view_count": null,
            "_view_module": "@jupyter-widgets/controls",
            "_view_module_version": "1.5.0",
            "_view_name": "HBoxView",
            "box_style": "",
            "children": [
              "IPY_MODEL_fb8ce81d3b6141f5bd58282d4c1180cf",
              "IPY_MODEL_4c824686839345769b0bb1f4f64aabff",
              "IPY_MODEL_97bb7664b8b24145a21c2c962b07de3e"
            ],
            "layout": "IPY_MODEL_9a4011f84853470db234687c95cfc9e3"
          }
        },
        "fb8ce81d3b6141f5bd58282d4c1180cf": {
          "model_module": "@jupyter-widgets/controls",
          "model_name": "HTMLModel",
          "model_module_version": "1.5.0",
          "state": {
            "_dom_classes": [],
            "_model_module": "@jupyter-widgets/controls",
            "_model_module_version": "1.5.0",
            "_model_name": "HTMLModel",
            "_view_count": null,
            "_view_module": "@jupyter-widgets/controls",
            "_view_module_version": "1.5.0",
            "_view_name": "HTMLView",
            "description": "",
            "description_tooltip": null,
            "layout": "IPY_MODEL_44ce7f8edbc74e9496348bf934dec48b",
            "placeholder": "​",
            "style": "IPY_MODEL_198e7dddc88f42779244b761b15d7dd3",
            "value": "100%"
          }
        },
        "4c824686839345769b0bb1f4f64aabff": {
          "model_module": "@jupyter-widgets/controls",
          "model_name": "FloatProgressModel",
          "model_module_version": "1.5.0",
          "state": {
            "_dom_classes": [],
            "_model_module": "@jupyter-widgets/controls",
            "_model_module_version": "1.5.0",
            "_model_name": "FloatProgressModel",
            "_view_count": null,
            "_view_module": "@jupyter-widgets/controls",
            "_view_module_version": "1.5.0",
            "_view_name": "ProgressView",
            "bar_style": "success",
            "description": "",
            "description_tooltip": null,
            "layout": "IPY_MODEL_f182bb491302455da45e193a7339c893",
            "max": 20,
            "min": 0,
            "orientation": "horizontal",
            "style": "IPY_MODEL_b4a88c21fe6446c3a4d1ede3cf330296",
            "value": 20
          }
        },
        "97bb7664b8b24145a21c2c962b07de3e": {
          "model_module": "@jupyter-widgets/controls",
          "model_name": "HTMLModel",
          "model_module_version": "1.5.0",
          "state": {
            "_dom_classes": [],
            "_model_module": "@jupyter-widgets/controls",
            "_model_module_version": "1.5.0",
            "_model_name": "HTMLModel",
            "_view_count": null,
            "_view_module": "@jupyter-widgets/controls",
            "_view_module_version": "1.5.0",
            "_view_name": "HTMLView",
            "description": "",
            "description_tooltip": null,
            "layout": "IPY_MODEL_d29f3f86e1b84c359593b8278aee2a01",
            "placeholder": "​",
            "style": "IPY_MODEL_212f77d5d2404fcdbb847142350df848",
            "value": " 20/20 [00:13&lt;00:00,  1.66it/s, loss=0.001]"
          }
        },
        "9a4011f84853470db234687c95cfc9e3": {
          "model_module": "@jupyter-widgets/base",
          "model_name": "LayoutModel",
          "model_module_version": "1.2.0",
          "state": {
            "_model_module": "@jupyter-widgets/base",
            "_model_module_version": "1.2.0",
            "_model_name": "LayoutModel",
            "_view_count": null,
            "_view_module": "@jupyter-widgets/base",
            "_view_module_version": "1.2.0",
            "_view_name": "LayoutView",
            "align_content": null,
            "align_items": null,
            "align_self": null,
            "border": null,
            "bottom": null,
            "display": null,
            "flex": null,
            "flex_flow": null,
            "grid_area": null,
            "grid_auto_columns": null,
            "grid_auto_flow": null,
            "grid_auto_rows": null,
            "grid_column": null,
            "grid_gap": null,
            "grid_row": null,
            "grid_template_areas": null,
            "grid_template_columns": null,
            "grid_template_rows": null,
            "height": null,
            "justify_content": null,
            "justify_items": null,
            "left": null,
            "margin": null,
            "max_height": null,
            "max_width": null,
            "min_height": null,
            "min_width": null,
            "object_fit": null,
            "object_position": null,
            "order": null,
            "overflow": null,
            "overflow_x": null,
            "overflow_y": null,
            "padding": null,
            "right": null,
            "top": null,
            "visibility": null,
            "width": null
          }
        },
        "44ce7f8edbc74e9496348bf934dec48b": {
          "model_module": "@jupyter-widgets/base",
          "model_name": "LayoutModel",
          "model_module_version": "1.2.0",
          "state": {
            "_model_module": "@jupyter-widgets/base",
            "_model_module_version": "1.2.0",
            "_model_name": "LayoutModel",
            "_view_count": null,
            "_view_module": "@jupyter-widgets/base",
            "_view_module_version": "1.2.0",
            "_view_name": "LayoutView",
            "align_content": null,
            "align_items": null,
            "align_self": null,
            "border": null,
            "bottom": null,
            "display": null,
            "flex": null,
            "flex_flow": null,
            "grid_area": null,
            "grid_auto_columns": null,
            "grid_auto_flow": null,
            "grid_auto_rows": null,
            "grid_column": null,
            "grid_gap": null,
            "grid_row": null,
            "grid_template_areas": null,
            "grid_template_columns": null,
            "grid_template_rows": null,
            "height": null,
            "justify_content": null,
            "justify_items": null,
            "left": null,
            "margin": null,
            "max_height": null,
            "max_width": null,
            "min_height": null,
            "min_width": null,
            "object_fit": null,
            "object_position": null,
            "order": null,
            "overflow": null,
            "overflow_x": null,
            "overflow_y": null,
            "padding": null,
            "right": null,
            "top": null,
            "visibility": null,
            "width": null
          }
        },
        "198e7dddc88f42779244b761b15d7dd3": {
          "model_module": "@jupyter-widgets/controls",
          "model_name": "DescriptionStyleModel",
          "model_module_version": "1.5.0",
          "state": {
            "_model_module": "@jupyter-widgets/controls",
            "_model_module_version": "1.5.0",
            "_model_name": "DescriptionStyleModel",
            "_view_count": null,
            "_view_module": "@jupyter-widgets/base",
            "_view_module_version": "1.2.0",
            "_view_name": "StyleView",
            "description_width": ""
          }
        },
        "f182bb491302455da45e193a7339c893": {
          "model_module": "@jupyter-widgets/base",
          "model_name": "LayoutModel",
          "model_module_version": "1.2.0",
          "state": {
            "_model_module": "@jupyter-widgets/base",
            "_model_module_version": "1.2.0",
            "_model_name": "LayoutModel",
            "_view_count": null,
            "_view_module": "@jupyter-widgets/base",
            "_view_module_version": "1.2.0",
            "_view_name": "LayoutView",
            "align_content": null,
            "align_items": null,
            "align_self": null,
            "border": null,
            "bottom": null,
            "display": null,
            "flex": null,
            "flex_flow": null,
            "grid_area": null,
            "grid_auto_columns": null,
            "grid_auto_flow": null,
            "grid_auto_rows": null,
            "grid_column": null,
            "grid_gap": null,
            "grid_row": null,
            "grid_template_areas": null,
            "grid_template_columns": null,
            "grid_template_rows": null,
            "height": null,
            "justify_content": null,
            "justify_items": null,
            "left": null,
            "margin": null,
            "max_height": null,
            "max_width": null,
            "min_height": null,
            "min_width": null,
            "object_fit": null,
            "object_position": null,
            "order": null,
            "overflow": null,
            "overflow_x": null,
            "overflow_y": null,
            "padding": null,
            "right": null,
            "top": null,
            "visibility": null,
            "width": null
          }
        },
        "b4a88c21fe6446c3a4d1ede3cf330296": {
          "model_module": "@jupyter-widgets/controls",
          "model_name": "ProgressStyleModel",
          "model_module_version": "1.5.0",
          "state": {
            "_model_module": "@jupyter-widgets/controls",
            "_model_module_version": "1.5.0",
            "_model_name": "ProgressStyleModel",
            "_view_count": null,
            "_view_module": "@jupyter-widgets/base",
            "_view_module_version": "1.2.0",
            "_view_name": "StyleView",
            "bar_color": null,
            "description_width": ""
          }
        },
        "d29f3f86e1b84c359593b8278aee2a01": {
          "model_module": "@jupyter-widgets/base",
          "model_name": "LayoutModel",
          "model_module_version": "1.2.0",
          "state": {
            "_model_module": "@jupyter-widgets/base",
            "_model_module_version": "1.2.0",
            "_model_name": "LayoutModel",
            "_view_count": null,
            "_view_module": "@jupyter-widgets/base",
            "_view_module_version": "1.2.0",
            "_view_name": "LayoutView",
            "align_content": null,
            "align_items": null,
            "align_self": null,
            "border": null,
            "bottom": null,
            "display": null,
            "flex": null,
            "flex_flow": null,
            "grid_area": null,
            "grid_auto_columns": null,
            "grid_auto_flow": null,
            "grid_auto_rows": null,
            "grid_column": null,
            "grid_gap": null,
            "grid_row": null,
            "grid_template_areas": null,
            "grid_template_columns": null,
            "grid_template_rows": null,
            "height": null,
            "justify_content": null,
            "justify_items": null,
            "left": null,
            "margin": null,
            "max_height": null,
            "max_width": null,
            "min_height": null,
            "min_width": null,
            "object_fit": null,
            "object_position": null,
            "order": null,
            "overflow": null,
            "overflow_x": null,
            "overflow_y": null,
            "padding": null,
            "right": null,
            "top": null,
            "visibility": null,
            "width": null
          }
        },
        "212f77d5d2404fcdbb847142350df848": {
          "model_module": "@jupyter-widgets/controls",
          "model_name": "DescriptionStyleModel",
          "model_module_version": "1.5.0",
          "state": {
            "_model_module": "@jupyter-widgets/controls",
            "_model_module_version": "1.5.0",
            "_model_name": "DescriptionStyleModel",
            "_view_count": null,
            "_view_module": "@jupyter-widgets/base",
            "_view_module_version": "1.2.0",
            "_view_name": "StyleView",
            "description_width": ""
          }
        },
        "cc62b93174a04d08a3c804599e8d4613": {
          "model_module": "@jupyter-widgets/controls",
          "model_name": "HBoxModel",
          "model_module_version": "1.5.0",
          "state": {
            "_dom_classes": [],
            "_model_module": "@jupyter-widgets/controls",
            "_model_module_version": "1.5.0",
            "_model_name": "HBoxModel",
            "_view_count": null,
            "_view_module": "@jupyter-widgets/controls",
            "_view_module_version": "1.5.0",
            "_view_name": "HBoxView",
            "box_style": "",
            "children": [
              "IPY_MODEL_96609965fe2747be94c8c1275475f415",
              "IPY_MODEL_6dd23e78bb73473ebe7c0209b6c90f9f",
              "IPY_MODEL_f0134bc6fd0448bbba8ecbd8e00d575f"
            ],
            "layout": "IPY_MODEL_8f8387bc6c214c7f8d0633413ab1e1d5"
          }
        },
        "96609965fe2747be94c8c1275475f415": {
          "model_module": "@jupyter-widgets/controls",
          "model_name": "HTMLModel",
          "model_module_version": "1.5.0",
          "state": {
            "_dom_classes": [],
            "_model_module": "@jupyter-widgets/controls",
            "_model_module_version": "1.5.0",
            "_model_name": "HTMLModel",
            "_view_count": null,
            "_view_module": "@jupyter-widgets/controls",
            "_view_module_version": "1.5.0",
            "_view_name": "HTMLView",
            "description": "",
            "description_tooltip": null,
            "layout": "IPY_MODEL_5ecae65aabb34155834ef7172be1ef84",
            "placeholder": "​",
            "style": "IPY_MODEL_5708eb7d63b240d7baaf1d32710fe2a9",
            "value": "100%"
          }
        },
        "6dd23e78bb73473ebe7c0209b6c90f9f": {
          "model_module": "@jupyter-widgets/controls",
          "model_name": "FloatProgressModel",
          "model_module_version": "1.5.0",
          "state": {
            "_dom_classes": [],
            "_model_module": "@jupyter-widgets/controls",
            "_model_module_version": "1.5.0",
            "_model_name": "FloatProgressModel",
            "_view_count": null,
            "_view_module": "@jupyter-widgets/controls",
            "_view_module_version": "1.5.0",
            "_view_name": "ProgressView",
            "bar_style": "success",
            "description": "",
            "description_tooltip": null,
            "layout": "IPY_MODEL_c2e5d7d3ec3d4b27a4b798cd3857e6c5",
            "max": 20,
            "min": 0,
            "orientation": "horizontal",
            "style": "IPY_MODEL_700854552f0847b693f715541b609d15",
            "value": 20
          }
        },
        "f0134bc6fd0448bbba8ecbd8e00d575f": {
          "model_module": "@jupyter-widgets/controls",
          "model_name": "HTMLModel",
          "model_module_version": "1.5.0",
          "state": {
            "_dom_classes": [],
            "_model_module": "@jupyter-widgets/controls",
            "_model_module_version": "1.5.0",
            "_model_name": "HTMLModel",
            "_view_count": null,
            "_view_module": "@jupyter-widgets/controls",
            "_view_module_version": "1.5.0",
            "_view_name": "HTMLView",
            "description": "",
            "description_tooltip": null,
            "layout": "IPY_MODEL_f0a57b2f17004ecba21f92572154fcd2",
            "placeholder": "​",
            "style": "IPY_MODEL_f4a5905f62254a33bd6a53680b42f3d0",
            "value": " 20/20 [00:15&lt;00:00,  1.26it/s, loss=0.001]"
          }
        },
        "8f8387bc6c214c7f8d0633413ab1e1d5": {
          "model_module": "@jupyter-widgets/base",
          "model_name": "LayoutModel",
          "model_module_version": "1.2.0",
          "state": {
            "_model_module": "@jupyter-widgets/base",
            "_model_module_version": "1.2.0",
            "_model_name": "LayoutModel",
            "_view_count": null,
            "_view_module": "@jupyter-widgets/base",
            "_view_module_version": "1.2.0",
            "_view_name": "LayoutView",
            "align_content": null,
            "align_items": null,
            "align_self": null,
            "border": null,
            "bottom": null,
            "display": null,
            "flex": null,
            "flex_flow": null,
            "grid_area": null,
            "grid_auto_columns": null,
            "grid_auto_flow": null,
            "grid_auto_rows": null,
            "grid_column": null,
            "grid_gap": null,
            "grid_row": null,
            "grid_template_areas": null,
            "grid_template_columns": null,
            "grid_template_rows": null,
            "height": null,
            "justify_content": null,
            "justify_items": null,
            "left": null,
            "margin": null,
            "max_height": null,
            "max_width": null,
            "min_height": null,
            "min_width": null,
            "object_fit": null,
            "object_position": null,
            "order": null,
            "overflow": null,
            "overflow_x": null,
            "overflow_y": null,
            "padding": null,
            "right": null,
            "top": null,
            "visibility": null,
            "width": null
          }
        },
        "5ecae65aabb34155834ef7172be1ef84": {
          "model_module": "@jupyter-widgets/base",
          "model_name": "LayoutModel",
          "model_module_version": "1.2.0",
          "state": {
            "_model_module": "@jupyter-widgets/base",
            "_model_module_version": "1.2.0",
            "_model_name": "LayoutModel",
            "_view_count": null,
            "_view_module": "@jupyter-widgets/base",
            "_view_module_version": "1.2.0",
            "_view_name": "LayoutView",
            "align_content": null,
            "align_items": null,
            "align_self": null,
            "border": null,
            "bottom": null,
            "display": null,
            "flex": null,
            "flex_flow": null,
            "grid_area": null,
            "grid_auto_columns": null,
            "grid_auto_flow": null,
            "grid_auto_rows": null,
            "grid_column": null,
            "grid_gap": null,
            "grid_row": null,
            "grid_template_areas": null,
            "grid_template_columns": null,
            "grid_template_rows": null,
            "height": null,
            "justify_content": null,
            "justify_items": null,
            "left": null,
            "margin": null,
            "max_height": null,
            "max_width": null,
            "min_height": null,
            "min_width": null,
            "object_fit": null,
            "object_position": null,
            "order": null,
            "overflow": null,
            "overflow_x": null,
            "overflow_y": null,
            "padding": null,
            "right": null,
            "top": null,
            "visibility": null,
            "width": null
          }
        },
        "5708eb7d63b240d7baaf1d32710fe2a9": {
          "model_module": "@jupyter-widgets/controls",
          "model_name": "DescriptionStyleModel",
          "model_module_version": "1.5.0",
          "state": {
            "_model_module": "@jupyter-widgets/controls",
            "_model_module_version": "1.5.0",
            "_model_name": "DescriptionStyleModel",
            "_view_count": null,
            "_view_module": "@jupyter-widgets/base",
            "_view_module_version": "1.2.0",
            "_view_name": "StyleView",
            "description_width": ""
          }
        },
        "c2e5d7d3ec3d4b27a4b798cd3857e6c5": {
          "model_module": "@jupyter-widgets/base",
          "model_name": "LayoutModel",
          "model_module_version": "1.2.0",
          "state": {
            "_model_module": "@jupyter-widgets/base",
            "_model_module_version": "1.2.0",
            "_model_name": "LayoutModel",
            "_view_count": null,
            "_view_module": "@jupyter-widgets/base",
            "_view_module_version": "1.2.0",
            "_view_name": "LayoutView",
            "align_content": null,
            "align_items": null,
            "align_self": null,
            "border": null,
            "bottom": null,
            "display": null,
            "flex": null,
            "flex_flow": null,
            "grid_area": null,
            "grid_auto_columns": null,
            "grid_auto_flow": null,
            "grid_auto_rows": null,
            "grid_column": null,
            "grid_gap": null,
            "grid_row": null,
            "grid_template_areas": null,
            "grid_template_columns": null,
            "grid_template_rows": null,
            "height": null,
            "justify_content": null,
            "justify_items": null,
            "left": null,
            "margin": null,
            "max_height": null,
            "max_width": null,
            "min_height": null,
            "min_width": null,
            "object_fit": null,
            "object_position": null,
            "order": null,
            "overflow": null,
            "overflow_x": null,
            "overflow_y": null,
            "padding": null,
            "right": null,
            "top": null,
            "visibility": null,
            "width": null
          }
        },
        "700854552f0847b693f715541b609d15": {
          "model_module": "@jupyter-widgets/controls",
          "model_name": "ProgressStyleModel",
          "model_module_version": "1.5.0",
          "state": {
            "_model_module": "@jupyter-widgets/controls",
            "_model_module_version": "1.5.0",
            "_model_name": "ProgressStyleModel",
            "_view_count": null,
            "_view_module": "@jupyter-widgets/base",
            "_view_module_version": "1.2.0",
            "_view_name": "StyleView",
            "bar_color": null,
            "description_width": ""
          }
        },
        "f0a57b2f17004ecba21f92572154fcd2": {
          "model_module": "@jupyter-widgets/base",
          "model_name": "LayoutModel",
          "model_module_version": "1.2.0",
          "state": {
            "_model_module": "@jupyter-widgets/base",
            "_model_module_version": "1.2.0",
            "_model_name": "LayoutModel",
            "_view_count": null,
            "_view_module": "@jupyter-widgets/base",
            "_view_module_version": "1.2.0",
            "_view_name": "LayoutView",
            "align_content": null,
            "align_items": null,
            "align_self": null,
            "border": null,
            "bottom": null,
            "display": null,
            "flex": null,
            "flex_flow": null,
            "grid_area": null,
            "grid_auto_columns": null,
            "grid_auto_flow": null,
            "grid_auto_rows": null,
            "grid_column": null,
            "grid_gap": null,
            "grid_row": null,
            "grid_template_areas": null,
            "grid_template_columns": null,
            "grid_template_rows": null,
            "height": null,
            "justify_content": null,
            "justify_items": null,
            "left": null,
            "margin": null,
            "max_height": null,
            "max_width": null,
            "min_height": null,
            "min_width": null,
            "object_fit": null,
            "object_position": null,
            "order": null,
            "overflow": null,
            "overflow_x": null,
            "overflow_y": null,
            "padding": null,
            "right": null,
            "top": null,
            "visibility": null,
            "width": null
          }
        },
        "f4a5905f62254a33bd6a53680b42f3d0": {
          "model_module": "@jupyter-widgets/controls",
          "model_name": "DescriptionStyleModel",
          "model_module_version": "1.5.0",
          "state": {
            "_model_module": "@jupyter-widgets/controls",
            "_model_module_version": "1.5.0",
            "_model_name": "DescriptionStyleModel",
            "_view_count": null,
            "_view_module": "@jupyter-widgets/base",
            "_view_module_version": "1.2.0",
            "_view_name": "StyleView",
            "description_width": ""
          }
        },
        "5481edd53ad44b2aa4776e8034354a6f": {
          "model_module": "@jupyter-widgets/controls",
          "model_name": "HBoxModel",
          "model_module_version": "1.5.0",
          "state": {
            "_dom_classes": [],
            "_model_module": "@jupyter-widgets/controls",
            "_model_module_version": "1.5.0",
            "_model_name": "HBoxModel",
            "_view_count": null,
            "_view_module": "@jupyter-widgets/controls",
            "_view_module_version": "1.5.0",
            "_view_name": "HBoxView",
            "box_style": "",
            "children": [
              "IPY_MODEL_a5537a62acb44a88b67967a193869475",
              "IPY_MODEL_2c498297690e4451a660316299eecd25",
              "IPY_MODEL_19fe06f79fad42edb0e9a611ca74d8eb"
            ],
            "layout": "IPY_MODEL_05bec178734e418b8108a0f5db163b29"
          }
        },
        "a5537a62acb44a88b67967a193869475": {
          "model_module": "@jupyter-widgets/controls",
          "model_name": "HTMLModel",
          "model_module_version": "1.5.0",
          "state": {
            "_dom_classes": [],
            "_model_module": "@jupyter-widgets/controls",
            "_model_module_version": "1.5.0",
            "_model_name": "HTMLModel",
            "_view_count": null,
            "_view_module": "@jupyter-widgets/controls",
            "_view_module_version": "1.5.0",
            "_view_name": "HTMLView",
            "description": "",
            "description_tooltip": null,
            "layout": "IPY_MODEL_0889595225b54657afe95a4ad46ad013",
            "placeholder": "​",
            "style": "IPY_MODEL_5aec67f432c94903ae8f93799bbc57c2",
            "value": "100%"
          }
        },
        "2c498297690e4451a660316299eecd25": {
          "model_module": "@jupyter-widgets/controls",
          "model_name": "FloatProgressModel",
          "model_module_version": "1.5.0",
          "state": {
            "_dom_classes": [],
            "_model_module": "@jupyter-widgets/controls",
            "_model_module_version": "1.5.0",
            "_model_name": "FloatProgressModel",
            "_view_count": null,
            "_view_module": "@jupyter-widgets/controls",
            "_view_module_version": "1.5.0",
            "_view_name": "ProgressView",
            "bar_style": "success",
            "description": "",
            "description_tooltip": null,
            "layout": "IPY_MODEL_13aa98508cdb4c969b966b8ab1bf1db2",
            "max": 20,
            "min": 0,
            "orientation": "horizontal",
            "style": "IPY_MODEL_4df3125a22e84623a5fba0f0b80d5c28",
            "value": 20
          }
        },
        "19fe06f79fad42edb0e9a611ca74d8eb": {
          "model_module": "@jupyter-widgets/controls",
          "model_name": "HTMLModel",
          "model_module_version": "1.5.0",
          "state": {
            "_dom_classes": [],
            "_model_module": "@jupyter-widgets/controls",
            "_model_module_version": "1.5.0",
            "_model_name": "HTMLModel",
            "_view_count": null,
            "_view_module": "@jupyter-widgets/controls",
            "_view_module_version": "1.5.0",
            "_view_name": "HTMLView",
            "description": "",
            "description_tooltip": null,
            "layout": "IPY_MODEL_1be4f8150e5e487983985b811833d7d9",
            "placeholder": "​",
            "style": "IPY_MODEL_8d73648551be40c39997c89813cea831",
            "value": " 20/20 [00:13&lt;00:00,  1.57it/s, loss=0.000]"
          }
        },
        "05bec178734e418b8108a0f5db163b29": {
          "model_module": "@jupyter-widgets/base",
          "model_name": "LayoutModel",
          "model_module_version": "1.2.0",
          "state": {
            "_model_module": "@jupyter-widgets/base",
            "_model_module_version": "1.2.0",
            "_model_name": "LayoutModel",
            "_view_count": null,
            "_view_module": "@jupyter-widgets/base",
            "_view_module_version": "1.2.0",
            "_view_name": "LayoutView",
            "align_content": null,
            "align_items": null,
            "align_self": null,
            "border": null,
            "bottom": null,
            "display": null,
            "flex": null,
            "flex_flow": null,
            "grid_area": null,
            "grid_auto_columns": null,
            "grid_auto_flow": null,
            "grid_auto_rows": null,
            "grid_column": null,
            "grid_gap": null,
            "grid_row": null,
            "grid_template_areas": null,
            "grid_template_columns": null,
            "grid_template_rows": null,
            "height": null,
            "justify_content": null,
            "justify_items": null,
            "left": null,
            "margin": null,
            "max_height": null,
            "max_width": null,
            "min_height": null,
            "min_width": null,
            "object_fit": null,
            "object_position": null,
            "order": null,
            "overflow": null,
            "overflow_x": null,
            "overflow_y": null,
            "padding": null,
            "right": null,
            "top": null,
            "visibility": null,
            "width": null
          }
        },
        "0889595225b54657afe95a4ad46ad013": {
          "model_module": "@jupyter-widgets/base",
          "model_name": "LayoutModel",
          "model_module_version": "1.2.0",
          "state": {
            "_model_module": "@jupyter-widgets/base",
            "_model_module_version": "1.2.0",
            "_model_name": "LayoutModel",
            "_view_count": null,
            "_view_module": "@jupyter-widgets/base",
            "_view_module_version": "1.2.0",
            "_view_name": "LayoutView",
            "align_content": null,
            "align_items": null,
            "align_self": null,
            "border": null,
            "bottom": null,
            "display": null,
            "flex": null,
            "flex_flow": null,
            "grid_area": null,
            "grid_auto_columns": null,
            "grid_auto_flow": null,
            "grid_auto_rows": null,
            "grid_column": null,
            "grid_gap": null,
            "grid_row": null,
            "grid_template_areas": null,
            "grid_template_columns": null,
            "grid_template_rows": null,
            "height": null,
            "justify_content": null,
            "justify_items": null,
            "left": null,
            "margin": null,
            "max_height": null,
            "max_width": null,
            "min_height": null,
            "min_width": null,
            "object_fit": null,
            "object_position": null,
            "order": null,
            "overflow": null,
            "overflow_x": null,
            "overflow_y": null,
            "padding": null,
            "right": null,
            "top": null,
            "visibility": null,
            "width": null
          }
        },
        "5aec67f432c94903ae8f93799bbc57c2": {
          "model_module": "@jupyter-widgets/controls",
          "model_name": "DescriptionStyleModel",
          "model_module_version": "1.5.0",
          "state": {
            "_model_module": "@jupyter-widgets/controls",
            "_model_module_version": "1.5.0",
            "_model_name": "DescriptionStyleModel",
            "_view_count": null,
            "_view_module": "@jupyter-widgets/base",
            "_view_module_version": "1.2.0",
            "_view_name": "StyleView",
            "description_width": ""
          }
        },
        "13aa98508cdb4c969b966b8ab1bf1db2": {
          "model_module": "@jupyter-widgets/base",
          "model_name": "LayoutModel",
          "model_module_version": "1.2.0",
          "state": {
            "_model_module": "@jupyter-widgets/base",
            "_model_module_version": "1.2.0",
            "_model_name": "LayoutModel",
            "_view_count": null,
            "_view_module": "@jupyter-widgets/base",
            "_view_module_version": "1.2.0",
            "_view_name": "LayoutView",
            "align_content": null,
            "align_items": null,
            "align_self": null,
            "border": null,
            "bottom": null,
            "display": null,
            "flex": null,
            "flex_flow": null,
            "grid_area": null,
            "grid_auto_columns": null,
            "grid_auto_flow": null,
            "grid_auto_rows": null,
            "grid_column": null,
            "grid_gap": null,
            "grid_row": null,
            "grid_template_areas": null,
            "grid_template_columns": null,
            "grid_template_rows": null,
            "height": null,
            "justify_content": null,
            "justify_items": null,
            "left": null,
            "margin": null,
            "max_height": null,
            "max_width": null,
            "min_height": null,
            "min_width": null,
            "object_fit": null,
            "object_position": null,
            "order": null,
            "overflow": null,
            "overflow_x": null,
            "overflow_y": null,
            "padding": null,
            "right": null,
            "top": null,
            "visibility": null,
            "width": null
          }
        },
        "4df3125a22e84623a5fba0f0b80d5c28": {
          "model_module": "@jupyter-widgets/controls",
          "model_name": "ProgressStyleModel",
          "model_module_version": "1.5.0",
          "state": {
            "_model_module": "@jupyter-widgets/controls",
            "_model_module_version": "1.5.0",
            "_model_name": "ProgressStyleModel",
            "_view_count": null,
            "_view_module": "@jupyter-widgets/base",
            "_view_module_version": "1.2.0",
            "_view_name": "StyleView",
            "bar_color": null,
            "description_width": ""
          }
        },
        "1be4f8150e5e487983985b811833d7d9": {
          "model_module": "@jupyter-widgets/base",
          "model_name": "LayoutModel",
          "model_module_version": "1.2.0",
          "state": {
            "_model_module": "@jupyter-widgets/base",
            "_model_module_version": "1.2.0",
            "_model_name": "LayoutModel",
            "_view_count": null,
            "_view_module": "@jupyter-widgets/base",
            "_view_module_version": "1.2.0",
            "_view_name": "LayoutView",
            "align_content": null,
            "align_items": null,
            "align_self": null,
            "border": null,
            "bottom": null,
            "display": null,
            "flex": null,
            "flex_flow": null,
            "grid_area": null,
            "grid_auto_columns": null,
            "grid_auto_flow": null,
            "grid_auto_rows": null,
            "grid_column": null,
            "grid_gap": null,
            "grid_row": null,
            "grid_template_areas": null,
            "grid_template_columns": null,
            "grid_template_rows": null,
            "height": null,
            "justify_content": null,
            "justify_items": null,
            "left": null,
            "margin": null,
            "max_height": null,
            "max_width": null,
            "min_height": null,
            "min_width": null,
            "object_fit": null,
            "object_position": null,
            "order": null,
            "overflow": null,
            "overflow_x": null,
            "overflow_y": null,
            "padding": null,
            "right": null,
            "top": null,
            "visibility": null,
            "width": null
          }
        },
        "8d73648551be40c39997c89813cea831": {
          "model_module": "@jupyter-widgets/controls",
          "model_name": "DescriptionStyleModel",
          "model_module_version": "1.5.0",
          "state": {
            "_model_module": "@jupyter-widgets/controls",
            "_model_module_version": "1.5.0",
            "_model_name": "DescriptionStyleModel",
            "_view_count": null,
            "_view_module": "@jupyter-widgets/base",
            "_view_module_version": "1.2.0",
            "_view_name": "StyleView",
            "description_width": ""
          }
        },
        "feba0c3b03b94dcfba77edaabbeed138": {
          "model_module": "@jupyter-widgets/controls",
          "model_name": "HBoxModel",
          "model_module_version": "1.5.0",
          "state": {
            "_dom_classes": [],
            "_model_module": "@jupyter-widgets/controls",
            "_model_module_version": "1.5.0",
            "_model_name": "HBoxModel",
            "_view_count": null,
            "_view_module": "@jupyter-widgets/controls",
            "_view_module_version": "1.5.0",
            "_view_name": "HBoxView",
            "box_style": "",
            "children": [
              "IPY_MODEL_59ae671a795e4daebe1219bc51cab3e8",
              "IPY_MODEL_1dea1ab26ea247a88bc0287e24561a48",
              "IPY_MODEL_11865fd9015d49589e98cbc40dd44605"
            ],
            "layout": "IPY_MODEL_16ef6709fb8c4119872ea9b0358be4ef"
          }
        },
        "59ae671a795e4daebe1219bc51cab3e8": {
          "model_module": "@jupyter-widgets/controls",
          "model_name": "HTMLModel",
          "model_module_version": "1.5.0",
          "state": {
            "_dom_classes": [],
            "_model_module": "@jupyter-widgets/controls",
            "_model_module_version": "1.5.0",
            "_model_name": "HTMLModel",
            "_view_count": null,
            "_view_module": "@jupyter-widgets/controls",
            "_view_module_version": "1.5.0",
            "_view_name": "HTMLView",
            "description": "",
            "description_tooltip": null,
            "layout": "IPY_MODEL_425c36adb7884a5c91d5bea2bb3b7097",
            "placeholder": "​",
            "style": "IPY_MODEL_9d279def1f464468adb3a87da122afd2",
            "value": "100%"
          }
        },
        "1dea1ab26ea247a88bc0287e24561a48": {
          "model_module": "@jupyter-widgets/controls",
          "model_name": "FloatProgressModel",
          "model_module_version": "1.5.0",
          "state": {
            "_dom_classes": [],
            "_model_module": "@jupyter-widgets/controls",
            "_model_module_version": "1.5.0",
            "_model_name": "FloatProgressModel",
            "_view_count": null,
            "_view_module": "@jupyter-widgets/controls",
            "_view_module_version": "1.5.0",
            "_view_name": "ProgressView",
            "bar_style": "success",
            "description": "",
            "description_tooltip": null,
            "layout": "IPY_MODEL_9cd4da9cfcf84cb1b0feb05435fd6b2c",
            "max": 20,
            "min": 0,
            "orientation": "horizontal",
            "style": "IPY_MODEL_d867e853a7554dbfb1ce147d23b246df",
            "value": 20
          }
        },
        "11865fd9015d49589e98cbc40dd44605": {
          "model_module": "@jupyter-widgets/controls",
          "model_name": "HTMLModel",
          "model_module_version": "1.5.0",
          "state": {
            "_dom_classes": [],
            "_model_module": "@jupyter-widgets/controls",
            "_model_module_version": "1.5.0",
            "_model_name": "HTMLModel",
            "_view_count": null,
            "_view_module": "@jupyter-widgets/controls",
            "_view_module_version": "1.5.0",
            "_view_name": "HTMLView",
            "description": "",
            "description_tooltip": null,
            "layout": "IPY_MODEL_32cfbf40989843c1a1b39d461aa37884",
            "placeholder": "​",
            "style": "IPY_MODEL_908546262f2c48848837e5a0e042a826",
            "value": " 20/20 [00:13&lt;00:00,  1.64it/s, loss=0.001]"
          }
        },
        "16ef6709fb8c4119872ea9b0358be4ef": {
          "model_module": "@jupyter-widgets/base",
          "model_name": "LayoutModel",
          "model_module_version": "1.2.0",
          "state": {
            "_model_module": "@jupyter-widgets/base",
            "_model_module_version": "1.2.0",
            "_model_name": "LayoutModel",
            "_view_count": null,
            "_view_module": "@jupyter-widgets/base",
            "_view_module_version": "1.2.0",
            "_view_name": "LayoutView",
            "align_content": null,
            "align_items": null,
            "align_self": null,
            "border": null,
            "bottom": null,
            "display": null,
            "flex": null,
            "flex_flow": null,
            "grid_area": null,
            "grid_auto_columns": null,
            "grid_auto_flow": null,
            "grid_auto_rows": null,
            "grid_column": null,
            "grid_gap": null,
            "grid_row": null,
            "grid_template_areas": null,
            "grid_template_columns": null,
            "grid_template_rows": null,
            "height": null,
            "justify_content": null,
            "justify_items": null,
            "left": null,
            "margin": null,
            "max_height": null,
            "max_width": null,
            "min_height": null,
            "min_width": null,
            "object_fit": null,
            "object_position": null,
            "order": null,
            "overflow": null,
            "overflow_x": null,
            "overflow_y": null,
            "padding": null,
            "right": null,
            "top": null,
            "visibility": null,
            "width": null
          }
        },
        "425c36adb7884a5c91d5bea2bb3b7097": {
          "model_module": "@jupyter-widgets/base",
          "model_name": "LayoutModel",
          "model_module_version": "1.2.0",
          "state": {
            "_model_module": "@jupyter-widgets/base",
            "_model_module_version": "1.2.0",
            "_model_name": "LayoutModel",
            "_view_count": null,
            "_view_module": "@jupyter-widgets/base",
            "_view_module_version": "1.2.0",
            "_view_name": "LayoutView",
            "align_content": null,
            "align_items": null,
            "align_self": null,
            "border": null,
            "bottom": null,
            "display": null,
            "flex": null,
            "flex_flow": null,
            "grid_area": null,
            "grid_auto_columns": null,
            "grid_auto_flow": null,
            "grid_auto_rows": null,
            "grid_column": null,
            "grid_gap": null,
            "grid_row": null,
            "grid_template_areas": null,
            "grid_template_columns": null,
            "grid_template_rows": null,
            "height": null,
            "justify_content": null,
            "justify_items": null,
            "left": null,
            "margin": null,
            "max_height": null,
            "max_width": null,
            "min_height": null,
            "min_width": null,
            "object_fit": null,
            "object_position": null,
            "order": null,
            "overflow": null,
            "overflow_x": null,
            "overflow_y": null,
            "padding": null,
            "right": null,
            "top": null,
            "visibility": null,
            "width": null
          }
        },
        "9d279def1f464468adb3a87da122afd2": {
          "model_module": "@jupyter-widgets/controls",
          "model_name": "DescriptionStyleModel",
          "model_module_version": "1.5.0",
          "state": {
            "_model_module": "@jupyter-widgets/controls",
            "_model_module_version": "1.5.0",
            "_model_name": "DescriptionStyleModel",
            "_view_count": null,
            "_view_module": "@jupyter-widgets/base",
            "_view_module_version": "1.2.0",
            "_view_name": "StyleView",
            "description_width": ""
          }
        },
        "9cd4da9cfcf84cb1b0feb05435fd6b2c": {
          "model_module": "@jupyter-widgets/base",
          "model_name": "LayoutModel",
          "model_module_version": "1.2.0",
          "state": {
            "_model_module": "@jupyter-widgets/base",
            "_model_module_version": "1.2.0",
            "_model_name": "LayoutModel",
            "_view_count": null,
            "_view_module": "@jupyter-widgets/base",
            "_view_module_version": "1.2.0",
            "_view_name": "LayoutView",
            "align_content": null,
            "align_items": null,
            "align_self": null,
            "border": null,
            "bottom": null,
            "display": null,
            "flex": null,
            "flex_flow": null,
            "grid_area": null,
            "grid_auto_columns": null,
            "grid_auto_flow": null,
            "grid_auto_rows": null,
            "grid_column": null,
            "grid_gap": null,
            "grid_row": null,
            "grid_template_areas": null,
            "grid_template_columns": null,
            "grid_template_rows": null,
            "height": null,
            "justify_content": null,
            "justify_items": null,
            "left": null,
            "margin": null,
            "max_height": null,
            "max_width": null,
            "min_height": null,
            "min_width": null,
            "object_fit": null,
            "object_position": null,
            "order": null,
            "overflow": null,
            "overflow_x": null,
            "overflow_y": null,
            "padding": null,
            "right": null,
            "top": null,
            "visibility": null,
            "width": null
          }
        },
        "d867e853a7554dbfb1ce147d23b246df": {
          "model_module": "@jupyter-widgets/controls",
          "model_name": "ProgressStyleModel",
          "model_module_version": "1.5.0",
          "state": {
            "_model_module": "@jupyter-widgets/controls",
            "_model_module_version": "1.5.0",
            "_model_name": "ProgressStyleModel",
            "_view_count": null,
            "_view_module": "@jupyter-widgets/base",
            "_view_module_version": "1.2.0",
            "_view_name": "StyleView",
            "bar_color": null,
            "description_width": ""
          }
        },
        "32cfbf40989843c1a1b39d461aa37884": {
          "model_module": "@jupyter-widgets/base",
          "model_name": "LayoutModel",
          "model_module_version": "1.2.0",
          "state": {
            "_model_module": "@jupyter-widgets/base",
            "_model_module_version": "1.2.0",
            "_model_name": "LayoutModel",
            "_view_count": null,
            "_view_module": "@jupyter-widgets/base",
            "_view_module_version": "1.2.0",
            "_view_name": "LayoutView",
            "align_content": null,
            "align_items": null,
            "align_self": null,
            "border": null,
            "bottom": null,
            "display": null,
            "flex": null,
            "flex_flow": null,
            "grid_area": null,
            "grid_auto_columns": null,
            "grid_auto_flow": null,
            "grid_auto_rows": null,
            "grid_column": null,
            "grid_gap": null,
            "grid_row": null,
            "grid_template_areas": null,
            "grid_template_columns": null,
            "grid_template_rows": null,
            "height": null,
            "justify_content": null,
            "justify_items": null,
            "left": null,
            "margin": null,
            "max_height": null,
            "max_width": null,
            "min_height": null,
            "min_width": null,
            "object_fit": null,
            "object_position": null,
            "order": null,
            "overflow": null,
            "overflow_x": null,
            "overflow_y": null,
            "padding": null,
            "right": null,
            "top": null,
            "visibility": null,
            "width": null
          }
        },
        "908546262f2c48848837e5a0e042a826": {
          "model_module": "@jupyter-widgets/controls",
          "model_name": "DescriptionStyleModel",
          "model_module_version": "1.5.0",
          "state": {
            "_model_module": "@jupyter-widgets/controls",
            "_model_module_version": "1.5.0",
            "_model_name": "DescriptionStyleModel",
            "_view_count": null,
            "_view_module": "@jupyter-widgets/base",
            "_view_module_version": "1.2.0",
            "_view_name": "StyleView",
            "description_width": ""
          }
        },
        "357f5acc871e4e6cb742e1ae4e502069": {
          "model_module": "@jupyter-widgets/controls",
          "model_name": "HBoxModel",
          "model_module_version": "1.5.0",
          "state": {
            "_dom_classes": [],
            "_model_module": "@jupyter-widgets/controls",
            "_model_module_version": "1.5.0",
            "_model_name": "HBoxModel",
            "_view_count": null,
            "_view_module": "@jupyter-widgets/controls",
            "_view_module_version": "1.5.0",
            "_view_name": "HBoxView",
            "box_style": "",
            "children": [
              "IPY_MODEL_26c90b0f74d74009911ed3bb578f9d04",
              "IPY_MODEL_8b3a3fe45b03406aa3986dc9ba72017e",
              "IPY_MODEL_7300952b300e4b3db1a4732be3a7274c"
            ],
            "layout": "IPY_MODEL_4d3ca569cc544a48ad64c13d0f7c70bf"
          }
        },
        "26c90b0f74d74009911ed3bb578f9d04": {
          "model_module": "@jupyter-widgets/controls",
          "model_name": "HTMLModel",
          "model_module_version": "1.5.0",
          "state": {
            "_dom_classes": [],
            "_model_module": "@jupyter-widgets/controls",
            "_model_module_version": "1.5.0",
            "_model_name": "HTMLModel",
            "_view_count": null,
            "_view_module": "@jupyter-widgets/controls",
            "_view_module_version": "1.5.0",
            "_view_name": "HTMLView",
            "description": "",
            "description_tooltip": null,
            "layout": "IPY_MODEL_c108b8db1ada462faa7f337b5eeb2d91",
            "placeholder": "​",
            "style": "IPY_MODEL_bcdf7e8d85814534a8f949f7d5d0c4de",
            "value": "100%"
          }
        },
        "8b3a3fe45b03406aa3986dc9ba72017e": {
          "model_module": "@jupyter-widgets/controls",
          "model_name": "FloatProgressModel",
          "model_module_version": "1.5.0",
          "state": {
            "_dom_classes": [],
            "_model_module": "@jupyter-widgets/controls",
            "_model_module_version": "1.5.0",
            "_model_name": "FloatProgressModel",
            "_view_count": null,
            "_view_module": "@jupyter-widgets/controls",
            "_view_module_version": "1.5.0",
            "_view_name": "ProgressView",
            "bar_style": "success",
            "description": "",
            "description_tooltip": null,
            "layout": "IPY_MODEL_7226f95bc4364a2794e4a6b545703963",
            "max": 20,
            "min": 0,
            "orientation": "horizontal",
            "style": "IPY_MODEL_9d26535b9a0e481aaf4672db6d32a7a9",
            "value": 20
          }
        },
        "7300952b300e4b3db1a4732be3a7274c": {
          "model_module": "@jupyter-widgets/controls",
          "model_name": "HTMLModel",
          "model_module_version": "1.5.0",
          "state": {
            "_dom_classes": [],
            "_model_module": "@jupyter-widgets/controls",
            "_model_module_version": "1.5.0",
            "_model_name": "HTMLModel",
            "_view_count": null,
            "_view_module": "@jupyter-widgets/controls",
            "_view_module_version": "1.5.0",
            "_view_name": "HTMLView",
            "description": "",
            "description_tooltip": null,
            "layout": "IPY_MODEL_5940ba93dbc1487dbb5d7da6c5409156",
            "placeholder": "​",
            "style": "IPY_MODEL_1305f3d3bbd347ce979dff6322437292",
            "value": " 20/20 [00:13&lt;00:00,  1.66it/s, loss=0.001]"
          }
        },
        "4d3ca569cc544a48ad64c13d0f7c70bf": {
          "model_module": "@jupyter-widgets/base",
          "model_name": "LayoutModel",
          "model_module_version": "1.2.0",
          "state": {
            "_model_module": "@jupyter-widgets/base",
            "_model_module_version": "1.2.0",
            "_model_name": "LayoutModel",
            "_view_count": null,
            "_view_module": "@jupyter-widgets/base",
            "_view_module_version": "1.2.0",
            "_view_name": "LayoutView",
            "align_content": null,
            "align_items": null,
            "align_self": null,
            "border": null,
            "bottom": null,
            "display": null,
            "flex": null,
            "flex_flow": null,
            "grid_area": null,
            "grid_auto_columns": null,
            "grid_auto_flow": null,
            "grid_auto_rows": null,
            "grid_column": null,
            "grid_gap": null,
            "grid_row": null,
            "grid_template_areas": null,
            "grid_template_columns": null,
            "grid_template_rows": null,
            "height": null,
            "justify_content": null,
            "justify_items": null,
            "left": null,
            "margin": null,
            "max_height": null,
            "max_width": null,
            "min_height": null,
            "min_width": null,
            "object_fit": null,
            "object_position": null,
            "order": null,
            "overflow": null,
            "overflow_x": null,
            "overflow_y": null,
            "padding": null,
            "right": null,
            "top": null,
            "visibility": null,
            "width": null
          }
        },
        "c108b8db1ada462faa7f337b5eeb2d91": {
          "model_module": "@jupyter-widgets/base",
          "model_name": "LayoutModel",
          "model_module_version": "1.2.0",
          "state": {
            "_model_module": "@jupyter-widgets/base",
            "_model_module_version": "1.2.0",
            "_model_name": "LayoutModel",
            "_view_count": null,
            "_view_module": "@jupyter-widgets/base",
            "_view_module_version": "1.2.0",
            "_view_name": "LayoutView",
            "align_content": null,
            "align_items": null,
            "align_self": null,
            "border": null,
            "bottom": null,
            "display": null,
            "flex": null,
            "flex_flow": null,
            "grid_area": null,
            "grid_auto_columns": null,
            "grid_auto_flow": null,
            "grid_auto_rows": null,
            "grid_column": null,
            "grid_gap": null,
            "grid_row": null,
            "grid_template_areas": null,
            "grid_template_columns": null,
            "grid_template_rows": null,
            "height": null,
            "justify_content": null,
            "justify_items": null,
            "left": null,
            "margin": null,
            "max_height": null,
            "max_width": null,
            "min_height": null,
            "min_width": null,
            "object_fit": null,
            "object_position": null,
            "order": null,
            "overflow": null,
            "overflow_x": null,
            "overflow_y": null,
            "padding": null,
            "right": null,
            "top": null,
            "visibility": null,
            "width": null
          }
        },
        "bcdf7e8d85814534a8f949f7d5d0c4de": {
          "model_module": "@jupyter-widgets/controls",
          "model_name": "DescriptionStyleModel",
          "model_module_version": "1.5.0",
          "state": {
            "_model_module": "@jupyter-widgets/controls",
            "_model_module_version": "1.5.0",
            "_model_name": "DescriptionStyleModel",
            "_view_count": null,
            "_view_module": "@jupyter-widgets/base",
            "_view_module_version": "1.2.0",
            "_view_name": "StyleView",
            "description_width": ""
          }
        },
        "7226f95bc4364a2794e4a6b545703963": {
          "model_module": "@jupyter-widgets/base",
          "model_name": "LayoutModel",
          "model_module_version": "1.2.0",
          "state": {
            "_model_module": "@jupyter-widgets/base",
            "_model_module_version": "1.2.0",
            "_model_name": "LayoutModel",
            "_view_count": null,
            "_view_module": "@jupyter-widgets/base",
            "_view_module_version": "1.2.0",
            "_view_name": "LayoutView",
            "align_content": null,
            "align_items": null,
            "align_self": null,
            "border": null,
            "bottom": null,
            "display": null,
            "flex": null,
            "flex_flow": null,
            "grid_area": null,
            "grid_auto_columns": null,
            "grid_auto_flow": null,
            "grid_auto_rows": null,
            "grid_column": null,
            "grid_gap": null,
            "grid_row": null,
            "grid_template_areas": null,
            "grid_template_columns": null,
            "grid_template_rows": null,
            "height": null,
            "justify_content": null,
            "justify_items": null,
            "left": null,
            "margin": null,
            "max_height": null,
            "max_width": null,
            "min_height": null,
            "min_width": null,
            "object_fit": null,
            "object_position": null,
            "order": null,
            "overflow": null,
            "overflow_x": null,
            "overflow_y": null,
            "padding": null,
            "right": null,
            "top": null,
            "visibility": null,
            "width": null
          }
        },
        "9d26535b9a0e481aaf4672db6d32a7a9": {
          "model_module": "@jupyter-widgets/controls",
          "model_name": "ProgressStyleModel",
          "model_module_version": "1.5.0",
          "state": {
            "_model_module": "@jupyter-widgets/controls",
            "_model_module_version": "1.5.0",
            "_model_name": "ProgressStyleModel",
            "_view_count": null,
            "_view_module": "@jupyter-widgets/base",
            "_view_module_version": "1.2.0",
            "_view_name": "StyleView",
            "bar_color": null,
            "description_width": ""
          }
        },
        "5940ba93dbc1487dbb5d7da6c5409156": {
          "model_module": "@jupyter-widgets/base",
          "model_name": "LayoutModel",
          "model_module_version": "1.2.0",
          "state": {
            "_model_module": "@jupyter-widgets/base",
            "_model_module_version": "1.2.0",
            "_model_name": "LayoutModel",
            "_view_count": null,
            "_view_module": "@jupyter-widgets/base",
            "_view_module_version": "1.2.0",
            "_view_name": "LayoutView",
            "align_content": null,
            "align_items": null,
            "align_self": null,
            "border": null,
            "bottom": null,
            "display": null,
            "flex": null,
            "flex_flow": null,
            "grid_area": null,
            "grid_auto_columns": null,
            "grid_auto_flow": null,
            "grid_auto_rows": null,
            "grid_column": null,
            "grid_gap": null,
            "grid_row": null,
            "grid_template_areas": null,
            "grid_template_columns": null,
            "grid_template_rows": null,
            "height": null,
            "justify_content": null,
            "justify_items": null,
            "left": null,
            "margin": null,
            "max_height": null,
            "max_width": null,
            "min_height": null,
            "min_width": null,
            "object_fit": null,
            "object_position": null,
            "order": null,
            "overflow": null,
            "overflow_x": null,
            "overflow_y": null,
            "padding": null,
            "right": null,
            "top": null,
            "visibility": null,
            "width": null
          }
        },
        "1305f3d3bbd347ce979dff6322437292": {
          "model_module": "@jupyter-widgets/controls",
          "model_name": "DescriptionStyleModel",
          "model_module_version": "1.5.0",
          "state": {
            "_model_module": "@jupyter-widgets/controls",
            "_model_module_version": "1.5.0",
            "_model_name": "DescriptionStyleModel",
            "_view_count": null,
            "_view_module": "@jupyter-widgets/base",
            "_view_module_version": "1.2.0",
            "_view_name": "StyleView",
            "description_width": ""
          }
        },
        "ed01727e0e7541d1bb7cc8cc27b6eefa": {
          "model_module": "@jupyter-widgets/controls",
          "model_name": "HBoxModel",
          "model_module_version": "1.5.0",
          "state": {
            "_dom_classes": [],
            "_model_module": "@jupyter-widgets/controls",
            "_model_module_version": "1.5.0",
            "_model_name": "HBoxModel",
            "_view_count": null,
            "_view_module": "@jupyter-widgets/controls",
            "_view_module_version": "1.5.0",
            "_view_name": "HBoxView",
            "box_style": "",
            "children": [
              "IPY_MODEL_366575fe340b4fe58f612f0b0a9c8d7c",
              "IPY_MODEL_2ea0141e7ae449c1b31db79337bef437",
              "IPY_MODEL_35b0761acf4a43c4aec7c4f51653f0bf"
            ],
            "layout": "IPY_MODEL_55f29bd17677430c8e40c84722159d55"
          }
        },
        "366575fe340b4fe58f612f0b0a9c8d7c": {
          "model_module": "@jupyter-widgets/controls",
          "model_name": "HTMLModel",
          "model_module_version": "1.5.0",
          "state": {
            "_dom_classes": [],
            "_model_module": "@jupyter-widgets/controls",
            "_model_module_version": "1.5.0",
            "_model_name": "HTMLModel",
            "_view_count": null,
            "_view_module": "@jupyter-widgets/controls",
            "_view_module_version": "1.5.0",
            "_view_name": "HTMLView",
            "description": "",
            "description_tooltip": null,
            "layout": "IPY_MODEL_d1e4d6e44d62456c87006ebd27bac895",
            "placeholder": "​",
            "style": "IPY_MODEL_42d4a9cef1d846e0b3b97a101fedfe52",
            "value": "100%"
          }
        },
        "2ea0141e7ae449c1b31db79337bef437": {
          "model_module": "@jupyter-widgets/controls",
          "model_name": "FloatProgressModel",
          "model_module_version": "1.5.0",
          "state": {
            "_dom_classes": [],
            "_model_module": "@jupyter-widgets/controls",
            "_model_module_version": "1.5.0",
            "_model_name": "FloatProgressModel",
            "_view_count": null,
            "_view_module": "@jupyter-widgets/controls",
            "_view_module_version": "1.5.0",
            "_view_name": "ProgressView",
            "bar_style": "success",
            "description": "",
            "description_tooltip": null,
            "layout": "IPY_MODEL_7412b13b891744a3ba24634e4373110b",
            "max": 20,
            "min": 0,
            "orientation": "horizontal",
            "style": "IPY_MODEL_8d22d0abd7934cf9bd2ebe0580853935",
            "value": 20
          }
        },
        "35b0761acf4a43c4aec7c4f51653f0bf": {
          "model_module": "@jupyter-widgets/controls",
          "model_name": "HTMLModel",
          "model_module_version": "1.5.0",
          "state": {
            "_dom_classes": [],
            "_model_module": "@jupyter-widgets/controls",
            "_model_module_version": "1.5.0",
            "_model_name": "HTMLModel",
            "_view_count": null,
            "_view_module": "@jupyter-widgets/controls",
            "_view_module_version": "1.5.0",
            "_view_name": "HTMLView",
            "description": "",
            "description_tooltip": null,
            "layout": "IPY_MODEL_5c28b730c1fe44358343718170cf8f6f",
            "placeholder": "​",
            "style": "IPY_MODEL_c8a2fffeb85d4a718a1a1d9230830b89",
            "value": " 20/20 [00:13&lt;00:00,  1.50it/s, loss=0.001]"
          }
        },
        "55f29bd17677430c8e40c84722159d55": {
          "model_module": "@jupyter-widgets/base",
          "model_name": "LayoutModel",
          "model_module_version": "1.2.0",
          "state": {
            "_model_module": "@jupyter-widgets/base",
            "_model_module_version": "1.2.0",
            "_model_name": "LayoutModel",
            "_view_count": null,
            "_view_module": "@jupyter-widgets/base",
            "_view_module_version": "1.2.0",
            "_view_name": "LayoutView",
            "align_content": null,
            "align_items": null,
            "align_self": null,
            "border": null,
            "bottom": null,
            "display": null,
            "flex": null,
            "flex_flow": null,
            "grid_area": null,
            "grid_auto_columns": null,
            "grid_auto_flow": null,
            "grid_auto_rows": null,
            "grid_column": null,
            "grid_gap": null,
            "grid_row": null,
            "grid_template_areas": null,
            "grid_template_columns": null,
            "grid_template_rows": null,
            "height": null,
            "justify_content": null,
            "justify_items": null,
            "left": null,
            "margin": null,
            "max_height": null,
            "max_width": null,
            "min_height": null,
            "min_width": null,
            "object_fit": null,
            "object_position": null,
            "order": null,
            "overflow": null,
            "overflow_x": null,
            "overflow_y": null,
            "padding": null,
            "right": null,
            "top": null,
            "visibility": null,
            "width": null
          }
        },
        "d1e4d6e44d62456c87006ebd27bac895": {
          "model_module": "@jupyter-widgets/base",
          "model_name": "LayoutModel",
          "model_module_version": "1.2.0",
          "state": {
            "_model_module": "@jupyter-widgets/base",
            "_model_module_version": "1.2.0",
            "_model_name": "LayoutModel",
            "_view_count": null,
            "_view_module": "@jupyter-widgets/base",
            "_view_module_version": "1.2.0",
            "_view_name": "LayoutView",
            "align_content": null,
            "align_items": null,
            "align_self": null,
            "border": null,
            "bottom": null,
            "display": null,
            "flex": null,
            "flex_flow": null,
            "grid_area": null,
            "grid_auto_columns": null,
            "grid_auto_flow": null,
            "grid_auto_rows": null,
            "grid_column": null,
            "grid_gap": null,
            "grid_row": null,
            "grid_template_areas": null,
            "grid_template_columns": null,
            "grid_template_rows": null,
            "height": null,
            "justify_content": null,
            "justify_items": null,
            "left": null,
            "margin": null,
            "max_height": null,
            "max_width": null,
            "min_height": null,
            "min_width": null,
            "object_fit": null,
            "object_position": null,
            "order": null,
            "overflow": null,
            "overflow_x": null,
            "overflow_y": null,
            "padding": null,
            "right": null,
            "top": null,
            "visibility": null,
            "width": null
          }
        },
        "42d4a9cef1d846e0b3b97a101fedfe52": {
          "model_module": "@jupyter-widgets/controls",
          "model_name": "DescriptionStyleModel",
          "model_module_version": "1.5.0",
          "state": {
            "_model_module": "@jupyter-widgets/controls",
            "_model_module_version": "1.5.0",
            "_model_name": "DescriptionStyleModel",
            "_view_count": null,
            "_view_module": "@jupyter-widgets/base",
            "_view_module_version": "1.2.0",
            "_view_name": "StyleView",
            "description_width": ""
          }
        },
        "7412b13b891744a3ba24634e4373110b": {
          "model_module": "@jupyter-widgets/base",
          "model_name": "LayoutModel",
          "model_module_version": "1.2.0",
          "state": {
            "_model_module": "@jupyter-widgets/base",
            "_model_module_version": "1.2.0",
            "_model_name": "LayoutModel",
            "_view_count": null,
            "_view_module": "@jupyter-widgets/base",
            "_view_module_version": "1.2.0",
            "_view_name": "LayoutView",
            "align_content": null,
            "align_items": null,
            "align_self": null,
            "border": null,
            "bottom": null,
            "display": null,
            "flex": null,
            "flex_flow": null,
            "grid_area": null,
            "grid_auto_columns": null,
            "grid_auto_flow": null,
            "grid_auto_rows": null,
            "grid_column": null,
            "grid_gap": null,
            "grid_row": null,
            "grid_template_areas": null,
            "grid_template_columns": null,
            "grid_template_rows": null,
            "height": null,
            "justify_content": null,
            "justify_items": null,
            "left": null,
            "margin": null,
            "max_height": null,
            "max_width": null,
            "min_height": null,
            "min_width": null,
            "object_fit": null,
            "object_position": null,
            "order": null,
            "overflow": null,
            "overflow_x": null,
            "overflow_y": null,
            "padding": null,
            "right": null,
            "top": null,
            "visibility": null,
            "width": null
          }
        },
        "8d22d0abd7934cf9bd2ebe0580853935": {
          "model_module": "@jupyter-widgets/controls",
          "model_name": "ProgressStyleModel",
          "model_module_version": "1.5.0",
          "state": {
            "_model_module": "@jupyter-widgets/controls",
            "_model_module_version": "1.5.0",
            "_model_name": "ProgressStyleModel",
            "_view_count": null,
            "_view_module": "@jupyter-widgets/base",
            "_view_module_version": "1.2.0",
            "_view_name": "StyleView",
            "bar_color": null,
            "description_width": ""
          }
        },
        "5c28b730c1fe44358343718170cf8f6f": {
          "model_module": "@jupyter-widgets/base",
          "model_name": "LayoutModel",
          "model_module_version": "1.2.0",
          "state": {
            "_model_module": "@jupyter-widgets/base",
            "_model_module_version": "1.2.0",
            "_model_name": "LayoutModel",
            "_view_count": null,
            "_view_module": "@jupyter-widgets/base",
            "_view_module_version": "1.2.0",
            "_view_name": "LayoutView",
            "align_content": null,
            "align_items": null,
            "align_self": null,
            "border": null,
            "bottom": null,
            "display": null,
            "flex": null,
            "flex_flow": null,
            "grid_area": null,
            "grid_auto_columns": null,
            "grid_auto_flow": null,
            "grid_auto_rows": null,
            "grid_column": null,
            "grid_gap": null,
            "grid_row": null,
            "grid_template_areas": null,
            "grid_template_columns": null,
            "grid_template_rows": null,
            "height": null,
            "justify_content": null,
            "justify_items": null,
            "left": null,
            "margin": null,
            "max_height": null,
            "max_width": null,
            "min_height": null,
            "min_width": null,
            "object_fit": null,
            "object_position": null,
            "order": null,
            "overflow": null,
            "overflow_x": null,
            "overflow_y": null,
            "padding": null,
            "right": null,
            "top": null,
            "visibility": null,
            "width": null
          }
        },
        "c8a2fffeb85d4a718a1a1d9230830b89": {
          "model_module": "@jupyter-widgets/controls",
          "model_name": "DescriptionStyleModel",
          "model_module_version": "1.5.0",
          "state": {
            "_model_module": "@jupyter-widgets/controls",
            "_model_module_version": "1.5.0",
            "_model_name": "DescriptionStyleModel",
            "_view_count": null,
            "_view_module": "@jupyter-widgets/base",
            "_view_module_version": "1.2.0",
            "_view_name": "StyleView",
            "description_width": ""
          }
        },
        "251d48d514cf48b28efd7ee951a31c46": {
          "model_module": "@jupyter-widgets/controls",
          "model_name": "HBoxModel",
          "model_module_version": "1.5.0",
          "state": {
            "_dom_classes": [],
            "_model_module": "@jupyter-widgets/controls",
            "_model_module_version": "1.5.0",
            "_model_name": "HBoxModel",
            "_view_count": null,
            "_view_module": "@jupyter-widgets/controls",
            "_view_module_version": "1.5.0",
            "_view_name": "HBoxView",
            "box_style": "",
            "children": [
              "IPY_MODEL_de83178bb9624b548418e7f3b441369b",
              "IPY_MODEL_3c80ea0061294579b5d8aa4ea9d0ba09",
              "IPY_MODEL_7774a9db67a844458105d43af0c7ff93"
            ],
            "layout": "IPY_MODEL_8df3208f8e6449b9afafe42d461d63b5"
          }
        },
        "de83178bb9624b548418e7f3b441369b": {
          "model_module": "@jupyter-widgets/controls",
          "model_name": "HTMLModel",
          "model_module_version": "1.5.0",
          "state": {
            "_dom_classes": [],
            "_model_module": "@jupyter-widgets/controls",
            "_model_module_version": "1.5.0",
            "_model_name": "HTMLModel",
            "_view_count": null,
            "_view_module": "@jupyter-widgets/controls",
            "_view_module_version": "1.5.0",
            "_view_name": "HTMLView",
            "description": "",
            "description_tooltip": null,
            "layout": "IPY_MODEL_1fe3799a304b4ff0a8fd5dc50734bac5",
            "placeholder": "​",
            "style": "IPY_MODEL_2cb214529b174cbe97fea4033b8d5a09",
            "value": "100%"
          }
        },
        "3c80ea0061294579b5d8aa4ea9d0ba09": {
          "model_module": "@jupyter-widgets/controls",
          "model_name": "FloatProgressModel",
          "model_module_version": "1.5.0",
          "state": {
            "_dom_classes": [],
            "_model_module": "@jupyter-widgets/controls",
            "_model_module_version": "1.5.0",
            "_model_name": "FloatProgressModel",
            "_view_count": null,
            "_view_module": "@jupyter-widgets/controls",
            "_view_module_version": "1.5.0",
            "_view_name": "ProgressView",
            "bar_style": "success",
            "description": "",
            "description_tooltip": null,
            "layout": "IPY_MODEL_ae62e86afde14ac2ae37ad66345adc7a",
            "max": 20,
            "min": 0,
            "orientation": "horizontal",
            "style": "IPY_MODEL_dd5591393f034ef988e6286eab4be351",
            "value": 20
          }
        },
        "7774a9db67a844458105d43af0c7ff93": {
          "model_module": "@jupyter-widgets/controls",
          "model_name": "HTMLModel",
          "model_module_version": "1.5.0",
          "state": {
            "_dom_classes": [],
            "_model_module": "@jupyter-widgets/controls",
            "_model_module_version": "1.5.0",
            "_model_name": "HTMLModel",
            "_view_count": null,
            "_view_module": "@jupyter-widgets/controls",
            "_view_module_version": "1.5.0",
            "_view_name": "HTMLView",
            "description": "",
            "description_tooltip": null,
            "layout": "IPY_MODEL_301321ee2bc6486d88bb59f9ddd40711",
            "placeholder": "​",
            "style": "IPY_MODEL_e7581e88b94e4449b261fb7701897d2e",
            "value": " 20/20 [00:13&lt;00:00,  1.69it/s, loss=0.001]"
          }
        },
        "8df3208f8e6449b9afafe42d461d63b5": {
          "model_module": "@jupyter-widgets/base",
          "model_name": "LayoutModel",
          "model_module_version": "1.2.0",
          "state": {
            "_model_module": "@jupyter-widgets/base",
            "_model_module_version": "1.2.0",
            "_model_name": "LayoutModel",
            "_view_count": null,
            "_view_module": "@jupyter-widgets/base",
            "_view_module_version": "1.2.0",
            "_view_name": "LayoutView",
            "align_content": null,
            "align_items": null,
            "align_self": null,
            "border": null,
            "bottom": null,
            "display": null,
            "flex": null,
            "flex_flow": null,
            "grid_area": null,
            "grid_auto_columns": null,
            "grid_auto_flow": null,
            "grid_auto_rows": null,
            "grid_column": null,
            "grid_gap": null,
            "grid_row": null,
            "grid_template_areas": null,
            "grid_template_columns": null,
            "grid_template_rows": null,
            "height": null,
            "justify_content": null,
            "justify_items": null,
            "left": null,
            "margin": null,
            "max_height": null,
            "max_width": null,
            "min_height": null,
            "min_width": null,
            "object_fit": null,
            "object_position": null,
            "order": null,
            "overflow": null,
            "overflow_x": null,
            "overflow_y": null,
            "padding": null,
            "right": null,
            "top": null,
            "visibility": null,
            "width": null
          }
        },
        "1fe3799a304b4ff0a8fd5dc50734bac5": {
          "model_module": "@jupyter-widgets/base",
          "model_name": "LayoutModel",
          "model_module_version": "1.2.0",
          "state": {
            "_model_module": "@jupyter-widgets/base",
            "_model_module_version": "1.2.0",
            "_model_name": "LayoutModel",
            "_view_count": null,
            "_view_module": "@jupyter-widgets/base",
            "_view_module_version": "1.2.0",
            "_view_name": "LayoutView",
            "align_content": null,
            "align_items": null,
            "align_self": null,
            "border": null,
            "bottom": null,
            "display": null,
            "flex": null,
            "flex_flow": null,
            "grid_area": null,
            "grid_auto_columns": null,
            "grid_auto_flow": null,
            "grid_auto_rows": null,
            "grid_column": null,
            "grid_gap": null,
            "grid_row": null,
            "grid_template_areas": null,
            "grid_template_columns": null,
            "grid_template_rows": null,
            "height": null,
            "justify_content": null,
            "justify_items": null,
            "left": null,
            "margin": null,
            "max_height": null,
            "max_width": null,
            "min_height": null,
            "min_width": null,
            "object_fit": null,
            "object_position": null,
            "order": null,
            "overflow": null,
            "overflow_x": null,
            "overflow_y": null,
            "padding": null,
            "right": null,
            "top": null,
            "visibility": null,
            "width": null
          }
        },
        "2cb214529b174cbe97fea4033b8d5a09": {
          "model_module": "@jupyter-widgets/controls",
          "model_name": "DescriptionStyleModel",
          "model_module_version": "1.5.0",
          "state": {
            "_model_module": "@jupyter-widgets/controls",
            "_model_module_version": "1.5.0",
            "_model_name": "DescriptionStyleModel",
            "_view_count": null,
            "_view_module": "@jupyter-widgets/base",
            "_view_module_version": "1.2.0",
            "_view_name": "StyleView",
            "description_width": ""
          }
        },
        "ae62e86afde14ac2ae37ad66345adc7a": {
          "model_module": "@jupyter-widgets/base",
          "model_name": "LayoutModel",
          "model_module_version": "1.2.0",
          "state": {
            "_model_module": "@jupyter-widgets/base",
            "_model_module_version": "1.2.0",
            "_model_name": "LayoutModel",
            "_view_count": null,
            "_view_module": "@jupyter-widgets/base",
            "_view_module_version": "1.2.0",
            "_view_name": "LayoutView",
            "align_content": null,
            "align_items": null,
            "align_self": null,
            "border": null,
            "bottom": null,
            "display": null,
            "flex": null,
            "flex_flow": null,
            "grid_area": null,
            "grid_auto_columns": null,
            "grid_auto_flow": null,
            "grid_auto_rows": null,
            "grid_column": null,
            "grid_gap": null,
            "grid_row": null,
            "grid_template_areas": null,
            "grid_template_columns": null,
            "grid_template_rows": null,
            "height": null,
            "justify_content": null,
            "justify_items": null,
            "left": null,
            "margin": null,
            "max_height": null,
            "max_width": null,
            "min_height": null,
            "min_width": null,
            "object_fit": null,
            "object_position": null,
            "order": null,
            "overflow": null,
            "overflow_x": null,
            "overflow_y": null,
            "padding": null,
            "right": null,
            "top": null,
            "visibility": null,
            "width": null
          }
        },
        "dd5591393f034ef988e6286eab4be351": {
          "model_module": "@jupyter-widgets/controls",
          "model_name": "ProgressStyleModel",
          "model_module_version": "1.5.0",
          "state": {
            "_model_module": "@jupyter-widgets/controls",
            "_model_module_version": "1.5.0",
            "_model_name": "ProgressStyleModel",
            "_view_count": null,
            "_view_module": "@jupyter-widgets/base",
            "_view_module_version": "1.2.0",
            "_view_name": "StyleView",
            "bar_color": null,
            "description_width": ""
          }
        },
        "301321ee2bc6486d88bb59f9ddd40711": {
          "model_module": "@jupyter-widgets/base",
          "model_name": "LayoutModel",
          "model_module_version": "1.2.0",
          "state": {
            "_model_module": "@jupyter-widgets/base",
            "_model_module_version": "1.2.0",
            "_model_name": "LayoutModel",
            "_view_count": null,
            "_view_module": "@jupyter-widgets/base",
            "_view_module_version": "1.2.0",
            "_view_name": "LayoutView",
            "align_content": null,
            "align_items": null,
            "align_self": null,
            "border": null,
            "bottom": null,
            "display": null,
            "flex": null,
            "flex_flow": null,
            "grid_area": null,
            "grid_auto_columns": null,
            "grid_auto_flow": null,
            "grid_auto_rows": null,
            "grid_column": null,
            "grid_gap": null,
            "grid_row": null,
            "grid_template_areas": null,
            "grid_template_columns": null,
            "grid_template_rows": null,
            "height": null,
            "justify_content": null,
            "justify_items": null,
            "left": null,
            "margin": null,
            "max_height": null,
            "max_width": null,
            "min_height": null,
            "min_width": null,
            "object_fit": null,
            "object_position": null,
            "order": null,
            "overflow": null,
            "overflow_x": null,
            "overflow_y": null,
            "padding": null,
            "right": null,
            "top": null,
            "visibility": null,
            "width": null
          }
        },
        "e7581e88b94e4449b261fb7701897d2e": {
          "model_module": "@jupyter-widgets/controls",
          "model_name": "DescriptionStyleModel",
          "model_module_version": "1.5.0",
          "state": {
            "_model_module": "@jupyter-widgets/controls",
            "_model_module_version": "1.5.0",
            "_model_name": "DescriptionStyleModel",
            "_view_count": null,
            "_view_module": "@jupyter-widgets/base",
            "_view_module_version": "1.2.0",
            "_view_name": "StyleView",
            "description_width": ""
          }
        }
      }
    }
  },
  "nbformat": 4,
  "nbformat_minor": 0
}