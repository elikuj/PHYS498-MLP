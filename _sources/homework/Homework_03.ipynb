{
  "cells": [
    {
      "cell_type": "markdown",
      "metadata": {
        "id": "iid4Sa6eZjyV"
      },
      "source": [
        "# Homework 03: Bayesian Statistics and Markov Chains"
      ]
    },
    {
      "cell_type": "code",
      "execution_count": 2,
      "metadata": {
        "colab": {
          "base_uri": "https://localhost:8080/"
        },
        "id": "YUpKGegQZjyX",
        "outputId": "011ce5b2-4a09-4f4e-8f6f-fa387e6b07cc"
      },
      "outputs": [
        {
          "output_type": "stream",
          "name": "stdout",
          "text": [
            "Collecting emcee\n",
            "  Downloading emcee-3.1.6-py2.py3-none-any.whl.metadata (3.0 kB)\n",
            "Requirement already satisfied: numpy in /usr/local/lib/python3.11/dist-packages (from emcee) (1.26.4)\n",
            "Downloading emcee-3.1.6-py2.py3-none-any.whl (47 kB)\n",
            "\u001b[?25l   \u001b[90m━━━━━━━━━━━━━━━━━━━━━━━━━━━━━━━━━━━━━━━━\u001b[0m \u001b[32m0.0/47.4 kB\u001b[0m \u001b[31m?\u001b[0m eta \u001b[36m-:--:--\u001b[0m\r\u001b[2K   \u001b[90m━━━━━━━━━━━━━━━━━━━━━━━━━━━━━━━━━━━━━━━━\u001b[0m \u001b[32m47.4/47.4 kB\u001b[0m \u001b[31m1.7 MB/s\u001b[0m eta \u001b[36m0:00:00\u001b[0m\n",
            "\u001b[?25hInstalling collected packages: emcee\n",
            "Successfully installed emcee-3.1.6\n"
          ]
        }
      ],
      "source": [
        "%matplotlib inline\n",
        "import matplotlib.pyplot as plt\n",
        "import seaborn as sns; sns.set_theme()\n",
        "import numpy as np\n",
        "import pandas as pd\n",
        "import os.path\n",
        "import subprocess\n",
        "%pip install emcee"
      ]
    },
    {
      "cell_type": "markdown",
      "metadata": {
        "id": "02t8H9MIZjya"
      },
      "source": [
        "Helpers for Getting, Loading and Locating Data"
      ]
    },
    {
      "cell_type": "code",
      "execution_count": 3,
      "metadata": {
        "id": "tTdNMJztZjyb"
      },
      "outputs": [],
      "source": [
        "def wget_data(url: str):\n",
        "    local_path = './tmp_data'\n",
        "    p = subprocess.Popen([\"wget\", \"-nc\", \"-P\", local_path, url], stderr=subprocess.PIPE, encoding='UTF-8')\n",
        "    rc = None\n",
        "    while rc is None:\n",
        "      line = p.stderr.readline().strip('\\n')\n",
        "      if len(line) > 0:\n",
        "        print(line)\n",
        "      rc = p.poll()\n",
        "\n",
        "def locate_data(name, check_exists=True):\n",
        "    local_path='./tmp_data'\n",
        "    path = os.path.join(local_path, name)\n",
        "    if check_exists and not os.path.exists(path):\n",
        "        raise RuxntimeError('No such data file: {}'.format(path))\n",
        "    return path"
      ]
    },
    {
      "cell_type": "markdown",
      "metadata": {
        "id": "pjSBbYoiZjyd"
      },
      "source": [
        "## <span style=\"color:Orange\">Problem 1</span>"
      ]
    },
    {
      "cell_type": "markdown",
      "metadata": {
        "id": "HCIJG6bwZjyd"
      },
      "source": [
        "Suppose you have an algorithm to identify [quasars](https://en.wikipedia.org/wiki/Quasar) from astronomical images, which simply returns `True` or `False`. Using control samples, you have determined that your algorithm has the following performance for real quasars as well as the main contaminants for a quasar sample: galaxies and stars.\n",
        "\n",
        "| data? | M=quasar | M=galaxy | M=star |\n",
        "|---|--------|--------|------|\n",
        "| D=True  |  0.8   |   0.1  |  0.2 |\n",
        "| D=False |  0.2   |   0.9  |  0.8 |\n",
        "\n",
        "Implement the following function to calculate the likelihood $P(D\\mid M)$ given this information:"
      ]
    },
    {
      "cell_type": "code",
      "execution_count": 4,
      "metadata": {
        "id": "disLHxM_Zjye"
      },
      "outputs": [],
      "source": [
        "def likelihood(D, M):\n",
        "    \"\"\"Calculate likelihood of data D given model M.\n",
        "\n",
        "    Parameters\n",
        "    ----------\n",
        "    D : bool\n",
        "        A boolean (True/False) value indicating whether the algorithm identified an\n",
        "        object as being a quasar or not.\n",
        "    M : str\n",
        "        A string ('quasar', 'galaxy', 'star') specifying the assumed model.\n",
        "\n",
        "    Returns\n",
        "    -------\n",
        "    float\n",
        "        The probability of the data given the model.\n",
        "    \"\"\"\n",
        "\n",
        "    # YOUR CODE HERE\n",
        "    if M == 'quasar':\n",
        "      if D: return 0.8\n",
        "      else: return 0.2\n",
        "    if M == 'galaxy':\n",
        "      if D: return 0.1\n",
        "      else: return 0.9\n",
        "    if M == 'star':\n",
        "      if D: return 0.2\n",
        "      else: return 0.8"
      ]
    },
    {
      "cell_type": "code",
      "execution_count": 5,
      "metadata": {
        "id": "JIi7RQ0xZjyf"
      },
      "outputs": [],
      "source": [
        "# A correct solution should pass these tests.\n",
        "assert likelihood(True, 'quasar') == 0.8\n",
        "assert likelihood(False, 'galaxy') == 0.9\n",
        "assert likelihood(True, 'star') == 0.2\n",
        "for M in 'quasar', 'galaxy', 'star':\n",
        "    assert likelihood(True, M) + likelihood(False, M) == 1"
      ]
    },
    {
      "cell_type": "markdown",
      "metadata": {
        "id": "4DxHJ6ozZjyg"
      },
      "source": [
        "The prior probability of each model will vary between images, depending mostly on the local density of stars which can vary a lot (and is especially high when you look through the disk of the Milky Way).\n",
        "\n",
        "Implement the function below to calculate the prior probabilities of each model for an image based on the expected number of objects of each type:"
      ]
    },
    {
      "cell_type": "code",
      "execution_count": 6,
      "metadata": {
        "id": "DGMhA0u8Zjyh"
      },
      "outputs": [],
      "source": [
        "def prior(num_quasars_expected, num_galaxies_expected, num_stars_expected):\n",
        "    \"\"\"Calculate the prior probability of each model.\n",
        "\n",
        "    Parameters\n",
        "    ----------\n",
        "    num_quasars_expected : int\n",
        "        Number of expected quasars.\n",
        "    num_galaxies_expected : int\n",
        "        Number of expected galaxies.\n",
        "    num_stars_expected : int\n",
        "        Number of expected stars.\n",
        "\n",
        "    Returns\n",
        "    -------\n",
        "    dict\n",
        "        Dictionary of prior probabilities for each model with keys 'quasar',\n",
        "        'galaxy' and 'star'.\n",
        "    \"\"\"\n",
        "    return {\n",
        "        'quasar': 1.0 * num_quasars_expected / (num_quasars_expected + num_galaxies_expected + num_stars_expected),\n",
        "        'galaxy': 1.0 * num_galaxies_expected / (num_quasars_expected + num_galaxies_expected + num_stars_expected),\n",
        "        'star': 1.0 * num_stars_expected / (num_quasars_expected + num_galaxies_expected + num_stars_expected)\n",
        "    }\n",
        "\n",
        "    # YOUR CODE HERE\n",
        "    raise NotImplementedError()"
      ]
    },
    {
      "cell_type": "code",
      "execution_count": 7,
      "metadata": {
        "id": "j8S75Fs9Zjyh"
      },
      "outputs": [],
      "source": [
        "# A correct solution should pass these tests.\n",
        "assert prior(100, 100, 200) == {'quasar': 0.25, 'galaxy': 0.25, 'star': 0.5}\n",
        "assert prior(100, 100, 600) == {'quasar': 0.125, 'galaxy': 0.125, 'star': 0.75}"
      ]
    },
    {
      "cell_type": "markdown",
      "metadata": {
        "id": "mEwDfHHcZjyi"
      },
      "source": [
        "You have now the code necessary to quantify how well your quasar identification algorithm performs in regions with different densities of stars, using the posterior probability $P(\\text{quasar}\\mid \\text{True})$.  For example, if the stellar density increases 3 times (from 200 to 600 per image) with fixed quasar and galaxy densities (100 each), the posterior probability drops from 0.615 to 0.381:"
      ]
    },
    {
      "cell_type": "code",
      "execution_count": 8,
      "metadata": {
        "id": "Y3I21vEDZjyi"
      },
      "outputs": [],
      "source": [
        "import IPython.display\n",
        "\n",
        "def Learn(prior, likelihood, *data):\n",
        "    \"\"\"Learn from data using Bayesian inference.\n",
        "\n",
        "    Assumes that the model and data spaces are discrete.\n",
        "\n",
        "    Parameters\n",
        "    ----------\n",
        "    prior : dict\n",
        "        Dictionary of prior probabilities for all possible models.\n",
        "    likelihood : callable\n",
        "        Called with args (D,M) and must return a normalized likelihood.\n",
        "    data : variable-length list\n",
        "        Zero or more items of data to use in updating the prior.\n",
        "    \"\"\"\n",
        "    # Initialize the Bayes' rule numerator for each model.\n",
        "    prob = prior.copy()\n",
        "    history = [('PRIOR', prior)]\n",
        "    # Loop over data.\n",
        "    for D in data:\n",
        "        # Update the Bayes' rule numerator for each model.\n",
        "        prob = {M: prob[M] * likelihood(D, M) for M in prob}\n",
        "        # Calculate the Bayes' rule denominator.\n",
        "        norm = sum(prob.values())\n",
        "        # Calculate the posterior probabilities for each model.\n",
        "        prob = {M: prob[M] / norm for M in prob}\n",
        "        history.append(('D={}'.format(D), prob))\n",
        "    # Print our learning history.\n",
        "    index, rows = zip(*history)\n",
        "    IPython.display.display(pd.DataFrame(list(rows), index=index).round(3))"
      ]
    },
    {
      "cell_type": "code",
      "execution_count": 9,
      "metadata": {
        "colab": {
          "base_uri": "https://localhost:8080/",
          "height": 207
        },
        "id": "yEU6p505Zjyi",
        "outputId": "1471988b-785a-4294-c8e3-997691c92561"
      },
      "outputs": [
        {
          "output_type": "display_data",
          "data": {
            "text/plain": [
              "        quasar  galaxy   star\n",
              "PRIOR    0.250   0.250  0.500\n",
              "D=True   0.615   0.077  0.308"
            ],
            "text/html": [
              "\n",
              "  <div id=\"df-62d665de-5e59-4c48-90f1-0d4eb85f8222\" class=\"colab-df-container\">\n",
              "    <div>\n",
              "<style scoped>\n",
              "    .dataframe tbody tr th:only-of-type {\n",
              "        vertical-align: middle;\n",
              "    }\n",
              "\n",
              "    .dataframe tbody tr th {\n",
              "        vertical-align: top;\n",
              "    }\n",
              "\n",
              "    .dataframe thead th {\n",
              "        text-align: right;\n",
              "    }\n",
              "</style>\n",
              "<table border=\"1\" class=\"dataframe\">\n",
              "  <thead>\n",
              "    <tr style=\"text-align: right;\">\n",
              "      <th></th>\n",
              "      <th>quasar</th>\n",
              "      <th>galaxy</th>\n",
              "      <th>star</th>\n",
              "    </tr>\n",
              "  </thead>\n",
              "  <tbody>\n",
              "    <tr>\n",
              "      <th>PRIOR</th>\n",
              "      <td>0.250</td>\n",
              "      <td>0.250</td>\n",
              "      <td>0.500</td>\n",
              "    </tr>\n",
              "    <tr>\n",
              "      <th>D=True</th>\n",
              "      <td>0.615</td>\n",
              "      <td>0.077</td>\n",
              "      <td>0.308</td>\n",
              "    </tr>\n",
              "  </tbody>\n",
              "</table>\n",
              "</div>\n",
              "    <div class=\"colab-df-buttons\">\n",
              "\n",
              "  <div class=\"colab-df-container\">\n",
              "    <button class=\"colab-df-convert\" onclick=\"convertToInteractive('df-62d665de-5e59-4c48-90f1-0d4eb85f8222')\"\n",
              "            title=\"Convert this dataframe to an interactive table.\"\n",
              "            style=\"display:none;\">\n",
              "\n",
              "  <svg xmlns=\"http://www.w3.org/2000/svg\" height=\"24px\" viewBox=\"0 -960 960 960\">\n",
              "    <path d=\"M120-120v-720h720v720H120Zm60-500h600v-160H180v160Zm220 220h160v-160H400v160Zm0 220h160v-160H400v160ZM180-400h160v-160H180v160Zm440 0h160v-160H620v160ZM180-180h160v-160H180v160Zm440 0h160v-160H620v160Z\"/>\n",
              "  </svg>\n",
              "    </button>\n",
              "\n",
              "  <style>\n",
              "    .colab-df-container {\n",
              "      display:flex;\n",
              "      gap: 12px;\n",
              "    }\n",
              "\n",
              "    .colab-df-convert {\n",
              "      background-color: #E8F0FE;\n",
              "      border: none;\n",
              "      border-radius: 50%;\n",
              "      cursor: pointer;\n",
              "      display: none;\n",
              "      fill: #1967D2;\n",
              "      height: 32px;\n",
              "      padding: 0 0 0 0;\n",
              "      width: 32px;\n",
              "    }\n",
              "\n",
              "    .colab-df-convert:hover {\n",
              "      background-color: #E2EBFA;\n",
              "      box-shadow: 0px 1px 2px rgba(60, 64, 67, 0.3), 0px 1px 3px 1px rgba(60, 64, 67, 0.15);\n",
              "      fill: #174EA6;\n",
              "    }\n",
              "\n",
              "    .colab-df-buttons div {\n",
              "      margin-bottom: 4px;\n",
              "    }\n",
              "\n",
              "    [theme=dark] .colab-df-convert {\n",
              "      background-color: #3B4455;\n",
              "      fill: #D2E3FC;\n",
              "    }\n",
              "\n",
              "    [theme=dark] .colab-df-convert:hover {\n",
              "      background-color: #434B5C;\n",
              "      box-shadow: 0px 1px 3px 1px rgba(0, 0, 0, 0.15);\n",
              "      filter: drop-shadow(0px 1px 2px rgba(0, 0, 0, 0.3));\n",
              "      fill: #FFFFFF;\n",
              "    }\n",
              "  </style>\n",
              "\n",
              "    <script>\n",
              "      const buttonEl =\n",
              "        document.querySelector('#df-62d665de-5e59-4c48-90f1-0d4eb85f8222 button.colab-df-convert');\n",
              "      buttonEl.style.display =\n",
              "        google.colab.kernel.accessAllowed ? 'block' : 'none';\n",
              "\n",
              "      async function convertToInteractive(key) {\n",
              "        const element = document.querySelector('#df-62d665de-5e59-4c48-90f1-0d4eb85f8222');\n",
              "        const dataTable =\n",
              "          await google.colab.kernel.invokeFunction('convertToInteractive',\n",
              "                                                    [key], {});\n",
              "        if (!dataTable) return;\n",
              "\n",
              "        const docLinkHtml = 'Like what you see? Visit the ' +\n",
              "          '<a target=\"_blank\" href=https://colab.research.google.com/notebooks/data_table.ipynb>data table notebook</a>'\n",
              "          + ' to learn more about interactive tables.';\n",
              "        element.innerHTML = '';\n",
              "        dataTable['output_type'] = 'display_data';\n",
              "        await google.colab.output.renderOutput(dataTable, element);\n",
              "        const docLink = document.createElement('div');\n",
              "        docLink.innerHTML = docLinkHtml;\n",
              "        element.appendChild(docLink);\n",
              "      }\n",
              "    </script>\n",
              "  </div>\n",
              "\n",
              "\n",
              "<div id=\"df-321b257d-9b3c-4db1-90c1-1f265f513649\">\n",
              "  <button class=\"colab-df-quickchart\" onclick=\"quickchart('df-321b257d-9b3c-4db1-90c1-1f265f513649')\"\n",
              "            title=\"Suggest charts\"\n",
              "            style=\"display:none;\">\n",
              "\n",
              "<svg xmlns=\"http://www.w3.org/2000/svg\" height=\"24px\"viewBox=\"0 0 24 24\"\n",
              "     width=\"24px\">\n",
              "    <g>\n",
              "        <path d=\"M19 3H5c-1.1 0-2 .9-2 2v14c0 1.1.9 2 2 2h14c1.1 0 2-.9 2-2V5c0-1.1-.9-2-2-2zM9 17H7v-7h2v7zm4 0h-2V7h2v10zm4 0h-2v-4h2v4z\"/>\n",
              "    </g>\n",
              "</svg>\n",
              "  </button>\n",
              "\n",
              "<style>\n",
              "  .colab-df-quickchart {\n",
              "      --bg-color: #E8F0FE;\n",
              "      --fill-color: #1967D2;\n",
              "      --hover-bg-color: #E2EBFA;\n",
              "      --hover-fill-color: #174EA6;\n",
              "      --disabled-fill-color: #AAA;\n",
              "      --disabled-bg-color: #DDD;\n",
              "  }\n",
              "\n",
              "  [theme=dark] .colab-df-quickchart {\n",
              "      --bg-color: #3B4455;\n",
              "      --fill-color: #D2E3FC;\n",
              "      --hover-bg-color: #434B5C;\n",
              "      --hover-fill-color: #FFFFFF;\n",
              "      --disabled-bg-color: #3B4455;\n",
              "      --disabled-fill-color: #666;\n",
              "  }\n",
              "\n",
              "  .colab-df-quickchart {\n",
              "    background-color: var(--bg-color);\n",
              "    border: none;\n",
              "    border-radius: 50%;\n",
              "    cursor: pointer;\n",
              "    display: none;\n",
              "    fill: var(--fill-color);\n",
              "    height: 32px;\n",
              "    padding: 0;\n",
              "    width: 32px;\n",
              "  }\n",
              "\n",
              "  .colab-df-quickchart:hover {\n",
              "    background-color: var(--hover-bg-color);\n",
              "    box-shadow: 0 1px 2px rgba(60, 64, 67, 0.3), 0 1px 3px 1px rgba(60, 64, 67, 0.15);\n",
              "    fill: var(--button-hover-fill-color);\n",
              "  }\n",
              "\n",
              "  .colab-df-quickchart-complete:disabled,\n",
              "  .colab-df-quickchart-complete:disabled:hover {\n",
              "    background-color: var(--disabled-bg-color);\n",
              "    fill: var(--disabled-fill-color);\n",
              "    box-shadow: none;\n",
              "  }\n",
              "\n",
              "  .colab-df-spinner {\n",
              "    border: 2px solid var(--fill-color);\n",
              "    border-color: transparent;\n",
              "    border-bottom-color: var(--fill-color);\n",
              "    animation:\n",
              "      spin 1s steps(1) infinite;\n",
              "  }\n",
              "\n",
              "  @keyframes spin {\n",
              "    0% {\n",
              "      border-color: transparent;\n",
              "      border-bottom-color: var(--fill-color);\n",
              "      border-left-color: var(--fill-color);\n",
              "    }\n",
              "    20% {\n",
              "      border-color: transparent;\n",
              "      border-left-color: var(--fill-color);\n",
              "      border-top-color: var(--fill-color);\n",
              "    }\n",
              "    30% {\n",
              "      border-color: transparent;\n",
              "      border-left-color: var(--fill-color);\n",
              "      border-top-color: var(--fill-color);\n",
              "      border-right-color: var(--fill-color);\n",
              "    }\n",
              "    40% {\n",
              "      border-color: transparent;\n",
              "      border-right-color: var(--fill-color);\n",
              "      border-top-color: var(--fill-color);\n",
              "    }\n",
              "    60% {\n",
              "      border-color: transparent;\n",
              "      border-right-color: var(--fill-color);\n",
              "    }\n",
              "    80% {\n",
              "      border-color: transparent;\n",
              "      border-right-color: var(--fill-color);\n",
              "      border-bottom-color: var(--fill-color);\n",
              "    }\n",
              "    90% {\n",
              "      border-color: transparent;\n",
              "      border-bottom-color: var(--fill-color);\n",
              "    }\n",
              "  }\n",
              "</style>\n",
              "\n",
              "  <script>\n",
              "    async function quickchart(key) {\n",
              "      const quickchartButtonEl =\n",
              "        document.querySelector('#' + key + ' button');\n",
              "      quickchartButtonEl.disabled = true;  // To prevent multiple clicks.\n",
              "      quickchartButtonEl.classList.add('colab-df-spinner');\n",
              "      try {\n",
              "        const charts = await google.colab.kernel.invokeFunction(\n",
              "            'suggestCharts', [key], {});\n",
              "      } catch (error) {\n",
              "        console.error('Error during call to suggestCharts:', error);\n",
              "      }\n",
              "      quickchartButtonEl.classList.remove('colab-df-spinner');\n",
              "      quickchartButtonEl.classList.add('colab-df-quickchart-complete');\n",
              "    }\n",
              "    (() => {\n",
              "      let quickchartButtonEl =\n",
              "        document.querySelector('#df-321b257d-9b3c-4db1-90c1-1f265f513649 button');\n",
              "      quickchartButtonEl.style.display =\n",
              "        google.colab.kernel.accessAllowed ? 'block' : 'none';\n",
              "    })();\n",
              "  </script>\n",
              "</div>\n",
              "\n",
              "    </div>\n",
              "  </div>\n"
            ],
            "application/vnd.google.colaboratory.intrinsic+json": {
              "type": "dataframe",
              "summary": "{\n  \"name\": \"Learn(prior(100, 100, 600), likelihood, True)\",\n  \"rows\": 2,\n  \"fields\": [\n    {\n      \"column\": \"quasar\",\n      \"properties\": {\n        \"dtype\": \"number\",\n        \"std\": 0.25809397513308985,\n        \"min\": 0.25,\n        \"max\": 0.615,\n        \"num_unique_values\": 2,\n        \"samples\": [\n          0.615,\n          0.25\n        ],\n        \"semantic_type\": \"\",\n        \"description\": \"\"\n      }\n    },\n    {\n      \"column\": \"galaxy\",\n      \"properties\": {\n        \"dtype\": \"number\",\n        \"std\": 0.12232947314527272,\n        \"min\": 0.077,\n        \"max\": 0.25,\n        \"num_unique_values\": 2,\n        \"samples\": [\n          0.077,\n          0.25\n        ],\n        \"semantic_type\": \"\",\n        \"description\": \"\"\n      }\n    },\n    {\n      \"column\": \"star\",\n      \"properties\": {\n        \"dtype\": \"number\",\n        \"std\": 0.13576450198781712,\n        \"min\": 0.308,\n        \"max\": 0.5,\n        \"num_unique_values\": 2,\n        \"samples\": [\n          0.308,\n          0.5\n        ],\n        \"semantic_type\": \"\",\n        \"description\": \"\"\n      }\n    }\n  ]\n}"
            }
          },
          "metadata": {}
        },
        {
          "output_type": "display_data",
          "data": {
            "text/plain": [
              "        quasar  galaxy   star\n",
              "PRIOR    0.125   0.125  0.750\n",
              "D=True   0.381   0.048  0.571"
            ],
            "text/html": [
              "\n",
              "  <div id=\"df-a3438f13-719a-42b2-b859-88ee4c5df7a9\" class=\"colab-df-container\">\n",
              "    <div>\n",
              "<style scoped>\n",
              "    .dataframe tbody tr th:only-of-type {\n",
              "        vertical-align: middle;\n",
              "    }\n",
              "\n",
              "    .dataframe tbody tr th {\n",
              "        vertical-align: top;\n",
              "    }\n",
              "\n",
              "    .dataframe thead th {\n",
              "        text-align: right;\n",
              "    }\n",
              "</style>\n",
              "<table border=\"1\" class=\"dataframe\">\n",
              "  <thead>\n",
              "    <tr style=\"text-align: right;\">\n",
              "      <th></th>\n",
              "      <th>quasar</th>\n",
              "      <th>galaxy</th>\n",
              "      <th>star</th>\n",
              "    </tr>\n",
              "  </thead>\n",
              "  <tbody>\n",
              "    <tr>\n",
              "      <th>PRIOR</th>\n",
              "      <td>0.125</td>\n",
              "      <td>0.125</td>\n",
              "      <td>0.750</td>\n",
              "    </tr>\n",
              "    <tr>\n",
              "      <th>D=True</th>\n",
              "      <td>0.381</td>\n",
              "      <td>0.048</td>\n",
              "      <td>0.571</td>\n",
              "    </tr>\n",
              "  </tbody>\n",
              "</table>\n",
              "</div>\n",
              "    <div class=\"colab-df-buttons\">\n",
              "\n",
              "  <div class=\"colab-df-container\">\n",
              "    <button class=\"colab-df-convert\" onclick=\"convertToInteractive('df-a3438f13-719a-42b2-b859-88ee4c5df7a9')\"\n",
              "            title=\"Convert this dataframe to an interactive table.\"\n",
              "            style=\"display:none;\">\n",
              "\n",
              "  <svg xmlns=\"http://www.w3.org/2000/svg\" height=\"24px\" viewBox=\"0 -960 960 960\">\n",
              "    <path d=\"M120-120v-720h720v720H120Zm60-500h600v-160H180v160Zm220 220h160v-160H400v160Zm0 220h160v-160H400v160ZM180-400h160v-160H180v160Zm440 0h160v-160H620v160ZM180-180h160v-160H180v160Zm440 0h160v-160H620v160Z\"/>\n",
              "  </svg>\n",
              "    </button>\n",
              "\n",
              "  <style>\n",
              "    .colab-df-container {\n",
              "      display:flex;\n",
              "      gap: 12px;\n",
              "    }\n",
              "\n",
              "    .colab-df-convert {\n",
              "      background-color: #E8F0FE;\n",
              "      border: none;\n",
              "      border-radius: 50%;\n",
              "      cursor: pointer;\n",
              "      display: none;\n",
              "      fill: #1967D2;\n",
              "      height: 32px;\n",
              "      padding: 0 0 0 0;\n",
              "      width: 32px;\n",
              "    }\n",
              "\n",
              "    .colab-df-convert:hover {\n",
              "      background-color: #E2EBFA;\n",
              "      box-shadow: 0px 1px 2px rgba(60, 64, 67, 0.3), 0px 1px 3px 1px rgba(60, 64, 67, 0.15);\n",
              "      fill: #174EA6;\n",
              "    }\n",
              "\n",
              "    .colab-df-buttons div {\n",
              "      margin-bottom: 4px;\n",
              "    }\n",
              "\n",
              "    [theme=dark] .colab-df-convert {\n",
              "      background-color: #3B4455;\n",
              "      fill: #D2E3FC;\n",
              "    }\n",
              "\n",
              "    [theme=dark] .colab-df-convert:hover {\n",
              "      background-color: #434B5C;\n",
              "      box-shadow: 0px 1px 3px 1px rgba(0, 0, 0, 0.15);\n",
              "      filter: drop-shadow(0px 1px 2px rgba(0, 0, 0, 0.3));\n",
              "      fill: #FFFFFF;\n",
              "    }\n",
              "  </style>\n",
              "\n",
              "    <script>\n",
              "      const buttonEl =\n",
              "        document.querySelector('#df-a3438f13-719a-42b2-b859-88ee4c5df7a9 button.colab-df-convert');\n",
              "      buttonEl.style.display =\n",
              "        google.colab.kernel.accessAllowed ? 'block' : 'none';\n",
              "\n",
              "      async function convertToInteractive(key) {\n",
              "        const element = document.querySelector('#df-a3438f13-719a-42b2-b859-88ee4c5df7a9');\n",
              "        const dataTable =\n",
              "          await google.colab.kernel.invokeFunction('convertToInteractive',\n",
              "                                                    [key], {});\n",
              "        if (!dataTable) return;\n",
              "\n",
              "        const docLinkHtml = 'Like what you see? Visit the ' +\n",
              "          '<a target=\"_blank\" href=https://colab.research.google.com/notebooks/data_table.ipynb>data table notebook</a>'\n",
              "          + ' to learn more about interactive tables.';\n",
              "        element.innerHTML = '';\n",
              "        dataTable['output_type'] = 'display_data';\n",
              "        await google.colab.output.renderOutput(dataTable, element);\n",
              "        const docLink = document.createElement('div');\n",
              "        docLink.innerHTML = docLinkHtml;\n",
              "        element.appendChild(docLink);\n",
              "      }\n",
              "    </script>\n",
              "  </div>\n",
              "\n",
              "\n",
              "<div id=\"df-b1585f88-7a84-450d-bb5f-ee1d3f13e337\">\n",
              "  <button class=\"colab-df-quickchart\" onclick=\"quickchart('df-b1585f88-7a84-450d-bb5f-ee1d3f13e337')\"\n",
              "            title=\"Suggest charts\"\n",
              "            style=\"display:none;\">\n",
              "\n",
              "<svg xmlns=\"http://www.w3.org/2000/svg\" height=\"24px\"viewBox=\"0 0 24 24\"\n",
              "     width=\"24px\">\n",
              "    <g>\n",
              "        <path d=\"M19 3H5c-1.1 0-2 .9-2 2v14c0 1.1.9 2 2 2h14c1.1 0 2-.9 2-2V5c0-1.1-.9-2-2-2zM9 17H7v-7h2v7zm4 0h-2V7h2v10zm4 0h-2v-4h2v4z\"/>\n",
              "    </g>\n",
              "</svg>\n",
              "  </button>\n",
              "\n",
              "<style>\n",
              "  .colab-df-quickchart {\n",
              "      --bg-color: #E8F0FE;\n",
              "      --fill-color: #1967D2;\n",
              "      --hover-bg-color: #E2EBFA;\n",
              "      --hover-fill-color: #174EA6;\n",
              "      --disabled-fill-color: #AAA;\n",
              "      --disabled-bg-color: #DDD;\n",
              "  }\n",
              "\n",
              "  [theme=dark] .colab-df-quickchart {\n",
              "      --bg-color: #3B4455;\n",
              "      --fill-color: #D2E3FC;\n",
              "      --hover-bg-color: #434B5C;\n",
              "      --hover-fill-color: #FFFFFF;\n",
              "      --disabled-bg-color: #3B4455;\n",
              "      --disabled-fill-color: #666;\n",
              "  }\n",
              "\n",
              "  .colab-df-quickchart {\n",
              "    background-color: var(--bg-color);\n",
              "    border: none;\n",
              "    border-radius: 50%;\n",
              "    cursor: pointer;\n",
              "    display: none;\n",
              "    fill: var(--fill-color);\n",
              "    height: 32px;\n",
              "    padding: 0;\n",
              "    width: 32px;\n",
              "  }\n",
              "\n",
              "  .colab-df-quickchart:hover {\n",
              "    background-color: var(--hover-bg-color);\n",
              "    box-shadow: 0 1px 2px rgba(60, 64, 67, 0.3), 0 1px 3px 1px rgba(60, 64, 67, 0.15);\n",
              "    fill: var(--button-hover-fill-color);\n",
              "  }\n",
              "\n",
              "  .colab-df-quickchart-complete:disabled,\n",
              "  .colab-df-quickchart-complete:disabled:hover {\n",
              "    background-color: var(--disabled-bg-color);\n",
              "    fill: var(--disabled-fill-color);\n",
              "    box-shadow: none;\n",
              "  }\n",
              "\n",
              "  .colab-df-spinner {\n",
              "    border: 2px solid var(--fill-color);\n",
              "    border-color: transparent;\n",
              "    border-bottom-color: var(--fill-color);\n",
              "    animation:\n",
              "      spin 1s steps(1) infinite;\n",
              "  }\n",
              "\n",
              "  @keyframes spin {\n",
              "    0% {\n",
              "      border-color: transparent;\n",
              "      border-bottom-color: var(--fill-color);\n",
              "      border-left-color: var(--fill-color);\n",
              "    }\n",
              "    20% {\n",
              "      border-color: transparent;\n",
              "      border-left-color: var(--fill-color);\n",
              "      border-top-color: var(--fill-color);\n",
              "    }\n",
              "    30% {\n",
              "      border-color: transparent;\n",
              "      border-left-color: var(--fill-color);\n",
              "      border-top-color: var(--fill-color);\n",
              "      border-right-color: var(--fill-color);\n",
              "    }\n",
              "    40% {\n",
              "      border-color: transparent;\n",
              "      border-right-color: var(--fill-color);\n",
              "      border-top-color: var(--fill-color);\n",
              "    }\n",
              "    60% {\n",
              "      border-color: transparent;\n",
              "      border-right-color: var(--fill-color);\n",
              "    }\n",
              "    80% {\n",
              "      border-color: transparent;\n",
              "      border-right-color: var(--fill-color);\n",
              "      border-bottom-color: var(--fill-color);\n",
              "    }\n",
              "    90% {\n",
              "      border-color: transparent;\n",
              "      border-bottom-color: var(--fill-color);\n",
              "    }\n",
              "  }\n",
              "</style>\n",
              "\n",
              "  <script>\n",
              "    async function quickchart(key) {\n",
              "      const quickchartButtonEl =\n",
              "        document.querySelector('#' + key + ' button');\n",
              "      quickchartButtonEl.disabled = true;  // To prevent multiple clicks.\n",
              "      quickchartButtonEl.classList.add('colab-df-spinner');\n",
              "      try {\n",
              "        const charts = await google.colab.kernel.invokeFunction(\n",
              "            'suggestCharts', [key], {});\n",
              "      } catch (error) {\n",
              "        console.error('Error during call to suggestCharts:', error);\n",
              "      }\n",
              "      quickchartButtonEl.classList.remove('colab-df-spinner');\n",
              "      quickchartButtonEl.classList.add('colab-df-quickchart-complete');\n",
              "    }\n",
              "    (() => {\n",
              "      let quickchartButtonEl =\n",
              "        document.querySelector('#df-b1585f88-7a84-450d-bb5f-ee1d3f13e337 button');\n",
              "      quickchartButtonEl.style.display =\n",
              "        google.colab.kernel.accessAllowed ? 'block' : 'none';\n",
              "    })();\n",
              "  </script>\n",
              "</div>\n",
              "\n",
              "    </div>\n",
              "  </div>\n"
            ],
            "application/vnd.google.colaboratory.intrinsic+json": {
              "type": "dataframe",
              "summary": "{\n  \"name\": \"Learn(prior(100, 100, 600), likelihood, True)\",\n  \"rows\": 2,\n  \"fields\": [\n    {\n      \"column\": \"quasar\",\n      \"properties\": {\n        \"dtype\": \"number\",\n        \"std\": 0.18101933598375616,\n        \"min\": 0.125,\n        \"max\": 0.381,\n        \"num_unique_values\": 2,\n        \"samples\": [\n          0.381,\n          0.125\n        ],\n        \"semantic_type\": \"\",\n        \"description\": \"\"\n      }\n    },\n    {\n      \"column\": \"galaxy\",\n      \"properties\": {\n        \"dtype\": \"number\",\n        \"std\": 0.05444722215136416,\n        \"min\": 0.048,\n        \"max\": 0.125,\n        \"num_unique_values\": 2,\n        \"samples\": [\n          0.048,\n          0.125\n        ],\n        \"semantic_type\": \"\",\n        \"description\": \"\"\n      }\n    },\n    {\n      \"column\": \"star\",\n      \"properties\": {\n        \"dtype\": \"number\",\n        \"std\": 0.12657211383239203,\n        \"min\": 0.571,\n        \"max\": 0.75,\n        \"num_unique_values\": 2,\n        \"samples\": [\n          0.571,\n          0.75\n        ],\n        \"semantic_type\": \"\",\n        \"description\": \"\"\n      }\n    }\n  ]\n}"
            }
          },
          "metadata": {}
        }
      ],
      "source": [
        "Learn(prior(100, 100, 200), likelihood, True)\n",
        "Learn(prior(100, 100, 600), likelihood, True)"
      ]
    },
    {
      "cell_type": "markdown",
      "metadata": {
        "id": "TGDZf0UrZjyj"
      },
      "source": [
        "## <span style=\"color:Orange\">Problem 2</span>"
      ]
    },
    {
      "cell_type": "markdown",
      "metadata": {
        "id": "7xqF_KpKZjyj"
      },
      "source": [
        "Suppose you measure a random process that follows an [exponential decay law](https://en.wikipedia.org/wiki/Exponential_decay) for the number $n(t)$ of un-decayed states as a function of time $t$:\n",
        "\n",
        "$$ \\Large\n",
        "\\frac{dn}{dt} = -\\lambda n \\; ,\n",
        "$$\n",
        "\n",
        "and want to infer the posterior probability of the decay rate $\\lambda$ given your data.\n",
        "\n",
        "First, implement the function below to evaluate the likelihood of observing $N$ decay times $D = \\{t_1, t_2, \\ldots\\}$ as:\n",
        "\n",
        "$$ \\Large\n",
        "P(D\\mid \\lambda) = \\prod_{i=1}^{N}\\, P(t_i\\mid \\lambda)\n",
        "$$\n",
        "\n",
        "where the **un-normalized** probability density for exponential decay is:\n",
        "\n",
        "$$ \\Large\n",
        "P(t\\mid \\lambda) \\propto \\exp(-\\lambda t) \\; .\n",
        "$$"
      ]
    },
    {
      "cell_type": "code",
      "execution_count": 10,
      "metadata": {
        "id": "YXyr715uZjyl"
      },
      "outputs": [],
      "source": [
        "def decay_likelihood(decay_times, lam):\n",
        "    \"\"\"Calculate the normalized likelihood of measured times assuming a decay rate.\n",
        "    \"\"\"\n",
        "    return np.exp(-lam * np.sum(decay_times))*lam**(len(decay_times))\n",
        "\n",
        "    # YOUR CODE HERE\n",
        "    raise NotImplementedError()"
      ]
    },
    {
      "cell_type": "code",
      "execution_count": 11,
      "metadata": {
        "colab": {
          "base_uri": "https://localhost:8080/"
        },
        "id": "ZaqhNF3KZjyl",
        "outputId": "acfa33ed-ae91-432c-ec9a-770d433e3464"
      },
      "outputs": [
        {
          "output_type": "stream",
          "name": "stdout",
          "text": [
            "0.0006703200460356395\n"
          ]
        }
      ],
      "source": [
        "# A correct solution should pass these tests.\n",
        "assert decay_likelihood([], 1) == 1\n",
        "print(decay_likelihood([1,2,1], 0.1))\n",
        "assert np.round(decay_likelihood([1], 0.1), 4) == 0.0905\n",
        "assert np.round(decay_likelihood([1], 1.0), 4) == 0.3679\n",
        "assert np.round(decay_likelihood([1], 1.5), 4) == 0.3347\n",
        "assert np.round(decay_likelihood([1,2,1], 0.1), 4) == 0.0007\n",
        "assert np.round(decay_likelihood([1,2,1], 1.0), 4) == 0.0183\n",
        "assert np.round(decay_likelihood([1,2,1], 1.5), 4) == 0.0084"
      ]
    },
    {
      "cell_type": "markdown",
      "metadata": {
        "id": "KEn8HapFZjym"
      },
      "source": [
        "For our prior, we use the [Gamma distribution](https://en.wikipedia.org/wiki/Gamma_distribution), which has two hyperparameters $\\alpha$ and $\\beta$:\n",
        "$$\n",
        "P(\\lambda\\mid \\alpha,\\beta) = \\frac{\\beta^\\alpha \\lambda^{\\alpha-1} e^{-\\beta\\lambda}}{\\Gamma(\\alpha)} \\; .\n",
        "$$\n",
        "Implement the function below to evaluate the Gamma distribtion PDF using a numpy expression for the numerator and [scipy.special.gamma](https://docs.scipy.org/doc/scipy/reference/generated/scipy.special.gamma.html) for the denominator:"
      ]
    },
    {
      "cell_type": "code",
      "execution_count": 12,
      "metadata": {
        "id": "3KijlS0gZjyn"
      },
      "outputs": [],
      "source": [
        "import scipy.special\n",
        "\n",
        "def gamma_distribution(lam, alpha, beta):\n",
        "    \"\"\"Evaluate the gamma distribution.\n",
        "    \"\"\"\n",
        "\n",
        "    return (beta ** alpha)*(lam ** (alpha - 1)) * np.exp(-beta * lam) / scipy.special.gamma(alpha)"
      ]
    },
    {
      "cell_type": "code",
      "execution_count": 13,
      "metadata": {
        "id": "Gyu7uk5vZjyn"
      },
      "outputs": [],
      "source": [
        "# A correct solution should pass these tests.\n",
        "import scipy.stats\n",
        "assert gamma_distribution(1, 0, 1) == 0\n",
        "assert gamma_distribution(1, 1, 0) == 0\n",
        "for lam in (0.1, 1, 2):\n",
        "    for alpha, beta in (1, 1), (2, 1), (2, 2):\n",
        "        assert np.allclose(\n",
        "            gamma_distribution(lam, alpha, beta),\n",
        "            scipy.stats.gamma.pdf(lam, a=alpha, scale=1/beta))"
      ]
    },
    {
      "cell_type": "markdown",
      "metadata": {
        "id": "FdZXX8-kZjyo"
      },
      "source": [
        "The advantage of this choice of prior is that the evidence integral can be performed analytically:\n",
        "\n",
        "$$ \\Large\n",
        "P(D\\mid \\alpha,\\beta) = \\int d\\lambda\\, P(D\\mid\\lambda)\\, P(P(\\lambda\\mid \\alpha,\\beta)\n",
        "= \\frac{\\beta^\\alpha (\\beta + T)^{-(\\alpha+N)} \\Gamma(\\alpha+N)}{\\Gamma(\\alpha)} \\; .\n",
        "$$\n",
        "\n",
        "Use this result to convince yourself that the posterior $P(\\lambda\\mid D,\\alpha,\\beta)$ is another Gamma distribution, but with different hyperparameter values $\\alpha'$ and $\\beta'$.  Priors and posteriors with the same functional form for some likelihood are called [conjugate priors](https://en.wikipedia.org/wiki/Conjugate_prior). The `binomial_learn` example in class also used conjugate priors.\n",
        "\n",
        "Implement the function below to learn from measured decay times by updating the prior hyperparameters:"
      ]
    },
    {
      "cell_type": "code",
      "execution_count": 1,
      "metadata": {
        "id": "0PaLPUbKZjyo"
      },
      "outputs": [],
      "source": [
        "def rate_learn(prior_alpha, prior_beta, decay_times):\n",
        "    \"\"\"Learn from data to update hyperparameters.\n",
        "\n",
        "    Parameters\n",
        "    ----------\n",
        "    prior_alpha : float\n",
        "        Hyperparameter alpha for the prior Gamma distribution PDF.\n",
        "    prior_beta : float\n",
        "        Hyperparameter beta for the prior Gamma distribution PDF.\n",
        "    decay_times : array\n",
        "        Array of observed decay times.\n",
        "\n",
        "    Returns\n",
        "    -------\n",
        "    tuple\n",
        "        Tuple (post_alpha, post_beta) of hyperparameter values for the\n",
        "        posterior Gamma distribution PDF.\n",
        "    \"\"\"\n",
        "\n",
        "    # YOUR CODE HERE\n",
        "    return prior_alpha + len(decay_times), prior_beta + np.sum(decay_times)\n",
        "\n",
        "\n",
        "    raise NotImplementedError()"
      ]
    },
    {
      "cell_type": "code",
      "execution_count": 14,
      "metadata": {
        "id": "a3ubziIiZjyp"
      },
      "outputs": [],
      "source": [
        "# A correct solution should pass these tests.\n",
        "assert rate_learn(1, 1, []) == (1, 1)\n",
        "assert rate_learn(2, 1, []) == (2, 1)\n",
        "assert rate_learn(1, 2, []) == (1, 2)\n",
        "assert np.allclose(\n",
        "    np.round(rate_learn(np.sqrt(10), np.pi, [1,2,1]), 3),\n",
        "    (6.162, 7.142))"
      ]
    },
    {
      "cell_type": "markdown",
      "metadata": {
        "id": "KK1Zg147Zjyp"
      },
      "source": [
        "You can use the function below to test your code visually and confirm that better data reduces the influence of the prior:"
      ]
    },
    {
      "cell_type": "code",
      "execution_count": 15,
      "metadata": {
        "id": "OgF6ML_4Zjyq"
      },
      "outputs": [],
      "source": [
        "def rate_learn_plot(prior_alpha, prior_beta, num_decays, true_lam, seed=123):\n",
        "    \"\"\"\n",
        "    \"\"\"\n",
        "    # Generate some random decays using the true decay rate.\n",
        "    gen = np.random.RandomState(seed=seed)\n",
        "    decay_times = scipy.stats.expon.rvs(scale=1 / true_lam, size=num_decays, random_state=gen)\n",
        "\n",
        "    # Use Bayes' rule to learn from the data.\n",
        "    lam = np.linspace(0., 2.5 * true_lam, 250)\n",
        "    prior = gamma_distribution(lam, prior_alpha, prior_beta)\n",
        "    like = decay_likelihood(decay_times, lam)\n",
        "    post_alpha, post_beta = rate_learn(prior_alpha, prior_beta, decay_times)\n",
        "    post = gamma_distribution(lam, post_alpha, post_beta)\n",
        "\n",
        "    # Plot a summary of the learning process.\n",
        "    plt.fill_between(lam, prior, alpha=0.25)\n",
        "    plt.plot(lam, prior, label='Prior')\n",
        "    plt.plot(lam, like / np.max(like) * np.max(prior), 'k:', label='Likelihood')\n",
        "    plt.fill_between(lam, post, alpha=0.25)\n",
        "    plt.plot(lam, post, label='Posterior')\n",
        "    plt.axvline(true_lam, c='r', ls='--')\n",
        "    plt.xlabel('Decay rate $\\lambda$')\n",
        "    plt.legend(loc='upper right', fontsize='x-large')\n",
        "    plt.xlim(0, lam[-1])\n",
        "    plt.ylim(0, None)"
      ]
    },
    {
      "cell_type": "code",
      "execution_count": 16,
      "metadata": {
        "colab": {
          "base_uri": "https://localhost:8080/",
          "height": 462
        },
        "id": "anq14bDeZjyq",
        "outputId": "1d7eae93-0a5d-4334-e998-12c3acb563c7"
      },
      "outputs": [
        {
          "output_type": "display_data",
          "data": {
            "text/plain": [
              "<Figure size 640x480 with 1 Axes>"
            ],
            "image/png": "[encoded data removed]"
          },
          "metadata": {}
        }
      ],
      "source": [
        "rate_learn_plot(prior_alpha=1, prior_beta=0.2, num_decays=10, true_lam=5)"
      ]
    },
    {
      "cell_type": "code",
      "execution_count": 17,
      "metadata": {
        "colab": {
          "base_uri": "https://localhost:8080/",
          "height": 462
        },
        "id": "wbkmISpOZjyq",
        "outputId": "c1bdb962-fe74-4c6a-ce69-73abe91c9e83"
      },
      "outputs": [
        {
          "output_type": "display_data",
          "data": {
            "text/plain": [
              "<Figure size 640x480 with 1 Axes>"
            ],
            "image/png": "[encoded data removed]"
          },
          "metadata": {}
        }
      ],
      "source": [
        "rate_learn_plot(prior_alpha=1, prior_beta=0.2, num_decays=100, true_lam=5)"
      ]
    },
    {
      "cell_type": "markdown",
      "metadata": {
        "id": "-GyAhgcrZjyr"
      },
      "source": [
        "## <span style=\"color:Orange\">Problem 3</span>"
      ]
    },
    {
      "cell_type": "markdown",
      "metadata": {
        "id": "yNaXVU61Zjyr"
      },
      "source": [
        "In this problem you will solve the same decay rate inference problem but this time using a numerical estimate based on Markov-chain Monte Carlo (MCMC).\n",
        "\n",
        "Recall that `MCMC_sample()` generates samples using a function proportional to the desired PDF. Implement the function below to evaluate the logarithm of the un-normalized posterior probability density:\n",
        "\n",
        "$$ \\Large\n",
        "\\log P(D\\mid \\lambda) + \\log P(\\lambda\\mid \\alpha, \\beta) \\; .\n",
        "$$\n",
        "\n",
        "Do not call your `decay_likelihood()` or `gamma_distribution()` functions in your implementation since the result has better accuracy if you apply the logarithm and simplify analytically. Since MCMC sampling only requires a function proportional to the desired PDF, you can drop any factors in $P(D\\mid \\lambda)$ or $P(\\lambda\\mid \\alpha, \\beta)$ that do not depend on $\\lambda$."
      ]
    },
    {
      "cell_type": "code",
      "execution_count": 77,
      "metadata": {
        "id": "dboiZt9PZjyr"
      },
      "outputs": [],
      "source": [
        "def decay_logf(lam, decay_times, prior_alpha, prior_beta):\n",
        "    \"\"\"Evaluate a function proportional to the log-posterior probability density.\n",
        "\n",
        "    Parameters\n",
        "    ----------\n",
        "    lam : float\n",
        "        Decay rate parameter.\n",
        "    decay_times : array\n",
        "        Array of observed decay times.\n",
        "    prior_alpha : float\n",
        "        Hyperparameter alpha for the prior Gamma distribution PDF.\n",
        "    prior_beta : float\n",
        "        Hyperparameter beta for the prior Gamma distribution PDF.\n",
        "\n",
        "    Returns\n",
        "    -------\n",
        "    float\n",
        "        log P(D|lam) + log P(lam|alpha,beta) up to a constant that does not\n",
        "        depend on the value of lam. Returns -np.inf when lam <= 0.\n",
        "    \"\"\"\n",
        "\n",
        "    #return -lam * np.sum(decay_times)*np.log(lam**(len(decay_times))) + np.log((beta ** alpha)*(lam ** (alpha - 1))) + -beta * lam / scipy.special.gamma(alpha)\n",
        "    if lam <= 0:\n",
        "        return -np.inf\n",
        "    return -lam * np.sum(decay_times) + len(decay_times)*np.log(lam) + np.log((prior_beta ** prior_alpha) * (lam ** (prior_alpha - 1)) / scipy.special.gamma(prior_alpha)) - (prior_beta * lam)\n",
        "    #return decay_likelihood(decay_times, lam) + gamma_distribution(lam, prior_alpha, prior_beta)\n",
        "    # YOUR CODE HERE\n",
        "    raise NotImplementedError()"
      ]
    },
    {
      "cell_type": "code",
      "execution_count": 85,
      "metadata": {
        "colab": {
          "base_uri": "https://localhost:8080/",
          "height": 221
        },
        "id": "wMBroQ6KZjys",
        "outputId": "fdd905c6-efee-456f-c363-8e5ae40e5e82"
      },
      "outputs": [
        {
          "output_type": "error",
          "ename": "AssertionError",
          "evalue": "",
          "traceback": [
            "\u001b[0;31m---------------------------------------------------------------------------\u001b[0m",
            "\u001b[0;31mAssertionError\u001b[0m                            Traceback (most recent call last)",
            "\u001b[0;32m<ipython-input-85-51559247ccf4>\u001b[0m in \u001b[0;36m<cell line: 0>\u001b[0;34m()\u001b[0m\n\u001b[1;32m     12\u001b[0m \u001b[0;34m\u001b[0m\u001b[0m\n\u001b[1;32m     13\u001b[0m \u001b[0;34m\u001b[0m\u001b[0m\n\u001b[0;32m---> 14\u001b[0;31m \u001b[0;32massert\u001b[0m \u001b[0mnp\u001b[0m\u001b[0;34m.\u001b[0m\u001b[0mallclose\u001b[0m\u001b[0;34m(\u001b[0m\u001b[0mnp\u001b[0m\u001b[0;34m.\u001b[0m\u001b[0mround\u001b[0m\u001b[0;34m(\u001b[0m\u001b[0mdecay_logf\u001b[0m\u001b[0;34m(\u001b[0m\u001b[0;36m0.1\u001b[0m\u001b[0;34m,\u001b[0m \u001b[0;34m[\u001b[0m\u001b[0;36m1\u001b[0m\u001b[0;34m,\u001b[0m\u001b[0;36m2\u001b[0m\u001b[0;34m,\u001b[0m\u001b[0;36m1\u001b[0m\u001b[0;34m]\u001b[0m\u001b[0;34m,\u001b[0m \u001b[0ma\u001b[0m\u001b[0;34m,\u001b[0m \u001b[0mb\u001b[0m\u001b[0;34m)\u001b[0m\u001b[0;34m,\u001b[0m \u001b[0;36m3\u001b[0m\u001b[0;34m)\u001b[0m \u001b[0;34m-\u001b[0m \u001b[0moffset\u001b[0m\u001b[0;34m,\u001b[0m \u001b[0;34m-\u001b[0m\u001b[0;36m7.128\u001b[0m\u001b[0;34m)\u001b[0m\u001b[0;34m\u001b[0m\u001b[0;34m\u001b[0m\u001b[0m\n\u001b[0m\u001b[1;32m     15\u001b[0m \u001b[0;32massert\u001b[0m \u001b[0mnp\u001b[0m\u001b[0;34m.\u001b[0m\u001b[0mallclose\u001b[0m\u001b[0;34m(\u001b[0m\u001b[0mnp\u001b[0m\u001b[0;34m.\u001b[0m\u001b[0mround\u001b[0m\u001b[0;34m(\u001b[0m\u001b[0mdecay_logf\u001b[0m\u001b[0;34m(\u001b[0m\u001b[0;36m1\u001b[0m\u001b[0;34m,\u001b[0m \u001b[0;34m[\u001b[0m\u001b[0;36m1\u001b[0m\u001b[0;34m,\u001b[0m\u001b[0;36m2\u001b[0m\u001b[0;34m,\u001b[0m\u001b[0;36m1\u001b[0m\u001b[0;34m]\u001b[0m\u001b[0;34m,\u001b[0m \u001b[0ma\u001b[0m\u001b[0;34m,\u001b[0m \u001b[0mb\u001b[0m\u001b[0;34m)\u001b[0m\u001b[0;34m,\u001b[0m \u001b[0;36m3\u001b[0m\u001b[0;34m)\u001b[0m \u001b[0;34m-\u001b[0m \u001b[0moffset\u001b[0m\u001b[0;34m,\u001b[0m \u001b[0;34m-\u001b[0m\u001b[0;36m4.000\u001b[0m\u001b[0;34m)\u001b[0m\u001b[0;34m\u001b[0m\u001b[0;34m\u001b[0m\u001b[0m\n\u001b[1;32m     16\u001b[0m \u001b[0;32massert\u001b[0m \u001b[0mnp\u001b[0m\u001b[0;34m.\u001b[0m\u001b[0mallclose\u001b[0m\u001b[0;34m(\u001b[0m\u001b[0mnp\u001b[0m\u001b[0;34m.\u001b[0m\u001b[0mround\u001b[0m\u001b[0;34m(\u001b[0m\u001b[0mdecay_logf\u001b[0m\u001b[0;34m(\u001b[0m\u001b[0;36m2\u001b[0m\u001b[0;34m,\u001b[0m \u001b[0;34m[\u001b[0m\u001b[0;36m1\u001b[0m\u001b[0;34m,\u001b[0m\u001b[0;36m2\u001b[0m\u001b[0;34m,\u001b[0m\u001b[0;36m1\u001b[0m\u001b[0;34m]\u001b[0m\u001b[0;34m,\u001b[0m \u001b[0ma\u001b[0m\u001b[0;34m,\u001b[0m \u001b[0mb\u001b[0m\u001b[0;34m)\u001b[0m\u001b[0;34m,\u001b[0m \u001b[0;36m3\u001b[0m\u001b[0;34m)\u001b[0m \u001b[0;34m-\u001b[0m \u001b[0moffset\u001b[0m\u001b[0;34m,\u001b[0m \u001b[0;34m-\u001b[0m\u001b[0;36m6.121\u001b[0m\u001b[0;34m)\u001b[0m\u001b[0;34m\u001b[0m\u001b[0;34m\u001b[0m\u001b[0m\n",
            "\u001b[0;31mAssertionError\u001b[0m: "
          ]
        }
      ],
      "source": [
        "# A correct solution should pass these tests.\n",
        "a, b = 1, 0.2\n",
        "offset = decay_logf(1, [], a, b)\n",
        "assert np.allclose(decay_logf(0.1, [], a, b) - offset, +0.18)\n",
        "assert np.allclose(decay_logf(2, [], a, b) - offset, -0.2)\n",
        "\n",
        "# the original 3 tests (at the bottom) are not passing, but if the \"- offset\" term is included in the np.round function\n",
        "# instead of outside of it, they all pass:\n",
        "assert np.allclose(np.round(decay_logf(0.1, [1,2,1], a, b) - offset, 3), -7.128)\n",
        "assert np.allclose(np.round(decay_logf(1, [1,2,1], a, b) - offset, 3), -4.000)\n",
        "assert np.allclose(np.round(decay_logf(2, [1,2,1], a, b) - offset, 3), -6.121)\n",
        "\n",
        "\n",
        "assert np.allclose(np.round(decay_logf(0.1, [1,2,1], a, b), 3) - offset, -7.128)\n",
        "assert np.allclose(np.round(decay_logf(1, [1,2,1], a, b), 3) - offset, -4.000)\n",
        "assert np.allclose(np.round(decay_logf(2, [1,2,1], a, b), 3) - offset, -6.121)"
      ]
    },
    {
      "cell_type": "markdown",
      "metadata": {
        "id": "K1fEKj5FZjys"
      },
      "source": [
        "You can use the function below to test your numerical solution and compare with the posterior found using `rate_learn_plot` above."
      ]
    },
    {
      "cell_type": "code",
      "execution_count": 80,
      "metadata": {
        "id": "LeSgBd30Zjyt"
      },
      "outputs": [],
      "source": [
        "import functools\n",
        "import inspect\n",
        "import emcee\n",
        "\n",
        "def wrap(func, **kwargs):\n",
        "    \"\"\"Prepare an arbitrary function to use with emcee sampling.\n",
        "\n",
        "    Emcee expects its parameters in a single list, but it is sometimes more\n",
        "    convenient to write a function in terms of named parameters and\n",
        "    hyperparameters. This method uses introspection to wrap an arbitrary\n",
        "    function with named parameters so that it has the signature expected\n",
        "    by emcee.\n",
        "\n",
        "    For example:\n",
        "\n",
        "        def f(x,y,a,b): ...\n",
        "        wrap(f, x=[1], y=[2], a=3, b=4, c=3, d=4)\n",
        "\n",
        "    returns a tuple (wrapped, ['x','y'], [1,2], {'c':3, 'd':4}) where:\n",
        "\n",
        "      - wrapped([p,q]) calls f(x=p,y=q,a=3,b=4)\n",
        "      - [1,2] are the initial values to use for parameters named ['x','y'].\n",
        "      - {'c':3, 'd':4} are the input kwargs with args of f() removed.\n",
        "\n",
        "    The square brackets identify floating arguments and specify their initial\n",
        "    value. An optional callable to evaluate a log-prior can also be passed,\n",
        "    for example:\n",
        "\n",
        "        wrap(f, x=[1,px], y=[2,py], a=3, b=4, c=3, d=4)\n",
        "\n",
        "    where px(x) and py(y) return the (un-normalized) log of the priors on\n",
        "    x and y to use during posterior sampling.\n",
        "\n",
        "    Parameters\n",
        "    ----------\n",
        "    func : callable\n",
        "        The function that should be prepared. It is assumed to have only\n",
        "        numerical arguments that accept any floating point values.\n",
        "    **kwargs : keyword arguments\n",
        "        All arguments of func must be included and assigned a value.\n",
        "        Arguments assigned a floating point value are considered fixed\n",
        "        during sampling.  Arguments assigned a floating point value\n",
        "        within a list, e.g., [1.2], will be sampled using the initial\n",
        "        value provided.  Sampled arguments can optionally also specify\n",
        "        a log-prior distribution using, e.g. [1.2, lnprior], where lnprior\n",
        "        is a function of the sampled argument that returns the log prior\n",
        "        probability density (which does not need to be normalized).\n",
        "\n",
        "    Returns\n",
        "    -------\n",
        "    tuple\n",
        "        Tuple (wrapped, names, values, kwargs). See example above for details.\n",
        "    \"\"\"\n",
        "    fixed = {}\n",
        "    names, values, lnpriors = [], [], []\n",
        "    funcsig = inspect.signature(func)\n",
        "    try:\n",
        "        funcargs = {name: kwargs[name] for name in funcsig.parameters}\n",
        "    except KeyError:\n",
        "        raise ValueError('Missing arguments.')\n",
        "    bound = funcsig.bind(**funcargs)\n",
        "    bound.apply_defaults()\n",
        "    NoPrior = lambda x: 0.\n",
        "    for name, value in bound.arguments.items():\n",
        "        if isinstance(value, list):\n",
        "            names.append(name)\n",
        "            values.append(value.pop(0))\n",
        "            lnpriors.append(value.pop(0) if value else NoPrior)\n",
        "            if value:\n",
        "                raise ValueError('Invalid syntax for argument {}.'.format(name))\n",
        "        else:\n",
        "            fixed[name] = value\n",
        "    partial = functools.partial(func, **fixed)\n",
        "    def wrapped(theta):\n",
        "        if len(theta) != len(names):\n",
        "            raise ValueError('expected list of {} values.'.format(len(names)))\n",
        "        result = 0.\n",
        "        for lnprior, value in zip(lnpriors, theta):\n",
        "            result += lnprior(value)\n",
        "            if not np.isfinite(result):\n",
        "                # theta is not allowed by this prior.\n",
        "                return -np.inf\n",
        "        args = dict(zip(names, theta))\n",
        "        result += partial(**args)\n",
        "        return result\n",
        "    # Remove function args from kwargs.\n",
        "    for name in funcargs:\n",
        "        kwargs.pop(name, None)\n",
        "    return wrapped, names, values, kwargs\n",
        "\n",
        "\n",
        "def sample(func, names, values, nwalkers=20, nsamples=1000, abs_rms=1e-4,\n",
        "           frac_rms=1e-3, burnin=100, random_state=None):\n",
        "    \"\"\"Generate MCMC samples of the un-normalized PDF func() using emcee.\n",
        "\n",
        "    Can be used standalone but intended to work with :func:`wrap`.\n",
        "\n",
        "    Initial values for each walker are Gaussian samples centered on the\n",
        "    input values with an RMS of max(abs_rms, frac_rms * values).\n",
        "\n",
        "    Parameters\n",
        "    ----------\n",
        "    func : callable\n",
        "        Evaluate the log PDF to sample. Passed a single list of parameter\n",
        "        values. Can be prepared using :func:`wrap`.\n",
        "    names : iterable\n",
        "        List of names for each floating parameter.  Used to label columns\n",
        "        in the returned DataFrame. Can be prepared using :func:`wrap`.\n",
        "    values : iterable\n",
        "        List of initial values for each floating parameter.  Used to center\n",
        "        random initial values for each walker. Can be prepared using\n",
        "        :func:`wrap`.\n",
        "    nwalkers : int\n",
        "        The number of emcee walkers to use.\n",
        "    nsamples : int\n",
        "        The total number of samples to return, after combining walkers\n",
        "        and trimming initial burnin.\n",
        "    abs_rms : float\n",
        "        Used to set walker initial values.  See above for details.\n",
        "    rel_rms : float\n",
        "        Used to set walker initial values.  See above for details.\n",
        "    burnin : int\n",
        "        The number of samples to remove from each walker's chain.\n",
        "    random_state : np.random.RandomState or None\n",
        "        The random state to use for reproducible chains.\n",
        "\n",
        "    Returns\n",
        "    -------\n",
        "    pandas.DataFrame\n",
        "        Generated samples in a dataframe, using the inputs names for columns.\n",
        "    \"\"\"\n",
        "    if random_state is None:\n",
        "        random_state = np.random.RandomState()\n",
        "    # Generate sampler starting points.\n",
        "    ndim = len(names)\n",
        "    values = np.array(values, float)\n",
        "    initial = np.tile(values, (nwalkers, 1))\n",
        "    rms = np.maximum(abs_rms, frac_rms * values)\n",
        "    initial += rms * random_state.normal(size=(nwalkers, ndim))\n",
        "    # Initialize and run sampler.\n",
        "    sampler = emcee.EnsembleSampler(nwalkers, ndim, func)\n",
        "    n_per_chain = 1 + nsamples // nwalkers + burnin\n",
        "    sampler.run_mcmc(initial, n_per_chain, rstate0=random_state.get_state())\n",
        "    # Remove burnin and return results in a DataFrame.\n",
        "    chain = sampler.chain[:, burnin:].reshape(-1, ndim)[:nsamples]\n",
        "    return pd.DataFrame(chain, columns=names)\n",
        "\n",
        "\n",
        "def MCMC_sample(func, **kwargs):\n",
        "    \"\"\"Generate random samples from an un-normalized PDF.\n",
        "\n",
        "    See :func:`wrap` and :func:`sample` for details.\n",
        "\n",
        "    Parameters\n",
        "    ----------\n",
        "    func : callable\n",
        "        Function to evaluate log(f(...)) where f(...) is proportional\n",
        "        to the desired probability density.  Will be wrapped to\n",
        "        determine which arguments are sampled and which are fixed.\n",
        "    **kwargs : keyword arguments\n",
        "        Used to configure the wrapping of func and the sampler.\n",
        "\n",
        "    Returns\n",
        "    -------\n",
        "    pandas.DataFrame\n",
        "        Generated samples in a dataframe, with one named column per\n",
        "        sampled argument of the input function.\n",
        "    \"\"\"\n",
        "    # Wrap the input function.\n",
        "    wrapped, names, values, kwargs = wrap(func, **kwargs)\n",
        "    # Generate emcee samples.\n",
        "    return sample(wrapped, names, values, **kwargs)"
      ]
    },
    {
      "cell_type": "code",
      "execution_count": 81,
      "metadata": {
        "id": "8Ax1b9zJZjyu"
      },
      "outputs": [],
      "source": [
        "def MCMC_rate_learn_plot(prior_alpha, prior_beta, num_decays, true_lam, seed=123):\n",
        "    # Generate some random decays using the true decay rate.\n",
        "    gen = np.random.RandomState(seed=seed)\n",
        "    decay_times = scipy.stats.expon.rvs(scale=1 / true_lam, size=num_decays, random_state=gen)\n",
        "    # Generate MCMC samples of the decay rate for this data with this prior.\n",
        "    samples = MCMC_sample(decay_logf, lam=[true_lam], decay_times=decay_times,\n",
        "                          prior_alpha=prior_alpha, prior_beta=prior_beta, nsamples=20000)\n",
        "    # Plot samples.\n",
        "    plt.hist(samples['lam'], range=(0, 2.5 * true_lam), bins=40, density=True)\n",
        "    plt.axvline(true_lam, c='r', ls='--')\n",
        "    plt.xlabel('Decay rate $\\lambda$')\n",
        "    plt.xlim(0, 2.5 * true_lam)"
      ]
    },
    {
      "cell_type": "code",
      "execution_count": 82,
      "metadata": {
        "colab": {
          "base_uri": "https://localhost:8080/",
          "height": 462
        },
        "id": "xUbuMFFAZjyv",
        "outputId": "83b77f77-cddf-4026-f4ee-65a0b0a77d70"
      },
      "outputs": [
        {
          "output_type": "display_data",
          "data": {
            "text/plain": [
              "<Figure size 640x480 with 1 Axes>"
            ],
            "image/png": "[encoded data removed]"
          },
          "metadata": {}
        }
      ],
      "source": [
        "MCMC_rate_learn_plot(prior_alpha=1, prior_beta=0.2, num_decays=10, true_lam=5)"
      ]
    },
    {
      "cell_type": "code",
      "execution_count": 83,
      "metadata": {
        "colab": {
          "base_uri": "https://localhost:8080/",
          "height": 462
        },
        "id": "YH0FfaziZjyv",
        "outputId": "b2756475-e820-401b-aef9-78cd8f262a7e"
      },
      "outputs": [
        {
          "output_type": "display_data",
          "data": {
            "text/plain": [
              "<Figure size 640x480 with 1 Axes>"
            ],
            "image/png": "[encoded data removed]"
          },
          "metadata": {}
        }
      ],
      "source": [
        "MCMC_rate_learn_plot(prior_alpha=1, prior_beta=0.2, num_decays=100, true_lam=5)"
      ]
    },
    {
      "cell_type": "markdown",
      "metadata": {
        "id": "qjLNIZWhZjyv"
      },
      "source": [
        "## <span style=\"color:Orange\">Problem 4</span>"
      ]
    },
    {
      "cell_type": "markdown",
      "metadata": {
        "id": "KYHewqdqZjyv"
      },
      "source": [
        "We showed in class that a Markov chain can have long-range dependencies,\n",
        "\n",
        "$$ \\Large\n",
        "P(X_n\\mid X_{n-k}) \\ne P(X_n) \\; ,\n",
        "$$\n",
        "\n",
        "and commented that dependent random variables are usually, but not necessarily, correlated:\n",
        "\n",
        "$$ \\Large\n",
        "\\rho \\equiv \\frac{\\langle (X_n - \\mu) (X_{n-k} - \\mu)\\rangle}{\\sigma^2} \\ne 0 \\; ,\n",
        "$$\n",
        "\n",
        "where $\\mu$ and $\\sigma$ are the chain's long-term mean and standard deviation, respectively.\n",
        "\n",
        "However, it is possible to define (fairly artificial) distributions with dependent random variables that are uncorrelated.  For example:\n",
        " - $x_1$ is uniformly distributed in $[-1,+1]$.\n",
        " - $x_2 = |x_1|$.\n",
        "\n",
        "Implement the function below to generate a dataset with these two features. Hints:\n",
        " - Use `uniform()` to generate values of $x_1$.\n",
        " - Use `np.corrcoef()` to calculate the correlation coefficient $\\rho$."
      ]
    },
    {
      "cell_type": "code",
      "execution_count": 68,
      "metadata": {
        "id": "vDAzQlP2Zjyw"
      },
      "outputs": [],
      "source": [
        "def generate(n, seed):\n",
        "    \"\"\"Generate a dataset with two dependent but uncorrelated features.\n",
        "\n",
        "    Parameters\n",
        "    ----------\n",
        "    n : int\n",
        "        Number of samples to generate.\n",
        "    seed : int\n",
        "        Seed to use for reproducible random numbers.\n",
        "\n",
        "    Returns\n",
        "    -------\n",
        "    tuple\n",
        "        Tuple (X, rho) of generated data X with shape (n, 2) and the\n",
        "        correlation coefficient rho of the generated data.\n",
        "    \"\"\"\n",
        "    np.random.seed(seed)\n",
        "    X = np.zeros((n, 2))\n",
        "    X[:, 0] = np.random.uniform(-1, 1, size=(n))\n",
        "    X[:, 1] = np.abs(X[:,0])\n",
        "    rho = np.corrcoef(x=X[:,0], y=X[:,1])[0,1]\n",
        "\n",
        "    return X, rho\n",
        "    # YOUR CODE HERE\n",
        "    raise NotImplementedError()"
      ]
    },
    {
      "cell_type": "code",
      "execution_count": 71,
      "metadata": {
        "id": "qlyfM-22Zjyw"
      },
      "outputs": [],
      "source": [
        "# A correct solution should pass these tests.\n",
        "X, _ = generate(n=3, seed=1)\n",
        "assert np.all(np.round(X, 3) == [[-0.166,  0.166], [ 0.441,  0.441], [-1.000,  1.000]])\n",
        "X, _ = generate(n=3, seed=2)\n",
        "assert np.all(np.round(X, 3) == [[-0.128,  0.128], [-0.948,  0.948], [ 0.099,  0.099]])\n",
        "_, rho = generate(n=10000, seed=3)\n",
        "assert np.abs(rho) < 0.002"
      ]
    },
    {
      "cell_type": "markdown",
      "metadata": {
        "id": "DZow6BKTZjyx"
      },
      "source": [
        "You have now demonstrated that $\\rho \\simeq 0$, and a plot of this dataset should convince you that $x_1$ and $x_2$ are (highly) dependent:"
      ]
    },
    {
      "cell_type": "code",
      "execution_count": 70,
      "metadata": {
        "colab": {
          "base_uri": "https://localhost:8080/",
          "height": 458
        },
        "id": "UodkDZBfZjyx",
        "outputId": "0d31e672-31a6-45c2-812e-2463a3f30515"
      },
      "outputs": [
        {
          "output_type": "display_data",
          "data": {
            "text/plain": [
              "<Figure size 640x480 with 1 Axes>"
            ],
            "image/png": "[encoded data removed]"
          },
          "metadata": {}
        }
      ],
      "source": [
        "X, rho = generate(n=50, seed=4)\n",
        "plt.scatter(X[:, 0], X[:, 1], s=5)\n",
        "plt.xlabel('$x$'); plt.ylabel('$y$')\n",
        "plt.text(-0.22, 0.9, '$\\\\rho = {:.3f}$'.format(rho), fontsize='x-large');"
      ]
    },
    {
      "cell_type": "markdown",
      "metadata": {
        "id": "76OqQQxgZjyx"
      },
      "source": [
        "## <span style=\"color:Orange\">Acknowledgments</span>\n",
        "\n",
        "* Initial version: Mark Neubauer\n",
        "\n",
        "© Copyright 2025"
      ]
    }
  ],
  "metadata": {
    "kernelspec": {
      "display_name": "Python 3",
      "language": "python",
      "name": "python3"
    },
    "language_info": {
      "codemirror_mode": {
        "name": "ipython",
        "version": 3
      },
      "file_extension": ".py",
      "mimetype": "text/x-python",
      "name": "python",
      "nbconvert_exporter": "python",
      "pygments_lexer": "ipython3",
      "version": "3.13.1"
    },
    "colab": {
      "provenance": []
    }
  },
  "nbformat": 4,
  "nbformat_minor": 0
}