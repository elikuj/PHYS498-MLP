{
  "cells": [
    {
      "cell_type": "markdown",
      "metadata": {
        "id": "V5ppSGgISDAy"
      },
      "source": [
        "# Dark Energy Survey"
      ]
    },
    {
      "cell_type": "markdown",
      "metadata": {
        "id": "3rLx4hwlp9Fv"
      },
      "source": [
        "<div>\n",
        "<img src=\"https://raw.githubusercontent.com/illinois-mlp/MachineLearningForPhysics/main/img/Project_DES-Figure.jpg\" width=500></img>\n",
        "</div>"
      ]
    },
    {
      "cell_type": "markdown",
      "metadata": {
        "id": "1jeD_lEeqLBh"
      },
      "source": [
        "## <span style=\"color:Orange\">Overview</span>\n",
        "\n",
        "The standard model of the universe, the $Λ$-CDM model, estimates that around 70% of the total energy-matter density of the universe is in the form of dark energy. The primary effect of dark energy is to acceleratingly expand the universe, hence measuring it accurately is vital to our understanding of the universe.\n",
        "\n",
        "The Dark Energy Survey (DES) is an internationally collaborative large sky survey to map hundreds of millions of galaxies, detect thousands of supernovae, and find patterns of cosmic structure to better understand dark energy and the measure the cosmic acceleration of our expanding universe with high precision.\n",
        "\n",
        "The instrument used by DES is the Dark Energy Camera (DECam), which is mounted on the Victor M. Blanco 4-meter Telescope at the Cerro Tololo Inter-American Observatory (CTIO) in the Chilean Andes. DECam has several major components: five optical lenses, a Hexapod positioning and alignment system, a shutter, a set of color filters, and a digital imager."
      ]
    },
    {
      "cell_type": "markdown",
      "metadata": {
        "id": "SprcSrHttoNZ"
      },
      "source": [
        "## <span style=\"color:Orange\">Data Sources</span>\n",
        "\n",
        "This project is based on the Data Release 1 (DR1) of the DES. We will use the `des_dr1.main` table directly from NOIRLAB's Astro Data Lab server which catalogs the DES data releases.\n",
        "\n",
        "NOIRLAB's Astro Data Lab: https://datalab.noirlab.edu/des/access.php"
      ]
    },
    {
      "cell_type": "markdown",
      "metadata": {
        "id": "Vdwb8eSyOvac"
      },
      "source": [
        "## <span style=\"color:Orange\">Importing and Setup</span>\n",
        "\n",
        "You will need to install and import the `astro-datalab` module for data acquisition.\n",
        "\n",
        "Please note, you will have to restart runtime to run your code after pip installing the `astro-datalab` module."
      ]
    },
    {
      "cell_type": "code",
      "execution_count": 1,
      "metadata": {
        "colab": {
          "base_uri": "https://localhost:8080/",
          "height": 1000
        },
        "id": "-6IF5tyhOmw5",
        "outputId": "5bc1cd7c-dc13-4a3e-ede3-24f681244c3e"
      },
      "outputs": [
        {
          "output_type": "stream",
          "name": "stdout",
          "text": [
            "Collecting astro-datalab\n",
            "  Downloading astro_datalab-2.24.0-py3-none-any.whl.metadata (3.3 kB)\n",
            "Requirement already satisfied: certifi in /usr/local/lib/python3.11/dist-packages (from astro-datalab) (2025.1.31)\n",
            "Collecting scipy<1.12.0,>=1.11.3 (from astro-datalab)\n",
            "  Downloading scipy-1.11.4-cp311-cp311-manylinux_2_17_x86_64.manylinux2014_x86_64.whl.metadata (60 kB)\n",
            "\u001b[2K     \u001b[90m━━━━━━━━━━━━━━━━━━━━━━━━━━━━━━━━━━━━━━━━\u001b[0m \u001b[32m60.4/60.4 kB\u001b[0m \u001b[31m72.2 MB/s\u001b[0m eta \u001b[36m0:00:00\u001b[0m\n",
            "\u001b[?25hCollecting specutils<1.14.0,>=1.13.0 (from astro-datalab)\n",
            "  Downloading specutils-1.13.0-py3-none-any.whl.metadata (5.9 kB)\n",
            "Collecting pyvo<1.4,>=1.3 (from astro-datalab)\n",
            "  Downloading pyvo-1.3-py3-none-any.whl.metadata (2.8 kB)\n",
            "Collecting pycurl-requests<0.6.0,>=0.5.0 (from astro-datalab)\n",
            "  Downloading pycurl_requests-0.5.0-py3-none-any.whl.metadata (6.6 kB)\n",
            "Collecting numpy<1.26.4,>=1.23.5 (from astro-datalab)\n",
            "  Downloading numpy-1.26.3-cp311-cp311-manylinux_2_17_x86_64.manylinux2014_x86_64.whl.metadata (61 kB)\n",
            "\u001b[2K     \u001b[90m━━━━━━━━━━━━━━━━━━━━━━━━━━━━━━━━━━━━━━━━\u001b[0m \u001b[32m61.2/61.2 kB\u001b[0m \u001b[31m6.9 MB/s\u001b[0m eta \u001b[36m0:00:00\u001b[0m\n",
            "\u001b[?25hCollecting matplotlib<3.9.0,>=3.8.0 (from astro-datalab)\n",
            "  Downloading matplotlib-3.8.4-cp311-cp311-manylinux_2_17_x86_64.manylinux2014_x86_64.whl.metadata (5.8 kB)\n",
            "Requirement already satisfied: httplib2<0.23.0,>=0.22.0 in /usr/local/lib/python3.11/dist-packages (from astro-datalab) (0.22.0)\n",
            "Collecting pandas<2.2.0,>=2.1.1 (from astro-datalab)\n",
            "  Downloading pandas-2.1.4-cp311-cp311-manylinux_2_17_x86_64.manylinux2014_x86_64.whl.metadata (18 kB)\n",
            "Collecting astropy<5.4.0,>=5.3.4 (from astro-datalab)\n",
            "  Downloading astropy-5.3.4-cp311-cp311-manylinux_2_17_x86_64.manylinux2014_x86_64.whl.metadata (9.4 kB)\n",
            "Requirement already satisfied: chardet<5.3.0,>=5.2.0 in /usr/local/lib/python3.11/dist-packages (from astro-datalab) (5.2.0)\n",
            "Collecting requests<2.32.0,>=2.31.0 (from astro-datalab)\n",
            "  Downloading requests-2.31.0-py3-none-any.whl.metadata (4.6 kB)\n",
            "Collecting feedparser<6.1.0,>=6.0.11 (from astro-datalab)\n",
            "  Downloading feedparser-6.0.11-py3-none-any.whl.metadata (2.4 kB)\n",
            "Collecting Pillow<10.4.0,>=10.3.0 (from astro-datalab)\n",
            "  Downloading pillow-10.3.0-cp311-cp311-manylinux_2_28_x86_64.whl.metadata (9.2 kB)\n",
            "Collecting pycurl<7.46.0,>=7.45.3 (from astro-datalab)\n",
            "  Downloading pycurl-7.45.6-cp311-cp311-manylinux_2_28_x86_64.whl.metadata (4.6 kB)\n",
            "Collecting scikit-learn==1.4.1.post1 (from astro-datalab)\n",
            "  Downloading scikit_learn-1.4.1.post1-cp311-cp311-manylinux_2_17_x86_64.manylinux2014_x86_64.whl.metadata (11 kB)\n",
            "Requirement already satisfied: joblib>=1.2.0 in /usr/local/lib/python3.11/dist-packages (from scikit-learn==1.4.1.post1->astro-datalab) (1.4.2)\n",
            "Requirement already satisfied: threadpoolctl>=2.0.0 in /usr/local/lib/python3.11/dist-packages (from scikit-learn==1.4.1.post1->astro-datalab) (3.6.0)\n",
            "Requirement already satisfied: pyerfa>=2.0 in /usr/local/lib/python3.11/dist-packages (from astropy<5.4.0,>=5.3.4->astro-datalab) (2.0.1.5)\n",
            "Requirement already satisfied: PyYAML>=3.13 in /usr/local/lib/python3.11/dist-packages (from astropy<5.4.0,>=5.3.4->astro-datalab) (6.0.2)\n",
            "Requirement already satisfied: packaging>=19.0 in /usr/local/lib/python3.11/dist-packages (from astropy<5.4.0,>=5.3.4->astro-datalab) (24.2)\n",
            "Collecting sgmllib3k (from feedparser<6.1.0,>=6.0.11->astro-datalab)\n",
            "  Downloading sgmllib3k-1.0.0.tar.gz (5.8 kB)\n",
            "  Preparing metadata (setup.py) ... \u001b[?25l\u001b[?25hdone\n",
            "Requirement already satisfied: pyparsing!=3.0.0,!=3.0.1,!=3.0.2,!=3.0.3,<4,>=2.4.2 in /usr/local/lib/python3.11/dist-packages (from httplib2<0.23.0,>=0.22.0->astro-datalab) (3.2.3)\n",
            "Requirement already satisfied: contourpy>=1.0.1 in /usr/local/lib/python3.11/dist-packages (from matplotlib<3.9.0,>=3.8.0->astro-datalab) (1.3.1)\n",
            "Requirement already satisfied: cycler>=0.10 in /usr/local/lib/python3.11/dist-packages (from matplotlib<3.9.0,>=3.8.0->astro-datalab) (0.12.1)\n",
            "Requirement already satisfied: fonttools>=4.22.0 in /usr/local/lib/python3.11/dist-packages (from matplotlib<3.9.0,>=3.8.0->astro-datalab) (4.57.0)\n",
            "Requirement already satisfied: kiwisolver>=1.3.1 in /usr/local/lib/python3.11/dist-packages (from matplotlib<3.9.0,>=3.8.0->astro-datalab) (1.4.8)\n",
            "Requirement already satisfied: python-dateutil>=2.7 in /usr/local/lib/python3.11/dist-packages (from matplotlib<3.9.0,>=3.8.0->astro-datalab) (2.8.2)\n",
            "Requirement already satisfied: pytz>=2020.1 in /usr/local/lib/python3.11/dist-packages (from pandas<2.2.0,>=2.1.1->astro-datalab) (2025.2)\n",
            "Requirement already satisfied: tzdata>=2022.1 in /usr/local/lib/python3.11/dist-packages (from pandas<2.2.0,>=2.1.1->astro-datalab) (2025.2)\n",
            "Requirement already satisfied: charset-normalizer<4,>=2 in /usr/local/lib/python3.11/dist-packages (from requests<2.32.0,>=2.31.0->astro-datalab) (3.4.1)\n",
            "Requirement already satisfied: idna<4,>=2.5 in /usr/local/lib/python3.11/dist-packages (from requests<2.32.0,>=2.31.0->astro-datalab) (3.10)\n",
            "Requirement already satisfied: urllib3<3,>=1.21.1 in /usr/local/lib/python3.11/dist-packages (from requests<2.32.0,>=2.31.0->astro-datalab) (2.3.0)\n",
            "Collecting gwcs>=0.18 (from specutils<1.14.0,>=1.13.0->astro-datalab)\n",
            "  Downloading gwcs-0.24.0-py3-none-any.whl.metadata (6.3 kB)\n",
            "Collecting asdf-astropy>=0.3 (from specutils<1.14.0,>=1.13.0->astro-datalab)\n",
            "  Downloading asdf_astropy-0.7.1-py3-none-any.whl.metadata (7.3 kB)\n",
            "Collecting asdf>=2.14.4 (from specutils<1.14.0,>=1.13.0->astro-datalab)\n",
            "  Downloading asdf-4.1.0-py3-none-any.whl.metadata (14 kB)\n",
            "Collecting ndcube>=2.0 (from specutils<1.14.0,>=1.13.0->astro-datalab)\n",
            "  Downloading ndcube-2.3.1-py3-none-any.whl.metadata (7.5 kB)\n",
            "Collecting asdf-standard>=1.1.0 (from asdf>=2.14.4->specutils<1.14.0,>=1.13.0->astro-datalab)\n",
            "  Downloading asdf_standard-1.1.1-py3-none-any.whl.metadata (5.2 kB)\n",
            "Collecting asdf-transform-schemas>=0.3 (from asdf>=2.14.4->specutils<1.14.0,>=1.13.0->astro-datalab)\n",
            "  Downloading asdf_transform_schemas-0.5.0-py3-none-any.whl.metadata (4.1 kB)\n",
            "Requirement already satisfied: importlib-metadata>=4.11.4 in /usr/local/lib/python3.11/dist-packages (from asdf>=2.14.4->specutils<1.14.0,>=1.13.0->astro-datalab) (8.6.1)\n",
            "Collecting jmespath>=0.6.2 (from asdf>=2.14.4->specutils<1.14.0,>=1.13.0->astro-datalab)\n",
            "  Downloading jmespath-1.0.1-py3-none-any.whl.metadata (7.6 kB)\n",
            "Collecting semantic_version>=2.8 (from asdf>=2.14.4->specutils<1.14.0,>=1.13.0->astro-datalab)\n",
            "  Downloading semantic_version-2.10.0-py2.py3-none-any.whl.metadata (9.7 kB)\n",
            "Requirement already satisfied: attrs>=22.2.0 in /usr/local/lib/python3.11/dist-packages (from asdf>=2.14.4->specutils<1.14.0,>=1.13.0->astro-datalab) (25.3.0)\n",
            "Collecting asdf-coordinates-schemas>=0.3 (from asdf-astropy>=0.3->specutils<1.14.0,>=1.13.0->astro-datalab)\n",
            "  Downloading asdf_coordinates_schemas-0.3.0-py3-none-any.whl.metadata (4.1 kB)\n",
            "INFO: pip is looking at multiple versions of gwcs to determine which version is compatible with other requirements. This could take a while.\n",
            "Collecting gwcs>=0.18 (from specutils<1.14.0,>=1.13.0->astro-datalab)\n",
            "  Downloading gwcs-0.22.1-py3-none-any.whl.metadata (6.2 kB)\n",
            "  Downloading gwcs-0.22.0-py3-none-any.whl.metadata (6.2 kB)\n",
            "  Downloading gwcs-0.21.0-py3-none-any.whl.metadata (6.2 kB)\n",
            "Collecting asdf-wcs-schemas>=0.4.0 (from gwcs>=0.18->specutils<1.14.0,>=1.13.0->astro-datalab)\n",
            "  Downloading asdf_wcs_schemas-0.4.0-py3-none-any.whl.metadata (3.9 kB)\n",
            "Requirement already satisfied: six>=1.5 in /usr/local/lib/python3.11/dist-packages (from python-dateutil>=2.7->matplotlib<3.9.0,>=3.8.0->astro-datalab) (1.17.0)\n",
            "Requirement already satisfied: zipp>=3.20 in /usr/local/lib/python3.11/dist-packages (from importlib-metadata>=4.11.4->asdf>=2.14.4->specutils<1.14.0,>=1.13.0->astro-datalab) (3.21.0)\n",
            "Downloading astro_datalab-2.24.0-py3-none-any.whl (206 kB)\n",
            "\u001b[2K   \u001b[90m━━━━━━━━━━━━━━━━━━━━━━━━━━━━━━━━━━━━━━━━\u001b[0m \u001b[32m206.3/206.3 kB\u001b[0m \u001b[31m15.7 MB/s\u001b[0m eta \u001b[36m0:00:00\u001b[0m\n",
            "\u001b[?25hDownloading scikit_learn-1.4.1.post1-cp311-cp311-manylinux_2_17_x86_64.manylinux2014_x86_64.whl (12.1 MB)\n",
            "\u001b[2K   \u001b[90m━━━━━━━━━━━━━━━━━━━━━━━━━━━━━━━━━━━━━━━━\u001b[0m \u001b[32m12.1/12.1 MB\u001b[0m \u001b[31m183.8 MB/s\u001b[0m eta \u001b[36m0:00:00\u001b[0m\n",
            "\u001b[?25hDownloading astropy-5.3.4-cp311-cp311-manylinux_2_17_x86_64.manylinux2014_x86_64.whl (10.3 MB)\n",
            "\u001b[2K   \u001b[90m━━━━━━━━━━━━━━━━━━━━━━━━━━━━━━━━━━━━━━━━\u001b[0m \u001b[32m10.3/10.3 MB\u001b[0m \u001b[31m189.2 MB/s\u001b[0m eta \u001b[36m0:00:00\u001b[0m\n",
            "\u001b[?25hDownloading feedparser-6.0.11-py3-none-any.whl (81 kB)\n",
            "\u001b[2K   \u001b[90m━━━━━━━━━━━━━━━━━━━━━━━━━━━━━━━━━━━━━━━━\u001b[0m \u001b[32m81.3/81.3 kB\u001b[0m \u001b[31m193.6 MB/s\u001b[0m eta \u001b[36m0:00:00\u001b[0m\n",
            "\u001b[?25hDownloading matplotlib-3.8.4-cp311-cp311-manylinux_2_17_x86_64.manylinux2014_x86_64.whl (11.6 MB)\n",
            "\u001b[2K   \u001b[90m━━━━━━━━━━━━━━━━━━━━━━━━━━━━━━━━━━━━━━━━\u001b[0m \u001b[32m11.6/11.6 MB\u001b[0m \u001b[31m206.2 MB/s\u001b[0m eta \u001b[36m0:00:00\u001b[0m\n",
            "\u001b[?25hDownloading numpy-1.26.3-cp311-cp311-manylinux_2_17_x86_64.manylinux2014_x86_64.whl (18.3 MB)\n",
            "\u001b[2K   \u001b[90m━━━━━━━━━━━━━━━━━━━━━━━━━━━━━━━━━━━━━━━━\u001b[0m \u001b[32m18.3/18.3 MB\u001b[0m \u001b[31m192.2 MB/s\u001b[0m eta \u001b[36m0:00:00\u001b[0m\n",
            "\u001b[?25hDownloading pandas-2.1.4-cp311-cp311-manylinux_2_17_x86_64.manylinux2014_x86_64.whl (12.2 MB)\n",
            "\u001b[2K   \u001b[90m━━━━━━━━━━━━━━━━━━━━━━━━━━━━━━━━━━━━━━━━\u001b[0m \u001b[32m12.2/12.2 MB\u001b[0m \u001b[31m146.8 MB/s\u001b[0m eta \u001b[36m0:00:00\u001b[0m\n",
            "\u001b[?25hDownloading pillow-10.3.0-cp311-cp311-manylinux_2_28_x86_64.whl (4.5 MB)\n",
            "\u001b[2K   \u001b[90m━━━━━━━━━━━━━━━━━━━━━━━━━━━━━━━━━━━━━━━━\u001b[0m \u001b[32m4.5/4.5 MB\u001b[0m \u001b[31m218.9 MB/s\u001b[0m eta \u001b[36m0:00:00\u001b[0m\n",
            "\u001b[?25hDownloading pycurl-7.45.6-cp311-cp311-manylinux_2_28_x86_64.whl (4.6 MB)\n",
            "\u001b[2K   \u001b[90m━━━━━━━━━━━━━━━━━━━━━━━━━━━━━━━━━━━━━━━━\u001b[0m \u001b[32m4.6/4.6 MB\u001b[0m \u001b[31m197.2 MB/s\u001b[0m eta \u001b[36m0:00:00\u001b[0m\n",
            "\u001b[?25hDownloading pycurl_requests-0.5.0-py3-none-any.whl (30 kB)\n",
            "Downloading pyvo-1.3-py3-none-any.whl (829 kB)\n",
            "\u001b[2K   \u001b[90m━━━━━━━━━━━━━━━━━━━━━━━━━━━━━━━━━━━━━━━\u001b[0m \u001b[32m829.6/829.6 kB\u001b[0m \u001b[31m168.4 MB/s\u001b[0m eta \u001b[36m0:00:00\u001b[0m\n",
            "\u001b[?25hDownloading requests-2.31.0-py3-none-any.whl (62 kB)\n",
            "\u001b[2K   \u001b[90m━━━━━━━━━━━━━━━━━━━━━━━━━━━━━━━━━━━━━━━━\u001b[0m \u001b[32m62.6/62.6 kB\u001b[0m \u001b[31m181.4 MB/s\u001b[0m eta \u001b[36m0:00:00\u001b[0m\n",
            "\u001b[?25hDownloading scipy-1.11.4-cp311-cp311-manylinux_2_17_x86_64.manylinux2014_x86_64.whl (36.4 MB)\n",
            "\u001b[2K   \u001b[90m━━━━━━━━━━━━━━━━━━━━━━━━━━━━━━━━━━━━━━━━\u001b[0m \u001b[32m36.4/36.4 MB\u001b[0m \u001b[31m124.0 MB/s\u001b[0m eta \u001b[36m0:00:00\u001b[0m\n",
            "\u001b[?25hDownloading specutils-1.13.0-py3-none-any.whl (4.9 MB)\n",
            "\u001b[2K   \u001b[90m━━━━━━━━━━━━━━━━━━━━━━━━━━━━━━━━━━━━━━━━\u001b[0m \u001b[32m4.9/4.9 MB\u001b[0m \u001b[31m159.8 MB/s\u001b[0m eta \u001b[36m0:00:00\u001b[0m\n",
            "\u001b[?25hDownloading asdf-4.1.0-py3-none-any.whl (961 kB)\n",
            "\u001b[2K   \u001b[90m━━━━━━━━━━━━━━━━━━━━━━━━━━━━━━━━━━━━━━━\u001b[0m \u001b[32m961.9/961.9 kB\u001b[0m \u001b[31m270.4 MB/s\u001b[0m eta \u001b[36m0:00:00\u001b[0m\n",
            "\u001b[?25hDownloading asdf_astropy-0.7.1-py3-none-any.whl (93 kB)\n",
            "\u001b[2K   \u001b[90m━━━━━━━━━━━━━━━━━━━━━━━━━━━━━━━━━━━━━━━━\u001b[0m \u001b[32m93.2/93.2 kB\u001b[0m \u001b[31m151.6 MB/s\u001b[0m eta \u001b[36m0:00:00\u001b[0m\n",
            "\u001b[?25hDownloading gwcs-0.21.0-py3-none-any.whl (155 kB)\n",
            "\u001b[2K   \u001b[90m━━━━━━━━━━━━━━━━━━━━━━━━━━━━━━━━━━━━━━━\u001b[0m \u001b[32m155.3/155.3 kB\u001b[0m \u001b[31m167.6 MB/s\u001b[0m eta \u001b[36m0:00:00\u001b[0m\n",
            "\u001b[?25hDownloading ndcube-2.3.1-py3-none-any.whl (137 kB)\n",
            "\u001b[2K   \u001b[90m━━━━━━━━━━━━━━━━━━━━━━━━━━━━━━━━━━━━━━━\u001b[0m \u001b[32m137.4/137.4 kB\u001b[0m \u001b[31m155.6 MB/s\u001b[0m eta \u001b[36m0:00:00\u001b[0m\n",
            "\u001b[?25hDownloading asdf_coordinates_schemas-0.3.0-py3-none-any.whl (33 kB)\n",
            "Downloading asdf_standard-1.1.1-py3-none-any.whl (81 kB)\n",
            "\u001b[2K   \u001b[90m━━━━━━━━━━━━━━━━━━━━━━━━━━━━━━━━━━━━━━━━\u001b[0m \u001b[32m81.9/81.9 kB\u001b[0m \u001b[31m192.8 MB/s\u001b[0m eta \u001b[36m0:00:00\u001b[0m\n",
            "\u001b[?25hDownloading asdf_transform_schemas-0.5.0-py3-none-any.whl (275 kB)\n",
            "\u001b[2K   \u001b[90m━━━━━━━━━━━━━━━━━━━━━━━━━━━━━━━━━━━━━━━\u001b[0m \u001b[32m275.4/275.4 kB\u001b[0m \u001b[31m169.4 MB/s\u001b[0m eta \u001b[36m0:00:00\u001b[0m\n",
            "\u001b[?25hDownloading asdf_wcs_schemas-0.4.0-py3-none-any.whl (45 kB)\n",
            "\u001b[2K   \u001b[90m━━━━━━━━━━━━━━━━━━━━━━━━━━━━━━━━━━━━━━━━\u001b[0m \u001b[32m45.9/45.9 kB\u001b[0m \u001b[31m93.7 MB/s\u001b[0m eta \u001b[36m0:00:00\u001b[0m\n",
            "\u001b[?25hDownloading jmespath-1.0.1-py3-none-any.whl (20 kB)\n",
            "Downloading semantic_version-2.10.0-py2.py3-none-any.whl (15 kB)\n",
            "Building wheels for collected packages: sgmllib3k\n",
            "  Building wheel for sgmllib3k (setup.py) ... \u001b[?25l\u001b[?25hdone\n",
            "  Created wheel for sgmllib3k: filename=sgmllib3k-1.0.0-py3-none-any.whl size=6046 sha256=97a0330e130a17d0e9e6961b835fe63d151bcbeb61e58306d34d299d32d3b9d2\n",
            "  Stored in directory: /tmp/pip-ephem-wheel-cache-bw1651rk/wheels/3b/25/2a/105d6a15df6914f4d15047691c6c28f9052cc1173e40285d03\n",
            "Successfully built sgmllib3k\n",
            "Installing collected packages: sgmllib3k, semantic_version, requests, pycurl, Pillow, numpy, jmespath, feedparser, asdf-standard, scipy, pycurl-requests, pandas, asdf-transform-schemas, scikit-learn, matplotlib, astropy, asdf, pyvo, asdf-coordinates-schemas, asdf-wcs-schemas, asdf-astropy, gwcs, ndcube, specutils, astro-datalab\n",
            "  Attempting uninstall: requests\n",
            "    Found existing installation: requests 2.32.3\n",
            "    Uninstalling requests-2.32.3:\n",
            "      Successfully uninstalled requests-2.32.3\n",
            "  Attempting uninstall: Pillow\n",
            "    Found existing installation: pillow 11.1.0\n",
            "    Uninstalling pillow-11.1.0:\n",
            "      Successfully uninstalled pillow-11.1.0\n",
            "  Attempting uninstall: numpy\n",
            "    Found existing installation: numpy 2.0.2\n",
            "    Uninstalling numpy-2.0.2:\n",
            "      Successfully uninstalled numpy-2.0.2\n",
            "  Attempting uninstall: scipy\n",
            "    Found existing installation: scipy 1.14.1\n",
            "    Uninstalling scipy-1.14.1:\n",
            "      Successfully uninstalled scipy-1.14.1\n",
            "  Attempting uninstall: pandas\n",
            "    Found existing installation: pandas 2.2.2\n",
            "    Uninstalling pandas-2.2.2:\n",
            "      Successfully uninstalled pandas-2.2.2\n",
            "  Attempting uninstall: scikit-learn\n",
            "    Found existing installation: scikit-learn 1.6.1\n",
            "    Uninstalling scikit-learn-1.6.1:\n",
            "      Successfully uninstalled scikit-learn-1.6.1\n",
            "  Attempting uninstall: matplotlib\n",
            "    Found existing installation: matplotlib 3.10.0\n",
            "    Uninstalling matplotlib-3.10.0:\n",
            "      Successfully uninstalled matplotlib-3.10.0\n",
            "  Attempting uninstall: astropy\n",
            "    Found existing installation: astropy 7.0.1\n",
            "    Uninstalling astropy-7.0.1:\n",
            "      Successfully uninstalled astropy-7.0.1\n",
            "\u001b[31mERROR: pip's dependency resolver does not currently take into account all the packages that are installed. This behaviour is the source of the following dependency conflicts.\n",
            "google-colab 1.0.0 requires pandas==2.2.2, but you have pandas 2.1.4 which is incompatible.\n",
            "google-colab 1.0.0 requires requests==2.32.3, but you have requests 2.31.0 which is incompatible.\n",
            "mizani 0.13.2 requires pandas>=2.2.0, but you have pandas 2.1.4 which is incompatible.\n",
            "thinc 8.3.6 requires numpy<3.0.0,>=2.0.0, but you have numpy 1.26.3 which is incompatible.\n",
            "plotnine 0.14.5 requires pandas>=2.2.0, but you have pandas 2.1.4 which is incompatible.\u001b[0m\u001b[31m\n",
            "\u001b[0mSuccessfully installed Pillow-10.3.0 asdf-4.1.0 asdf-astropy-0.7.1 asdf-coordinates-schemas-0.3.0 asdf-standard-1.1.1 asdf-transform-schemas-0.5.0 asdf-wcs-schemas-0.4.0 astro-datalab-2.24.0 astropy-5.3.4 feedparser-6.0.11 gwcs-0.21.0 jmespath-1.0.1 matplotlib-3.8.4 ndcube-2.3.1 numpy-1.26.3 pandas-2.1.4 pycurl-7.45.6 pycurl-requests-0.5.0 pyvo-1.3 requests-2.31.0 scikit-learn-1.4.1.post1 scipy-1.11.4 semantic_version-2.10.0 sgmllib3k-1.0.0 specutils-1.13.0\n"
          ]
        },
        {
          "output_type": "display_data",
          "data": {
            "application/vnd.colab-display-data+json": {
              "pip_warning": {
                "packages": [
                  "PIL",
                  "matplotlib",
                  "mpl_toolkits"
                ]
              },
              "id": "6ca738a6881a47bfa73871eafa2e0e95"
            }
          },
          "metadata": {}
        }
      ],
      "source": [
        "%pip install --no-cache-dir astro-datalab"
      ]
    },
    {
      "cell_type": "code",
      "execution_count": 2,
      "metadata": {
        "id": "0UBSoU8nO567"
      },
      "outputs": [],
      "source": [
        "import numpy as np\n",
        "import pandas as pd\n",
        "import matplotlib\n",
        "import matplotlib.pyplot as plt\n",
        "import seaborn as sns; sns.set_theme()\n",
        "import warnings; warnings.filterwarnings('ignore')\n",
        "from sklearn import cluster\n",
        "%matplotlib inline\n",
        "\n",
        "# Data Lab imports\n",
        "from dl import queryClient as qc, storeClient as sc\n",
        "from dl.helpers.utils import convert"
      ]
    },
    {
      "cell_type": "markdown",
      "metadata": {
        "id": "bVGeqweYvvh3"
      },
      "source": [
        "## <span style=\"color:Orange\">Questions</span>"
      ]
    },
    {
      "cell_type": "markdown",
      "metadata": {
        "id": "rYEE9PEHw772"
      },
      "source": [
        "### <span style=\"color:LightGreen\">Question 01</span>\n",
        "\n",
        " What is the Dark Energy Survey? What are it's main goals? What part of the night sky does the DES cover?"
      ]
    },
    {
      "cell_type": "markdown",
      "source": [
        "\n",
        "\n",
        "The Dark Energy Survey is an astronomical survey of the Southern sky. It consists primarily of data from distant galaxies, but also includes many Milky Way stars.\n",
        "\n",
        "Its main goals are to \"understand the accelerating expansion of the universe and the nature of dark energy\".\n"
      ],
      "metadata": {
        "id": "uKIB9F2hp_fG"
      }
    },
    {
      "cell_type": "markdown",
      "metadata": {
        "id": "-F8WubbKzlP6"
      },
      "source": [
        "### <span style=\"color:LightGreen\">Question 02</span>\n",
        "\n",
        "Read the DES DR1 paper [[1]](https://urldefense.com/v3/__https://arxiv.org/abs/1801.03181__;!!DZ3fjg!-VVx5uQqQ6ZzOgr-EjFgoLc8lr9NMhNBQvahQLwOY5HAZ8lWfzbxhbpxn8e7OlM44QFoWvd5J20qch77Aqg$ ). What are the four completementary measurements that DES does to probe the universe? To achieve these goals, what surveys in which wave bands does DES conduct?"
      ]
    },
    {
      "cell_type": "markdown",
      "source": [
        "\n",
        "\n",
        "DES uses weak gravitational lensing, galaxy cluster counts, large-scale clustering of falazies, and distances to type Ia supernovae.\n",
        "\n",
        "To achieve this, DES conducts 2 multi-band surveys: one in the *grizY* bands (5 bands), and one in the *griz* bands (4 bands).\n",
        "\n",
        "\n"
      ],
      "metadata": {
        "id": "IK4SrvyCqEPI"
      }
    },
    {
      "cell_type": "markdown",
      "metadata": {
        "id": "FLM_25pxyXVI"
      },
      "source": [
        "### <span style=\"color:LightGreen\">Question 03</span>\n",
        "\n",
        "What is variable or feature of the data does DES use to classify its' objects  morphologically (stars or galaxies), as described in the DR1 paper [[1]](https://arxiv.org/abs/1801.03181)"
      ]
    },
    {
      "cell_type": "markdown",
      "metadata": {
        "id": "a9VgzmClywsu"
      },
      "source": [
        "## <span style=\"color:Orange\">Accessing Data from Data Lab</span>\n",
        "\n",
        "Below is a sample query statement to acquire the relevant data of the `des_dr1.main` table from Astro Data Lab [[2]](https://urldefense.com/v3/__https://github.com/astro-datalab/notebooks-latest/blob/master/03_ScienceExamples/StarGalQSOSeparation/StarGalQsoDESDR1.ipynb__;!!DZ3fjg!-VVx5uQqQ6ZzOgr-EjFgoLc8lr9NMhNBQvahQLwOY5HAZ8lWfzbxhbpxn8e7OlM44QFoWvd5J20qD2flJpc$ ) .\n",
        "\n"
      ]
    },
    {
      "cell_type": "code",
      "execution_count": null,
      "metadata": {
        "id": "LPV1wIFPTAnt"
      },
      "outputs": [],
      "source": [
        "# Write query statement (sql) as a string\n",
        "# NOTE: triple quotes allow us to break the string on multiple lines\n",
        "query = \"\"\"\n",
        "        SELECT mag_auto_g as gmag, mag_auto_r as rmag, mag_auto_z as zmag,\n",
        "               mag_auto_i as imag, mag_auto_y as ymag,\n",
        "               kron_radius, spread_model_g, class_star_g, spread_model_r, class_star_r,\n",
        "               spread_model_z, class_star_z,\n",
        "               snr_g, snr_r, snr_z, ra, dec\n",
        "        FROM des_dr1.main\n",
        "        WHERE (fluxerr_auto_g>0 and fluxerr_auto_r>0 and fluxerr_auto_z>0)\n",
        "        LIMIT 1000\"\"\"\n",
        "\n",
        "# mag_auto_g,r,i,z,y = AB magnitudes in DECam g,r,i,z,y bands\n",
        "# kron_radius        = Kron radius from SExtractor (pixels)\n",
        "# spread_model_g,r,z = star/galaxy classifier quantifying light profile relative to PSF\n",
        "# class_star_g,r,z   = star/extended source classifier (from 0 to 1)\n",
        "# snr_g,r,z          = computed signal-to-noise ratios (S/N) in g,r,z bands\n",
        "# ra,dec             = celestial coordinates\n",
        "#\n",
        "# WHERE: requirement that error>0 (to avoid dividing by zero) in g,r,z bands\n",
        "# LIMIT: returns 1,000 rows that satisfy the query"
      ]
    },
    {
      "cell_type": "code",
      "execution_count": null,
      "metadata": {
        "id": "3TRu_HdpTI2-"
      },
      "outputs": [],
      "source": [
        "# Execute the query synchronously, if short (e.g., LIMIT<=300,000)\n",
        "# We then convert the returned result, a CSV-formatted string, to a Pandas data frame,\n",
        "# making sure that any potential 'Infinity' values are converted to NaN.\n",
        "sample_res = qc.query(sql=query)\n",
        "sample_df = convert(sample_res,'pandas',na_values=('Infinity','-Infinity'))"
      ]
    },
    {
      "cell_type": "markdown",
      "metadata": {
        "id": "LKvnPq_GzJaC"
      },
      "source": [
        "### <span style=\"color:LightGreen\">Question 04</span>\n",
        "\n",
        "Write a query to get the following data from the `des_dr1.main` table:\n",
        "\n",
        "*  `mag_auto_g,r,i,z,y` = AB magnitudes in DECam g,r,i,z,y bands\n",
        "*  `kron_radius`        = Kron radius from SExtractor (pixels)\n",
        "* `spread_model_g,r,z` = star/galaxy classifier quantifying light profile relative to PSF\n",
        "* `class_star_g,r,z`   = star/extended source classifier (from 0 to 1)\n",
        "* `snr_g,r,z`          = computed signal-to-noise ratios (S/N) in g,r,z bands\n",
        "* `ra`,`dec`             = celestial coordinates\n",
        "\n",
        "Apply the following conditions and limit your query results to 100,000 samples:\n",
        "\n",
        "*   `fluxerr_auto_X` > 0 for X in g, r, and z bands\n",
        "*   -50 <= `snr_X` <= 50 for X in g, r, and z bands\n",
        "\n",
        "\n",
        "Convert the acquired data into a Pandas data frame.\n"
      ]
    },
    {
      "cell_type": "markdown",
      "metadata": {
        "id": "AIOgqJLIVSUn"
      },
      "source": [
        "### <span style=\"color:LightGreen\">Question 05</span>\n",
        "\n",
        "The images produced by DES are used to distinguish between stars (point sources), galaxies (resolved, if not too distant), and QSOs (which may have both point-like and resolved components).\n",
        "\n",
        "* `kron_radius`: Kron radius in pixels\n",
        "* `spread_model_X`: star-galaxy classifier comparing extended model to PSF model. Value is given for each band X = *g, r, i, z, y*\n",
        "* `class_star_X`: value ranging from 0.0 (not point-like) to 1.0 (point-like), for each band X = *g, r, i, z, y*\n",
        "\n",
        "The value of `spread_model_X` is near zero for a point source (star or QSO), positive for an extended source (galaxy), negative for an artifact smaller than the PSF (e.g., bad pixel or cosmic ray).\n",
        "\n",
        "Let's define an object as a star if `spread_model_g`<=0.5, and a galaxy if `spread_model_g` > 0.5. In our sample data, count the number of objects that are stars and the number of objects that are galaxies."
      ]
    },
    {
      "cell_type": "markdown",
      "metadata": {
        "id": "zLMJBHtrWmMX"
      },
      "source": [
        "### <span style=\"color:LightGreen\">Question 06</span>\n",
        "\n",
        "Suppose we wish to divide the imaging data observed by the DES into roughly equal subsets of data for more efficient parallel data processing and analysis. We will do so by using K-Means clustering on the data points of the area of the night sky observed by DES.\n",
        "\n",
        "In astronomy, RA (right ascension) and Dec (declination) are the coordinates on the sky that correspond to longitude and latitude on Earth and are used to describe the position of an object. Define a subset of the data with two columns: `ra` and `dec`. Using K-Means clustering, fit the data into 2 distinct clusters.\n",
        "\n",
        "Here, each cluster will represent a subset of data, so we want the number data points of all clusters to be roughly the same. Display the fit using the helper function `display()`. Is the result what you expected? Is this a suitable method to equally divide our data?"
      ]
    },
    {
      "cell_type": "code",
      "execution_count": null,
      "metadata": {
        "id": "d-jU374Bs8OX"
      },
      "outputs": [],
      "source": [
        "def display(data, fit):\n",
        "    n_clusters = len(np.unique(fit.labels_))\n",
        "    # Pick good colors to distinguish the different clusters.\n",
        "    import matplotlib.colors\n",
        "    cmap = matplotlib.colors.ListedColormap(\n",
        "        sns.color_palette(\"husl\", n_clusters).as_hex())\n",
        "    plt.scatter(data.iloc[:, 0], data.iloc[:, 1], s=5, c=fit.labels_, cmap=cmap)\n",
        "    # Use standard axes to match the plot above.\n",
        "#    plt.xlim(0, 360)\n",
        "    plt.ylim(-90, +90)\n",
        "    plt.xlabel('RA [degrees]')\n",
        "    plt.ylabel('Dec [degrees]')\n",
        "    plt.gca().set_aspect(1.)"
      ]
    },
    {
      "cell_type": "markdown",
      "metadata": {
        "id": "2NwRUT6nWpoG"
      },
      "source": [
        "### <span style=\"color:LightGreen\">Question 07</span>\n",
        "\n",
        "Modify the `ra` column such that if `ra` >= 180 deg, we subtract 360 deg from `ra` for our observed sky map to be continuous. Now, change the number of clusters so that each cluster covers roughly equal area of the observed sky? For what `n_clusters` does the K-means clustering make the most sense to you?\n",
        "\n",
        "However, you shouldn't increase `n_clusters` to an arbitrarily large number just to get equally covered area of the observed sky - each cluster would represent a subset of data we use for parallel processing, and requiring more processors is not always feasible or sensible."
      ]
    },
    {
      "cell_type": "markdown",
      "metadata": {
        "id": "jBUTSqcNN4ee"
      },
      "source": [
        "## <span style=\"color:Orange\">References</span>\n",
        "\n",
        "* [__<span style=\"color:Red\">1</span>__] Jupyter Notebook Example from Astro Data Lab using DES DR1: https://github.com/astro-datalab/notebooks-latest/blob/master/03_ScienceExamples/StarGalQSOSeparation/StarGalQsoDESDR1.ipynb\n",
        "\n",
        "* __[<span style=\"color:Red\">2</span>]__ DES Collaboration \"The Dark Energy Survey Data Release 1\" ApJS 239, 18, 2018, https://arxiv.org/abs/1801.03181\n",
        "\n",
        "* Data Lab concept paper: Fitzpatrick et al., \"The NOAO Data Laboratory: a conceptual overview\", SPIE, 9149, 2014, https://spie.org/Publications/Proceedings/Paper/10.1117/12.2057445?SSO=1\n",
        "\n",
        "* Data Lab disclaimer: https://datalab.noirlab.edu/disclaimers.php"
      ]
    },
    {
      "cell_type": "markdown",
      "metadata": {
        "id": "zqutUMcPp9F8"
      },
      "source": [
        "## <span style=\"color:Orange\">Acknowledgements</span>\n",
        "\n",
        "* Initial version: Ferzem Khan with some guidance from Mark Neubauer\n",
        "\n",
        "© Copyright 2024"
      ]
    }
  ],
  "metadata": {
    "colab": {
      "provenance": []
    },
    "kernelspec": {
      "display_name": "Python 3",
      "name": "python3"
    },
    "language_info": {
      "codemirror_mode": {
        "name": "ipython",
        "version": 3
      },
      "file_extension": ".py",
      "mimetype": "text/x-python",
      "name": "python",
      "nbconvert_exporter": "python",
      "pygments_lexer": "ipython3",
      "version": "3.13.1"
    }
  },
  "nbformat": 4,
  "nbformat_minor": 0
}