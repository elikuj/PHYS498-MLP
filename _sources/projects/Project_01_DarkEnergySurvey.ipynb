{
  "cells": [
    {
      "cell_type": "markdown",
      "metadata": {
        "id": "V5ppSGgISDAy"
      },
      "source": [
        "# Dark Energy Survey"
      ]
    },
    {
      "cell_type": "markdown",
      "metadata": {
        "id": "3rLx4hwlp9Fv"
      },
      "source": [
        "<div>\n",
        "<img src=\"https://raw.githubusercontent.com/illinois-mlp/MachineLearningForPhysics/main/img/Project_DES-Figure.jpg\" width=500></img>\n",
        "</div>"
      ]
    },
    {
      "cell_type": "markdown",
      "metadata": {
        "id": "1jeD_lEeqLBh"
      },
      "source": [
        "## <span style=\"color:Orange\">Overview</span>\n",
        "\n",
        "The standard model of the universe, the $Λ$-CDM model, estimates that around 70% of the total energy-matter density of the universe is in the form of dark energy. The primary effect of dark energy is to acceleratingly expand the universe, hence measuring it accurately is vital to our understanding of the universe.\n",
        "\n",
        "The Dark Energy Survey (DES) is an internationally collaborative large sky survey to map hundreds of millions of galaxies, detect thousands of supernovae, and find patterns of cosmic structure to better understand dark energy and the measure the cosmic acceleration of our expanding universe with high precision.\n",
        "\n",
        "The instrument used by DES is the Dark Energy Camera (DECam), which is mounted on the Victor M. Blanco 4-meter Telescope at the Cerro Tololo Inter-American Observatory (CTIO) in the Chilean Andes. DECam has several major components: five optical lenses, a Hexapod positioning and alignment system, a shutter, a set of color filters, and a digital imager."
      ]
    },
    {
      "cell_type": "markdown",
      "metadata": {
        "id": "SprcSrHttoNZ"
      },
      "source": [
        "## <span style=\"color:Orange\">Data Sources</span>\n",
        "\n",
        "This project is based on the Data Release 1 (DR1) of the DES. We will use the `des_dr1.main` table directly from NOIRLAB's Astro Data Lab server which catalogs the DES data releases.\n",
        "\n",
        "NOIRLAB's Astro Data Lab: https://datalab.noirlab.edu/des/access.php"
      ]
    },
    {
      "cell_type": "markdown",
      "metadata": {
        "id": "Vdwb8eSyOvac"
      },
      "source": [
        "## <span style=\"color:Orange\">Importing and Setup</span>\n",
        "\n",
        "You will need to install and import the `astro-datalab` module for data acquisition.\n",
        "\n",
        "Please note, you will have to restart runtime to run your code after pip installing the `astro-datalab` module."
      ]
    },
    {
      "cell_type": "code",
      "execution_count": 1,
      "metadata": {
        "colab": {
          "base_uri": "https://localhost:8080/",
          "height": 1000
        },
        "id": "-6IF5tyhOmw5",
        "outputId": "c3b1a204-5e48-4b99-97e5-44e87302b804"
      },
      "outputs": [
        {
          "output_type": "stream",
          "name": "stdout",
          "text": [
            "Collecting astro-datalab\n",
            "  Downloading astro_datalab-2.24.0-py3-none-any.whl.metadata (3.3 kB)\n",
            "Requirement already satisfied: certifi in /usr/local/lib/python3.11/dist-packages (from astro-datalab) (2025.1.31)\n",
            "Collecting scipy<1.12.0,>=1.11.3 (from astro-datalab)\n",
            "  Downloading scipy-1.11.4-cp311-cp311-manylinux_2_17_x86_64.manylinux2014_x86_64.whl.metadata (60 kB)\n",
            "\u001b[2K     \u001b[90m━━━━━━━━━━━━━━━━━━━━━━━━━━━━━━━━━━━━━━━━\u001b[0m \u001b[32m60.4/60.4 kB\u001b[0m \u001b[31m9.5 MB/s\u001b[0m eta \u001b[36m0:00:00\u001b[0m\n",
            "\u001b[?25hCollecting specutils<1.14.0,>=1.13.0 (from astro-datalab)\n",
            "  Downloading specutils-1.13.0-py3-none-any.whl.metadata (5.9 kB)\n",
            "Collecting pyvo<1.4,>=1.3 (from astro-datalab)\n",
            "  Downloading pyvo-1.3-py3-none-any.whl.metadata (2.8 kB)\n",
            "Collecting pycurl-requests<0.6.0,>=0.5.0 (from astro-datalab)\n",
            "  Downloading pycurl_requests-0.5.0-py3-none-any.whl.metadata (6.6 kB)\n",
            "Collecting numpy<1.26.4,>=1.23.5 (from astro-datalab)\n",
            "  Downloading numpy-1.26.3-cp311-cp311-manylinux_2_17_x86_64.manylinux2014_x86_64.whl.metadata (61 kB)\n",
            "\u001b[2K     \u001b[90m━━━━━━━━━━━━━━━━━━━━━━━━━━━━━━━━━━━━━━━\u001b[0m \u001b[32m61.2/61.2 kB\u001b[0m \u001b[31m196.0 MB/s\u001b[0m eta \u001b[36m0:00:00\u001b[0m\n",
            "\u001b[?25hCollecting matplotlib<3.9.0,>=3.8.0 (from astro-datalab)\n",
            "  Downloading matplotlib-3.8.4-cp311-cp311-manylinux_2_17_x86_64.manylinux2014_x86_64.whl.metadata (5.8 kB)\n",
            "Requirement already satisfied: httplib2<0.23.0,>=0.22.0 in /usr/local/lib/python3.11/dist-packages (from astro-datalab) (0.22.0)\n",
            "Collecting pandas<2.2.0,>=2.1.1 (from astro-datalab)\n",
            "  Downloading pandas-2.1.4-cp311-cp311-manylinux_2_17_x86_64.manylinux2014_x86_64.whl.metadata (18 kB)\n",
            "Collecting astropy<5.4.0,>=5.3.4 (from astro-datalab)\n",
            "  Downloading astropy-5.3.4-cp311-cp311-manylinux_2_17_x86_64.manylinux2014_x86_64.whl.metadata (9.4 kB)\n",
            "Requirement already satisfied: chardet<5.3.0,>=5.2.0 in /usr/local/lib/python3.11/dist-packages (from astro-datalab) (5.2.0)\n",
            "Collecting requests<2.32.0,>=2.31.0 (from astro-datalab)\n",
            "  Downloading requests-2.31.0-py3-none-any.whl.metadata (4.6 kB)\n",
            "Collecting feedparser<6.1.0,>=6.0.11 (from astro-datalab)\n",
            "  Downloading feedparser-6.0.11-py3-none-any.whl.metadata (2.4 kB)\n",
            "Collecting Pillow<10.4.0,>=10.3.0 (from astro-datalab)\n",
            "  Downloading pillow-10.3.0-cp311-cp311-manylinux_2_28_x86_64.whl.metadata (9.2 kB)\n",
            "Collecting pycurl<7.46.0,>=7.45.3 (from astro-datalab)\n",
            "  Downloading pycurl-7.45.6-cp311-cp311-manylinux_2_28_x86_64.whl.metadata (4.6 kB)\n",
            "Collecting scikit-learn==1.4.1.post1 (from astro-datalab)\n",
            "  Downloading scikit_learn-1.4.1.post1-cp311-cp311-manylinux_2_17_x86_64.manylinux2014_x86_64.whl.metadata (11 kB)\n",
            "Requirement already satisfied: joblib>=1.2.0 in /usr/local/lib/python3.11/dist-packages (from scikit-learn==1.4.1.post1->astro-datalab) (1.4.2)\n",
            "Requirement already satisfied: threadpoolctl>=2.0.0 in /usr/local/lib/python3.11/dist-packages (from scikit-learn==1.4.1.post1->astro-datalab) (3.6.0)\n",
            "Requirement already satisfied: pyerfa>=2.0 in /usr/local/lib/python3.11/dist-packages (from astropy<5.4.0,>=5.3.4->astro-datalab) (2.0.1.5)\n",
            "Requirement already satisfied: PyYAML>=3.13 in /usr/local/lib/python3.11/dist-packages (from astropy<5.4.0,>=5.3.4->astro-datalab) (6.0.2)\n",
            "Requirement already satisfied: packaging>=19.0 in /usr/local/lib/python3.11/dist-packages (from astropy<5.4.0,>=5.3.4->astro-datalab) (24.2)\n",
            "Collecting sgmllib3k (from feedparser<6.1.0,>=6.0.11->astro-datalab)\n",
            "  Downloading sgmllib3k-1.0.0.tar.gz (5.8 kB)\n",
            "  Preparing metadata (setup.py) ... \u001b[?25l\u001b[?25hdone\n",
            "Requirement already satisfied: pyparsing!=3.0.0,!=3.0.1,!=3.0.2,!=3.0.3,<4,>=2.4.2 in /usr/local/lib/python3.11/dist-packages (from httplib2<0.23.0,>=0.22.0->astro-datalab) (3.2.3)\n",
            "Requirement already satisfied: contourpy>=1.0.1 in /usr/local/lib/python3.11/dist-packages (from matplotlib<3.9.0,>=3.8.0->astro-datalab) (1.3.1)\n",
            "Requirement already satisfied: cycler>=0.10 in /usr/local/lib/python3.11/dist-packages (from matplotlib<3.9.0,>=3.8.0->astro-datalab) (0.12.1)\n",
            "Requirement already satisfied: fonttools>=4.22.0 in /usr/local/lib/python3.11/dist-packages (from matplotlib<3.9.0,>=3.8.0->astro-datalab) (4.57.0)\n",
            "Requirement already satisfied: kiwisolver>=1.3.1 in /usr/local/lib/python3.11/dist-packages (from matplotlib<3.9.0,>=3.8.0->astro-datalab) (1.4.8)\n",
            "Requirement already satisfied: python-dateutil>=2.7 in /usr/local/lib/python3.11/dist-packages (from matplotlib<3.9.0,>=3.8.0->astro-datalab) (2.8.2)\n",
            "Requirement already satisfied: pytz>=2020.1 in /usr/local/lib/python3.11/dist-packages (from pandas<2.2.0,>=2.1.1->astro-datalab) (2025.2)\n",
            "Requirement already satisfied: tzdata>=2022.1 in /usr/local/lib/python3.11/dist-packages (from pandas<2.2.0,>=2.1.1->astro-datalab) (2025.2)\n",
            "Requirement already satisfied: charset-normalizer<4,>=2 in /usr/local/lib/python3.11/dist-packages (from requests<2.32.0,>=2.31.0->astro-datalab) (3.4.1)\n",
            "Requirement already satisfied: idna<4,>=2.5 in /usr/local/lib/python3.11/dist-packages (from requests<2.32.0,>=2.31.0->astro-datalab) (3.10)\n",
            "Requirement already satisfied: urllib3<3,>=1.21.1 in /usr/local/lib/python3.11/dist-packages (from requests<2.32.0,>=2.31.0->astro-datalab) (2.3.0)\n",
            "Collecting gwcs>=0.18 (from specutils<1.14.0,>=1.13.0->astro-datalab)\n",
            "  Downloading gwcs-0.24.0-py3-none-any.whl.metadata (6.3 kB)\n",
            "Collecting asdf-astropy>=0.3 (from specutils<1.14.0,>=1.13.0->astro-datalab)\n",
            "  Downloading asdf_astropy-0.7.1-py3-none-any.whl.metadata (7.3 kB)\n",
            "Collecting asdf>=2.14.4 (from specutils<1.14.0,>=1.13.0->astro-datalab)\n",
            "  Downloading asdf-4.1.0-py3-none-any.whl.metadata (14 kB)\n",
            "Collecting ndcube>=2.0 (from specutils<1.14.0,>=1.13.0->astro-datalab)\n",
            "  Downloading ndcube-2.3.1-py3-none-any.whl.metadata (7.5 kB)\n",
            "Collecting asdf-standard>=1.1.0 (from asdf>=2.14.4->specutils<1.14.0,>=1.13.0->astro-datalab)\n",
            "  Downloading asdf_standard-1.1.1-py3-none-any.whl.metadata (5.2 kB)\n",
            "Collecting asdf-transform-schemas>=0.3 (from asdf>=2.14.4->specutils<1.14.0,>=1.13.0->astro-datalab)\n",
            "  Downloading asdf_transform_schemas-0.5.0-py3-none-any.whl.metadata (4.1 kB)\n",
            "Requirement already satisfied: importlib-metadata>=4.11.4 in /usr/local/lib/python3.11/dist-packages (from asdf>=2.14.4->specutils<1.14.0,>=1.13.0->astro-datalab) (8.6.1)\n",
            "Collecting jmespath>=0.6.2 (from asdf>=2.14.4->specutils<1.14.0,>=1.13.0->astro-datalab)\n",
            "  Downloading jmespath-1.0.1-py3-none-any.whl.metadata (7.6 kB)\n",
            "Collecting semantic_version>=2.8 (from asdf>=2.14.4->specutils<1.14.0,>=1.13.0->astro-datalab)\n",
            "  Downloading semantic_version-2.10.0-py2.py3-none-any.whl.metadata (9.7 kB)\n",
            "Requirement already satisfied: attrs>=22.2.0 in /usr/local/lib/python3.11/dist-packages (from asdf>=2.14.4->specutils<1.14.0,>=1.13.0->astro-datalab) (25.3.0)\n",
            "Collecting asdf-coordinates-schemas>=0.3 (from asdf-astropy>=0.3->specutils<1.14.0,>=1.13.0->astro-datalab)\n",
            "  Downloading asdf_coordinates_schemas-0.3.0-py3-none-any.whl.metadata (4.1 kB)\n",
            "INFO: pip is looking at multiple versions of gwcs to determine which version is compatible with other requirements. This could take a while.\n",
            "Collecting gwcs>=0.18 (from specutils<1.14.0,>=1.13.0->astro-datalab)\n",
            "  Downloading gwcs-0.22.1-py3-none-any.whl.metadata (6.2 kB)\n",
            "  Downloading gwcs-0.22.0-py3-none-any.whl.metadata (6.2 kB)\n",
            "  Downloading gwcs-0.21.0-py3-none-any.whl.metadata (6.2 kB)\n",
            "Collecting asdf-wcs-schemas>=0.4.0 (from gwcs>=0.18->specutils<1.14.0,>=1.13.0->astro-datalab)\n",
            "  Downloading asdf_wcs_schemas-0.4.0-py3-none-any.whl.metadata (3.9 kB)\n",
            "Requirement already satisfied: six>=1.5 in /usr/local/lib/python3.11/dist-packages (from python-dateutil>=2.7->matplotlib<3.9.0,>=3.8.0->astro-datalab) (1.17.0)\n",
            "Requirement already satisfied: zipp>=3.20 in /usr/local/lib/python3.11/dist-packages (from importlib-metadata>=4.11.4->asdf>=2.14.4->specutils<1.14.0,>=1.13.0->astro-datalab) (3.21.0)\n",
            "Downloading astro_datalab-2.24.0-py3-none-any.whl (206 kB)\n",
            "\u001b[2K   \u001b[90m━━━━━━━━━━━━━━━━━━━━━━━━━━━━━━━━━━━━━━━━\u001b[0m \u001b[32m206.3/206.3 kB\u001b[0m \u001b[31m20.1 MB/s\u001b[0m eta \u001b[36m0:00:00\u001b[0m\n",
            "\u001b[?25hDownloading scikit_learn-1.4.1.post1-cp311-cp311-manylinux_2_17_x86_64.manylinux2014_x86_64.whl (12.1 MB)\n",
            "\u001b[2K   \u001b[90m━━━━━━━━━━━━━━━━━━━━━━━━━━━━━━━━━━━━━━━━\u001b[0m \u001b[32m12.1/12.1 MB\u001b[0m \u001b[31m169.9 MB/s\u001b[0m eta \u001b[36m0:00:00\u001b[0m\n",
            "\u001b[?25hDownloading astropy-5.3.4-cp311-cp311-manylinux_2_17_x86_64.manylinux2014_x86_64.whl (10.3 MB)\n",
            "\u001b[2K   \u001b[90m━━━━━━━━━━━━━━━━━━━━━━━━━━━━━━━━━━━━━━━━\u001b[0m \u001b[32m10.3/10.3 MB\u001b[0m \u001b[31m200.7 MB/s\u001b[0m eta \u001b[36m0:00:00\u001b[0m\n",
            "\u001b[?25hDownloading feedparser-6.0.11-py3-none-any.whl (81 kB)\n",
            "\u001b[2K   \u001b[90m━━━━━━━━━━━━━━━━━━━━━━━━━━━━━━━━━━━━━━━━\u001b[0m \u001b[32m81.3/81.3 kB\u001b[0m \u001b[31m193.7 MB/s\u001b[0m eta \u001b[36m0:00:00\u001b[0m\n",
            "\u001b[?25hDownloading matplotlib-3.8.4-cp311-cp311-manylinux_2_17_x86_64.manylinux2014_x86_64.whl (11.6 MB)\n",
            "\u001b[2K   \u001b[90m━━━━━━━━━━━━━━━━━━━━━━━━━━━━━━━━━━━━━━━━\u001b[0m \u001b[32m11.6/11.6 MB\u001b[0m \u001b[31m191.1 MB/s\u001b[0m eta \u001b[36m0:00:00\u001b[0m\n",
            "\u001b[?25hDownloading numpy-1.26.3-cp311-cp311-manylinux_2_17_x86_64.manylinux2014_x86_64.whl (18.3 MB)\n",
            "\u001b[2K   \u001b[90m━━━━━━━━━━━━━━━━━━━━━━━━━━━━━━━━━━━━━━━━\u001b[0m \u001b[32m18.3/18.3 MB\u001b[0m \u001b[31m187.6 MB/s\u001b[0m eta \u001b[36m0:00:00\u001b[0m\n",
            "\u001b[?25hDownloading pandas-2.1.4-cp311-cp311-manylinux_2_17_x86_64.manylinux2014_x86_64.whl (12.2 MB)\n",
            "\u001b[2K   \u001b[90m━━━━━━━━━━━━━━━━━━━━━━━━━━━━━━━━━━━━━━━━\u001b[0m \u001b[32m12.2/12.2 MB\u001b[0m \u001b[31m136.2 MB/s\u001b[0m eta \u001b[36m0:00:00\u001b[0m\n",
            "\u001b[?25hDownloading pillow-10.3.0-cp311-cp311-manylinux_2_28_x86_64.whl (4.5 MB)\n",
            "\u001b[2K   \u001b[90m━━━━━━━━━━━━━━━━━━━━━━━━━━━━━━━━━━━━━━━━\u001b[0m \u001b[32m4.5/4.5 MB\u001b[0m \u001b[31m147.0 MB/s\u001b[0m eta \u001b[36m0:00:00\u001b[0m\n",
            "\u001b[?25hDownloading pycurl-7.45.6-cp311-cp311-manylinux_2_28_x86_64.whl (4.6 MB)\n",
            "\u001b[2K   \u001b[90m━━━━━━━━━━━━━━━━━━━━━━━━━━━━━━━━━━━━━━━━\u001b[0m \u001b[32m4.6/4.6 MB\u001b[0m \u001b[31m183.7 MB/s\u001b[0m eta \u001b[36m0:00:00\u001b[0m\n",
            "\u001b[?25hDownloading pycurl_requests-0.5.0-py3-none-any.whl (30 kB)\n",
            "Downloading pyvo-1.3-py3-none-any.whl (829 kB)\n",
            "\u001b[2K   \u001b[90m━━━━━━━━━━━━━━━━━━━━━━━━━━━━━━━━━━━━━━━\u001b[0m \u001b[32m829.6/829.6 kB\u001b[0m \u001b[31m129.7 MB/s\u001b[0m eta \u001b[36m0:00:00\u001b[0m\n",
            "\u001b[?25hDownloading requests-2.31.0-py3-none-any.whl (62 kB)\n",
            "\u001b[2K   \u001b[90m━━━━━━━━━━━━━━━━━━━━━━━━━━━━━━━━━━━━━━━━\u001b[0m \u001b[32m62.6/62.6 kB\u001b[0m \u001b[31m163.8 MB/s\u001b[0m eta \u001b[36m0:00:00\u001b[0m\n",
            "\u001b[?25hDownloading scipy-1.11.4-cp311-cp311-manylinux_2_17_x86_64.manylinux2014_x86_64.whl (36.4 MB)\n",
            "\u001b[2K   \u001b[90m━━━━━━━━━━━━━━━━━━━━━━━━━━━━━━━━━━━━━━━━\u001b[0m \u001b[32m36.4/36.4 MB\u001b[0m \u001b[31m131.3 MB/s\u001b[0m eta \u001b[36m0:00:00\u001b[0m\n",
            "\u001b[?25hDownloading specutils-1.13.0-py3-none-any.whl (4.9 MB)\n",
            "\u001b[2K   \u001b[90m━━━━━━━━━━━━━━━━━━━━━━━━━━━━━━━━━━━━━━━━\u001b[0m \u001b[32m4.9/4.9 MB\u001b[0m \u001b[31m78.5 MB/s\u001b[0m eta \u001b[36m0:00:00\u001b[0m\n",
            "\u001b[?25hDownloading asdf-4.1.0-py3-none-any.whl (961 kB)\n",
            "\u001b[2K   \u001b[90m━━━━━━━━━━━━━━━━━━━━━━━━━━━━━━━━━━━━━━━━\u001b[0m \u001b[32m961.9/961.9 kB\u001b[0m \u001b[31m45.3 MB/s\u001b[0m eta \u001b[36m0:00:00\u001b[0m\n",
            "\u001b[?25hDownloading asdf_astropy-0.7.1-py3-none-any.whl (93 kB)\n",
            "\u001b[2K   \u001b[90m━━━━━━━━━━━━━━━━━━━━━━━━━━━━━━━━━━━━━━━━\u001b[0m \u001b[32m93.2/93.2 kB\u001b[0m \u001b[31m150.8 MB/s\u001b[0m eta \u001b[36m0:00:00\u001b[0m\n",
            "\u001b[?25hDownloading gwcs-0.21.0-py3-none-any.whl (155 kB)\n",
            "\u001b[2K   \u001b[90m━━━━━━━━━━━━━━━━━━━━━━━━━━━━━━━━━━━━━━━\u001b[0m \u001b[32m155.3/155.3 kB\u001b[0m \u001b[31m201.0 MB/s\u001b[0m eta \u001b[36m0:00:00\u001b[0m\n",
            "\u001b[?25hDownloading ndcube-2.3.1-py3-none-any.whl (137 kB)\n",
            "\u001b[2K   \u001b[90m━━━━━━━━━━━━━━━━━━━━━━━━━━━━━━━━━━━━━━━\u001b[0m \u001b[32m137.4/137.4 kB\u001b[0m \u001b[31m208.4 MB/s\u001b[0m eta \u001b[36m0:00:00\u001b[0m\n",
            "\u001b[?25hDownloading asdf_coordinates_schemas-0.3.0-py3-none-any.whl (33 kB)\n",
            "Downloading asdf_standard-1.1.1-py3-none-any.whl (81 kB)\n",
            "\u001b[2K   \u001b[90m━━━━━━━━━━━━━━━━━━━━━━━━━━━━━━━━━━━━━━━━\u001b[0m \u001b[32m81.9/81.9 kB\u001b[0m \u001b[31m145.5 MB/s\u001b[0m eta \u001b[36m0:00:00\u001b[0m\n",
            "\u001b[?25hDownloading asdf_transform_schemas-0.5.0-py3-none-any.whl (275 kB)\n",
            "\u001b[2K   \u001b[90m━━━━━━━━━━━━━━━━━━━━━━━━━━━━━━━━━━━━━━━\u001b[0m \u001b[32m275.4/275.4 kB\u001b[0m \u001b[31m194.6 MB/s\u001b[0m eta \u001b[36m0:00:00\u001b[0m\n",
            "\u001b[?25hDownloading asdf_wcs_schemas-0.4.0-py3-none-any.whl (45 kB)\n",
            "\u001b[2K   \u001b[90m━━━━━━━━━━━━━━━━━━━━━━━━━━━━━━━━━━━━━━━━\u001b[0m \u001b[32m45.9/45.9 kB\u001b[0m \u001b[31m143.6 MB/s\u001b[0m eta \u001b[36m0:00:00\u001b[0m\n",
            "\u001b[?25hDownloading jmespath-1.0.1-py3-none-any.whl (20 kB)\n",
            "Downloading semantic_version-2.10.0-py2.py3-none-any.whl (15 kB)\n",
            "Building wheels for collected packages: sgmllib3k\n",
            "  Building wheel for sgmllib3k (setup.py) ... \u001b[?25l\u001b[?25hdone\n",
            "  Created wheel for sgmllib3k: filename=sgmllib3k-1.0.0-py3-none-any.whl size=6046 sha256=abba83e31dec5c305c9fa32e7bb0ab973bd9b1f0a8938fc694d8e17208274476\n",
            "  Stored in directory: /tmp/pip-ephem-wheel-cache-erbgmhqe/wheels/3b/25/2a/105d6a15df6914f4d15047691c6c28f9052cc1173e40285d03\n",
            "Successfully built sgmllib3k\n",
            "Installing collected packages: sgmllib3k, semantic_version, requests, pycurl, Pillow, numpy, jmespath, feedparser, asdf-standard, scipy, pycurl-requests, pandas, asdf-transform-schemas, scikit-learn, matplotlib, astropy, asdf, pyvo, asdf-coordinates-schemas, asdf-wcs-schemas, asdf-astropy, gwcs, ndcube, specutils, astro-datalab\n",
            "  Attempting uninstall: requests\n",
            "    Found existing installation: requests 2.32.3\n",
            "    Uninstalling requests-2.32.3:\n",
            "      Successfully uninstalled requests-2.32.3\n",
            "  Attempting uninstall: Pillow\n",
            "    Found existing installation: pillow 11.1.0\n",
            "    Uninstalling pillow-11.1.0:\n",
            "      Successfully uninstalled pillow-11.1.0\n",
            "  Attempting uninstall: numpy\n",
            "    Found existing installation: numpy 2.0.2\n",
            "    Uninstalling numpy-2.0.2:\n",
            "      Successfully uninstalled numpy-2.0.2\n",
            "  Attempting uninstall: scipy\n",
            "    Found existing installation: scipy 1.14.1\n",
            "    Uninstalling scipy-1.14.1:\n",
            "      Successfully uninstalled scipy-1.14.1\n",
            "  Attempting uninstall: pandas\n",
            "    Found existing installation: pandas 2.2.2\n",
            "    Uninstalling pandas-2.2.2:\n",
            "      Successfully uninstalled pandas-2.2.2\n",
            "  Attempting uninstall: scikit-learn\n",
            "    Found existing installation: scikit-learn 1.6.1\n",
            "    Uninstalling scikit-learn-1.6.1:\n",
            "      Successfully uninstalled scikit-learn-1.6.1\n",
            "  Attempting uninstall: matplotlib\n",
            "    Found existing installation: matplotlib 3.10.0\n",
            "    Uninstalling matplotlib-3.10.0:\n",
            "      Successfully uninstalled matplotlib-3.10.0\n",
            "  Attempting uninstall: astropy\n",
            "    Found existing installation: astropy 7.0.1\n",
            "    Uninstalling astropy-7.0.1:\n",
            "      Successfully uninstalled astropy-7.0.1\n",
            "\u001b[31mERROR: pip's dependency resolver does not currently take into account all the packages that are installed. This behaviour is the source of the following dependency conflicts.\n",
            "google-colab 1.0.0 requires pandas==2.2.2, but you have pandas 2.1.4 which is incompatible.\n",
            "google-colab 1.0.0 requires requests==2.32.3, but you have requests 2.31.0 which is incompatible.\n",
            "mizani 0.13.2 requires pandas>=2.2.0, but you have pandas 2.1.4 which is incompatible.\n",
            "thinc 8.3.6 requires numpy<3.0.0,>=2.0.0, but you have numpy 1.26.3 which is incompatible.\n",
            "plotnine 0.14.5 requires pandas>=2.2.0, but you have pandas 2.1.4 which is incompatible.\u001b[0m\u001b[31m\n",
            "\u001b[0mSuccessfully installed Pillow-10.3.0 asdf-4.1.0 asdf-astropy-0.7.1 asdf-coordinates-schemas-0.3.0 asdf-standard-1.1.1 asdf-transform-schemas-0.5.0 asdf-wcs-schemas-0.4.0 astro-datalab-2.24.0 astropy-5.3.4 feedparser-6.0.11 gwcs-0.21.0 jmespath-1.0.1 matplotlib-3.8.4 ndcube-2.3.1 numpy-1.26.3 pandas-2.1.4 pycurl-7.45.6 pycurl-requests-0.5.0 pyvo-1.3 requests-2.31.0 scikit-learn-1.4.1.post1 scipy-1.11.4 semantic_version-2.10.0 sgmllib3k-1.0.0 specutils-1.13.0\n"
          ]
        },
        {
          "output_type": "display_data",
          "data": {
            "application/vnd.colab-display-data+json": {
              "pip_warning": {
                "packages": [
                  "PIL",
                  "matplotlib",
                  "mpl_toolkits"
                ]
              },
              "id": "8a19f0a637924d93b74be77e8100f57c"
            }
          },
          "metadata": {}
        }
      ],
      "source": [
        "%pip install --no-cache-dir astro-datalab"
      ]
    },
    {
      "cell_type": "code",
      "execution_count": 1,
      "metadata": {
        "id": "0UBSoU8nO567"
      },
      "outputs": [],
      "source": [
        "import numpy as np\n",
        "import pandas as pd\n",
        "import matplotlib\n",
        "import matplotlib.pyplot as plt\n",
        "import seaborn as sns; sns.set_theme()\n",
        "import warnings; warnings.filterwarnings('ignore')\n",
        "from sklearn import cluster\n",
        "%matplotlib inline\n",
        "\n",
        "# Data Lab imports\n",
        "from dl import queryClient as qc, storeClient as sc\n",
        "from dl.helpers.utils import convert"
      ]
    },
    {
      "cell_type": "markdown",
      "metadata": {
        "id": "bVGeqweYvvh3"
      },
      "source": [
        "## <span style=\"color:Orange\">Questions</span>"
      ]
    },
    {
      "cell_type": "markdown",
      "metadata": {
        "id": "rYEE9PEHw772"
      },
      "source": [
        "### <span style=\"color:LightGreen\">Question 01</span>\n",
        "\n",
        " What is the Dark Energy Survey? What are it's main goals? What part of the night sky does the DES cover?"
      ]
    },
    {
      "cell_type": "markdown",
      "source": [
        "\n",
        "\n",
        "The Dark Energy Survey is an astronomical survey of the Southern sky. It consists primarily of data from distant galaxies, but also includes many Milky Way stars.\n",
        "\n",
        "Its main goals are to \"understand the accelerating expansion of the universe and the nature of dark energy\".\n"
      ],
      "metadata": {
        "id": "uKIB9F2hp_fG"
      }
    },
    {
      "cell_type": "markdown",
      "metadata": {
        "id": "-F8WubbKzlP6"
      },
      "source": [
        "### <span style=\"color:LightGreen\">Question 02</span>\n",
        "\n",
        "Read the DES DR1 paper [[1]](https://urldefense.com/v3/__https://arxiv.org/abs/1801.03181__;!!DZ3fjg!-VVx5uQqQ6ZzOgr-EjFgoLc8lr9NMhNBQvahQLwOY5HAZ8lWfzbxhbpxn8e7OlM44QFoWvd5J20qch77Aqg$ ). What are the four completementary measurements that DES does to probe the universe? To achieve these goals, what surveys in which wave bands does DES conduct?"
      ]
    },
    {
      "cell_type": "markdown",
      "source": [
        "\n",
        "\n",
        "DES uses weak gravitational lensing, galaxy cluster counts, large-scale clustering of galaxies, and distances to type Ia supernovae.\n",
        "\n",
        "To achieve this, DES conducts 2 multi-band surveys: one in the *grizY* bands (5 bands), and one in the *griz* bands (4 bands).\n",
        "\n",
        "\n"
      ],
      "metadata": {
        "id": "IK4SrvyCqEPI"
      }
    },
    {
      "cell_type": "markdown",
      "metadata": {
        "id": "FLM_25pxyXVI"
      },
      "source": [
        "### <span style=\"color:LightGreen\">Question 03</span>\n",
        "\n",
        "What is variable or feature of the data does DES use to classify its' objects  morphologically (stars or galaxies), as described in the DR1 paper [[1]](https://arxiv.org/abs/1801.03181)"
      ]
    },
    {
      "cell_type": "markdown",
      "source": [
        "DES uses a \"basic selection on object size relative to the PSF [point spread function]\" to morphologically classify objects (as either stars or quasars). The primary feature DES uses is SPREAD_MODEL-based classifiers."
      ],
      "metadata": {
        "id": "mYwiLfEloGLT"
      }
    },
    {
      "cell_type": "markdown",
      "metadata": {
        "id": "a9VgzmClywsu"
      },
      "source": [
        "## <span style=\"color:Orange\">Accessing Data from Data Lab</span>\n",
        "\n",
        "Below is a sample query statement to acquire the relevant data of the `des_dr1.main` table from Astro Data Lab [[2]](https://urldefense.com/v3/__https://github.com/astro-datalab/notebooks-latest/blob/master/03_ScienceExamples/StarGalQSOSeparation/StarGalQsoDESDR1.ipynb__;!!DZ3fjg!-VVx5uQqQ6ZzOgr-EjFgoLc8lr9NMhNBQvahQLwOY5HAZ8lWfzbxhbpxn8e7OlM44QFoWvd5J20qD2flJpc$ ) .\n",
        "\n"
      ]
    },
    {
      "cell_type": "code",
      "execution_count": 2,
      "metadata": {
        "id": "LPV1wIFPTAnt"
      },
      "outputs": [],
      "source": [
        "# Write query statement (sql) as a string\n",
        "# NOTE: triple quotes allow us to break the string on multiple lines\n",
        "query = \"\"\"\n",
        "        SELECT mag_auto_g as gmag, mag_auto_r as rmag, mag_auto_z as zmag,\n",
        "               mag_auto_i as imag, mag_auto_y as ymag,\n",
        "               kron_radius, spread_model_g, class_star_g, spread_model_r, class_star_r,\n",
        "               spread_model_z, class_star_z,\n",
        "               snr_g, snr_r, snr_z, ra, dec\n",
        "        FROM des_dr1.main\n",
        "        WHERE (fluxerr_auto_g>0 and fluxerr_auto_r>0 and fluxerr_auto_z>0)\n",
        "        LIMIT 1000\"\"\"\n",
        "\n",
        "# mag_auto_g,r,i,z,y = AB magnitudes in DECam g,r,i,z,y bands\n",
        "# kron_radius        = Kron radius from SExtractor (pixels)\n",
        "# spread_model_g,r,z = star/galaxy classifier quantifying light profile relative to PSF\n",
        "# class_star_g,r,z   = star/extended source classifier (from 0 to 1)\n",
        "# snr_g,r,z          = computed signal-to-noise ratios (S/N) in g,r,z bands\n",
        "# ra,dec             = celestial coordinates\n",
        "#\n",
        "# WHERE: requirement that error>0 (to avoid dividing by zero) in g,r,z bands\n",
        "# LIMIT: returns 1,000 rows that satisfy the query"
      ]
    },
    {
      "cell_type": "code",
      "execution_count": 3,
      "metadata": {
        "id": "3TRu_HdpTI2-"
      },
      "outputs": [],
      "source": [
        "# Execute the query synchronously, if short (e.g., LIMIT<=300,000)\n",
        "# We then convert the returned result, a CSV-formatted string, to a Pandas data frame,\n",
        "# making sure that any potential 'Infinity' values are converted to NaN.\n",
        "sample_res = qc.query(sql=query)\n",
        "sample_df = convert(sample_res,'pandas',na_values=('Infinity','-Infinity'))"
      ]
    },
    {
      "cell_type": "code",
      "source": [
        "sample_df.head()"
      ],
      "metadata": {
        "colab": {
          "base_uri": "https://localhost:8080/",
          "height": 226
        },
        "id": "0EJjFSQqheBj",
        "outputId": "886a331c-e39c-4b51-d253-48484be7895b"
      },
      "execution_count": 4,
      "outputs": [
        {
          "output_type": "execute_result",
          "data": {
            "text/plain": [
              "        gmag       rmag       zmag       imag       ymag  kron_radius  \\\n",
              "0  24.512660  23.696690  22.041855  22.745823  22.062880     4.915674   \n",
              "1  22.548813  21.780046  21.495592  21.527863  21.129460     3.669962   \n",
              "2  23.910599  23.558989  22.862543  22.797840  21.689337     5.707884   \n",
              "3  25.830460  24.407120  23.300947  23.748684  23.421030     3.810243   \n",
              "4  23.412996  22.645573  21.577742  21.910748  21.845963     4.655096   \n",
              "\n",
              "   spread_model_g  class_star_g  spread_model_r  class_star_r  spread_model_z  \\\n",
              "0        0.011071      0.346162        0.007574      0.241344        0.012540   \n",
              "1        0.011382      0.014297        0.013823      0.023710        0.013501   \n",
              "2       -0.004843      0.122421        0.022592      0.000156        0.019908   \n",
              "3        0.004558      0.473489        0.003255      0.543377        0.000755   \n",
              "4        0.016630      0.000233        0.017177      0.005495        0.022052   \n",
              "\n",
              "   class_star_z      snr_g      snr_r      snr_z          ra        dec  \n",
              "0      0.011284   5.945191   9.356255  11.121501  344.496203 -43.114662  \n",
              "1      0.005839  27.609514  41.152523  14.684408  344.487304 -43.111469  \n",
              "2      0.001244   6.674977   6.802470   3.527007  344.487856 -43.110855  \n",
              "3      0.698908   2.563409   6.990884   5.288542  344.475618 -43.104852  \n",
              "4      0.000297  10.669936  15.842516  11.620011  344.478412 -43.105275  "
            ],
            "text/html": [
              "\n",
              "  <div id=\"df-ada5aa42-a475-454d-b0b6-3edbb16fcffd\" class=\"colab-df-container\">\n",
              "    <div>\n",
              "<style scoped>\n",
              "    .dataframe tbody tr th:only-of-type {\n",
              "        vertical-align: middle;\n",
              "    }\n",
              "\n",
              "    .dataframe tbody tr th {\n",
              "        vertical-align: top;\n",
              "    }\n",
              "\n",
              "    .dataframe thead th {\n",
              "        text-align: right;\n",
              "    }\n",
              "</style>\n",
              "<table border=\"1\" class=\"dataframe\">\n",
              "  <thead>\n",
              "    <tr style=\"text-align: right;\">\n",
              "      <th></th>\n",
              "      <th>gmag</th>\n",
              "      <th>rmag</th>\n",
              "      <th>zmag</th>\n",
              "      <th>imag</th>\n",
              "      <th>ymag</th>\n",
              "      <th>kron_radius</th>\n",
              "      <th>spread_model_g</th>\n",
              "      <th>class_star_g</th>\n",
              "      <th>spread_model_r</th>\n",
              "      <th>class_star_r</th>\n",
              "      <th>spread_model_z</th>\n",
              "      <th>class_star_z</th>\n",
              "      <th>snr_g</th>\n",
              "      <th>snr_r</th>\n",
              "      <th>snr_z</th>\n",
              "      <th>ra</th>\n",
              "      <th>dec</th>\n",
              "    </tr>\n",
              "  </thead>\n",
              "  <tbody>\n",
              "    <tr>\n",
              "      <th>0</th>\n",
              "      <td>24.512660</td>\n",
              "      <td>23.696690</td>\n",
              "      <td>22.041855</td>\n",
              "      <td>22.745823</td>\n",
              "      <td>22.062880</td>\n",
              "      <td>4.915674</td>\n",
              "      <td>0.011071</td>\n",
              "      <td>0.346162</td>\n",
              "      <td>0.007574</td>\n",
              "      <td>0.241344</td>\n",
              "      <td>0.012540</td>\n",
              "      <td>0.011284</td>\n",
              "      <td>5.945191</td>\n",
              "      <td>9.356255</td>\n",
              "      <td>11.121501</td>\n",
              "      <td>344.496203</td>\n",
              "      <td>-43.114662</td>\n",
              "    </tr>\n",
              "    <tr>\n",
              "      <th>1</th>\n",
              "      <td>22.548813</td>\n",
              "      <td>21.780046</td>\n",
              "      <td>21.495592</td>\n",
              "      <td>21.527863</td>\n",
              "      <td>21.129460</td>\n",
              "      <td>3.669962</td>\n",
              "      <td>0.011382</td>\n",
              "      <td>0.014297</td>\n",
              "      <td>0.013823</td>\n",
              "      <td>0.023710</td>\n",
              "      <td>0.013501</td>\n",
              "      <td>0.005839</td>\n",
              "      <td>27.609514</td>\n",
              "      <td>41.152523</td>\n",
              "      <td>14.684408</td>\n",
              "      <td>344.487304</td>\n",
              "      <td>-43.111469</td>\n",
              "    </tr>\n",
              "    <tr>\n",
              "      <th>2</th>\n",
              "      <td>23.910599</td>\n",
              "      <td>23.558989</td>\n",
              "      <td>22.862543</td>\n",
              "      <td>22.797840</td>\n",
              "      <td>21.689337</td>\n",
              "      <td>5.707884</td>\n",
              "      <td>-0.004843</td>\n",
              "      <td>0.122421</td>\n",
              "      <td>0.022592</td>\n",
              "      <td>0.000156</td>\n",
              "      <td>0.019908</td>\n",
              "      <td>0.001244</td>\n",
              "      <td>6.674977</td>\n",
              "      <td>6.802470</td>\n",
              "      <td>3.527007</td>\n",
              "      <td>344.487856</td>\n",
              "      <td>-43.110855</td>\n",
              "    </tr>\n",
              "    <tr>\n",
              "      <th>3</th>\n",
              "      <td>25.830460</td>\n",
              "      <td>24.407120</td>\n",
              "      <td>23.300947</td>\n",
              "      <td>23.748684</td>\n",
              "      <td>23.421030</td>\n",
              "      <td>3.810243</td>\n",
              "      <td>0.004558</td>\n",
              "      <td>0.473489</td>\n",
              "      <td>0.003255</td>\n",
              "      <td>0.543377</td>\n",
              "      <td>0.000755</td>\n",
              "      <td>0.698908</td>\n",
              "      <td>2.563409</td>\n",
              "      <td>6.990884</td>\n",
              "      <td>5.288542</td>\n",
              "      <td>344.475618</td>\n",
              "      <td>-43.104852</td>\n",
              "    </tr>\n",
              "    <tr>\n",
              "      <th>4</th>\n",
              "      <td>23.412996</td>\n",
              "      <td>22.645573</td>\n",
              "      <td>21.577742</td>\n",
              "      <td>21.910748</td>\n",
              "      <td>21.845963</td>\n",
              "      <td>4.655096</td>\n",
              "      <td>0.016630</td>\n",
              "      <td>0.000233</td>\n",
              "      <td>0.017177</td>\n",
              "      <td>0.005495</td>\n",
              "      <td>0.022052</td>\n",
              "      <td>0.000297</td>\n",
              "      <td>10.669936</td>\n",
              "      <td>15.842516</td>\n",
              "      <td>11.620011</td>\n",
              "      <td>344.478412</td>\n",
              "      <td>-43.105275</td>\n",
              "    </tr>\n",
              "  </tbody>\n",
              "</table>\n",
              "</div>\n",
              "    <div class=\"colab-df-buttons\">\n",
              "\n",
              "  <div class=\"colab-df-container\">\n",
              "    <button class=\"colab-df-convert\" onclick=\"convertToInteractive('df-ada5aa42-a475-454d-b0b6-3edbb16fcffd')\"\n",
              "            title=\"Convert this dataframe to an interactive table.\"\n",
              "            style=\"display:none;\">\n",
              "\n",
              "  <svg xmlns=\"http://www.w3.org/2000/svg\" height=\"24px\" viewBox=\"0 -960 960 960\">\n",
              "    <path d=\"M120-120v-720h720v720H120Zm60-500h600v-160H180v160Zm220 220h160v-160H400v160Zm0 220h160v-160H400v160ZM180-400h160v-160H180v160Zm440 0h160v-160H620v160ZM180-180h160v-160H180v160Zm440 0h160v-160H620v160Z\"/>\n",
              "  </svg>\n",
              "    </button>\n",
              "\n",
              "  <style>\n",
              "    .colab-df-container {\n",
              "      display:flex;\n",
              "      gap: 12px;\n",
              "    }\n",
              "\n",
              "    .colab-df-convert {\n",
              "      background-color: #E8F0FE;\n",
              "      border: none;\n",
              "      border-radius: 50%;\n",
              "      cursor: pointer;\n",
              "      display: none;\n",
              "      fill: #1967D2;\n",
              "      height: 32px;\n",
              "      padding: 0 0 0 0;\n",
              "      width: 32px;\n",
              "    }\n",
              "\n",
              "    .colab-df-convert:hover {\n",
              "      background-color: #E2EBFA;\n",
              "      box-shadow: 0px 1px 2px rgba(60, 64, 67, 0.3), 0px 1px 3px 1px rgba(60, 64, 67, 0.15);\n",
              "      fill: #174EA6;\n",
              "    }\n",
              "\n",
              "    .colab-df-buttons div {\n",
              "      margin-bottom: 4px;\n",
              "    }\n",
              "\n",
              "    [theme=dark] .colab-df-convert {\n",
              "      background-color: #3B4455;\n",
              "      fill: #D2E3FC;\n",
              "    }\n",
              "\n",
              "    [theme=dark] .colab-df-convert:hover {\n",
              "      background-color: #434B5C;\n",
              "      box-shadow: 0px 1px 3px 1px rgba(0, 0, 0, 0.15);\n",
              "      filter: drop-shadow(0px 1px 2px rgba(0, 0, 0, 0.3));\n",
              "      fill: #FFFFFF;\n",
              "    }\n",
              "  </style>\n",
              "\n",
              "    <script>\n",
              "      const buttonEl =\n",
              "        document.querySelector('#df-ada5aa42-a475-454d-b0b6-3edbb16fcffd button.colab-df-convert');\n",
              "      buttonEl.style.display =\n",
              "        google.colab.kernel.accessAllowed ? 'block' : 'none';\n",
              "\n",
              "      async function convertToInteractive(key) {\n",
              "        const element = document.querySelector('#df-ada5aa42-a475-454d-b0b6-3edbb16fcffd');\n",
              "        const dataTable =\n",
              "          await google.colab.kernel.invokeFunction('convertToInteractive',\n",
              "                                                    [key], {});\n",
              "        if (!dataTable) return;\n",
              "\n",
              "        const docLinkHtml = 'Like what you see? Visit the ' +\n",
              "          '<a target=\"_blank\" href=https://colab.research.google.com/notebooks/data_table.ipynb>data table notebook</a>'\n",
              "          + ' to learn more about interactive tables.';\n",
              "        element.innerHTML = '';\n",
              "        dataTable['output_type'] = 'display_data';\n",
              "        await google.colab.output.renderOutput(dataTable, element);\n",
              "        const docLink = document.createElement('div');\n",
              "        docLink.innerHTML = docLinkHtml;\n",
              "        element.appendChild(docLink);\n",
              "      }\n",
              "    </script>\n",
              "  </div>\n",
              "\n",
              "\n",
              "<div id=\"df-d59ba802-3ccd-4c26-bd31-e86b3db384ea\">\n",
              "  <button class=\"colab-df-quickchart\" onclick=\"quickchart('df-d59ba802-3ccd-4c26-bd31-e86b3db384ea')\"\n",
              "            title=\"Suggest charts\"\n",
              "            style=\"display:none;\">\n",
              "\n",
              "<svg xmlns=\"http://www.w3.org/2000/svg\" height=\"24px\"viewBox=\"0 0 24 24\"\n",
              "     width=\"24px\">\n",
              "    <g>\n",
              "        <path d=\"M19 3H5c-1.1 0-2 .9-2 2v14c0 1.1.9 2 2 2h14c1.1 0 2-.9 2-2V5c0-1.1-.9-2-2-2zM9 17H7v-7h2v7zm4 0h-2V7h2v10zm4 0h-2v-4h2v4z\"/>\n",
              "    </g>\n",
              "</svg>\n",
              "  </button>\n",
              "\n",
              "<style>\n",
              "  .colab-df-quickchart {\n",
              "      --bg-color: #E8F0FE;\n",
              "      --fill-color: #1967D2;\n",
              "      --hover-bg-color: #E2EBFA;\n",
              "      --hover-fill-color: #174EA6;\n",
              "      --disabled-fill-color: #AAA;\n",
              "      --disabled-bg-color: #DDD;\n",
              "  }\n",
              "\n",
              "  [theme=dark] .colab-df-quickchart {\n",
              "      --bg-color: #3B4455;\n",
              "      --fill-color: #D2E3FC;\n",
              "      --hover-bg-color: #434B5C;\n",
              "      --hover-fill-color: #FFFFFF;\n",
              "      --disabled-bg-color: #3B4455;\n",
              "      --disabled-fill-color: #666;\n",
              "  }\n",
              "\n",
              "  .colab-df-quickchart {\n",
              "    background-color: var(--bg-color);\n",
              "    border: none;\n",
              "    border-radius: 50%;\n",
              "    cursor: pointer;\n",
              "    display: none;\n",
              "    fill: var(--fill-color);\n",
              "    height: 32px;\n",
              "    padding: 0;\n",
              "    width: 32px;\n",
              "  }\n",
              "\n",
              "  .colab-df-quickchart:hover {\n",
              "    background-color: var(--hover-bg-color);\n",
              "    box-shadow: 0 1px 2px rgba(60, 64, 67, 0.3), 0 1px 3px 1px rgba(60, 64, 67, 0.15);\n",
              "    fill: var(--button-hover-fill-color);\n",
              "  }\n",
              "\n",
              "  .colab-df-quickchart-complete:disabled,\n",
              "  .colab-df-quickchart-complete:disabled:hover {\n",
              "    background-color: var(--disabled-bg-color);\n",
              "    fill: var(--disabled-fill-color);\n",
              "    box-shadow: none;\n",
              "  }\n",
              "\n",
              "  .colab-df-spinner {\n",
              "    border: 2px solid var(--fill-color);\n",
              "    border-color: transparent;\n",
              "    border-bottom-color: var(--fill-color);\n",
              "    animation:\n",
              "      spin 1s steps(1) infinite;\n",
              "  }\n",
              "\n",
              "  @keyframes spin {\n",
              "    0% {\n",
              "      border-color: transparent;\n",
              "      border-bottom-color: var(--fill-color);\n",
              "      border-left-color: var(--fill-color);\n",
              "    }\n",
              "    20% {\n",
              "      border-color: transparent;\n",
              "      border-left-color: var(--fill-color);\n",
              "      border-top-color: var(--fill-color);\n",
              "    }\n",
              "    30% {\n",
              "      border-color: transparent;\n",
              "      border-left-color: var(--fill-color);\n",
              "      border-top-color: var(--fill-color);\n",
              "      border-right-color: var(--fill-color);\n",
              "    }\n",
              "    40% {\n",
              "      border-color: transparent;\n",
              "      border-right-color: var(--fill-color);\n",
              "      border-top-color: var(--fill-color);\n",
              "    }\n",
              "    60% {\n",
              "      border-color: transparent;\n",
              "      border-right-color: var(--fill-color);\n",
              "    }\n",
              "    80% {\n",
              "      border-color: transparent;\n",
              "      border-right-color: var(--fill-color);\n",
              "      border-bottom-color: var(--fill-color);\n",
              "    }\n",
              "    90% {\n",
              "      border-color: transparent;\n",
              "      border-bottom-color: var(--fill-color);\n",
              "    }\n",
              "  }\n",
              "</style>\n",
              "\n",
              "  <script>\n",
              "    async function quickchart(key) {\n",
              "      const quickchartButtonEl =\n",
              "        document.querySelector('#' + key + ' button');\n",
              "      quickchartButtonEl.disabled = true;  // To prevent multiple clicks.\n",
              "      quickchartButtonEl.classList.add('colab-df-spinner');\n",
              "      try {\n",
              "        const charts = await google.colab.kernel.invokeFunction(\n",
              "            'suggestCharts', [key], {});\n",
              "      } catch (error) {\n",
              "        console.error('Error during call to suggestCharts:', error);\n",
              "      }\n",
              "      quickchartButtonEl.classList.remove('colab-df-spinner');\n",
              "      quickchartButtonEl.classList.add('colab-df-quickchart-complete');\n",
              "    }\n",
              "    (() => {\n",
              "      let quickchartButtonEl =\n",
              "        document.querySelector('#df-d59ba802-3ccd-4c26-bd31-e86b3db384ea button');\n",
              "      quickchartButtonEl.style.display =\n",
              "        google.colab.kernel.accessAllowed ? 'block' : 'none';\n",
              "    })();\n",
              "  </script>\n",
              "</div>\n",
              "\n",
              "    </div>\n",
              "  </div>\n"
            ],
            "application/vnd.google.colaboratory.intrinsic+json": {
              "type": "dataframe",
              "variable_name": "sample_df",
              "summary": "{\n  \"name\": \"sample_df\",\n  \"rows\": 1000,\n  \"fields\": [\n    {\n      \"column\": \"gmag\",\n      \"properties\": {\n        \"dtype\": \"number\",\n        \"std\": 11.105841076939397,\n        \"min\": 15.747465,\n        \"max\": 99.0,\n        \"num_unique_values\": 979,\n        \"samples\": [\n          23.278797,\n          22.101263,\n          24.580563\n        ],\n        \"semantic_type\": \"\",\n        \"description\": \"\"\n      }\n    },\n    {\n      \"column\": \"rmag\",\n      \"properties\": {\n        \"dtype\": \"number\",\n        \"std\": 3.727113538852656,\n        \"min\": 15.285769,\n        \"max\": 99.0,\n        \"num_unique_values\": 999,\n        \"samples\": [\n          21.156942,\n          23.99438,\n          24.9567\n        ],\n        \"semantic_type\": \"\",\n        \"description\": \"\"\n      }\n    },\n    {\n      \"column\": \"zmag\",\n      \"properties\": {\n        \"dtype\": \"number\",\n        \"std\": 8.489088270734381,\n        \"min\": 15.305653,\n        \"max\": 99.0,\n        \"num_unique_values\": 989,\n        \"samples\": [\n          22.427032,\n          23.645075,\n          22.07376\n        ],\n        \"semantic_type\": \"\",\n        \"description\": \"\"\n      }\n    },\n    {\n      \"column\": \"imag\",\n      \"properties\": {\n        \"dtype\": \"number\",\n        \"std\": 3.7492565585685975,\n        \"min\": 15.272729,\n        \"max\": 99.0,\n        \"num_unique_values\": 999,\n        \"samples\": [\n          20.577501,\n          23.24427,\n          24.300869\n        ],\n        \"semantic_type\": \"\",\n        \"description\": \"\"\n      }\n    },\n    {\n      \"column\": \"ymag\",\n      \"properties\": {\n        \"dtype\": \"number\",\n        \"std\": 25.865583879928618,\n        \"min\": 13.543125,\n        \"max\": 99.0,\n        \"num_unique_values\": 871,\n        \"samples\": [\n          22.247198,\n          19.606606,\n          23.948753\n        ],\n        \"semantic_type\": \"\",\n        \"description\": \"\"\n      }\n    },\n    {\n      \"column\": \"kron_radius\",\n      \"properties\": {\n        \"dtype\": \"number\",\n        \"std\": 1.5072874146428639,\n        \"min\": 0.0,\n        \"max\": 9.34934,\n        \"num_unique_values\": 826,\n        \"samples\": [\n          4.0531664,\n          4.5889606,\n          5.26244\n        ],\n        \"semantic_type\": \"\",\n        \"description\": \"\"\n      }\n    },\n    {\n      \"column\": \"spread_model_g\",\n      \"properties\": {\n        \"dtype\": \"number\",\n        \"std\": 0.0793771835687865,\n        \"min\": -1.0159998,\n        \"max\": 1.0,\n        \"num_unique_values\": 996,\n        \"samples\": [\n          0.008123651,\n          0.007437583,\n          -0.0012133085\n        ],\n        \"semantic_type\": \"\",\n        \"description\": \"\"\n      }\n    },\n    {\n      \"column\": \"class_star_g\",\n      \"properties\": {\n        \"dtype\": \"number\",\n        \"std\": 0.23789019591523997,\n        \"min\": 0.0001677457,\n        \"max\": 0.99842876,\n        \"num_unique_values\": 1000,\n        \"samples\": [\n          0.2519523,\n          0.3587164,\n          0.6548035\n        ],\n        \"semantic_type\": \"\",\n        \"description\": \"\"\n      }\n    },\n    {\n      \"column\": \"spread_model_r\",\n      \"properties\": {\n        \"dtype\": \"number\",\n        \"std\": 0.009337562211446309,\n        \"min\": -0.100882836,\n        \"max\": 0.0430437,\n        \"num_unique_values\": 1000,\n        \"samples\": [\n          -0.03839791,\n          0.00053064304,\n          -0.003351288\n        ],\n        \"semantic_type\": \"\",\n        \"description\": \"\"\n      }\n    },\n    {\n      \"column\": \"class_star_r\",\n      \"properties\": {\n        \"dtype\": \"number\",\n        \"std\": 0.2754143579377043,\n        \"min\": 0.0001530029,\n        \"max\": 0.998825,\n        \"num_unique_values\": 1000,\n        \"samples\": [\n          0.17342113,\n          0.48602137,\n          0.7123016\n        ],\n        \"semantic_type\": \"\",\n        \"description\": \"\"\n      }\n    },\n    {\n      \"column\": \"spread_model_z\",\n      \"properties\": {\n        \"dtype\": \"number\",\n        \"std\": 0.017893019525845096,\n        \"min\": -0.42794567,\n        \"max\": 0.043662414,\n        \"num_unique_values\": 1000,\n        \"samples\": [\n          0.013396417,\n          -0.012957429,\n          0.0065109753\n        ],\n        \"semantic_type\": \"\",\n        \"description\": \"\"\n      }\n    },\n    {\n      \"column\": \"class_star_z\",\n      \"properties\": {\n        \"dtype\": \"number\",\n        \"std\": 0.2716553755305285,\n        \"min\": 9.658195e-05,\n        \"max\": 0.9986152,\n        \"num_unique_values\": 1000,\n        \"samples\": [\n          0.12052198,\n          0.48126712,\n          0.0022630687\n        ],\n        \"semantic_type\": \"\",\n        \"description\": \"\"\n      }\n    },\n    {\n      \"column\": \"snr_g\",\n      \"properties\": {\n        \"dtype\": \"number\",\n        \"std\": 227.36019495616802,\n        \"min\": -1.8544439,\n        \"max\": 4141.2896,\n        \"num_unique_values\": 1000,\n        \"samples\": [\n          8.148136,\n          1.7841818,\n          4.51695\n        ],\n        \"semantic_type\": \"\",\n        \"description\": \"\"\n      }\n    },\n    {\n      \"column\": \"snr_r\",\n      \"properties\": {\n        \"dtype\": \"number\",\n        \"std\": 266.1429085296766,\n        \"min\": -0.9637557,\n        \"max\": 4831.39,\n        \"num_unique_values\": 1000,\n        \"samples\": [\n          13.754801,\n          1.9141378,\n          6.4885793\n        ],\n        \"semantic_type\": \"\",\n        \"description\": \"\"\n      }\n    },\n    {\n      \"column\": \"snr_z\",\n      \"properties\": {\n        \"dtype\": \"number\",\n        \"std\": 141.6423655903309,\n        \"min\": -1.6659069,\n        \"max\": 2546.6526,\n        \"num_unique_values\": 1000,\n        \"samples\": [\n          6.717346,\n          2.1349597,\n          2.2401721\n        ],\n        \"semantic_type\": \"\",\n        \"description\": \"\"\n      }\n    },\n    {\n      \"column\": \"ra\",\n      \"properties\": {\n        \"dtype\": \"number\",\n        \"std\": 0.0762536678821261,\n        \"min\": 344.291449,\n        \"max\": 344.601799,\n        \"num_unique_values\": 999,\n        \"samples\": [\n          344.39852,\n          344.458867,\n          344.34378\n        ],\n        \"semantic_type\": \"\",\n        \"description\": \"\"\n      }\n    },\n    {\n      \"column\": \"dec\",\n      \"properties\": {\n        \"dtype\": \"number\",\n        \"std\": 0.0390542467869254,\n        \"min\": -43.158251,\n        \"max\": -43.003651,\n        \"num_unique_values\": 994,\n        \"samples\": [\n          -43.12855,\n          -43.05451,\n          -43.081095\n        ],\n        \"semantic_type\": \"\",\n        \"description\": \"\"\n      }\n    }\n  ]\n}"
            }
          },
          "metadata": {},
          "execution_count": 4
        }
      ]
    },
    {
      "cell_type": "markdown",
      "metadata": {
        "id": "LKvnPq_GzJaC"
      },
      "source": [
        "### <span style=\"color:LightGreen\">Question 04</span>\n",
        "\n",
        "Write a query to get the following data from the `des_dr1.main` table:\n",
        "\n",
        "*  `mag_auto_g,r,i,z,y` = AB magnitudes in DECam g,r,i,z,y bands\n",
        "*  `kron_radius`        = Kron radius from SExtractor (pixels)\n",
        "* `spread_model_g,r,z` = star/galaxy classifier quantifying light profile relative to PSF\n",
        "* `class_star_g,r,z`   = star/extended source classifier (from 0 to 1)\n",
        "* `snr_g,r,z`          = computed signal-to-noise ratios (S/N) in g,r,z bands\n",
        "* `ra`,`dec`             = celestial coordinates\n",
        "\n",
        "Apply the following conditions and limit your query results to 100,000 samples:\n",
        "\n",
        "*   `fluxerr_auto_X` > 0 for X in g, r, and z bands\n",
        "*   -50 <= `snr_X` <= 50 for X in g, r, and z bands\n",
        "\n",
        "\n",
        "Convert the acquired data into a Pandas data frame.\n"
      ]
    },
    {
      "cell_type": "code",
      "source": [
        "query2 = \"\"\"\n",
        "        SELECT mag_auto_g as gmag, mag_auto_r as rmag, mag_auto_z as zmag,\n",
        "               mag_auto_i as imag, mag_auto_y as ymag,\n",
        "               kron_radius, spread_model_g, class_star_g, spread_model_r, class_star_r,\n",
        "               spread_model_z, class_star_z,\n",
        "               snr_g, snr_r, snr_z, ra, dec\n",
        "        FROM des_dr1.main\n",
        "        WHERE (fluxerr_auto_g>0 and fluxerr_auto_r>0 and fluxerr_auto_z>0\n",
        "        AND snr_g BETWEEN -50 AND 50\n",
        "        AND snr_r BETWEEN -50 AND 50\n",
        "        AND snr_z BETWEEN -50 AND 50)\n",
        "        LIMIT 100000\"\"\"\n",
        "\n",
        "sample_res2 = qc.query(sql=query2)\n",
        "sample_df2 = convert(sample_res2,'pandas',na_values=('Infinity','-Infinity'))"
      ],
      "metadata": {
        "id": "OZNZOCTPz2Yt"
      },
      "execution_count": 5,
      "outputs": []
    },
    {
      "cell_type": "code",
      "source": [
        "sample_df2.head()"
      ],
      "metadata": {
        "colab": {
          "base_uri": "https://localhost:8080/",
          "height": 226
        },
        "id": "0_FNuz1j1niG",
        "outputId": "affbc098-8e2e-4c90-a55f-0e6a262fa713"
      },
      "execution_count": 6,
      "outputs": [
        {
          "output_type": "execute_result",
          "data": {
            "text/plain": [
              "        gmag  rmag       zmag  imag       ymag  kron_radius  spread_model_g  \\\n",
              "0  22.115036    99  99.000000  99.0  99.000000     8.449265        0.012004   \n",
              "1  23.964737    99  99.000000  99.0  99.000000     8.983423        0.008607   \n",
              "2  99.000000    99  23.928865  99.0  23.879759     3.500000       -0.100816   \n",
              "3  99.000000    99  99.000000  99.0  99.000000     8.545079       -0.028510   \n",
              "4  22.759033    99  99.000000  99.0  99.000000     8.618557       -0.008259   \n",
              "\n",
              "   class_star_g  spread_model_r  class_star_r  spread_model_z  class_star_z  \\\n",
              "0      0.042333        1.000000      0.349992        1.000000      0.009584   \n",
              "1      0.607084        1.000000      0.019274        1.000000      0.395193   \n",
              "2      0.284600       -0.010246      0.012631        0.004203      0.002869   \n",
              "3      0.514376        1.000000      0.418036        1.000000      0.442787   \n",
              "4      0.369813        1.000000      0.347991        1.000000      0.502264   \n",
              "\n",
              "      snr_g      snr_r     snr_z          ra        dec  \n",
              "0  5.640619 -49.992058 -9.495123   19.846645 -53.602146  \n",
              "1  2.208419 -49.986885 -6.294527   23.626489 -29.413980  \n",
              "2 -0.268048 -49.974236  0.982654   53.554756 -44.696893  \n",
              "3 -4.645531 -49.971180 -3.901429  306.153553 -56.852316  \n",
              "4  3.931107 -49.966644 -2.693714   82.089033 -20.866155  "
            ],
            "text/html": [
              "\n",
              "  <div id=\"df-01b2fd93-2562-4479-aecc-fcf4e2435bd6\" class=\"colab-df-container\">\n",
              "    <div>\n",
              "<style scoped>\n",
              "    .dataframe tbody tr th:only-of-type {\n",
              "        vertical-align: middle;\n",
              "    }\n",
              "\n",
              "    .dataframe tbody tr th {\n",
              "        vertical-align: top;\n",
              "    }\n",
              "\n",
              "    .dataframe thead th {\n",
              "        text-align: right;\n",
              "    }\n",
              "</style>\n",
              "<table border=\"1\" class=\"dataframe\">\n",
              "  <thead>\n",
              "    <tr style=\"text-align: right;\">\n",
              "      <th></th>\n",
              "      <th>gmag</th>\n",
              "      <th>rmag</th>\n",
              "      <th>zmag</th>\n",
              "      <th>imag</th>\n",
              "      <th>ymag</th>\n",
              "      <th>kron_radius</th>\n",
              "      <th>spread_model_g</th>\n",
              "      <th>class_star_g</th>\n",
              "      <th>spread_model_r</th>\n",
              "      <th>class_star_r</th>\n",
              "      <th>spread_model_z</th>\n",
              "      <th>class_star_z</th>\n",
              "      <th>snr_g</th>\n",
              "      <th>snr_r</th>\n",
              "      <th>snr_z</th>\n",
              "      <th>ra</th>\n",
              "      <th>dec</th>\n",
              "    </tr>\n",
              "  </thead>\n",
              "  <tbody>\n",
              "    <tr>\n",
              "      <th>0</th>\n",
              "      <td>22.115036</td>\n",
              "      <td>99</td>\n",
              "      <td>99.000000</td>\n",
              "      <td>99.0</td>\n",
              "      <td>99.000000</td>\n",
              "      <td>8.449265</td>\n",
              "      <td>0.012004</td>\n",
              "      <td>0.042333</td>\n",
              "      <td>1.000000</td>\n",
              "      <td>0.349992</td>\n",
              "      <td>1.000000</td>\n",
              "      <td>0.009584</td>\n",
              "      <td>5.640619</td>\n",
              "      <td>-49.992058</td>\n",
              "      <td>-9.495123</td>\n",
              "      <td>19.846645</td>\n",
              "      <td>-53.602146</td>\n",
              "    </tr>\n",
              "    <tr>\n",
              "      <th>1</th>\n",
              "      <td>23.964737</td>\n",
              "      <td>99</td>\n",
              "      <td>99.000000</td>\n",
              "      <td>99.0</td>\n",
              "      <td>99.000000</td>\n",
              "      <td>8.983423</td>\n",
              "      <td>0.008607</td>\n",
              "      <td>0.607084</td>\n",
              "      <td>1.000000</td>\n",
              "      <td>0.019274</td>\n",
              "      <td>1.000000</td>\n",
              "      <td>0.395193</td>\n",
              "      <td>2.208419</td>\n",
              "      <td>-49.986885</td>\n",
              "      <td>-6.294527</td>\n",
              "      <td>23.626489</td>\n",
              "      <td>-29.413980</td>\n",
              "    </tr>\n",
              "    <tr>\n",
              "      <th>2</th>\n",
              "      <td>99.000000</td>\n",
              "      <td>99</td>\n",
              "      <td>23.928865</td>\n",
              "      <td>99.0</td>\n",
              "      <td>23.879759</td>\n",
              "      <td>3.500000</td>\n",
              "      <td>-0.100816</td>\n",
              "      <td>0.284600</td>\n",
              "      <td>-0.010246</td>\n",
              "      <td>0.012631</td>\n",
              "      <td>0.004203</td>\n",
              "      <td>0.002869</td>\n",
              "      <td>-0.268048</td>\n",
              "      <td>-49.974236</td>\n",
              "      <td>0.982654</td>\n",
              "      <td>53.554756</td>\n",
              "      <td>-44.696893</td>\n",
              "    </tr>\n",
              "    <tr>\n",
              "      <th>3</th>\n",
              "      <td>99.000000</td>\n",
              "      <td>99</td>\n",
              "      <td>99.000000</td>\n",
              "      <td>99.0</td>\n",
              "      <td>99.000000</td>\n",
              "      <td>8.545079</td>\n",
              "      <td>-0.028510</td>\n",
              "      <td>0.514376</td>\n",
              "      <td>1.000000</td>\n",
              "      <td>0.418036</td>\n",
              "      <td>1.000000</td>\n",
              "      <td>0.442787</td>\n",
              "      <td>-4.645531</td>\n",
              "      <td>-49.971180</td>\n",
              "      <td>-3.901429</td>\n",
              "      <td>306.153553</td>\n",
              "      <td>-56.852316</td>\n",
              "    </tr>\n",
              "    <tr>\n",
              "      <th>4</th>\n",
              "      <td>22.759033</td>\n",
              "      <td>99</td>\n",
              "      <td>99.000000</td>\n",
              "      <td>99.0</td>\n",
              "      <td>99.000000</td>\n",
              "      <td>8.618557</td>\n",
              "      <td>-0.008259</td>\n",
              "      <td>0.369813</td>\n",
              "      <td>1.000000</td>\n",
              "      <td>0.347991</td>\n",
              "      <td>1.000000</td>\n",
              "      <td>0.502264</td>\n",
              "      <td>3.931107</td>\n",
              "      <td>-49.966644</td>\n",
              "      <td>-2.693714</td>\n",
              "      <td>82.089033</td>\n",
              "      <td>-20.866155</td>\n",
              "    </tr>\n",
              "  </tbody>\n",
              "</table>\n",
              "</div>\n",
              "    <div class=\"colab-df-buttons\">\n",
              "\n",
              "  <div class=\"colab-df-container\">\n",
              "    <button class=\"colab-df-convert\" onclick=\"convertToInteractive('df-01b2fd93-2562-4479-aecc-fcf4e2435bd6')\"\n",
              "            title=\"Convert this dataframe to an interactive table.\"\n",
              "            style=\"display:none;\">\n",
              "\n",
              "  <svg xmlns=\"http://www.w3.org/2000/svg\" height=\"24px\" viewBox=\"0 -960 960 960\">\n",
              "    <path d=\"M120-120v-720h720v720H120Zm60-500h600v-160H180v160Zm220 220h160v-160H400v160Zm0 220h160v-160H400v160ZM180-400h160v-160H180v160Zm440 0h160v-160H620v160ZM180-180h160v-160H180v160Zm440 0h160v-160H620v160Z\"/>\n",
              "  </svg>\n",
              "    </button>\n",
              "\n",
              "  <style>\n",
              "    .colab-df-container {\n",
              "      display:flex;\n",
              "      gap: 12px;\n",
              "    }\n",
              "\n",
              "    .colab-df-convert {\n",
              "      background-color: #E8F0FE;\n",
              "      border: none;\n",
              "      border-radius: 50%;\n",
              "      cursor: pointer;\n",
              "      display: none;\n",
              "      fill: #1967D2;\n",
              "      height: 32px;\n",
              "      padding: 0 0 0 0;\n",
              "      width: 32px;\n",
              "    }\n",
              "\n",
              "    .colab-df-convert:hover {\n",
              "      background-color: #E2EBFA;\n",
              "      box-shadow: 0px 1px 2px rgba(60, 64, 67, 0.3), 0px 1px 3px 1px rgba(60, 64, 67, 0.15);\n",
              "      fill: #174EA6;\n",
              "    }\n",
              "\n",
              "    .colab-df-buttons div {\n",
              "      margin-bottom: 4px;\n",
              "    }\n",
              "\n",
              "    [theme=dark] .colab-df-convert {\n",
              "      background-color: #3B4455;\n",
              "      fill: #D2E3FC;\n",
              "    }\n",
              "\n",
              "    [theme=dark] .colab-df-convert:hover {\n",
              "      background-color: #434B5C;\n",
              "      box-shadow: 0px 1px 3px 1px rgba(0, 0, 0, 0.15);\n",
              "      filter: drop-shadow(0px 1px 2px rgba(0, 0, 0, 0.3));\n",
              "      fill: #FFFFFF;\n",
              "    }\n",
              "  </style>\n",
              "\n",
              "    <script>\n",
              "      const buttonEl =\n",
              "        document.querySelector('#df-01b2fd93-2562-4479-aecc-fcf4e2435bd6 button.colab-df-convert');\n",
              "      buttonEl.style.display =\n",
              "        google.colab.kernel.accessAllowed ? 'block' : 'none';\n",
              "\n",
              "      async function convertToInteractive(key) {\n",
              "        const element = document.querySelector('#df-01b2fd93-2562-4479-aecc-fcf4e2435bd6');\n",
              "        const dataTable =\n",
              "          await google.colab.kernel.invokeFunction('convertToInteractive',\n",
              "                                                    [key], {});\n",
              "        if (!dataTable) return;\n",
              "\n",
              "        const docLinkHtml = 'Like what you see? Visit the ' +\n",
              "          '<a target=\"_blank\" href=https://colab.research.google.com/notebooks/data_table.ipynb>data table notebook</a>'\n",
              "          + ' to learn more about interactive tables.';\n",
              "        element.innerHTML = '';\n",
              "        dataTable['output_type'] = 'display_data';\n",
              "        await google.colab.output.renderOutput(dataTable, element);\n",
              "        const docLink = document.createElement('div');\n",
              "        docLink.innerHTML = docLinkHtml;\n",
              "        element.appendChild(docLink);\n",
              "      }\n",
              "    </script>\n",
              "  </div>\n",
              "\n",
              "\n",
              "<div id=\"df-f54ea73d-f3d6-4c4e-ae74-effd7b9864f1\">\n",
              "  <button class=\"colab-df-quickchart\" onclick=\"quickchart('df-f54ea73d-f3d6-4c4e-ae74-effd7b9864f1')\"\n",
              "            title=\"Suggest charts\"\n",
              "            style=\"display:none;\">\n",
              "\n",
              "<svg xmlns=\"http://www.w3.org/2000/svg\" height=\"24px\"viewBox=\"0 0 24 24\"\n",
              "     width=\"24px\">\n",
              "    <g>\n",
              "        <path d=\"M19 3H5c-1.1 0-2 .9-2 2v14c0 1.1.9 2 2 2h14c1.1 0 2-.9 2-2V5c0-1.1-.9-2-2-2zM9 17H7v-7h2v7zm4 0h-2V7h2v10zm4 0h-2v-4h2v4z\"/>\n",
              "    </g>\n",
              "</svg>\n",
              "  </button>\n",
              "\n",
              "<style>\n",
              "  .colab-df-quickchart {\n",
              "      --bg-color: #E8F0FE;\n",
              "      --fill-color: #1967D2;\n",
              "      --hover-bg-color: #E2EBFA;\n",
              "      --hover-fill-color: #174EA6;\n",
              "      --disabled-fill-color: #AAA;\n",
              "      --disabled-bg-color: #DDD;\n",
              "  }\n",
              "\n",
              "  [theme=dark] .colab-df-quickchart {\n",
              "      --bg-color: #3B4455;\n",
              "      --fill-color: #D2E3FC;\n",
              "      --hover-bg-color: #434B5C;\n",
              "      --hover-fill-color: #FFFFFF;\n",
              "      --disabled-bg-color: #3B4455;\n",
              "      --disabled-fill-color: #666;\n",
              "  }\n",
              "\n",
              "  .colab-df-quickchart {\n",
              "    background-color: var(--bg-color);\n",
              "    border: none;\n",
              "    border-radius: 50%;\n",
              "    cursor: pointer;\n",
              "    display: none;\n",
              "    fill: var(--fill-color);\n",
              "    height: 32px;\n",
              "    padding: 0;\n",
              "    width: 32px;\n",
              "  }\n",
              "\n",
              "  .colab-df-quickchart:hover {\n",
              "    background-color: var(--hover-bg-color);\n",
              "    box-shadow: 0 1px 2px rgba(60, 64, 67, 0.3), 0 1px 3px 1px rgba(60, 64, 67, 0.15);\n",
              "    fill: var(--button-hover-fill-color);\n",
              "  }\n",
              "\n",
              "  .colab-df-quickchart-complete:disabled,\n",
              "  .colab-df-quickchart-complete:disabled:hover {\n",
              "    background-color: var(--disabled-bg-color);\n",
              "    fill: var(--disabled-fill-color);\n",
              "    box-shadow: none;\n",
              "  }\n",
              "\n",
              "  .colab-df-spinner {\n",
              "    border: 2px solid var(--fill-color);\n",
              "    border-color: transparent;\n",
              "    border-bottom-color: var(--fill-color);\n",
              "    animation:\n",
              "      spin 1s steps(1) infinite;\n",
              "  }\n",
              "\n",
              "  @keyframes spin {\n",
              "    0% {\n",
              "      border-color: transparent;\n",
              "      border-bottom-color: var(--fill-color);\n",
              "      border-left-color: var(--fill-color);\n",
              "    }\n",
              "    20% {\n",
              "      border-color: transparent;\n",
              "      border-left-color: var(--fill-color);\n",
              "      border-top-color: var(--fill-color);\n",
              "    }\n",
              "    30% {\n",
              "      border-color: transparent;\n",
              "      border-left-color: var(--fill-color);\n",
              "      border-top-color: var(--fill-color);\n",
              "      border-right-color: var(--fill-color);\n",
              "    }\n",
              "    40% {\n",
              "      border-color: transparent;\n",
              "      border-right-color: var(--fill-color);\n",
              "      border-top-color: var(--fill-color);\n",
              "    }\n",
              "    60% {\n",
              "      border-color: transparent;\n",
              "      border-right-color: var(--fill-color);\n",
              "    }\n",
              "    80% {\n",
              "      border-color: transparent;\n",
              "      border-right-color: var(--fill-color);\n",
              "      border-bottom-color: var(--fill-color);\n",
              "    }\n",
              "    90% {\n",
              "      border-color: transparent;\n",
              "      border-bottom-color: var(--fill-color);\n",
              "    }\n",
              "  }\n",
              "</style>\n",
              "\n",
              "  <script>\n",
              "    async function quickchart(key) {\n",
              "      const quickchartButtonEl =\n",
              "        document.querySelector('#' + key + ' button');\n",
              "      quickchartButtonEl.disabled = true;  // To prevent multiple clicks.\n",
              "      quickchartButtonEl.classList.add('colab-df-spinner');\n",
              "      try {\n",
              "        const charts = await google.colab.kernel.invokeFunction(\n",
              "            'suggestCharts', [key], {});\n",
              "      } catch (error) {\n",
              "        console.error('Error during call to suggestCharts:', error);\n",
              "      }\n",
              "      quickchartButtonEl.classList.remove('colab-df-spinner');\n",
              "      quickchartButtonEl.classList.add('colab-df-quickchart-complete');\n",
              "    }\n",
              "    (() => {\n",
              "      let quickchartButtonEl =\n",
              "        document.querySelector('#df-f54ea73d-f3d6-4c4e-ae74-effd7b9864f1 button');\n",
              "      quickchartButtonEl.style.display =\n",
              "        google.colab.kernel.accessAllowed ? 'block' : 'none';\n",
              "    })();\n",
              "  </script>\n",
              "</div>\n",
              "\n",
              "    </div>\n",
              "  </div>\n"
            ],
            "application/vnd.google.colaboratory.intrinsic+json": {
              "type": "dataframe",
              "variable_name": "sample_df2",
              "summary": "{\n  \"name\": \"sample_df2\",\n  \"rows\": 100000,\n  \"fields\": [\n    {\n      \"column\": \"gmag\",\n      \"properties\": {\n        \"dtype\": \"number\",\n        \"std\": 32.48209137677617,\n        \"min\": 17.348894,\n        \"max\": 99.0,\n        \"num_unique_values\": 25822,\n        \"samples\": [\n          22.475014,\n          25.601862,\n          25.243637\n        ],\n        \"semantic_type\": \"\",\n        \"description\": \"\"\n      }\n    },\n    {\n      \"column\": \"rmag\",\n      \"properties\": {\n        \"dtype\": \"number\",\n        \"std\": 0,\n        \"min\": 99,\n        \"max\": 99,\n        \"num_unique_values\": 1,\n        \"samples\": [\n          99\n        ],\n        \"semantic_type\": \"\",\n        \"description\": \"\"\n      }\n    },\n    {\n      \"column\": \"zmag\",\n      \"properties\": {\n        \"dtype\": \"number\",\n        \"std\": 36.42823472132477,\n        \"min\": 16.04149,\n        \"max\": 99.0,\n        \"num_unique_values\": 35492,\n        \"samples\": [\n          22.854902\n        ],\n        \"semantic_type\": \"\",\n        \"description\": \"\"\n      }\n    },\n    {\n      \"column\": \"imag\",\n      \"properties\": {\n        \"dtype\": \"number\",\n        \"std\": 35.473063174321545,\n        \"min\": 12.252574,\n        \"max\": 99.0,\n        \"num_unique_values\": 32860,\n        \"samples\": [\n          23.291025\n        ],\n        \"semantic_type\": \"\",\n        \"description\": \"\"\n      }\n    },\n    {\n      \"column\": \"ymag\",\n      \"properties\": {\n        \"dtype\": \"number\",\n        \"std\": 36.26928489633142,\n        \"min\": 9.230651,\n        \"max\": 99.0,\n        \"num_unique_values\": 33985,\n        \"samples\": [\n          24.178148\n        ],\n        \"semantic_type\": \"\",\n        \"description\": \"\"\n      }\n    },\n    {\n      \"column\": \"kron_radius\",\n      \"properties\": {\n        \"dtype\": \"number\",\n        \"std\": 2.0566203498270257,\n        \"min\": 0.0,\n        \"max\": 10.635554,\n        \"num_unique_values\": 91257,\n        \"samples\": [\n          9.206915\n        ],\n        \"semantic_type\": \"\",\n        \"description\": \"\"\n      }\n    },\n    {\n      \"column\": \"spread_model_g\",\n      \"properties\": {\n        \"dtype\": \"number\",\n        \"std\": 6015227.627913124,\n        \"min\": -148910820.0,\n        \"max\": 1895150000.0,\n        \"num_unique_values\": 65967,\n        \"samples\": [\n          0.018079748\n        ],\n        \"semantic_type\": \"\",\n        \"description\": \"\"\n      }\n    },\n    {\n      \"column\": \"class_star_g\",\n      \"properties\": {\n        \"dtype\": \"number\",\n        \"std\": 0.1689188026895578,\n        \"min\": 4.6352434e-05,\n        \"max\": 0.9981643,\n        \"num_unique_values\": 86906,\n        \"samples\": [\n          0.3504873\n        ],\n        \"semantic_type\": \"\",\n        \"description\": \"\"\n      }\n    },\n    {\n      \"column\": \"spread_model_r\",\n      \"properties\": {\n        \"dtype\": \"number\",\n        \"std\": 99381841.67811283,\n        \"min\": -31422382000.0,\n        \"max\": 5174879.0,\n        \"num_unique_values\": 49314,\n        \"samples\": [\n          0.0019834167\n        ],\n        \"semantic_type\": \"\",\n        \"description\": \"\"\n      }\n    },\n    {\n      \"column\": \"class_star_r\",\n      \"properties\": {\n        \"dtype\": \"number\",\n        \"std\": 0.2204383020972118,\n        \"min\": 5.83828e-05,\n        \"max\": 0.999889,\n        \"num_unique_values\": 65348,\n        \"samples\": [\n          0.34869537\n        ],\n        \"semantic_type\": \"\",\n        \"description\": \"\"\n      }\n    },\n    {\n      \"column\": \"spread_model_z\",\n      \"properties\": {\n        \"dtype\": \"number\",\n        \"std\": 947421585.8398062,\n        \"min\": -299600900000.0,\n        \"max\": 1822468.0,\n        \"num_unique_values\": 74205,\n        \"samples\": [\n          -0.04611041\n        ],\n        \"semantic_type\": \"\",\n        \"description\": \"\"\n      }\n    },\n    {\n      \"column\": \"class_star_z\",\n      \"properties\": {\n        \"dtype\": \"number\",\n        \"std\": 0.20734031528640445,\n        \"min\": 3.537196e-05,\n        \"max\": 0.9994425,\n        \"num_unique_values\": 92876,\n        \"samples\": [\n          0.3486934\n        ],\n        \"semantic_type\": \"\",\n        \"description\": \"\"\n      }\n    },\n    {\n      \"column\": \"snr_g\",\n      \"properties\": {\n        \"dtype\": \"number\",\n        \"std\": 10.00304276366852,\n        \"min\": -49.9902,\n        \"max\": 49.989197,\n        \"num_unique_values\": 99938,\n        \"samples\": [\n          -5.042166\n        ],\n        \"semantic_type\": \"\",\n        \"description\": \"\"\n      }\n    },\n    {\n      \"column\": \"snr_r\",\n      \"properties\": {\n        \"dtype\": \"number\",\n        \"std\": 9.05512403512555,\n        \"min\": -49.992058,\n        \"max\": -3.5576842,\n        \"num_unique_values\": 99777,\n        \"samples\": [\n          -9.078838\n        ],\n        \"semantic_type\": \"\",\n        \"description\": \"\"\n      }\n    },\n    {\n      \"column\": \"snr_z\",\n      \"properties\": {\n        \"dtype\": \"number\",\n        \"std\": 8.625532453836602,\n        \"min\": -49.884075,\n        \"max\": 49.99653,\n        \"num_unique_values\": 99930,\n        \"samples\": [\n          -1.1906419\n        ],\n        \"semantic_type\": \"\",\n        \"description\": \"\"\n      }\n    },\n    {\n      \"column\": \"ra\",\n      \"properties\": {\n        \"dtype\": \"number\",\n        \"std\": 122.62524544286995,\n        \"min\": 0.003254,\n        \"max\": 359.999233,\n        \"num_unique_values\": 99533,\n        \"samples\": [\n          60.047029\n        ],\n        \"semantic_type\": \"\",\n        \"description\": \"\"\n      }\n    },\n    {\n      \"column\": \"dec\",\n      \"properties\": {\n        \"dtype\": \"number\",\n        \"std\": 17.318478907157488,\n        \"min\": -68.13696399999999,\n        \"max\": 5.430898,\n        \"num_unique_values\": 99261,\n        \"samples\": [\n          -20.725676\n        ],\n        \"semantic_type\": \"\",\n        \"description\": \"\"\n      }\n    }\n  ]\n}"
            }
          },
          "metadata": {},
          "execution_count": 6
        }
      ]
    },
    {
      "cell_type": "markdown",
      "metadata": {
        "id": "AIOgqJLIVSUn"
      },
      "source": [
        "### <span style=\"color:LightGreen\">Question 05</span>\n",
        "\n",
        "The images produced by DES are used to distinguish between stars (point sources), galaxies (resolved, if not too distant), and QSOs (which may have both point-like and resolved components).\n",
        "\n",
        "* `kron_radius`: Kron radius in pixels\n",
        "* `spread_model_X`: star-galaxy classifier comparing extended model to PSF model. Value is given for each band X = *g, r, i, z, y*\n",
        "* `class_star_X`: value ranging from 0.0 (not point-like) to 1.0 (point-like), for each band X = *g, r, i, z, y*\n",
        "\n",
        "The value of `spread_model_X` is near zero for a point source (star or QSO), positive for an extended source (galaxy), negative for an artifact smaller than the PSF (e.g., bad pixel or cosmic ray).\n",
        "\n",
        "Let's define an object as a star if `spread_model_g`<=0.5, and a galaxy if `spread_model_g` > 0.5. In our sample data, count the number of objects that are stars and the number of objects that are galaxies."
      ]
    },
    {
      "cell_type": "code",
      "source": [
        "star_count = len(sample_df2[sample_df2['spread_model_g']<=0.5])\n",
        "galaxy_count = len(sample_df2[sample_df2['spread_model_g']>0.5])\n",
        "print(f\"Number of stars: {star_count}\")\n",
        "print(f\"Number of galaxies: {galaxy_count}\")"
      ],
      "metadata": {
        "colab": {
          "base_uri": "https://localhost:8080/"
        },
        "id": "OPccBwI212gz",
        "outputId": "567ee975-8889-45dd-d1fe-9958ad05a72f"
      },
      "execution_count": 7,
      "outputs": [
        {
          "output_type": "stream",
          "name": "stdout",
          "text": [
            "Number of stars: 64836\n",
            "Number of galaxies: 35164\n"
          ]
        }
      ]
    },
    {
      "cell_type": "markdown",
      "metadata": {
        "id": "zLMJBHtrWmMX"
      },
      "source": [
        "### <span style=\"color:LightGreen\">Question 06</span>\n",
        "\n",
        "Suppose we wish to divide the imaging data observed by the DES into roughly equal subsets of data for more efficient parallel data processing and analysis. We will do so by using K-Means clustering on the data points of the area of the night sky observed by DES.\n",
        "\n",
        "In astronomy, RA (right ascension) and Dec (declination) are the coordinates on the sky that correspond to longitude and latitude on Earth and are used to describe the position of an object. Define a subset of the data with two columns: `ra` and `dec`. Using K-Means clustering, fit the data into 2 distinct clusters.\n",
        "\n",
        "Here, each cluster will represent a subset of data, so we want the number data points of all clusters to be roughly the same. Display the fit using the helper function `display()`. Is the result what you expected? Is this a suitable method to equally divide our data?"
      ]
    },
    {
      "cell_type": "code",
      "execution_count": 8,
      "metadata": {
        "id": "d-jU374Bs8OX"
      },
      "outputs": [],
      "source": [
        "def display(data, fit):\n",
        "    n_clusters = len(np.unique(fit.labels_))\n",
        "    # Pick good colors to distinguish the different clusters.\n",
        "    import matplotlib.colors\n",
        "    cmap = matplotlib.colors.ListedColormap(\n",
        "        sns.color_palette(\"husl\", n_clusters).as_hex())\n",
        "    plt.scatter(data.iloc[:, 0], data.iloc[:, 1], s=5, c=fit.labels_, cmap=cmap)\n",
        "    # Use standard axes to match the plot above.\n",
        "    #plt.xlim(0, 360)\n",
        "    plt.ylim(-90, +90)\n",
        "    plt.xlabel('RA [degrees]')\n",
        "    plt.ylabel('Dec [degrees]')\n",
        "    plt.gca().set_aspect(1.)"
      ]
    },
    {
      "cell_type": "code",
      "source": [
        "coordinates = sample_df2[['ra', 'dec']]\n",
        "kmeans = cluster.KMeans(n_clusters=2)"
      ],
      "metadata": {
        "id": "YD0Bc_0jckH-"
      },
      "execution_count": 9,
      "outputs": []
    },
    {
      "cell_type": "code",
      "source": [
        "display(coordinates, kmeans.fit(coordinates))"
      ],
      "metadata": {
        "colab": {
          "base_uri": "https://localhost:8080/",
          "height": 314
        },
        "id": "aqA2nKgZ3hfJ",
        "outputId": "3b0f13ec-592f-43d3-b366-d5a3af9d719c"
      },
      "execution_count": 10,
      "outputs": [
        {
          "output_type": "display_data",
          "data": {
            "text/plain": [
              "<Figure size 640x480 with 1 Axes>"
            ],
            "image/png": "[encoded data removed]"
          },
          "metadata": {}
        }
      ]
    },
    {
      "cell_type": "markdown",
      "source": [
        "The two clusters appear spatially distinct on the graph, but when considering the fact that in actuality, 0 and 360 degrees are the same, these clusters are actually very close together in the actual sky, and this may not be the best way to cluster the data. Furthermore, the right cluster appears MUCH bigger than the left cluster (as in, it likely contains more points). We can verify this:"
      ],
      "metadata": {
        "id": "v4TwrLZJcy_8"
      }
    },
    {
      "cell_type": "code",
      "source": [
        "_, cluster_count = np.unique(kmeans.labels_, return_counts=True)\n",
        "print(f\"Number of data points in cluster 0: {cluster_count[0]}\")\n",
        "print(f\"Number of data points in cluster 1: {cluster_count[1]}\")"
      ],
      "metadata": {
        "colab": {
          "base_uri": "https://localhost:8080/"
        },
        "id": "x20boTnSh30o",
        "outputId": "5b7b3e09-5627-49ce-eb6e-c1c5b192dd4a"
      },
      "execution_count": 11,
      "outputs": [
        {
          "output_type": "stream",
          "name": "stdout",
          "text": [
            "Number of data points in cluster 0: 77755\n",
            "Number of data points in cluster 1: 22245\n"
          ]
        }
      ]
    },
    {
      "cell_type": "markdown",
      "source": [
        "... so the size of the clusters are nowhere near equal, with cluster 0 over 3 times the size of cluster 1.\n",
        "\n",
        "This does not seem like the most effective way to equally divide the data, especially because the clusters do not seem to accurately reflect the gaps existing between data points."
      ],
      "metadata": {
        "id": "mgwzbt98kUPB"
      }
    },
    {
      "cell_type": "markdown",
      "metadata": {
        "id": "2NwRUT6nWpoG"
      },
      "source": [
        "### <span style=\"color:LightGreen\">Question 07</span>\n",
        "\n",
        "Modify the `ra` column such that if `ra` >= 180 deg, we subtract 360 deg from `ra` for our observed sky map to be continuous. Now, change the number of clusters so that each cluster covers roughly equal area of the observed sky? For what `n_clusters` does the K-means clustering make the most sense to you?\n",
        "\n",
        "However, you shouldn't increase `n_clusters` to an arbitrarily large number just to get equally covered area of the observed sky - each cluster would represent a subset of data we use for parallel processing, and requiring more processors is not always feasible or sensible."
      ]
    },
    {
      "cell_type": "code",
      "source": [
        "continuous_coords = sample_df2[['ra', 'dec']]\n",
        "for i, coord in enumerate(continuous_coords['ra']):\n",
        "  if coord >= 180.:\n",
        "    continuous_coords['ra'][i] = (coord - 360.)\n",
        "\n",
        "kmeans = cluster.KMeans(n_clusters=2)\n",
        "\n",
        "display(continuous_coords, kmeans.fit(continuous_coords))"
      ],
      "metadata": {
        "colab": {
          "base_uri": "https://localhost:8080/",
          "height": 458
        },
        "id": "nYLhkWwKmUjU",
        "outputId": "404f888e-3c75-4175-d56d-af5125100c51"
      },
      "execution_count": 12,
      "outputs": [
        {
          "output_type": "display_data",
          "data": {
            "text/plain": [
              "<Figure size 640x480 with 1 Axes>"
            ],
            "image/png": "[encoded data removed]"
          },
          "metadata": {}
        }
      ]
    },
    {
      "cell_type": "code",
      "source": [
        "_, cluster_count = np.unique(kmeans.labels_, return_counts=True)\n",
        "print(f\"Number of data points in cluster 0: {cluster_count[0]}\")\n",
        "print(f\"Number of data points in cluster 1: {cluster_count[1]}\")\n"
      ],
      "metadata": {
        "colab": {
          "base_uri": "https://localhost:8080/"
        },
        "id": "Eg5oUb2LpsME",
        "outputId": "9ff06f5c-e2d5-47e1-c327-fb26bea8b243"
      },
      "execution_count": 13,
      "outputs": [
        {
          "output_type": "stream",
          "name": "stdout",
          "text": [
            "Number of data points in cluster 0: 49855\n",
            "Number of data points in cluster 1: 50145\n"
          ]
        }
      ]
    },
    {
      "cell_type": "code",
      "source": [
        "import scipy as sci\n",
        "\n",
        "cluster1 = continuous_coords[kmeans.labels_==0]\n",
        "cluster2 = continuous_coords[kmeans.labels_==1]\n",
        "\n",
        "sci.spatial.ConvexHull(cluster1).area"
      ],
      "metadata": {
        "colab": {
          "base_uri": "https://localhost:8080/"
        },
        "id": "sk1j5Kto9843",
        "outputId": "419978c0-6d5f-45fb-91dc-0749fab8a6f1"
      },
      "execution_count": 17,
      "outputs": [
        {
          "output_type": "execute_result",
          "data": {
            "text/plain": [
              "295.9950227059067"
            ]
          },
          "metadata": {},
          "execution_count": 17
        }
      ]
    },
    {
      "cell_type": "markdown",
      "source": [
        "... so the clusters in the continuous data are much closer in size when we make the data continuous. However, the K-means clustering still does not seem to accurately reflect the structure of the data. There are some clusters of points that seem like they should be grouped together, and perhaps could be if more clusters were used.\n",
        "\n",
        "If we want to compare the *areas* of each cluster, we need to determine their convex hulls. We can first check if the areas of night sky encompassed by each cluster are roughly equal for k = 2:"
      ],
      "metadata": {
        "id": "a90d33czpw4w"
      }
    },
    {
      "cell_type": "code",
      "source": [
        "import scipy as sci\n",
        "\n",
        "k = 2\n",
        "\n",
        "cluster_areas = np.zeros((2,))\n",
        "for i in range(k):\n",
        "  cluster_areas[i] = sci.spatial.ConvexHull(continuous_coords[kmeans.labels_ == i]).area\n",
        "  print(f\"Area of cluster {i}: {cluster_areas[i]}\")\n",
        "\n"
      ],
      "metadata": {
        "colab": {
          "base_uri": "https://localhost:8080/"
        },
        "id": "3kOUx8vN-U_x",
        "outputId": "7fc2c321-6f9f-4d39-f154-60ac3a2c3e6f"
      },
      "execution_count": 20,
      "outputs": [
        {
          "output_type": "stream",
          "name": "stdout",
          "text": [
            "Area of cluster 0: 295.9950227059067\n",
            "Area of cluster 1: 249.21965890553463\n"
          ]
        }
      ]
    },
    {
      "cell_type": "markdown",
      "source": [
        "... So we can see that k-means results in clusters not too far off in size, but we may be able to do better. We can repeat this procedure for varying values of k (number of clusters), and see which results in the most equal area."
      ],
      "metadata": {
        "id": "HEdw_7YLxy81"
      }
    },
    {
      "cell_type": "code",
      "source": [
        "for i in range(2, 20):\n",
        "  kmeans = cluster.KMeans(n_clusters=i)\n",
        "  kmeans.fit(continuous_coords)\n",
        "  _, cluster_count = np.unique(kmeans.labels_, return_counts=True)\n",
        "  print(f\"Cluster sizes for {i} clusters: {cluster_count}\\n standard deviation in cluster size: {np.std(cluster_count)}\")"
      ],
      "metadata": {
        "id": "T2dBL2Ysp_Dr"
      },
      "execution_count": null,
      "outputs": []
    },
    {
      "cell_type": "code",
      "source": [
        "for i in range(2, 20):\n",
        "  kmeans = cluster.KMeans(n_clusters=i)\n",
        "  kmeans.fit(continuous_coords)\n",
        "  _, cluster_count = np.unique(kmeans.labels_, return_counts=True)\n",
        "  print(f\"Cluster sizes for {i} clusters: {cluster_count}\\n standard deviation in cluster size: {np.std(cluster_count)}\")"
      ],
      "metadata": {
        "id": "0iPAksejtIY9"
      },
      "execution_count": null,
      "outputs": []
    },
    {
      "cell_type": "markdown",
      "source": [
        "To get the *area* of each cluster, we need to compute the convex hull."
      ],
      "metadata": {
        "id": "MH3BdYGbtHbh"
      }
    },
    {
      "cell_type": "code",
      "source": [],
      "metadata": {
        "id": "HpuTXiFlrr_y"
      },
      "execution_count": null,
      "outputs": []
    },
    {
      "cell_type": "markdown",
      "source": [
        "The standard deviation decreases as the number of clusters increases."
      ],
      "metadata": {
        "id": "3Ru_Z8bBrst5"
      }
    },
    {
      "cell_type": "markdown",
      "metadata": {
        "id": "jBUTSqcNN4ee"
      },
      "source": [
        "## <span style=\"color:Orange\">References</span>\n",
        "\n",
        "* [__<span style=\"color:Red\">1</span>__] Jupyter Notebook Example from Astro Data Lab using DES DR1: https://github.com/astro-datalab/notebooks-latest/blob/master/03_ScienceExamples/StarGalQSOSeparation/StarGalQsoDESDR1.ipynb\n",
        "\n",
        "* __[<span style=\"color:Red\">2</span>]__ DES Collaboration \"The Dark Energy Survey Data Release 1\" ApJS 239, 18, 2018, https://arxiv.org/abs/1801.03181\n",
        "\n",
        "* Data Lab concept paper: Fitzpatrick et al., \"The NOAO Data Laboratory: a conceptual overview\", SPIE, 9149, 2014, https://spie.org/Publications/Proceedings/Paper/10.1117/12.2057445?SSO=1\n",
        "\n",
        "* Data Lab disclaimer: https://datalab.noirlab.edu/disclaimers.php"
      ]
    },
    {
      "cell_type": "markdown",
      "metadata": {
        "id": "zqutUMcPp9F8"
      },
      "source": [
        "## <span style=\"color:Orange\">Acknowledgements</span>\n",
        "\n",
        "* Initial version: Ferzem Khan with some guidance from Mark Neubauer\n",
        "\n",
        "© Copyright 2024"
      ]
    }
  ],
  "metadata": {
    "colab": {
      "provenance": []
    },
    "kernelspec": {
      "display_name": "Python 3",
      "name": "python3"
    },
    "language_info": {
      "codemirror_mode": {
        "name": "ipython",
        "version": 3
      },
      "file_extension": ".py",
      "mimetype": "text/x-python",
      "name": "python",
      "nbconvert_exporter": "python",
      "pygments_lexer": "ipython3",
      "version": "3.13.1"
    }
  },
  "nbformat": 4,
  "nbformat_minor": 0
}