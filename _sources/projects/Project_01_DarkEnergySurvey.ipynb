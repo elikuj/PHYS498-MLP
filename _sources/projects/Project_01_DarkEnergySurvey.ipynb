{
  "cells": [
    {
      "cell_type": "markdown",
      "metadata": {
        "id": "V5ppSGgISDAy"
      },
      "source": [
        "# Dark Energy Survey"
      ]
    },
    {
      "cell_type": "markdown",
      "metadata": {
        "id": "3rLx4hwlp9Fv"
      },
      "source": [
        "<div>\n",
        "<img src=\"https://raw.githubusercontent.com/illinois-mlp/MachineLearningForPhysics/main/img/Project_DES-Figure.jpg\" width=500></img>\n",
        "</div>"
      ]
    },
    {
      "cell_type": "markdown",
      "metadata": {
        "id": "1jeD_lEeqLBh"
      },
      "source": [
        "## <span style=\"color:Orange\">Overview</span>\n",
        "\n",
        "The standard model of the universe, the $Λ$-CDM model, estimates that around 70% of the total energy-matter density of the universe is in the form of dark energy. The primary effect of dark energy is to acceleratingly expand the universe, hence measuring it accurately is vital to our understanding of the universe.\n",
        "\n",
        "The Dark Energy Survey (DES) is an internationally collaborative large sky survey to map hundreds of millions of galaxies, detect thousands of supernovae, and find patterns of cosmic structure to better understand dark energy and the measure the cosmic acceleration of our expanding universe with high precision.\n",
        "\n",
        "The instrument used by DES is the Dark Energy Camera (DECam), which is mounted on the Victor M. Blanco 4-meter Telescope at the Cerro Tololo Inter-American Observatory (CTIO) in the Chilean Andes. DECam has several major components: five optical lenses, a Hexapod positioning and alignment system, a shutter, a set of color filters, and a digital imager."
      ]
    },
    {
      "cell_type": "markdown",
      "metadata": {
        "id": "SprcSrHttoNZ"
      },
      "source": [
        "## <span style=\"color:Orange\">Data Sources</span>\n",
        "\n",
        "This project is based on the Data Release 1 (DR1) of the DES. We will use the `des_dr1.main` table directly from NOIRLAB's Astro Data Lab server which catalogs the DES data releases.\n",
        "\n",
        "NOIRLAB's Astro Data Lab: https://datalab.noirlab.edu/des/access.php"
      ]
    },
    {
      "cell_type": "markdown",
      "metadata": {
        "id": "Vdwb8eSyOvac"
      },
      "source": [
        "## <span style=\"color:Orange\">Importing and Setup</span>\n",
        "\n",
        "You will need to install and import the `astro-datalab` module for data acquisition.\n",
        "\n",
        "Please note, you will have to restart runtime to run your code after pip installing the `astro-datalab` module."
      ]
    },
    {
      "cell_type": "code",
      "execution_count": 2,
      "metadata": {
        "colab": {
          "base_uri": "https://localhost:8080/",
          "height": 1000
        },
        "id": "-6IF5tyhOmw5",
        "outputId": "47380aec-48f7-4774-80ff-312605ebc6f1"
      },
      "outputs": [
        {
          "output_type": "stream",
          "name": "stdout",
          "text": [
            "Collecting astro-datalab\n",
            "  Downloading astro_datalab-2.24.0-py3-none-any.whl.metadata (3.3 kB)\n",
            "Requirement already satisfied: certifi in /usr/local/lib/python3.11/dist-packages (from astro-datalab) (2025.1.31)\n",
            "Collecting scipy<1.12.0,>=1.11.3 (from astro-datalab)\n",
            "  Downloading scipy-1.11.4-cp311-cp311-manylinux_2_17_x86_64.manylinux2014_x86_64.whl.metadata (60 kB)\n",
            "\u001b[2K     \u001b[90m━━━━━━━━━━━━━━━━━━━━━━━━━━━━━━━━━━━━━━━━\u001b[0m \u001b[32m60.4/60.4 kB\u001b[0m \u001b[31m1.6 MB/s\u001b[0m eta \u001b[36m0:00:00\u001b[0m\n",
            "\u001b[?25hCollecting specutils<1.14.0,>=1.13.0 (from astro-datalab)\n",
            "  Downloading specutils-1.13.0-py3-none-any.whl.metadata (5.9 kB)\n",
            "Collecting pyvo<1.4,>=1.3 (from astro-datalab)\n",
            "  Downloading pyvo-1.3-py3-none-any.whl.metadata (2.8 kB)\n",
            "Collecting pycurl-requests<0.6.0,>=0.5.0 (from astro-datalab)\n",
            "  Downloading pycurl_requests-0.5.0-py3-none-any.whl.metadata (6.6 kB)\n",
            "Collecting numpy<1.26.4,>=1.23.5 (from astro-datalab)\n",
            "  Downloading numpy-1.26.3-cp311-cp311-manylinux_2_17_x86_64.manylinux2014_x86_64.whl.metadata (61 kB)\n",
            "\u001b[2K     \u001b[90m━━━━━━━━━━━━━━━━━━━━━━━━━━━━━━━━━━━━━━━━\u001b[0m \u001b[32m61.2/61.2 kB\u001b[0m \u001b[31m27.5 MB/s\u001b[0m eta \u001b[36m0:00:00\u001b[0m\n",
            "\u001b[?25hCollecting matplotlib<3.9.0,>=3.8.0 (from astro-datalab)\n",
            "  Downloading matplotlib-3.8.4-cp311-cp311-manylinux_2_17_x86_64.manylinux2014_x86_64.whl.metadata (5.8 kB)\n",
            "Requirement already satisfied: httplib2<0.23.0,>=0.22.0 in /usr/local/lib/python3.11/dist-packages (from astro-datalab) (0.22.0)\n",
            "Collecting pandas<2.2.0,>=2.1.1 (from astro-datalab)\n",
            "  Downloading pandas-2.1.4-cp311-cp311-manylinux_2_17_x86_64.manylinux2014_x86_64.whl.metadata (18 kB)\n",
            "Collecting astropy<5.4.0,>=5.3.4 (from astro-datalab)\n",
            "  Downloading astropy-5.3.4-cp311-cp311-manylinux_2_17_x86_64.manylinux2014_x86_64.whl.metadata (9.4 kB)\n",
            "Requirement already satisfied: chardet<5.3.0,>=5.2.0 in /usr/local/lib/python3.11/dist-packages (from astro-datalab) (5.2.0)\n",
            "Collecting requests<2.32.0,>=2.31.0 (from astro-datalab)\n",
            "  Downloading requests-2.31.0-py3-none-any.whl.metadata (4.6 kB)\n",
            "Collecting feedparser<6.1.0,>=6.0.11 (from astro-datalab)\n",
            "  Downloading feedparser-6.0.11-py3-none-any.whl.metadata (2.4 kB)\n",
            "Collecting Pillow<10.4.0,>=10.3.0 (from astro-datalab)\n",
            "  Downloading pillow-10.3.0-cp311-cp311-manylinux_2_28_x86_64.whl.metadata (9.2 kB)\n",
            "Collecting pycurl<7.46.0,>=7.45.3 (from astro-datalab)\n",
            "  Downloading pycurl-7.45.6-cp311-cp311-manylinux_2_28_x86_64.whl.metadata (4.6 kB)\n",
            "Collecting scikit-learn==1.4.1.post1 (from astro-datalab)\n",
            "  Downloading scikit_learn-1.4.1.post1-cp311-cp311-manylinux_2_17_x86_64.manylinux2014_x86_64.whl.metadata (11 kB)\n",
            "Requirement already satisfied: joblib>=1.2.0 in /usr/local/lib/python3.11/dist-packages (from scikit-learn==1.4.1.post1->astro-datalab) (1.4.2)\n",
            "Requirement already satisfied: threadpoolctl>=2.0.0 in /usr/local/lib/python3.11/dist-packages (from scikit-learn==1.4.1.post1->astro-datalab) (3.6.0)\n",
            "Requirement already satisfied: pyerfa>=2.0 in /usr/local/lib/python3.11/dist-packages (from astropy<5.4.0,>=5.3.4->astro-datalab) (2.0.1.5)\n",
            "Requirement already satisfied: PyYAML>=3.13 in /usr/local/lib/python3.11/dist-packages (from astropy<5.4.0,>=5.3.4->astro-datalab) (6.0.2)\n",
            "Requirement already satisfied: packaging>=19.0 in /usr/local/lib/python3.11/dist-packages (from astropy<5.4.0,>=5.3.4->astro-datalab) (24.2)\n",
            "Collecting sgmllib3k (from feedparser<6.1.0,>=6.0.11->astro-datalab)\n",
            "  Downloading sgmllib3k-1.0.0.tar.gz (5.8 kB)\n",
            "  Preparing metadata (setup.py) ... \u001b[?25l\u001b[?25hdone\n",
            "Requirement already satisfied: pyparsing!=3.0.0,!=3.0.1,!=3.0.2,!=3.0.3,<4,>=2.4.2 in /usr/local/lib/python3.11/dist-packages (from httplib2<0.23.0,>=0.22.0->astro-datalab) (3.2.3)\n",
            "Requirement already satisfied: contourpy>=1.0.1 in /usr/local/lib/python3.11/dist-packages (from matplotlib<3.9.0,>=3.8.0->astro-datalab) (1.3.1)\n",
            "Requirement already satisfied: cycler>=0.10 in /usr/local/lib/python3.11/dist-packages (from matplotlib<3.9.0,>=3.8.0->astro-datalab) (0.12.1)\n",
            "Requirement already satisfied: fonttools>=4.22.0 in /usr/local/lib/python3.11/dist-packages (from matplotlib<3.9.0,>=3.8.0->astro-datalab) (4.57.0)\n",
            "Requirement already satisfied: kiwisolver>=1.3.1 in /usr/local/lib/python3.11/dist-packages (from matplotlib<3.9.0,>=3.8.0->astro-datalab) (1.4.8)\n",
            "Requirement already satisfied: python-dateutil>=2.7 in /usr/local/lib/python3.11/dist-packages (from matplotlib<3.9.0,>=3.8.0->astro-datalab) (2.8.2)\n",
            "Requirement already satisfied: pytz>=2020.1 in /usr/local/lib/python3.11/dist-packages (from pandas<2.2.0,>=2.1.1->astro-datalab) (2025.2)\n",
            "Requirement already satisfied: tzdata>=2022.1 in /usr/local/lib/python3.11/dist-packages (from pandas<2.2.0,>=2.1.1->astro-datalab) (2025.2)\n",
            "Requirement already satisfied: charset-normalizer<4,>=2 in /usr/local/lib/python3.11/dist-packages (from requests<2.32.0,>=2.31.0->astro-datalab) (3.4.1)\n",
            "Requirement already satisfied: idna<4,>=2.5 in /usr/local/lib/python3.11/dist-packages (from requests<2.32.0,>=2.31.0->astro-datalab) (3.10)\n",
            "Requirement already satisfied: urllib3<3,>=1.21.1 in /usr/local/lib/python3.11/dist-packages (from requests<2.32.0,>=2.31.0->astro-datalab) (2.3.0)\n",
            "Collecting gwcs>=0.18 (from specutils<1.14.0,>=1.13.0->astro-datalab)\n",
            "  Downloading gwcs-0.24.0-py3-none-any.whl.metadata (6.3 kB)\n",
            "Collecting asdf-astropy>=0.3 (from specutils<1.14.0,>=1.13.0->astro-datalab)\n",
            "  Downloading asdf_astropy-0.7.1-py3-none-any.whl.metadata (7.3 kB)\n",
            "Collecting asdf>=2.14.4 (from specutils<1.14.0,>=1.13.0->astro-datalab)\n",
            "  Downloading asdf-4.1.0-py3-none-any.whl.metadata (14 kB)\n",
            "Collecting ndcube>=2.0 (from specutils<1.14.0,>=1.13.0->astro-datalab)\n",
            "  Downloading ndcube-2.3.1-py3-none-any.whl.metadata (7.5 kB)\n",
            "Collecting asdf-standard>=1.1.0 (from asdf>=2.14.4->specutils<1.14.0,>=1.13.0->astro-datalab)\n",
            "  Downloading asdf_standard-1.1.1-py3-none-any.whl.metadata (5.2 kB)\n",
            "Collecting asdf-transform-schemas>=0.3 (from asdf>=2.14.4->specutils<1.14.0,>=1.13.0->astro-datalab)\n",
            "  Downloading asdf_transform_schemas-0.5.0-py3-none-any.whl.metadata (4.1 kB)\n",
            "Requirement already satisfied: importlib-metadata>=4.11.4 in /usr/local/lib/python3.11/dist-packages (from asdf>=2.14.4->specutils<1.14.0,>=1.13.0->astro-datalab) (8.6.1)\n",
            "Collecting jmespath>=0.6.2 (from asdf>=2.14.4->specutils<1.14.0,>=1.13.0->astro-datalab)\n",
            "  Downloading jmespath-1.0.1-py3-none-any.whl.metadata (7.6 kB)\n",
            "Collecting semantic_version>=2.8 (from asdf>=2.14.4->specutils<1.14.0,>=1.13.0->astro-datalab)\n",
            "  Downloading semantic_version-2.10.0-py2.py3-none-any.whl.metadata (9.7 kB)\n",
            "Requirement already satisfied: attrs>=22.2.0 in /usr/local/lib/python3.11/dist-packages (from asdf>=2.14.4->specutils<1.14.0,>=1.13.0->astro-datalab) (25.3.0)\n",
            "Collecting asdf-coordinates-schemas>=0.3 (from asdf-astropy>=0.3->specutils<1.14.0,>=1.13.0->astro-datalab)\n",
            "  Downloading asdf_coordinates_schemas-0.3.0-py3-none-any.whl.metadata (4.1 kB)\n",
            "INFO: pip is looking at multiple versions of gwcs to determine which version is compatible with other requirements. This could take a while.\n",
            "Collecting gwcs>=0.18 (from specutils<1.14.0,>=1.13.0->astro-datalab)\n",
            "  Downloading gwcs-0.22.1-py3-none-any.whl.metadata (6.2 kB)\n",
            "  Downloading gwcs-0.22.0-py3-none-any.whl.metadata (6.2 kB)\n",
            "  Downloading gwcs-0.21.0-py3-none-any.whl.metadata (6.2 kB)\n",
            "Collecting asdf-wcs-schemas>=0.4.0 (from gwcs>=0.18->specutils<1.14.0,>=1.13.0->astro-datalab)\n",
            "  Downloading asdf_wcs_schemas-0.4.0-py3-none-any.whl.metadata (3.9 kB)\n",
            "Requirement already satisfied: six>=1.5 in /usr/local/lib/python3.11/dist-packages (from python-dateutil>=2.7->matplotlib<3.9.0,>=3.8.0->astro-datalab) (1.17.0)\n",
            "Requirement already satisfied: zipp>=3.20 in /usr/local/lib/python3.11/dist-packages (from importlib-metadata>=4.11.4->asdf>=2.14.4->specutils<1.14.0,>=1.13.0->astro-datalab) (3.21.0)\n",
            "Downloading astro_datalab-2.24.0-py3-none-any.whl (206 kB)\n",
            "\u001b[2K   \u001b[90m━━━━━━━━━━━━━━━━━━━━━━━━━━━━━━━━━━━━━━━━\u001b[0m \u001b[32m206.3/206.3 kB\u001b[0m \u001b[31m5.2 MB/s\u001b[0m eta \u001b[36m0:00:00\u001b[0m\n",
            "\u001b[?25hDownloading scikit_learn-1.4.1.post1-cp311-cp311-manylinux_2_17_x86_64.manylinux2014_x86_64.whl (12.1 MB)\n",
            "\u001b[2K   \u001b[90m━━━━━━━━━━━━━━━━━━━━━━━━━━━━━━━━━━━━━━━━\u001b[0m \u001b[32m12.1/12.1 MB\u001b[0m \u001b[31m85.0 MB/s\u001b[0m eta \u001b[36m0:00:00\u001b[0m\n",
            "\u001b[?25hDownloading astropy-5.3.4-cp311-cp311-manylinux_2_17_x86_64.manylinux2014_x86_64.whl (10.3 MB)\n",
            "\u001b[2K   \u001b[90m━━━━━━━━━━━━━━━━━━━━━━━━━━━━━━━━━━━━━━━━\u001b[0m \u001b[32m10.3/10.3 MB\u001b[0m \u001b[31m88.9 MB/s\u001b[0m eta \u001b[36m0:00:00\u001b[0m\n",
            "\u001b[?25hDownloading feedparser-6.0.11-py3-none-any.whl (81 kB)\n",
            "\u001b[2K   \u001b[90m━━━━━━━━━━━━━━━━━━━━━━━━━━━━━━━━━━━━━━━━\u001b[0m \u001b[32m81.3/81.3 kB\u001b[0m \u001b[31m155.3 MB/s\u001b[0m eta \u001b[36m0:00:00\u001b[0m\n",
            "\u001b[?25hDownloading matplotlib-3.8.4-cp311-cp311-manylinux_2_17_x86_64.manylinux2014_x86_64.whl (11.6 MB)\n",
            "\u001b[2K   \u001b[90m━━━━━━━━━━━━━━━━━━━━━━━━━━━━━━━━━━━━━━━━\u001b[0m \u001b[32m11.6/11.6 MB\u001b[0m \u001b[31m86.5 MB/s\u001b[0m eta \u001b[36m0:00:00\u001b[0m\n",
            "\u001b[?25hDownloading numpy-1.26.3-cp311-cp311-manylinux_2_17_x86_64.manylinux2014_x86_64.whl (18.3 MB)\n",
            "\u001b[2K   \u001b[90m━━━━━━━━━━━━━━━━━━━━━━━━━━━━━━━━━━━━━━━━\u001b[0m \u001b[32m18.3/18.3 MB\u001b[0m \u001b[31m97.0 MB/s\u001b[0m eta \u001b[36m0:00:00\u001b[0m\n",
            "\u001b[?25hDownloading pandas-2.1.4-cp311-cp311-manylinux_2_17_x86_64.manylinux2014_x86_64.whl (12.2 MB)\n",
            "\u001b[2K   \u001b[90m━━━━━━━━━━━━━━━━━━━━━━━━━━━━━━━━━━━━━━━━\u001b[0m \u001b[32m12.2/12.2 MB\u001b[0m \u001b[31m86.7 MB/s\u001b[0m eta \u001b[36m0:00:00\u001b[0m\n",
            "\u001b[?25hDownloading pillow-10.3.0-cp311-cp311-manylinux_2_28_x86_64.whl (4.5 MB)\n",
            "\u001b[2K   \u001b[90m━━━━━━━━━━━━━━━━━━━━━━━━━━━━━━━━━━━━━━━━\u001b[0m \u001b[32m4.5/4.5 MB\u001b[0m \u001b[31m111.1 MB/s\u001b[0m eta \u001b[36m0:00:00\u001b[0m\n",
            "\u001b[?25hDownloading pycurl-7.45.6-cp311-cp311-manylinux_2_28_x86_64.whl (4.6 MB)\n",
            "\u001b[2K   \u001b[90m━━━━━━━━━━━━━━━━━━━━━━━━━━━━━━━━━━━━━━━━\u001b[0m \u001b[32m4.6/4.6 MB\u001b[0m \u001b[31m102.2 MB/s\u001b[0m eta \u001b[36m0:00:00\u001b[0m\n",
            "\u001b[?25hDownloading pycurl_requests-0.5.0-py3-none-any.whl (30 kB)\n",
            "Downloading pyvo-1.3-py3-none-any.whl (829 kB)\n",
            "\u001b[2K   \u001b[90m━━━━━━━━━━━━━━━━━━━━━━━━━━━━━━━━━━━━━━━\u001b[0m \u001b[32m829.6/829.6 kB\u001b[0m \u001b[31m279.4 MB/s\u001b[0m eta \u001b[36m0:00:00\u001b[0m\n",
            "\u001b[?25hDownloading requests-2.31.0-py3-none-any.whl (62 kB)\n",
            "\u001b[2K   \u001b[90m━━━━━━━━━━━━━━━━━━━━━━━━━━━━━━━━━━━━━━━━\u001b[0m \u001b[32m62.6/62.6 kB\u001b[0m \u001b[31m170.7 MB/s\u001b[0m eta \u001b[36m0:00:00\u001b[0m\n",
            "\u001b[?25hDownloading scipy-1.11.4-cp311-cp311-manylinux_2_17_x86_64.manylinux2014_x86_64.whl (36.4 MB)\n",
            "\u001b[2K   \u001b[90m━━━━━━━━━━━━━━━━━━━━━━━━━━━━━━━━━━━━━━━━\u001b[0m \u001b[32m36.4/36.4 MB\u001b[0m \u001b[31m56.0 MB/s\u001b[0m eta \u001b[36m0:00:00\u001b[0m\n",
            "\u001b[?25hDownloading specutils-1.13.0-py3-none-any.whl (4.9 MB)\n",
            "\u001b[2K   \u001b[90m━━━━━━━━━━━━━━━━━━━━━━━━━━━━━━━━━━━━━━━━\u001b[0m \u001b[32m4.9/4.9 MB\u001b[0m \u001b[31m102.8 MB/s\u001b[0m eta \u001b[36m0:00:00\u001b[0m\n",
            "\u001b[?25hDownloading asdf-4.1.0-py3-none-any.whl (961 kB)\n",
            "\u001b[2K   \u001b[90m━━━━━━━━━━━━━━━━━━━━━━━━━━━━━━━━━━━━━━━\u001b[0m \u001b[32m961.9/961.9 kB\u001b[0m \u001b[31m171.4 MB/s\u001b[0m eta \u001b[36m0:00:00\u001b[0m\n",
            "\u001b[?25hDownloading asdf_astropy-0.7.1-py3-none-any.whl (93 kB)\n",
            "\u001b[2K   \u001b[90m━━━━━━━━━━━━━━━━━━━━━━━━━━━━━━━━━━━━━━━━\u001b[0m \u001b[32m93.2/93.2 kB\u001b[0m \u001b[31m138.1 MB/s\u001b[0m eta \u001b[36m0:00:00\u001b[0m\n",
            "\u001b[?25hDownloading gwcs-0.21.0-py3-none-any.whl (155 kB)\n",
            "\u001b[2K   \u001b[90m━━━━━━━━━━━━━━━━━━━━━━━━━━━━━━━━━━━━━━━\u001b[0m \u001b[32m155.3/155.3 kB\u001b[0m \u001b[31m204.1 MB/s\u001b[0m eta \u001b[36m0:00:00\u001b[0m\n",
            "\u001b[?25hDownloading ndcube-2.3.1-py3-none-any.whl (137 kB)\n",
            "\u001b[2K   \u001b[90m━━━━━━━━━━━━━━━━━━━━━━━━━━━━━━━━━━━━━━━\u001b[0m \u001b[32m137.4/137.4 kB\u001b[0m \u001b[31m204.5 MB/s\u001b[0m eta \u001b[36m0:00:00\u001b[0m\n",
            "\u001b[?25hDownloading asdf_coordinates_schemas-0.3.0-py3-none-any.whl (33 kB)\n",
            "Downloading asdf_standard-1.1.1-py3-none-any.whl (81 kB)\n",
            "\u001b[2K   \u001b[90m━━━━━━━━━━━━━━━━━━━━━━━━━━━━━━━━━━━━━━━━\u001b[0m \u001b[32m81.9/81.9 kB\u001b[0m \u001b[31m197.9 MB/s\u001b[0m eta \u001b[36m0:00:00\u001b[0m\n",
            "\u001b[?25hDownloading asdf_transform_schemas-0.5.0-py3-none-any.whl (275 kB)\n",
            "\u001b[2K   \u001b[90m━━━━━━━━━━━━━━━━━━━━━━━━━━━━━━━━━━━━━━━\u001b[0m \u001b[32m275.4/275.4 kB\u001b[0m \u001b[31m168.3 MB/s\u001b[0m eta \u001b[36m0:00:00\u001b[0m\n",
            "\u001b[?25hDownloading asdf_wcs_schemas-0.4.0-py3-none-any.whl (45 kB)\n",
            "\u001b[2K   \u001b[90m━━━━━━━━━━━━━━━━━━━━━━━━━━━━━━━━━━━━━━━━\u001b[0m \u001b[32m45.9/45.9 kB\u001b[0m \u001b[31m116.6 MB/s\u001b[0m eta \u001b[36m0:00:00\u001b[0m\n",
            "\u001b[?25hDownloading jmespath-1.0.1-py3-none-any.whl (20 kB)\n",
            "Downloading semantic_version-2.10.0-py2.py3-none-any.whl (15 kB)\n",
            "Building wheels for collected packages: sgmllib3k\n",
            "  Building wheel for sgmllib3k (setup.py) ... \u001b[?25l\u001b[?25hdone\n",
            "  Created wheel for sgmllib3k: filename=sgmllib3k-1.0.0-py3-none-any.whl size=6046 sha256=0a9a7a8dec3387bc1401451ea68d90929c60de3821cdd150914dbcac4ba8fd67\n",
            "  Stored in directory: /tmp/pip-ephem-wheel-cache-tqj23hv5/wheels/3b/25/2a/105d6a15df6914f4d15047691c6c28f9052cc1173e40285d03\n",
            "Successfully built sgmllib3k\n",
            "Installing collected packages: sgmllib3k, semantic_version, requests, pycurl, Pillow, numpy, jmespath, feedparser, asdf-standard, scipy, pycurl-requests, pandas, asdf-transform-schemas, scikit-learn, matplotlib, astropy, asdf, pyvo, asdf-coordinates-schemas, asdf-wcs-schemas, asdf-astropy, gwcs, ndcube, specutils, astro-datalab\n",
            "  Attempting uninstall: requests\n",
            "    Found existing installation: requests 2.32.3\n",
            "    Uninstalling requests-2.32.3:\n",
            "      Successfully uninstalled requests-2.32.3\n",
            "  Attempting uninstall: Pillow\n",
            "    Found existing installation: pillow 11.1.0\n",
            "    Uninstalling pillow-11.1.0:\n",
            "      Successfully uninstalled pillow-11.1.0\n",
            "  Attempting uninstall: numpy\n",
            "    Found existing installation: numpy 2.0.2\n",
            "    Uninstalling numpy-2.0.2:\n",
            "      Successfully uninstalled numpy-2.0.2\n",
            "  Attempting uninstall: scipy\n",
            "    Found existing installation: scipy 1.14.1\n",
            "    Uninstalling scipy-1.14.1:\n",
            "      Successfully uninstalled scipy-1.14.1\n",
            "  Attempting uninstall: pandas\n",
            "    Found existing installation: pandas 2.2.2\n",
            "    Uninstalling pandas-2.2.2:\n",
            "      Successfully uninstalled pandas-2.2.2\n",
            "  Attempting uninstall: scikit-learn\n",
            "    Found existing installation: scikit-learn 1.6.1\n",
            "    Uninstalling scikit-learn-1.6.1:\n",
            "      Successfully uninstalled scikit-learn-1.6.1\n",
            "  Attempting uninstall: matplotlib\n",
            "    Found existing installation: matplotlib 3.10.0\n",
            "    Uninstalling matplotlib-3.10.0:\n",
            "      Successfully uninstalled matplotlib-3.10.0\n",
            "  Attempting uninstall: astropy\n",
            "    Found existing installation: astropy 7.0.1\n",
            "    Uninstalling astropy-7.0.1:\n",
            "      Successfully uninstalled astropy-7.0.1\n",
            "\u001b[31mERROR: pip's dependency resolver does not currently take into account all the packages that are installed. This behaviour is the source of the following dependency conflicts.\n",
            "google-colab 1.0.0 requires pandas==2.2.2, but you have pandas 2.1.4 which is incompatible.\n",
            "google-colab 1.0.0 requires requests==2.32.3, but you have requests 2.31.0 which is incompatible.\n",
            "mizani 0.13.2 requires pandas>=2.2.0, but you have pandas 2.1.4 which is incompatible.\n",
            "thinc 8.3.6 requires numpy<3.0.0,>=2.0.0, but you have numpy 1.26.3 which is incompatible.\n",
            "plotnine 0.14.5 requires pandas>=2.2.0, but you have pandas 2.1.4 which is incompatible.\u001b[0m\u001b[31m\n",
            "\u001b[0mSuccessfully installed Pillow-10.3.0 asdf-4.1.0 asdf-astropy-0.7.1 asdf-coordinates-schemas-0.3.0 asdf-standard-1.1.1 asdf-transform-schemas-0.5.0 asdf-wcs-schemas-0.4.0 astro-datalab-2.24.0 astropy-5.3.4 feedparser-6.0.11 gwcs-0.21.0 jmespath-1.0.1 matplotlib-3.8.4 ndcube-2.3.1 numpy-1.26.3 pandas-2.1.4 pycurl-7.45.6 pycurl-requests-0.5.0 pyvo-1.3 requests-2.31.0 scikit-learn-1.4.1.post1 scipy-1.11.4 semantic_version-2.10.0 sgmllib3k-1.0.0 specutils-1.13.0\n"
          ]
        },
        {
          "output_type": "display_data",
          "data": {
            "application/vnd.colab-display-data+json": {
              "pip_warning": {
                "packages": [
                  "PIL",
                  "matplotlib",
                  "mpl_toolkits"
                ]
              },
              "id": "4e2aa19abd0a41828b02503e533fc0e2"
            }
          },
          "metadata": {}
        }
      ],
      "source": [
        "%pip install --no-cache-dir astro-datalab"
      ]
    },
    {
      "cell_type": "code",
      "execution_count": 1,
      "metadata": {
        "id": "0UBSoU8nO567"
      },
      "outputs": [],
      "source": [
        "import numpy as np\n",
        "import pandas as pd\n",
        "import matplotlib\n",
        "import matplotlib.pyplot as plt\n",
        "import seaborn as sns; sns.set_theme()\n",
        "import warnings; warnings.filterwarnings('ignore')\n",
        "from sklearn import cluster\n",
        "%matplotlib inline\n",
        "\n",
        "# Data Lab imports\n",
        "from dl import queryClient as qc, storeClient as sc\n",
        "from dl.helpers.utils import convert"
      ]
    },
    {
      "cell_type": "markdown",
      "metadata": {
        "id": "bVGeqweYvvh3"
      },
      "source": [
        "## <span style=\"color:Orange\">Questions</span>"
      ]
    },
    {
      "cell_type": "markdown",
      "metadata": {
        "id": "rYEE9PEHw772"
      },
      "source": [
        "### <span style=\"color:LightGreen\">Question 01</span>\n",
        "\n",
        " What is the Dark Energy Survey? What are it's main goals? What part of the night sky does the DES cover?"
      ]
    },
    {
      "cell_type": "markdown",
      "source": [
        "\n",
        "\n",
        "The Dark Energy Survey is an astronomical survey of the Southern sky. It consists primarily of data from distant galaxies, but also includes many Milky Way stars.\n",
        "\n",
        "Its main goals are to \"understand the accelerating expansion of the universe and the nature of dark energy\".\n"
      ],
      "metadata": {
        "id": "uKIB9F2hp_fG"
      }
    },
    {
      "cell_type": "markdown",
      "metadata": {
        "id": "-F8WubbKzlP6"
      },
      "source": [
        "### <span style=\"color:LightGreen\">Question 02</span>\n",
        "\n",
        "Read the DES DR1 paper [[1]](https://urldefense.com/v3/__https://arxiv.org/abs/1801.03181__;!!DZ3fjg!-VVx5uQqQ6ZzOgr-EjFgoLc8lr9NMhNBQvahQLwOY5HAZ8lWfzbxhbpxn8e7OlM44QFoWvd5J20qch77Aqg$ ). What are the four completementary measurements that DES does to probe the universe? To achieve these goals, what surveys in which wave bands does DES conduct?"
      ]
    },
    {
      "cell_type": "markdown",
      "source": [
        "\n",
        "\n",
        "DES uses weak gravitational lensing, galaxy cluster counts, large-scale clustering of galaxies, and distances to type Ia supernovae.\n",
        "\n",
        "To achieve this, DES conducts 2 multi-band surveys: one in the *grizY* bands (5 bands), and one in the *griz* bands (4 bands).\n",
        "\n",
        "\n"
      ],
      "metadata": {
        "id": "IK4SrvyCqEPI"
      }
    },
    {
      "cell_type": "markdown",
      "metadata": {
        "id": "FLM_25pxyXVI"
      },
      "source": [
        "### <span style=\"color:LightGreen\">Question 03</span>\n",
        "\n",
        "What is variable or feature of the data does DES use to classify its' objects  morphologically (stars or galaxies), as described in the DR1 paper [[1]](https://arxiv.org/abs/1801.03181)"
      ]
    },
    {
      "cell_type": "markdown",
      "source": [
        "DES uses a \"basic selection on object size relative to the PSF [point spread function]\" to morphologically classify objects (as either stars or quasars). The primary feature DES uses is SPREAD_MODEL-based classifiers."
      ],
      "metadata": {
        "id": "mYwiLfEloGLT"
      }
    },
    {
      "cell_type": "markdown",
      "metadata": {
        "id": "a9VgzmClywsu"
      },
      "source": [
        "## <span style=\"color:Orange\">Accessing Data from Data Lab</span>\n",
        "\n",
        "Below is a sample query statement to acquire the relevant data of the `des_dr1.main` table from Astro Data Lab [[2]](https://urldefense.com/v3/__https://github.com/astro-datalab/notebooks-latest/blob/master/03_ScienceExamples/StarGalQSOSeparation/StarGalQsoDESDR1.ipynb__;!!DZ3fjg!-VVx5uQqQ6ZzOgr-EjFgoLc8lr9NMhNBQvahQLwOY5HAZ8lWfzbxhbpxn8e7OlM44QFoWvd5J20qD2flJpc$ ) .\n",
        "\n"
      ]
    },
    {
      "cell_type": "code",
      "execution_count": 2,
      "metadata": {
        "id": "LPV1wIFPTAnt"
      },
      "outputs": [],
      "source": [
        "# Write query statement (sql) as a string\n",
        "# NOTE: triple quotes allow us to break the string on multiple lines\n",
        "query = \"\"\"\n",
        "        SELECT mag_auto_g as gmag, mag_auto_r as rmag, mag_auto_z as zmag,\n",
        "               mag_auto_i as imag, mag_auto_y as ymag,\n",
        "               kron_radius, spread_model_g, class_star_g, spread_model_r, class_star_r,\n",
        "               spread_model_z, class_star_z,\n",
        "               snr_g, snr_r, snr_z, ra, dec\n",
        "        FROM des_dr1.main\n",
        "        WHERE (fluxerr_auto_g>0 and fluxerr_auto_r>0 and fluxerr_auto_z>0)\n",
        "        LIMIT 1000\"\"\"\n",
        "\n",
        "# mag_auto_g,r,i,z,y = AB magnitudes in DECam g,r,i,z,y bands\n",
        "# kron_radius        = Kron radius from SExtractor (pixels)\n",
        "# spread_model_g,r,z = star/galaxy classifier quantifying light profile relative to PSF\n",
        "# class_star_g,r,z   = star/extended source classifier (from 0 to 1)\n",
        "# snr_g,r,z          = computed signal-to-noise ratios (S/N) in g,r,z bands\n",
        "# ra,dec             = celestial coordinates\n",
        "#\n",
        "# WHERE: requirement that error>0 (to avoid dividing by zero) in g,r,z bands\n",
        "# LIMIT: returns 1,000 rows that satisfy the query"
      ]
    },
    {
      "cell_type": "code",
      "execution_count": 3,
      "metadata": {
        "id": "3TRu_HdpTI2-"
      },
      "outputs": [],
      "source": [
        "# Execute the query synchronously, if short (e.g., LIMIT<=300,000)\n",
        "# We then convert the returned result, a CSV-formatted string, to a Pandas data frame,\n",
        "# making sure that any potential 'Infinity' values are converted to NaN.\n",
        "sample_res = qc.query(sql=query)\n",
        "sample_df = convert(sample_res,'pandas',na_values=('Infinity','-Infinity'))"
      ]
    },
    {
      "cell_type": "code",
      "source": [
        "sample_df.head()"
      ],
      "metadata": {
        "colab": {
          "base_uri": "https://localhost:8080/",
          "height": 226
        },
        "id": "0EJjFSQqheBj",
        "outputId": "31f03d5a-363b-4747-fd91-af610744941f"
      },
      "execution_count": 4,
      "outputs": [
        {
          "output_type": "execute_result",
          "data": {
            "text/plain": [
              "        gmag       rmag       zmag       imag       ymag  kron_radius  \\\n",
              "0  23.473505  22.968287  22.432665  22.573574  22.353107     3.917319   \n",
              "1  19.714005  18.735182  18.051401  18.320541  17.960052     3.500000   \n",
              "2  21.479176  20.539059  19.950514  20.192173  19.853980     3.500000   \n",
              "3  20.915170  19.420835  17.475120  18.045988  17.309649     3.500000   \n",
              "4  25.300630  24.213163  22.820875  23.132854  23.020615     4.194423   \n",
              "\n",
              "   spread_model_g  class_star_g  spread_model_r  class_star_r  spread_model_z  \\\n",
              "0        0.009743      0.000223        0.007582      0.007173        0.008854   \n",
              "1        0.020989      0.027037        0.021347      0.028623        0.022296   \n",
              "2        0.019522      0.006712        0.019539      0.028275        0.019034   \n",
              "3        0.001290      0.867845       -0.000577      0.958546       -0.000179   \n",
              "4        0.001147      0.071703        0.002019      0.000991       -0.002849   \n",
              "\n",
              "   class_star_z       snr_g       snr_r       snr_z          ra        dec  \n",
              "0      0.000467   12.420318   15.272284    8.946585  340.017480 -41.025839  \n",
              "1      0.028607  150.650440  280.855040  195.581150  340.028058 -41.033501  \n",
              "2      0.025041   51.426453   94.964180   59.161785  340.024588 -41.030137  \n",
              "3      0.962058  107.006850  297.086580  660.312500  340.034067 -41.031987  \n",
              "4      0.081345    2.756464    5.787860    7.455940  340.027609 -41.029615  "
            ],
            "text/html": [
              "\n",
              "  <div id=\"df-3e2cad88-1fe7-4d5c-b061-705324075dae\" class=\"colab-df-container\">\n",
              "    <div>\n",
              "<style scoped>\n",
              "    .dataframe tbody tr th:only-of-type {\n",
              "        vertical-align: middle;\n",
              "    }\n",
              "\n",
              "    .dataframe tbody tr th {\n",
              "        vertical-align: top;\n",
              "    }\n",
              "\n",
              "    .dataframe thead th {\n",
              "        text-align: right;\n",
              "    }\n",
              "</style>\n",
              "<table border=\"1\" class=\"dataframe\">\n",
              "  <thead>\n",
              "    <tr style=\"text-align: right;\">\n",
              "      <th></th>\n",
              "      <th>gmag</th>\n",
              "      <th>rmag</th>\n",
              "      <th>zmag</th>\n",
              "      <th>imag</th>\n",
              "      <th>ymag</th>\n",
              "      <th>kron_radius</th>\n",
              "      <th>spread_model_g</th>\n",
              "      <th>class_star_g</th>\n",
              "      <th>spread_model_r</th>\n",
              "      <th>class_star_r</th>\n",
              "      <th>spread_model_z</th>\n",
              "      <th>class_star_z</th>\n",
              "      <th>snr_g</th>\n",
              "      <th>snr_r</th>\n",
              "      <th>snr_z</th>\n",
              "      <th>ra</th>\n",
              "      <th>dec</th>\n",
              "    </tr>\n",
              "  </thead>\n",
              "  <tbody>\n",
              "    <tr>\n",
              "      <th>0</th>\n",
              "      <td>23.473505</td>\n",
              "      <td>22.968287</td>\n",
              "      <td>22.432665</td>\n",
              "      <td>22.573574</td>\n",
              "      <td>22.353107</td>\n",
              "      <td>3.917319</td>\n",
              "      <td>0.009743</td>\n",
              "      <td>0.000223</td>\n",
              "      <td>0.007582</td>\n",
              "      <td>0.007173</td>\n",
              "      <td>0.008854</td>\n",
              "      <td>0.000467</td>\n",
              "      <td>12.420318</td>\n",
              "      <td>15.272284</td>\n",
              "      <td>8.946585</td>\n",
              "      <td>340.017480</td>\n",
              "      <td>-41.025839</td>\n",
              "    </tr>\n",
              "    <tr>\n",
              "      <th>1</th>\n",
              "      <td>19.714005</td>\n",
              "      <td>18.735182</td>\n",
              "      <td>18.051401</td>\n",
              "      <td>18.320541</td>\n",
              "      <td>17.960052</td>\n",
              "      <td>3.500000</td>\n",
              "      <td>0.020989</td>\n",
              "      <td>0.027037</td>\n",
              "      <td>0.021347</td>\n",
              "      <td>0.028623</td>\n",
              "      <td>0.022296</td>\n",
              "      <td>0.028607</td>\n",
              "      <td>150.650440</td>\n",
              "      <td>280.855040</td>\n",
              "      <td>195.581150</td>\n",
              "      <td>340.028058</td>\n",
              "      <td>-41.033501</td>\n",
              "    </tr>\n",
              "    <tr>\n",
              "      <th>2</th>\n",
              "      <td>21.479176</td>\n",
              "      <td>20.539059</td>\n",
              "      <td>19.950514</td>\n",
              "      <td>20.192173</td>\n",
              "      <td>19.853980</td>\n",
              "      <td>3.500000</td>\n",
              "      <td>0.019522</td>\n",
              "      <td>0.006712</td>\n",
              "      <td>0.019539</td>\n",
              "      <td>0.028275</td>\n",
              "      <td>0.019034</td>\n",
              "      <td>0.025041</td>\n",
              "      <td>51.426453</td>\n",
              "      <td>94.964180</td>\n",
              "      <td>59.161785</td>\n",
              "      <td>340.024588</td>\n",
              "      <td>-41.030137</td>\n",
              "    </tr>\n",
              "    <tr>\n",
              "      <th>3</th>\n",
              "      <td>20.915170</td>\n",
              "      <td>19.420835</td>\n",
              "      <td>17.475120</td>\n",
              "      <td>18.045988</td>\n",
              "      <td>17.309649</td>\n",
              "      <td>3.500000</td>\n",
              "      <td>0.001290</td>\n",
              "      <td>0.867845</td>\n",
              "      <td>-0.000577</td>\n",
              "      <td>0.958546</td>\n",
              "      <td>-0.000179</td>\n",
              "      <td>0.962058</td>\n",
              "      <td>107.006850</td>\n",
              "      <td>297.086580</td>\n",
              "      <td>660.312500</td>\n",
              "      <td>340.034067</td>\n",
              "      <td>-41.031987</td>\n",
              "    </tr>\n",
              "    <tr>\n",
              "      <th>4</th>\n",
              "      <td>25.300630</td>\n",
              "      <td>24.213163</td>\n",
              "      <td>22.820875</td>\n",
              "      <td>23.132854</td>\n",
              "      <td>23.020615</td>\n",
              "      <td>4.194423</td>\n",
              "      <td>0.001147</td>\n",
              "      <td>0.071703</td>\n",
              "      <td>0.002019</td>\n",
              "      <td>0.000991</td>\n",
              "      <td>-0.002849</td>\n",
              "      <td>0.081345</td>\n",
              "      <td>2.756464</td>\n",
              "      <td>5.787860</td>\n",
              "      <td>7.455940</td>\n",
              "      <td>340.027609</td>\n",
              "      <td>-41.029615</td>\n",
              "    </tr>\n",
              "  </tbody>\n",
              "</table>\n",
              "</div>\n",
              "    <div class=\"colab-df-buttons\">\n",
              "\n",
              "  <div class=\"colab-df-container\">\n",
              "    <button class=\"colab-df-convert\" onclick=\"convertToInteractive('df-3e2cad88-1fe7-4d5c-b061-705324075dae')\"\n",
              "            title=\"Convert this dataframe to an interactive table.\"\n",
              "            style=\"display:none;\">\n",
              "\n",
              "  <svg xmlns=\"http://www.w3.org/2000/svg\" height=\"24px\" viewBox=\"0 -960 960 960\">\n",
              "    <path d=\"M120-120v-720h720v720H120Zm60-500h600v-160H180v160Zm220 220h160v-160H400v160Zm0 220h160v-160H400v160ZM180-400h160v-160H180v160Zm440 0h160v-160H620v160ZM180-180h160v-160H180v160Zm440 0h160v-160H620v160Z\"/>\n",
              "  </svg>\n",
              "    </button>\n",
              "\n",
              "  <style>\n",
              "    .colab-df-container {\n",
              "      display:flex;\n",
              "      gap: 12px;\n",
              "    }\n",
              "\n",
              "    .colab-df-convert {\n",
              "      background-color: #E8F0FE;\n",
              "      border: none;\n",
              "      border-radius: 50%;\n",
              "      cursor: pointer;\n",
              "      display: none;\n",
              "      fill: #1967D2;\n",
              "      height: 32px;\n",
              "      padding: 0 0 0 0;\n",
              "      width: 32px;\n",
              "    }\n",
              "\n",
              "    .colab-df-convert:hover {\n",
              "      background-color: #E2EBFA;\n",
              "      box-shadow: 0px 1px 2px rgba(60, 64, 67, 0.3), 0px 1px 3px 1px rgba(60, 64, 67, 0.15);\n",
              "      fill: #174EA6;\n",
              "    }\n",
              "\n",
              "    .colab-df-buttons div {\n",
              "      margin-bottom: 4px;\n",
              "    }\n",
              "\n",
              "    [theme=dark] .colab-df-convert {\n",
              "      background-color: #3B4455;\n",
              "      fill: #D2E3FC;\n",
              "    }\n",
              "\n",
              "    [theme=dark] .colab-df-convert:hover {\n",
              "      background-color: #434B5C;\n",
              "      box-shadow: 0px 1px 3px 1px rgba(0, 0, 0, 0.15);\n",
              "      filter: drop-shadow(0px 1px 2px rgba(0, 0, 0, 0.3));\n",
              "      fill: #FFFFFF;\n",
              "    }\n",
              "  </style>\n",
              "\n",
              "    <script>\n",
              "      const buttonEl =\n",
              "        document.querySelector('#df-3e2cad88-1fe7-4d5c-b061-705324075dae button.colab-df-convert');\n",
              "      buttonEl.style.display =\n",
              "        google.colab.kernel.accessAllowed ? 'block' : 'none';\n",
              "\n",
              "      async function convertToInteractive(key) {\n",
              "        const element = document.querySelector('#df-3e2cad88-1fe7-4d5c-b061-705324075dae');\n",
              "        const dataTable =\n",
              "          await google.colab.kernel.invokeFunction('convertToInteractive',\n",
              "                                                    [key], {});\n",
              "        if (!dataTable) return;\n",
              "\n",
              "        const docLinkHtml = 'Like what you see? Visit the ' +\n",
              "          '<a target=\"_blank\" href=https://colab.research.google.com/notebooks/data_table.ipynb>data table notebook</a>'\n",
              "          + ' to learn more about interactive tables.';\n",
              "        element.innerHTML = '';\n",
              "        dataTable['output_type'] = 'display_data';\n",
              "        await google.colab.output.renderOutput(dataTable, element);\n",
              "        const docLink = document.createElement('div');\n",
              "        docLink.innerHTML = docLinkHtml;\n",
              "        element.appendChild(docLink);\n",
              "      }\n",
              "    </script>\n",
              "  </div>\n",
              "\n",
              "\n",
              "<div id=\"df-802479d6-4b6f-4846-a768-0008c99f9c2e\">\n",
              "  <button class=\"colab-df-quickchart\" onclick=\"quickchart('df-802479d6-4b6f-4846-a768-0008c99f9c2e')\"\n",
              "            title=\"Suggest charts\"\n",
              "            style=\"display:none;\">\n",
              "\n",
              "<svg xmlns=\"http://www.w3.org/2000/svg\" height=\"24px\"viewBox=\"0 0 24 24\"\n",
              "     width=\"24px\">\n",
              "    <g>\n",
              "        <path d=\"M19 3H5c-1.1 0-2 .9-2 2v14c0 1.1.9 2 2 2h14c1.1 0 2-.9 2-2V5c0-1.1-.9-2-2-2zM9 17H7v-7h2v7zm4 0h-2V7h2v10zm4 0h-2v-4h2v4z\"/>\n",
              "    </g>\n",
              "</svg>\n",
              "  </button>\n",
              "\n",
              "<style>\n",
              "  .colab-df-quickchart {\n",
              "      --bg-color: #E8F0FE;\n",
              "      --fill-color: #1967D2;\n",
              "      --hover-bg-color: #E2EBFA;\n",
              "      --hover-fill-color: #174EA6;\n",
              "      --disabled-fill-color: #AAA;\n",
              "      --disabled-bg-color: #DDD;\n",
              "  }\n",
              "\n",
              "  [theme=dark] .colab-df-quickchart {\n",
              "      --bg-color: #3B4455;\n",
              "      --fill-color: #D2E3FC;\n",
              "      --hover-bg-color: #434B5C;\n",
              "      --hover-fill-color: #FFFFFF;\n",
              "      --disabled-bg-color: #3B4455;\n",
              "      --disabled-fill-color: #666;\n",
              "  }\n",
              "\n",
              "  .colab-df-quickchart {\n",
              "    background-color: var(--bg-color);\n",
              "    border: none;\n",
              "    border-radius: 50%;\n",
              "    cursor: pointer;\n",
              "    display: none;\n",
              "    fill: var(--fill-color);\n",
              "    height: 32px;\n",
              "    padding: 0;\n",
              "    width: 32px;\n",
              "  }\n",
              "\n",
              "  .colab-df-quickchart:hover {\n",
              "    background-color: var(--hover-bg-color);\n",
              "    box-shadow: 0 1px 2px rgba(60, 64, 67, 0.3), 0 1px 3px 1px rgba(60, 64, 67, 0.15);\n",
              "    fill: var(--button-hover-fill-color);\n",
              "  }\n",
              "\n",
              "  .colab-df-quickchart-complete:disabled,\n",
              "  .colab-df-quickchart-complete:disabled:hover {\n",
              "    background-color: var(--disabled-bg-color);\n",
              "    fill: var(--disabled-fill-color);\n",
              "    box-shadow: none;\n",
              "  }\n",
              "\n",
              "  .colab-df-spinner {\n",
              "    border: 2px solid var(--fill-color);\n",
              "    border-color: transparent;\n",
              "    border-bottom-color: var(--fill-color);\n",
              "    animation:\n",
              "      spin 1s steps(1) infinite;\n",
              "  }\n",
              "\n",
              "  @keyframes spin {\n",
              "    0% {\n",
              "      border-color: transparent;\n",
              "      border-bottom-color: var(--fill-color);\n",
              "      border-left-color: var(--fill-color);\n",
              "    }\n",
              "    20% {\n",
              "      border-color: transparent;\n",
              "      border-left-color: var(--fill-color);\n",
              "      border-top-color: var(--fill-color);\n",
              "    }\n",
              "    30% {\n",
              "      border-color: transparent;\n",
              "      border-left-color: var(--fill-color);\n",
              "      border-top-color: var(--fill-color);\n",
              "      border-right-color: var(--fill-color);\n",
              "    }\n",
              "    40% {\n",
              "      border-color: transparent;\n",
              "      border-right-color: var(--fill-color);\n",
              "      border-top-color: var(--fill-color);\n",
              "    }\n",
              "    60% {\n",
              "      border-color: transparent;\n",
              "      border-right-color: var(--fill-color);\n",
              "    }\n",
              "    80% {\n",
              "      border-color: transparent;\n",
              "      border-right-color: var(--fill-color);\n",
              "      border-bottom-color: var(--fill-color);\n",
              "    }\n",
              "    90% {\n",
              "      border-color: transparent;\n",
              "      border-bottom-color: var(--fill-color);\n",
              "    }\n",
              "  }\n",
              "</style>\n",
              "\n",
              "  <script>\n",
              "    async function quickchart(key) {\n",
              "      const quickchartButtonEl =\n",
              "        document.querySelector('#' + key + ' button');\n",
              "      quickchartButtonEl.disabled = true;  // To prevent multiple clicks.\n",
              "      quickchartButtonEl.classList.add('colab-df-spinner');\n",
              "      try {\n",
              "        const charts = await google.colab.kernel.invokeFunction(\n",
              "            'suggestCharts', [key], {});\n",
              "      } catch (error) {\n",
              "        console.error('Error during call to suggestCharts:', error);\n",
              "      }\n",
              "      quickchartButtonEl.classList.remove('colab-df-spinner');\n",
              "      quickchartButtonEl.classList.add('colab-df-quickchart-complete');\n",
              "    }\n",
              "    (() => {\n",
              "      let quickchartButtonEl =\n",
              "        document.querySelector('#df-802479d6-4b6f-4846-a768-0008c99f9c2e button');\n",
              "      quickchartButtonEl.style.display =\n",
              "        google.colab.kernel.accessAllowed ? 'block' : 'none';\n",
              "    })();\n",
              "  </script>\n",
              "</div>\n",
              "\n",
              "    </div>\n",
              "  </div>\n"
            ],
            "application/vnd.google.colaboratory.intrinsic+json": {
              "type": "dataframe",
              "variable_name": "sample_df",
              "summary": "{\n  \"name\": \"sample_df\",\n  \"rows\": 1000,\n  \"fields\": [\n    {\n      \"column\": \"gmag\",\n      \"properties\": {\n        \"dtype\": \"number\",\n        \"std\": 14.412138348936475,\n        \"min\": 14.7737875,\n        \"max\": 99.0,\n        \"num_unique_values\": 963,\n        \"samples\": [\n          24.784624,\n          23.380482,\n          24.693327\n        ],\n        \"semantic_type\": \"\",\n        \"description\": \"\"\n      }\n    },\n    {\n      \"column\": \"rmag\",\n      \"properties\": {\n        \"dtype\": \"number\",\n        \"std\": 3.720317498060249,\n        \"min\": 15.854973,\n        \"max\": 99.0,\n        \"num_unique_values\": 999,\n        \"samples\": [\n          23.586578,\n          23.489992,\n          23.4985\n        ],\n        \"semantic_type\": \"\",\n        \"description\": \"\"\n      }\n    },\n    {\n      \"column\": \"zmag\",\n      \"properties\": {\n        \"dtype\": \"number\",\n        \"std\": 7.0040108781778425,\n        \"min\": 14.652308,\n        \"max\": 99.0,\n        \"num_unique_values\": 993,\n        \"samples\": [\n          22.62592,\n          20.96979,\n          21.531153\n        ],\n        \"semantic_type\": \"\",\n        \"description\": \"\"\n      }\n    },\n    {\n      \"column\": \"imag\",\n      \"properties\": {\n        \"dtype\": \"number\",\n        \"std\": 2.8359130140709317,\n        \"min\": 15.74817,\n        \"max\": 99.0,\n        \"num_unique_values\": 1000,\n        \"samples\": [\n          23.237938,\n          23.90632,\n          24.440674\n        ],\n        \"semantic_type\": \"\",\n        \"description\": \"\"\n      }\n    },\n    {\n      \"column\": \"ymag\",\n      \"properties\": {\n        \"dtype\": \"number\",\n        \"std\": 23.471996382201645,\n        \"min\": 13.753779,\n        \"max\": 99.0,\n        \"num_unique_values\": 897,\n        \"samples\": [\n          22.192938,\n          23.105282,\n          21.875483\n        ],\n        \"semantic_type\": \"\",\n        \"description\": \"\"\n      }\n    },\n    {\n      \"column\": \"kron_radius\",\n      \"properties\": {\n        \"dtype\": \"number\",\n        \"std\": 1.4827748887345418,\n        \"min\": 0.0,\n        \"max\": 9.148744,\n        \"num_unique_values\": 842,\n        \"samples\": [\n          5.79664,\n          4.7056937,\n          4.6831937\n        ],\n        \"semantic_type\": \"\",\n        \"description\": \"\"\n      }\n    },\n    {\n      \"column\": \"spread_model_g\",\n      \"properties\": {\n        \"dtype\": \"number\",\n        \"std\": 233.35843174409464,\n        \"min\": -7270.421,\n        \"max\": 1.0,\n        \"num_unique_values\": 993,\n        \"samples\": [\n          0.008188814,\n          -0.0013575268,\n          0.012925876\n        ],\n        \"semantic_type\": \"\",\n        \"description\": \"\"\n      }\n    },\n    {\n      \"column\": \"class_star_g\",\n      \"properties\": {\n        \"dtype\": \"number\",\n        \"std\": 0.21699035299911656,\n        \"min\": 0.00022331202,\n        \"max\": 0.9996801,\n        \"num_unique_values\": 1000,\n        \"samples\": [\n          0.6824086,\n          0.4213763,\n          0.40663105\n        ],\n        \"semantic_type\": \"\",\n        \"description\": \"\"\n      }\n    },\n    {\n      \"column\": \"spread_model_r\",\n      \"properties\": {\n        \"dtype\": \"number\",\n        \"std\": 0.010666167836782859,\n        \"min\": -0.16944805,\n        \"max\": 0.044415314,\n        \"num_unique_values\": 1000,\n        \"samples\": [\n          0.0064599374,\n          0.007852727,\n          -0.0009490941\n        ],\n        \"semantic_type\": \"\",\n        \"description\": \"\"\n      }\n    },\n    {\n      \"column\": \"class_star_r\",\n      \"properties\": {\n        \"dtype\": \"number\",\n        \"std\": 0.278774961868804,\n        \"min\": 0.00015164872,\n        \"max\": 0.99957883,\n        \"num_unique_values\": 1000,\n        \"samples\": [\n          0.06423124,\n          0.6284046,\n          0.54330355\n        ],\n        \"semantic_type\": \"\",\n        \"description\": \"\"\n      }\n    },\n    {\n      \"column\": \"spread_model_z\",\n      \"properties\": {\n        \"dtype\": \"number\",\n        \"std\": 0.05564711010096048,\n        \"min\": -0.06037715,\n        \"max\": 1.0,\n        \"num_unique_values\": 998,\n        \"samples\": [\n          -0.012321459,\n          0.0046333154,\n          -0.0013365062\n        ],\n        \"semantic_type\": \"\",\n        \"description\": \"\"\n      }\n    },\n    {\n      \"column\": \"class_star_z\",\n      \"properties\": {\n        \"dtype\": \"number\",\n        \"std\": 0.27071546445733863,\n        \"min\": 0.00014394181,\n        \"max\": 0.9941297,\n        \"num_unique_values\": 1000,\n        \"samples\": [\n          0.026321854,\n          0.63043815,\n          0.36624682\n        ],\n        \"semantic_type\": \"\",\n        \"description\": \"\"\n      }\n    },\n    {\n      \"column\": \"snr_g\",\n      \"properties\": {\n        \"dtype\": \"number\",\n        \"std\": 334.0863164845156,\n        \"min\": -2.095931,\n        \"max\": 5208.7373,\n        \"num_unique_values\": 1000,\n        \"samples\": [\n          5.3783636,\n          3.5212169,\n          3.8287058\n        ],\n        \"semantic_type\": \"\",\n        \"description\": \"\"\n      }\n    },\n    {\n      \"column\": \"snr_r\",\n      \"properties\": {\n        \"dtype\": \"number\",\n        \"std\": 245.13935801444683,\n        \"min\": -1.5706547,\n        \"max\": 2990.077,\n        \"num_unique_values\": 1000,\n        \"samples\": [\n          8.468235,\n          4.4299555,\n          4.6035113\n        ],\n        \"semantic_type\": \"\",\n        \"description\": \"\"\n      }\n    },\n    {\n      \"column\": \"snr_z\",\n      \"properties\": {\n        \"dtype\": \"number\",\n        \"std\": 241.65594591984745,\n        \"min\": -0.95654964,\n        \"max\": 3017.9673,\n        \"num_unique_values\": 1000,\n        \"samples\": [\n          7.2333684,\n          1.9199406,\n          4.683706\n        ],\n        \"semantic_type\": \"\",\n        \"description\": \"\"\n      }\n    },\n    {\n      \"column\": \"ra\",\n      \"properties\": {\n        \"dtype\": \"number\",\n        \"std\": 0.05776650449615702,\n        \"min\": 340.01748,\n        \"max\": 340.232758,\n        \"num_unique_values\": 997,\n        \"samples\": [\n          340.184002,\n          340.068921,\n          340.068859\n        ],\n        \"semantic_type\": \"\",\n        \"description\": \"\"\n      }\n    },\n    {\n      \"column\": \"dec\",\n      \"properties\": {\n        \"dtype\": \"number\",\n        \"std\": 0.032154262448956694,\n        \"min\": -41.181336,\n        \"max\": -41.025839,\n        \"num_unique_values\": 996,\n        \"samples\": [\n          -41.05922,\n          -41.060401,\n          -41.127412\n        ],\n        \"semantic_type\": \"\",\n        \"description\": \"\"\n      }\n    }\n  ]\n}"
            }
          },
          "metadata": {},
          "execution_count": 4
        }
      ]
    },
    {
      "cell_type": "markdown",
      "metadata": {
        "id": "LKvnPq_GzJaC"
      },
      "source": [
        "### <span style=\"color:LightGreen\">Question 04</span>\n",
        "\n",
        "Write a query to get the following data from the `des_dr1.main` table:\n",
        "\n",
        "*  `mag_auto_g,r,i,z,y` = AB magnitudes in DECam g,r,i,z,y bands\n",
        "*  `kron_radius`        = Kron radius from SExtractor (pixels)\n",
        "* `spread_model_g,r,z` = star/galaxy classifier quantifying light profile relative to PSF\n",
        "* `class_star_g,r,z`   = star/extended source classifier (from 0 to 1)\n",
        "* `snr_g,r,z`          = computed signal-to-noise ratios (S/N) in g,r,z bands\n",
        "* `ra`,`dec`             = celestial coordinates\n",
        "\n",
        "Apply the following conditions and limit your query results to 100,000 samples:\n",
        "\n",
        "*   `fluxerr_auto_X` > 0 for X in g, r, and z bands\n",
        "*   -50 <= `snr_X` <= 50 for X in g, r, and z bands\n",
        "\n",
        "\n",
        "Convert the acquired data into a Pandas data frame.\n"
      ]
    },
    {
      "cell_type": "code",
      "source": [
        "query2 = \"\"\"\n",
        "        SELECT mag_auto_g as gmag, mag_auto_r as rmag, mag_auto_z as zmag,\n",
        "               mag_auto_i as imag, mag_auto_y as ymag,\n",
        "               kron_radius, spread_model_g, class_star_g, spread_model_r, class_star_r,\n",
        "               spread_model_z, class_star_z,\n",
        "               snr_g, snr_r, snr_z, ra, dec\n",
        "        FROM des_dr1.main\n",
        "        WHERE (fluxerr_auto_g>0 and fluxerr_auto_r>0 and fluxerr_auto_z>0\n",
        "        AND snr_g BETWEEN -50 AND 50\n",
        "        AND snr_r BETWEEN -50 AND 50\n",
        "        AND snr_z BETWEEN -50 AND 50)\n",
        "        LIMIT 100000\"\"\"\n",
        "\n",
        "sample_res2 = qc.query(sql=query2)\n",
        "sample_df2 = convert(sample_res2,'pandas',na_values=('Infinity','-Infinity'))"
      ],
      "metadata": {
        "id": "OZNZOCTPz2Yt"
      },
      "execution_count": 5,
      "outputs": []
    },
    {
      "cell_type": "code",
      "source": [
        "sample_df2.head()"
      ],
      "metadata": {
        "colab": {
          "base_uri": "https://localhost:8080/",
          "height": 226
        },
        "id": "0_FNuz1j1niG",
        "outputId": "61a78b91-592d-428f-ea3f-2ad8e656dede"
      },
      "execution_count": 6,
      "outputs": [
        {
          "output_type": "execute_result",
          "data": {
            "text/plain": [
              "        gmag  rmag       zmag  imag       ymag  kron_radius  spread_model_g  \\\n",
              "0  22.115036    99  99.000000  99.0  99.000000     8.449265        0.012004   \n",
              "1  23.964737    99  99.000000  99.0  99.000000     8.983423        0.008607   \n",
              "2  99.000000    99  23.928865  99.0  23.879759     3.500000       -0.100816   \n",
              "3  99.000000    99  99.000000  99.0  99.000000     8.545079       -0.028510   \n",
              "4  22.759033    99  99.000000  99.0  99.000000     8.618557       -0.008259   \n",
              "\n",
              "   class_star_g  spread_model_r  class_star_r  spread_model_z  class_star_z  \\\n",
              "0      0.042333        1.000000      0.349992        1.000000      0.009584   \n",
              "1      0.607084        1.000000      0.019274        1.000000      0.395193   \n",
              "2      0.284600       -0.010246      0.012631        0.004203      0.002869   \n",
              "3      0.514376        1.000000      0.418036        1.000000      0.442787   \n",
              "4      0.369813        1.000000      0.347991        1.000000      0.502264   \n",
              "\n",
              "      snr_g      snr_r     snr_z          ra        dec  \n",
              "0  5.640619 -49.992058 -9.495123   19.846645 -53.602146  \n",
              "1  2.208419 -49.986885 -6.294527   23.626489 -29.413980  \n",
              "2 -0.268048 -49.974236  0.982654   53.554756 -44.696893  \n",
              "3 -4.645531 -49.971180 -3.901429  306.153553 -56.852316  \n",
              "4  3.931107 -49.966644 -2.693714   82.089033 -20.866155  "
            ],
            "text/html": [
              "\n",
              "  <div id=\"df-ba6b5b26-f0c4-4643-b328-24f997a26729\" class=\"colab-df-container\">\n",
              "    <div>\n",
              "<style scoped>\n",
              "    .dataframe tbody tr th:only-of-type {\n",
              "        vertical-align: middle;\n",
              "    }\n",
              "\n",
              "    .dataframe tbody tr th {\n",
              "        vertical-align: top;\n",
              "    }\n",
              "\n",
              "    .dataframe thead th {\n",
              "        text-align: right;\n",
              "    }\n",
              "</style>\n",
              "<table border=\"1\" class=\"dataframe\">\n",
              "  <thead>\n",
              "    <tr style=\"text-align: right;\">\n",
              "      <th></th>\n",
              "      <th>gmag</th>\n",
              "      <th>rmag</th>\n",
              "      <th>zmag</th>\n",
              "      <th>imag</th>\n",
              "      <th>ymag</th>\n",
              "      <th>kron_radius</th>\n",
              "      <th>spread_model_g</th>\n",
              "      <th>class_star_g</th>\n",
              "      <th>spread_model_r</th>\n",
              "      <th>class_star_r</th>\n",
              "      <th>spread_model_z</th>\n",
              "      <th>class_star_z</th>\n",
              "      <th>snr_g</th>\n",
              "      <th>snr_r</th>\n",
              "      <th>snr_z</th>\n",
              "      <th>ra</th>\n",
              "      <th>dec</th>\n",
              "    </tr>\n",
              "  </thead>\n",
              "  <tbody>\n",
              "    <tr>\n",
              "      <th>0</th>\n",
              "      <td>22.115036</td>\n",
              "      <td>99</td>\n",
              "      <td>99.000000</td>\n",
              "      <td>99.0</td>\n",
              "      <td>99.000000</td>\n",
              "      <td>8.449265</td>\n",
              "      <td>0.012004</td>\n",
              "      <td>0.042333</td>\n",
              "      <td>1.000000</td>\n",
              "      <td>0.349992</td>\n",
              "      <td>1.000000</td>\n",
              "      <td>0.009584</td>\n",
              "      <td>5.640619</td>\n",
              "      <td>-49.992058</td>\n",
              "      <td>-9.495123</td>\n",
              "      <td>19.846645</td>\n",
              "      <td>-53.602146</td>\n",
              "    </tr>\n",
              "    <tr>\n",
              "      <th>1</th>\n",
              "      <td>23.964737</td>\n",
              "      <td>99</td>\n",
              "      <td>99.000000</td>\n",
              "      <td>99.0</td>\n",
              "      <td>99.000000</td>\n",
              "      <td>8.983423</td>\n",
              "      <td>0.008607</td>\n",
              "      <td>0.607084</td>\n",
              "      <td>1.000000</td>\n",
              "      <td>0.019274</td>\n",
              "      <td>1.000000</td>\n",
              "      <td>0.395193</td>\n",
              "      <td>2.208419</td>\n",
              "      <td>-49.986885</td>\n",
              "      <td>-6.294527</td>\n",
              "      <td>23.626489</td>\n",
              "      <td>-29.413980</td>\n",
              "    </tr>\n",
              "    <tr>\n",
              "      <th>2</th>\n",
              "      <td>99.000000</td>\n",
              "      <td>99</td>\n",
              "      <td>23.928865</td>\n",
              "      <td>99.0</td>\n",
              "      <td>23.879759</td>\n",
              "      <td>3.500000</td>\n",
              "      <td>-0.100816</td>\n",
              "      <td>0.284600</td>\n",
              "      <td>-0.010246</td>\n",
              "      <td>0.012631</td>\n",
              "      <td>0.004203</td>\n",
              "      <td>0.002869</td>\n",
              "      <td>-0.268048</td>\n",
              "      <td>-49.974236</td>\n",
              "      <td>0.982654</td>\n",
              "      <td>53.554756</td>\n",
              "      <td>-44.696893</td>\n",
              "    </tr>\n",
              "    <tr>\n",
              "      <th>3</th>\n",
              "      <td>99.000000</td>\n",
              "      <td>99</td>\n",
              "      <td>99.000000</td>\n",
              "      <td>99.0</td>\n",
              "      <td>99.000000</td>\n",
              "      <td>8.545079</td>\n",
              "      <td>-0.028510</td>\n",
              "      <td>0.514376</td>\n",
              "      <td>1.000000</td>\n",
              "      <td>0.418036</td>\n",
              "      <td>1.000000</td>\n",
              "      <td>0.442787</td>\n",
              "      <td>-4.645531</td>\n",
              "      <td>-49.971180</td>\n",
              "      <td>-3.901429</td>\n",
              "      <td>306.153553</td>\n",
              "      <td>-56.852316</td>\n",
              "    </tr>\n",
              "    <tr>\n",
              "      <th>4</th>\n",
              "      <td>22.759033</td>\n",
              "      <td>99</td>\n",
              "      <td>99.000000</td>\n",
              "      <td>99.0</td>\n",
              "      <td>99.000000</td>\n",
              "      <td>8.618557</td>\n",
              "      <td>-0.008259</td>\n",
              "      <td>0.369813</td>\n",
              "      <td>1.000000</td>\n",
              "      <td>0.347991</td>\n",
              "      <td>1.000000</td>\n",
              "      <td>0.502264</td>\n",
              "      <td>3.931107</td>\n",
              "      <td>-49.966644</td>\n",
              "      <td>-2.693714</td>\n",
              "      <td>82.089033</td>\n",
              "      <td>-20.866155</td>\n",
              "    </tr>\n",
              "  </tbody>\n",
              "</table>\n",
              "</div>\n",
              "    <div class=\"colab-df-buttons\">\n",
              "\n",
              "  <div class=\"colab-df-container\">\n",
              "    <button class=\"colab-df-convert\" onclick=\"convertToInteractive('df-ba6b5b26-f0c4-4643-b328-24f997a26729')\"\n",
              "            title=\"Convert this dataframe to an interactive table.\"\n",
              "            style=\"display:none;\">\n",
              "\n",
              "  <svg xmlns=\"http://www.w3.org/2000/svg\" height=\"24px\" viewBox=\"0 -960 960 960\">\n",
              "    <path d=\"M120-120v-720h720v720H120Zm60-500h600v-160H180v160Zm220 220h160v-160H400v160Zm0 220h160v-160H400v160ZM180-400h160v-160H180v160Zm440 0h160v-160H620v160ZM180-180h160v-160H180v160Zm440 0h160v-160H620v160Z\"/>\n",
              "  </svg>\n",
              "    </button>\n",
              "\n",
              "  <style>\n",
              "    .colab-df-container {\n",
              "      display:flex;\n",
              "      gap: 12px;\n",
              "    }\n",
              "\n",
              "    .colab-df-convert {\n",
              "      background-color: #E8F0FE;\n",
              "      border: none;\n",
              "      border-radius: 50%;\n",
              "      cursor: pointer;\n",
              "      display: none;\n",
              "      fill: #1967D2;\n",
              "      height: 32px;\n",
              "      padding: 0 0 0 0;\n",
              "      width: 32px;\n",
              "    }\n",
              "\n",
              "    .colab-df-convert:hover {\n",
              "      background-color: #E2EBFA;\n",
              "      box-shadow: 0px 1px 2px rgba(60, 64, 67, 0.3), 0px 1px 3px 1px rgba(60, 64, 67, 0.15);\n",
              "      fill: #174EA6;\n",
              "    }\n",
              "\n",
              "    .colab-df-buttons div {\n",
              "      margin-bottom: 4px;\n",
              "    }\n",
              "\n",
              "    [theme=dark] .colab-df-convert {\n",
              "      background-color: #3B4455;\n",
              "      fill: #D2E3FC;\n",
              "    }\n",
              "\n",
              "    [theme=dark] .colab-df-convert:hover {\n",
              "      background-color: #434B5C;\n",
              "      box-shadow: 0px 1px 3px 1px rgba(0, 0, 0, 0.15);\n",
              "      filter: drop-shadow(0px 1px 2px rgba(0, 0, 0, 0.3));\n",
              "      fill: #FFFFFF;\n",
              "    }\n",
              "  </style>\n",
              "\n",
              "    <script>\n",
              "      const buttonEl =\n",
              "        document.querySelector('#df-ba6b5b26-f0c4-4643-b328-24f997a26729 button.colab-df-convert');\n",
              "      buttonEl.style.display =\n",
              "        google.colab.kernel.accessAllowed ? 'block' : 'none';\n",
              "\n",
              "      async function convertToInteractive(key) {\n",
              "        const element = document.querySelector('#df-ba6b5b26-f0c4-4643-b328-24f997a26729');\n",
              "        const dataTable =\n",
              "          await google.colab.kernel.invokeFunction('convertToInteractive',\n",
              "                                                    [key], {});\n",
              "        if (!dataTable) return;\n",
              "\n",
              "        const docLinkHtml = 'Like what you see? Visit the ' +\n",
              "          '<a target=\"_blank\" href=https://colab.research.google.com/notebooks/data_table.ipynb>data table notebook</a>'\n",
              "          + ' to learn more about interactive tables.';\n",
              "        element.innerHTML = '';\n",
              "        dataTable['output_type'] = 'display_data';\n",
              "        await google.colab.output.renderOutput(dataTable, element);\n",
              "        const docLink = document.createElement('div');\n",
              "        docLink.innerHTML = docLinkHtml;\n",
              "        element.appendChild(docLink);\n",
              "      }\n",
              "    </script>\n",
              "  </div>\n",
              "\n",
              "\n",
              "<div id=\"df-ab979c91-0a92-4fe8-b296-0980ee5548eb\">\n",
              "  <button class=\"colab-df-quickchart\" onclick=\"quickchart('df-ab979c91-0a92-4fe8-b296-0980ee5548eb')\"\n",
              "            title=\"Suggest charts\"\n",
              "            style=\"display:none;\">\n",
              "\n",
              "<svg xmlns=\"http://www.w3.org/2000/svg\" height=\"24px\"viewBox=\"0 0 24 24\"\n",
              "     width=\"24px\">\n",
              "    <g>\n",
              "        <path d=\"M19 3H5c-1.1 0-2 .9-2 2v14c0 1.1.9 2 2 2h14c1.1 0 2-.9 2-2V5c0-1.1-.9-2-2-2zM9 17H7v-7h2v7zm4 0h-2V7h2v10zm4 0h-2v-4h2v4z\"/>\n",
              "    </g>\n",
              "</svg>\n",
              "  </button>\n",
              "\n",
              "<style>\n",
              "  .colab-df-quickchart {\n",
              "      --bg-color: #E8F0FE;\n",
              "      --fill-color: #1967D2;\n",
              "      --hover-bg-color: #E2EBFA;\n",
              "      --hover-fill-color: #174EA6;\n",
              "      --disabled-fill-color: #AAA;\n",
              "      --disabled-bg-color: #DDD;\n",
              "  }\n",
              "\n",
              "  [theme=dark] .colab-df-quickchart {\n",
              "      --bg-color: #3B4455;\n",
              "      --fill-color: #D2E3FC;\n",
              "      --hover-bg-color: #434B5C;\n",
              "      --hover-fill-color: #FFFFFF;\n",
              "      --disabled-bg-color: #3B4455;\n",
              "      --disabled-fill-color: #666;\n",
              "  }\n",
              "\n",
              "  .colab-df-quickchart {\n",
              "    background-color: var(--bg-color);\n",
              "    border: none;\n",
              "    border-radius: 50%;\n",
              "    cursor: pointer;\n",
              "    display: none;\n",
              "    fill: var(--fill-color);\n",
              "    height: 32px;\n",
              "    padding: 0;\n",
              "    width: 32px;\n",
              "  }\n",
              "\n",
              "  .colab-df-quickchart:hover {\n",
              "    background-color: var(--hover-bg-color);\n",
              "    box-shadow: 0 1px 2px rgba(60, 64, 67, 0.3), 0 1px 3px 1px rgba(60, 64, 67, 0.15);\n",
              "    fill: var(--button-hover-fill-color);\n",
              "  }\n",
              "\n",
              "  .colab-df-quickchart-complete:disabled,\n",
              "  .colab-df-quickchart-complete:disabled:hover {\n",
              "    background-color: var(--disabled-bg-color);\n",
              "    fill: var(--disabled-fill-color);\n",
              "    box-shadow: none;\n",
              "  }\n",
              "\n",
              "  .colab-df-spinner {\n",
              "    border: 2px solid var(--fill-color);\n",
              "    border-color: transparent;\n",
              "    border-bottom-color: var(--fill-color);\n",
              "    animation:\n",
              "      spin 1s steps(1) infinite;\n",
              "  }\n",
              "\n",
              "  @keyframes spin {\n",
              "    0% {\n",
              "      border-color: transparent;\n",
              "      border-bottom-color: var(--fill-color);\n",
              "      border-left-color: var(--fill-color);\n",
              "    }\n",
              "    20% {\n",
              "      border-color: transparent;\n",
              "      border-left-color: var(--fill-color);\n",
              "      border-top-color: var(--fill-color);\n",
              "    }\n",
              "    30% {\n",
              "      border-color: transparent;\n",
              "      border-left-color: var(--fill-color);\n",
              "      border-top-color: var(--fill-color);\n",
              "      border-right-color: var(--fill-color);\n",
              "    }\n",
              "    40% {\n",
              "      border-color: transparent;\n",
              "      border-right-color: var(--fill-color);\n",
              "      border-top-color: var(--fill-color);\n",
              "    }\n",
              "    60% {\n",
              "      border-color: transparent;\n",
              "      border-right-color: var(--fill-color);\n",
              "    }\n",
              "    80% {\n",
              "      border-color: transparent;\n",
              "      border-right-color: var(--fill-color);\n",
              "      border-bottom-color: var(--fill-color);\n",
              "    }\n",
              "    90% {\n",
              "      border-color: transparent;\n",
              "      border-bottom-color: var(--fill-color);\n",
              "    }\n",
              "  }\n",
              "</style>\n",
              "\n",
              "  <script>\n",
              "    async function quickchart(key) {\n",
              "      const quickchartButtonEl =\n",
              "        document.querySelector('#' + key + ' button');\n",
              "      quickchartButtonEl.disabled = true;  // To prevent multiple clicks.\n",
              "      quickchartButtonEl.classList.add('colab-df-spinner');\n",
              "      try {\n",
              "        const charts = await google.colab.kernel.invokeFunction(\n",
              "            'suggestCharts', [key], {});\n",
              "      } catch (error) {\n",
              "        console.error('Error during call to suggestCharts:', error);\n",
              "      }\n",
              "      quickchartButtonEl.classList.remove('colab-df-spinner');\n",
              "      quickchartButtonEl.classList.add('colab-df-quickchart-complete');\n",
              "    }\n",
              "    (() => {\n",
              "      let quickchartButtonEl =\n",
              "        document.querySelector('#df-ab979c91-0a92-4fe8-b296-0980ee5548eb button');\n",
              "      quickchartButtonEl.style.display =\n",
              "        google.colab.kernel.accessAllowed ? 'block' : 'none';\n",
              "    })();\n",
              "  </script>\n",
              "</div>\n",
              "\n",
              "    </div>\n",
              "  </div>\n"
            ],
            "application/vnd.google.colaboratory.intrinsic+json": {
              "type": "dataframe",
              "variable_name": "sample_df2",
              "summary": "{\n  \"name\": \"sample_df2\",\n  \"rows\": 100000,\n  \"fields\": [\n    {\n      \"column\": \"gmag\",\n      \"properties\": {\n        \"dtype\": \"number\",\n        \"std\": 32.48209137677617,\n        \"min\": 17.348894,\n        \"max\": 99.0,\n        \"num_unique_values\": 25822,\n        \"samples\": [\n          22.475014,\n          25.601862,\n          25.243637\n        ],\n        \"semantic_type\": \"\",\n        \"description\": \"\"\n      }\n    },\n    {\n      \"column\": \"rmag\",\n      \"properties\": {\n        \"dtype\": \"number\",\n        \"std\": 0,\n        \"min\": 99,\n        \"max\": 99,\n        \"num_unique_values\": 1,\n        \"samples\": [\n          99\n        ],\n        \"semantic_type\": \"\",\n        \"description\": \"\"\n      }\n    },\n    {\n      \"column\": \"zmag\",\n      \"properties\": {\n        \"dtype\": \"number\",\n        \"std\": 36.42823472132477,\n        \"min\": 16.04149,\n        \"max\": 99.0,\n        \"num_unique_values\": 35492,\n        \"samples\": [\n          22.854902\n        ],\n        \"semantic_type\": \"\",\n        \"description\": \"\"\n      }\n    },\n    {\n      \"column\": \"imag\",\n      \"properties\": {\n        \"dtype\": \"number\",\n        \"std\": 35.473063174321545,\n        \"min\": 12.252574,\n        \"max\": 99.0,\n        \"num_unique_values\": 32860,\n        \"samples\": [\n          23.291025\n        ],\n        \"semantic_type\": \"\",\n        \"description\": \"\"\n      }\n    },\n    {\n      \"column\": \"ymag\",\n      \"properties\": {\n        \"dtype\": \"number\",\n        \"std\": 36.26928489633142,\n        \"min\": 9.230651,\n        \"max\": 99.0,\n        \"num_unique_values\": 33985,\n        \"samples\": [\n          24.178148\n        ],\n        \"semantic_type\": \"\",\n        \"description\": \"\"\n      }\n    },\n    {\n      \"column\": \"kron_radius\",\n      \"properties\": {\n        \"dtype\": \"number\",\n        \"std\": 2.0566203498270257,\n        \"min\": 0.0,\n        \"max\": 10.635554,\n        \"num_unique_values\": 91257,\n        \"samples\": [\n          9.206915\n        ],\n        \"semantic_type\": \"\",\n        \"description\": \"\"\n      }\n    },\n    {\n      \"column\": \"spread_model_g\",\n      \"properties\": {\n        \"dtype\": \"number\",\n        \"std\": 6015227.627913124,\n        \"min\": -148910820.0,\n        \"max\": 1895150000.0,\n        \"num_unique_values\": 65967,\n        \"samples\": [\n          0.018079748\n        ],\n        \"semantic_type\": \"\",\n        \"description\": \"\"\n      }\n    },\n    {\n      \"column\": \"class_star_g\",\n      \"properties\": {\n        \"dtype\": \"number\",\n        \"std\": 0.1689188026895578,\n        \"min\": 4.6352434e-05,\n        \"max\": 0.9981643,\n        \"num_unique_values\": 86906,\n        \"samples\": [\n          0.3504873\n        ],\n        \"semantic_type\": \"\",\n        \"description\": \"\"\n      }\n    },\n    {\n      \"column\": \"spread_model_r\",\n      \"properties\": {\n        \"dtype\": \"number\",\n        \"std\": 99381841.67811283,\n        \"min\": -31422382000.0,\n        \"max\": 5174879.0,\n        \"num_unique_values\": 49314,\n        \"samples\": [\n          0.0019834167\n        ],\n        \"semantic_type\": \"\",\n        \"description\": \"\"\n      }\n    },\n    {\n      \"column\": \"class_star_r\",\n      \"properties\": {\n        \"dtype\": \"number\",\n        \"std\": 0.2204383020972118,\n        \"min\": 5.83828e-05,\n        \"max\": 0.999889,\n        \"num_unique_values\": 65348,\n        \"samples\": [\n          0.34869537\n        ],\n        \"semantic_type\": \"\",\n        \"description\": \"\"\n      }\n    },\n    {\n      \"column\": \"spread_model_z\",\n      \"properties\": {\n        \"dtype\": \"number\",\n        \"std\": 947421585.8398062,\n        \"min\": -299600900000.0,\n        \"max\": 1822468.0,\n        \"num_unique_values\": 74205,\n        \"samples\": [\n          -0.04611041\n        ],\n        \"semantic_type\": \"\",\n        \"description\": \"\"\n      }\n    },\n    {\n      \"column\": \"class_star_z\",\n      \"properties\": {\n        \"dtype\": \"number\",\n        \"std\": 0.20734031528640445,\n        \"min\": 3.537196e-05,\n        \"max\": 0.9994425,\n        \"num_unique_values\": 92876,\n        \"samples\": [\n          0.3486934\n        ],\n        \"semantic_type\": \"\",\n        \"description\": \"\"\n      }\n    },\n    {\n      \"column\": \"snr_g\",\n      \"properties\": {\n        \"dtype\": \"number\",\n        \"std\": 10.00304276366852,\n        \"min\": -49.9902,\n        \"max\": 49.989197,\n        \"num_unique_values\": 99938,\n        \"samples\": [\n          -5.042166\n        ],\n        \"semantic_type\": \"\",\n        \"description\": \"\"\n      }\n    },\n    {\n      \"column\": \"snr_r\",\n      \"properties\": {\n        \"dtype\": \"number\",\n        \"std\": 9.05512403512555,\n        \"min\": -49.992058,\n        \"max\": -3.5576842,\n        \"num_unique_values\": 99777,\n        \"samples\": [\n          -9.078838\n        ],\n        \"semantic_type\": \"\",\n        \"description\": \"\"\n      }\n    },\n    {\n      \"column\": \"snr_z\",\n      \"properties\": {\n        \"dtype\": \"number\",\n        \"std\": 8.625532453836602,\n        \"min\": -49.884075,\n        \"max\": 49.99653,\n        \"num_unique_values\": 99930,\n        \"samples\": [\n          -1.1906419\n        ],\n        \"semantic_type\": \"\",\n        \"description\": \"\"\n      }\n    },\n    {\n      \"column\": \"ra\",\n      \"properties\": {\n        \"dtype\": \"number\",\n        \"std\": 122.62524544286995,\n        \"min\": 0.003254,\n        \"max\": 359.999233,\n        \"num_unique_values\": 99533,\n        \"samples\": [\n          60.047029\n        ],\n        \"semantic_type\": \"\",\n        \"description\": \"\"\n      }\n    },\n    {\n      \"column\": \"dec\",\n      \"properties\": {\n        \"dtype\": \"number\",\n        \"std\": 17.318478907157488,\n        \"min\": -68.13696399999999,\n        \"max\": 5.430898,\n        \"num_unique_values\": 99261,\n        \"samples\": [\n          -20.725676\n        ],\n        \"semantic_type\": \"\",\n        \"description\": \"\"\n      }\n    }\n  ]\n}"
            }
          },
          "metadata": {},
          "execution_count": 6
        }
      ]
    },
    {
      "cell_type": "markdown",
      "metadata": {
        "id": "AIOgqJLIVSUn"
      },
      "source": [
        "### <span style=\"color:LightGreen\">Question 05</span>\n",
        "\n",
        "The images produced by DES are used to distinguish between stars (point sources), galaxies (resolved, if not too distant), and QSOs (which may have both point-like and resolved components).\n",
        "\n",
        "* `kron_radius`: Kron radius in pixels\n",
        "* `spread_model_X`: star-galaxy classifier comparing extended model to PSF model. Value is given for each band X = *g, r, i, z, y*\n",
        "* `class_star_X`: value ranging from 0.0 (not point-like) to 1.0 (point-like), for each band X = *g, r, i, z, y*\n",
        "\n",
        "The value of `spread_model_X` is near zero for a point source (star or QSO), positive for an extended source (galaxy), negative for an artifact smaller than the PSF (e.g., bad pixel or cosmic ray).\n",
        "\n",
        "Let's define an object as a star if `spread_model_g`<=0.5, and a galaxy if `spread_model_g` > 0.5. In our sample data, count the number of objects that are stars and the number of objects that are galaxies."
      ]
    },
    {
      "cell_type": "code",
      "source": [
        "star_count = len(sample_df2[sample_df2['spread_model_g']<=0.5])\n",
        "galaxy_count = len(sample_df2[sample_df2['spread_model_g']>0.5])\n",
        "print(f\"Number of stars: {star_count}\")\n",
        "print(f\"Number of galaxies: {galaxy_count}\")"
      ],
      "metadata": {
        "colab": {
          "base_uri": "https://localhost:8080/"
        },
        "id": "OPccBwI212gz",
        "outputId": "330776dd-143f-4646-d304-dec8a6f43c58"
      },
      "execution_count": 7,
      "outputs": [
        {
          "output_type": "stream",
          "name": "stdout",
          "text": [
            "Number of stars: 64836\n",
            "Number of galaxies: 35164\n"
          ]
        }
      ]
    },
    {
      "cell_type": "markdown",
      "metadata": {
        "id": "zLMJBHtrWmMX"
      },
      "source": [
        "### <span style=\"color:LightGreen\">Question 06</span>\n",
        "\n",
        "Suppose we wish to divide the imaging data observed by the DES into roughly equal subsets of data for more efficient parallel data processing and analysis. We will do so by using K-Means clustering on the data points of the area of the night sky observed by DES.\n",
        "\n",
        "In astronomy, RA (right ascension) and Dec (declination) are the coordinates on the sky that correspond to longitude and latitude on Earth and are used to describe the position of an object. Define a subset of the data with two columns: `ra` and `dec`. Using K-Means clustering, fit the data into 2 distinct clusters.\n",
        "\n",
        "Here, each cluster will represent a subset of data, so we want the number data points of all clusters to be roughly the same. Display the fit using the helper function `display()`. Is the result what you expected? Is this a suitable method to equally divide our data?"
      ]
    },
    {
      "cell_type": "code",
      "execution_count": 8,
      "metadata": {
        "id": "d-jU374Bs8OX"
      },
      "outputs": [],
      "source": [
        "def display(data, fit):\n",
        "    n_clusters = len(np.unique(fit.labels_))\n",
        "    # Pick good colors to distinguish the different clusters.\n",
        "    import matplotlib.colors\n",
        "    cmap = matplotlib.colors.ListedColormap(\n",
        "        sns.color_palette(\"husl\", n_clusters).as_hex())\n",
        "    plt.scatter(data.iloc[:, 0], data.iloc[:, 1], s=5, c=fit.labels_, cmap=cmap)\n",
        "    # Use standard axes to match the plot above.\n",
        "    #plt.xlim(0, 360)\n",
        "    plt.ylim(-90, +90)\n",
        "    plt.xlabel('RA [degrees]')\n",
        "    plt.ylabel('Dec [degrees]')\n",
        "    plt.gca().set_aspect(1.)"
      ]
    },
    {
      "cell_type": "code",
      "source": [
        "coordinates = sample_df2[['ra', 'dec']]\n",
        "kmeans = cluster.KMeans(n_clusters=2)"
      ],
      "metadata": {
        "id": "YD0Bc_0jckH-"
      },
      "execution_count": 9,
      "outputs": []
    },
    {
      "cell_type": "code",
      "source": [
        "display(coordinates, kmeans.fit(coordinates))"
      ],
      "metadata": {
        "colab": {
          "base_uri": "https://localhost:8080/",
          "height": 314
        },
        "id": "aqA2nKgZ3hfJ",
        "outputId": "69776750-4f26-4a52-fa24-f665b33c7551"
      },
      "execution_count": 10,
      "outputs": [
        {
          "output_type": "display_data",
          "data": {
            "text/plain": [
              "<Figure size 640x480 with 1 Axes>"
            ],
            "image/png": "[encoded data removed]"
          },
          "metadata": {}
        }
      ]
    },
    {
      "cell_type": "markdown",
      "source": [
        "The two clusters appear spatially distinct on the graph, but when considering the fact that in actuality, 0 and 360 degrees are the same, these clusters are actually very close together in the actual sky, and this may not be the best way to cluster the data. Furthermore, the right cluster appears MUCH bigger than the left cluster (as in, it likely contains more points). We can verify this:"
      ],
      "metadata": {
        "id": "v4TwrLZJcy_8"
      }
    },
    {
      "cell_type": "code",
      "source": [
        "_, cluster_count = np.unique(kmeans.labels_, return_counts=True)\n",
        "print(f\"Number of data points in cluster 0: {cluster_count[0]}\")\n",
        "print(f\"Number of data points in cluster 1: {cluster_count[1]}\")"
      ],
      "metadata": {
        "colab": {
          "base_uri": "https://localhost:8080/"
        },
        "id": "x20boTnSh30o",
        "outputId": "4da9e972-ba76-4ef8-e5c1-92f6cd77eb32"
      },
      "execution_count": 11,
      "outputs": [
        {
          "output_type": "stream",
          "name": "stdout",
          "text": [
            "Number of data points in cluster 0: 77755\n",
            "Number of data points in cluster 1: 22245\n"
          ]
        }
      ]
    },
    {
      "cell_type": "markdown",
      "source": [
        "... so the size of the clusters are nowhere near equal, with cluster 0 over 3 times the size of cluster 1.\n",
        "\n",
        "This does not seem like the most effective way to equally divide the data, especially because the clusters do not seem to accurately reflect the gaps existing between data points."
      ],
      "metadata": {
        "id": "mgwzbt98kUPB"
      }
    },
    {
      "cell_type": "markdown",
      "metadata": {
        "id": "2NwRUT6nWpoG"
      },
      "source": [
        "### <span style=\"color:LightGreen\">Question 07</span>\n",
        "\n",
        "Modify the `ra` column such that if `ra` >= 180 deg, we subtract 360 deg from `ra` for our observed sky map to be continuous. Now, change the number of clusters so that each cluster covers roughly equal area of the observed sky? For what `n_clusters` does the K-means clustering make the most sense to you?\n",
        "\n",
        "However, you shouldn't increase `n_clusters` to an arbitrarily large number just to get equally covered area of the observed sky - each cluster would represent a subset of data we use for parallel processing, and requiring more processors is not always feasible or sensible."
      ]
    },
    {
      "cell_type": "code",
      "source": [
        "continuous_coords = sample_df2[['ra', 'dec']]\n",
        "for i, coord in enumerate(continuous_coords['ra']):\n",
        "  if coord >= 180.:\n",
        "    continuous_coords['ra'][i] = (coord - 360.)\n",
        "\n",
        "kmeans = cluster.KMeans(n_clusters=2)\n",
        "\n",
        "display(continuous_coords, kmeans.fit(continuous_coords))"
      ],
      "metadata": {
        "colab": {
          "base_uri": "https://localhost:8080/",
          "height": 458
        },
        "id": "nYLhkWwKmUjU",
        "outputId": "e0ac3a84-26e0-44cd-903e-e8a7b92ce308"
      },
      "execution_count": 12,
      "outputs": [
        {
          "output_type": "display_data",
          "data": {
            "text/plain": [
              "<Figure size 640x480 with 1 Axes>"
            ],
            "image/png": "[encoded data removed]"
          },
          "metadata": {}
        }
      ]
    },
    {
      "cell_type": "code",
      "source": [
        "_, cluster_count = np.unique(kmeans.labels_, return_counts=True)\n",
        "print(f\"Number of data points in cluster 0: {cluster_count[0]}\")\n",
        "print(f\"Number of data points in cluster 1: {cluster_count[1]}\")\n"
      ],
      "metadata": {
        "colab": {
          "base_uri": "https://localhost:8080/"
        },
        "id": "Eg5oUb2LpsME",
        "outputId": "29af6f6f-8749-410c-b3db-d4d8ef5b6988"
      },
      "execution_count": 13,
      "outputs": [
        {
          "output_type": "stream",
          "name": "stdout",
          "text": [
            "Number of data points in cluster 0: 50169\n",
            "Number of data points in cluster 1: 49831\n"
          ]
        }
      ]
    },
    {
      "cell_type": "code",
      "source": [
        "import scipy as sci\n",
        "\n",
        "cluster1 = continuous_coords[kmeans.labels_==0]\n",
        "cluster2 = continuous_coords[kmeans.labels_==1]\n",
        "\n",
        "sci.spatial.ConvexHull(cluster1).area"
      ],
      "metadata": {
        "colab": {
          "base_uri": "https://localhost:8080/"
        },
        "id": "sk1j5Kto9843",
        "outputId": "77a1da13-e934-4f9f-cc1c-6c3256e84d40"
      },
      "execution_count": 14,
      "outputs": [
        {
          "output_type": "execute_result",
          "data": {
            "text/plain": [
              "249.434050641135"
            ]
          },
          "metadata": {},
          "execution_count": 14
        }
      ]
    },
    {
      "cell_type": "markdown",
      "source": [
        "... so the clusters in the continuous data are much closer in size when we make the data continuous. However, the K-means clustering still does not seem to accurately reflect the structure of the data. There are some clusters of points that seem like they should be grouped together, and perhaps could be if more clusters were used.\n",
        "\n",
        "If we want to compare the *areas* of each cluster, we need to determine their convex hulls. We can first check if the areas of night sky encompassed by each cluster are roughly equal for k = 2:"
      ],
      "metadata": {
        "id": "a90d33czpw4w"
      }
    },
    {
      "cell_type": "code",
      "source": [
        "import scipy as sci\n",
        "\n",
        "k = 2\n",
        "\n",
        "cluster_areas = np.zeros((k,))\n",
        "for i in range(k):\n",
        "  cluster_areas[i] = sci.spatial.ConvexHull(continuous_coords[kmeans.labels_ == i]).area\n",
        "  print(f\"Area of cluster {i}: {cluster_areas[i]}\")\n",
        "\n"
      ],
      "metadata": {
        "colab": {
          "base_uri": "https://localhost:8080/"
        },
        "id": "3kOUx8vN-U_x",
        "outputId": "aa910836-061b-46e7-cf35-6e11249c9126"
      },
      "execution_count": 15,
      "outputs": [
        {
          "output_type": "stream",
          "name": "stdout",
          "text": [
            "Area of cluster 0: 249.434050641135\n",
            "Area of cluster 1: 295.9384644429563\n"
          ]
        }
      ]
    },
    {
      "cell_type": "markdown",
      "source": [
        "... So we can see that k-means results in clusters not too far off in size, but we may be able to do better. We can repeat this procedure for varying values of k (number of clusters), and see which results in the most equal area. We can determine this by looking at the standard deviation of cluster areas for a given k-value; this will tell us how much the areas vary."
      ],
      "metadata": {
        "id": "HEdw_7YLxy81"
      }
    },
    {
      "cell_type": "code",
      "source": [
        "# function for determining clusters' areas.\n",
        "def get_cluster_areas(k):\n",
        "  kmeans = cluster.KMeans(n_clusters=k)\n",
        "  kmeans.fit(continuous_coords)\n",
        "  cluster_areas = np.zeros((k,))\n",
        "  for i in range(k):\n",
        "    cluster_areas[i] = sci.spatial.ConvexHull(continuous_coords[kmeans.labels_ == i]).area\n",
        "  return cluster_areas\n",
        "\n",
        "\n",
        "\n",
        "for i in range(2, 20):\n",
        "  cluster_areas = get_cluster_areas(i)\n",
        "  print(f\"Number of clusters: {i} ; cluster area stdev: {np.std(cluster_areas)}\")\n",
        ""
      ],
      "metadata": {
        "colab": {
          "base_uri": "https://localhost:8080/"
        },
        "id": "T2dBL2Ysp_Dr",
        "outputId": "889ae5d8-1fca-4235-8aaf-6bc0e170d4d5"
      },
      "execution_count": 29,
      "outputs": [
        {
          "output_type": "stream",
          "name": "stdout",
          "text": [
            "Number of clusters: 2 ; cluster area std: 23.38768190018604\n",
            "Number of clusters: 3 ; cluster area std: 21.412510655919025\n",
            "Number of clusters: 4 ; cluster area std: 13.909964987792817\n",
            "Number of clusters: 5 ; cluster area std: 26.41920789936106\n",
            "Number of clusters: 6 ; cluster area std: 25.277416761652585\n",
            "Number of clusters: 7 ; cluster area std: 23.361322080028387\n",
            "Number of clusters: 8 ; cluster area std: 18.74819154061747\n",
            "Number of clusters: 9 ; cluster area std: 13.498233336293085\n",
            "Number of clusters: 10 ; cluster area std: 14.469617990438163\n",
            "Number of clusters: 11 ; cluster area std: 14.780765718875852\n",
            "Number of clusters: 12 ; cluster area std: 13.261843552642132\n",
            "Number of clusters: 13 ; cluster area std: 12.215495969652011\n",
            "Number of clusters: 14 ; cluster area std: 7.744239412708317\n",
            "Number of clusters: 15 ; cluster area std: 6.798310445677912\n",
            "Number of clusters: 16 ; cluster area std: 11.682126838610806\n",
            "Number of clusters: 17 ; cluster area std: 9.376146713324129\n",
            "Number of clusters: 18 ; cluster area std: 8.39908165837072\n",
            "Number of clusters: 19 ; cluster area std: 8.456696891643592\n"
          ]
        }
      ]
    },
    {
      "cell_type": "markdown",
      "source": [
        "As expected, the standard deviation decreases as the value of k increases. We seem to reach a local minimum when k = 4. We can check what these clusters look like:"
      ],
      "metadata": {
        "id": "3Ru_Z8bBrst5"
      }
    },
    {
      "cell_type": "code",
      "source": [
        "kmeans = cluster.KMeans(n_clusters=4)\n",
        "\n",
        "display(continuous_coords, kmeans.fit(continuous_coords))"
      ],
      "metadata": {
        "id": "7BuoVsBBgtvP",
        "outputId": "52cb48e5-a154-4b8c-f7f4-4d27fca6860c",
        "colab": {
          "base_uri": "https://localhost:8080/",
          "height": 458
        }
      },
      "execution_count": 36,
      "outputs": [
        {
          "output_type": "display_data",
          "data": {
            "text/plain": [
              "<Figure size 640x480 with 1 Axes>"
            ],
            "image/png": "[encoded data removed]"
          },
          "metadata": {}
        }
      ]
    },
    {
      "cell_type": "markdown",
      "source": [
        "We can see that these areas of the sky are approximately equal, and the clusterings each seem to apply to distinct parts of the data. Further, setting k=4 is not too large, so it is likely that this is a small enough k that all 4 clusters can be processed in parallel---which may not be the case if we tried harder to minimize the deviation in the data by choosing a much larger k.  "
      ],
      "metadata": {
        "id": "flLQozFwiHw2"
      }
    },
    {
      "cell_type": "markdown",
      "metadata": {
        "id": "jBUTSqcNN4ee"
      },
      "source": [
        "## <span style=\"color:Orange\">References</span>\n",
        "\n",
        "* [__<span style=\"color:Red\">1</span>__] Jupyter Notebook Example from Astro Data Lab using DES DR1: https://github.com/astro-datalab/notebooks-latest/blob/master/03_ScienceExamples/StarGalQSOSeparation/StarGalQsoDESDR1.ipynb\n",
        "\n",
        "* __[<span style=\"color:Red\">2</span>]__ DES Collaboration \"The Dark Energy Survey Data Release 1\" ApJS 239, 18, 2018, https://arxiv.org/abs/1801.03181\n",
        "\n",
        "* Data Lab concept paper: Fitzpatrick et al., \"The NOAO Data Laboratory: a conceptual overview\", SPIE, 9149, 2014, https://spie.org/Publications/Proceedings/Paper/10.1117/12.2057445?SSO=1\n",
        "\n",
        "* Data Lab disclaimer: https://datalab.noirlab.edu/disclaimers.php"
      ]
    },
    {
      "cell_type": "markdown",
      "metadata": {
        "id": "zqutUMcPp9F8"
      },
      "source": [
        "## <span style=\"color:Orange\">Acknowledgements</span>\n",
        "\n",
        "* Initial version: Ferzem Khan with some guidance from Mark Neubauer\n",
        "\n",
        "© Copyright 2024"
      ]
    }
  ],
  "metadata": {
    "colab": {
      "provenance": []
    },
    "kernelspec": {
      "display_name": "Python 3",
      "name": "python3"
    },
    "language_info": {
      "codemirror_mode": {
        "name": "ipython",
        "version": 3
      },
      "file_extension": ".py",
      "mimetype": "text/x-python",
      "name": "python",
      "nbconvert_exporter": "python",
      "pygments_lexer": "ipython3",
      "version": "3.13.1"
    }
  },
  "nbformat": 4,
  "nbformat_minor": 0
}